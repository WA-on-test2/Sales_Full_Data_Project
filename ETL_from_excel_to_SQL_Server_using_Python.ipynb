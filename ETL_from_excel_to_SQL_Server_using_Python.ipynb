{
 "cells": [
  {
   "cell_type": "code",
   "execution_count": 1,
   "id": "f107774f-2fa8-49d3-8907-a0fb88382581",
   "metadata": {},
   "outputs": [],
   "source": [
    "import pandas as pd\n",
    "import sqlalchemy as sa\n",
    "import urllib\n",
    "import pyodbc\n"
   ]
  },
  {
   "cell_type": "code",
   "execution_count": 6,
   "id": "1172e652-37e3-420a-83ce-8e1de96c9322",
   "metadata": {},
   "outputs": [
    {
     "name": "stdout",
     "output_type": "stream",
     "text": [
      "['SQL Server', 'ODBC Driver 17 for SQL Server', 'SQL Server Native Client RDA 11.0', 'Microsoft Access Driver (*.mdb, *.accdb)', 'Microsoft Excel Driver (*.xls, *.xlsx, *.xlsm, *.xlsb)', 'Microsoft Access Text Driver (*.txt, *.csv)', 'Microsoft Access dBASE Driver (*.dbf, *.ndx, *.mdx)', 'ODBC Driver 18 for SQL Server']\n"
     ]
    }
   ],
   "source": [
    "print(pyodbc.drivers())"
   ]
  },
  {
   "cell_type": "code",
   "execution_count": 25,
   "id": "16fda927-a9b1-4315-910e-91e244f920a6",
   "metadata": {},
   "outputs": [],
   "source": [
    "Excel = r'D:\\EG_Retail_Data_Cleaned_Final_.xlsx'"
   ]
  },
  {
   "cell_type": "code",
   "execution_count": 36,
   "id": "44385617-3779-4c5d-b295-4478dd8e40e8",
   "metadata": {},
   "outputs": [],
   "source": [
    "connectionStr = urllib.parse.quote_plus(\n",
    "    \"DRIVER={ODBC Driver 17 for SQL Server};\"\n",
    "    \"SERVER=DESKTOP-CCKQUOL;\"\n",
    "    \"DATABASE=DataWarehouse;\"\n",
    "    \"Trusted_Connection=yes;\"\n",
    ")\n"
   ]
  },
  {
   "cell_type": "code",
   "execution_count": 37,
   "id": "a71d1582-6ec1-4ac3-ac0d-d38fe403e67e",
   "metadata": {},
   "outputs": [],
   "source": [
    "engine = sa.create_engine(f\"mssql+pyodbc:///?odbc_connect={connectionStr}\")"
   ]
  },
  {
   "cell_type": "code",
   "execution_count": 38,
   "id": "29c87270-1395-48d9-b75b-c1315beaf589",
   "metadata": {},
   "outputs": [
    {
     "name": "stdout",
     "output_type": "stream",
     "text": [
      "Connected successfully\n"
     ]
    }
   ],
   "source": [
    "try:\n",
    "    with engine.connect() as conn:\n",
    "        print(\"Connected successfully\")\n",
    "except Exception as e:\n",
    "    print(\"Connection failed:\")\n",
    "    print(e)"
   ]
  },
  {
   "cell_type": "code",
   "execution_count": 39,
   "id": "faa92ea3-fb61-44e7-bd74-b458295236ae",
   "metadata": {},
   "outputs": [
    {
     "name": "stdout",
     "output_type": "stream",
     "text": [
      "Sheets found: ['Sales_Orders', 'Customers', 'Products', 'Gov_LookUp']\n"
     ]
    }
   ],
   "source": [
    "xls = pd.ExcelFile(excel_path)\n",
    "sheet_names = xls.sheet_names\n",
    "print(\"Sheets found:\", sheet_names)"
   ]
  },
  {
   "cell_type": "code",
   "execution_count": 40,
   "id": "49787f50-82ce-482a-b501-a81bf6c35c58",
   "metadata": {},
   "outputs": [
    {
     "name": "stdout",
     "output_type": "stream",
     "text": [
      "Loading sheet 'Sales_Orders' into table 'stg_sales_orders'\n",
      "Loading sheet 'Customers' into table 'stg_customers'\n",
      "Loading sheet 'Products' into table 'stg_products'\n",
      "Loading sheet 'Gov_LookUp' into table 'stg_gov_lookup'\n"
     ]
    }
   ],
   "source": [
    "for sheet in sheet_names:\n",
    "    df = pd.read_excel(excel_path, sheet_name=sheet)\n",
    "    clean_name = sheet.strip().replace(\" \", \"_\").lower()\n",
    "    table_name = f\"stg_{clean_name}\"\n",
    "\n",
    "    print(f\"Loading sheet '{sheet}' into table '{table_name}'\")\n",
    "    df.to_sql(name=table_name, con=engine, index=False, if_exists=\"replace\")"
   ]
  },
  {
   "cell_type": "code",
   "execution_count": null,
   "id": "aae49e1c-62b7-407b-a155-d50487e01aac",
   "metadata": {},
   "outputs": [],
   "source": []
  }
 ],
 "metadata": {
  "kernelspec": {
   "display_name": "Python 3 (ipykernel)",
   "language": "python",
   "name": "python3"
  },
  "language_info": {
   "codemirror_mode": {
    "name": "ipython",
    "version": 3
   },
   "file_extension": ".py",
   "mimetype": "text/x-python",
   "name": "python",
   "nbconvert_exporter": "python",
   "pygments_lexer": "ipython3",
   "version": "3.12.4"
  }
 },
 "nbformat": 4,
 "nbformat_minor": 5
}
