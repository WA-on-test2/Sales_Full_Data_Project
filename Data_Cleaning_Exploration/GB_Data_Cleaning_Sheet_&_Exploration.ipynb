{
  "nbformat": 4,
  "nbformat_minor": 0,
  "metadata": {
    "colab": {
      "provenance": []
    },
    "kernelspec": {
      "name": "python3",
      "display_name": "Python 3"
    },
    "language_info": {
      "name": "python"
    }
  },
  "cells": [
    {
      "cell_type": "markdown",
      "source": [
        "#**Installing Email Validator**"
      ],
      "metadata": {
        "id": "E_P2tkar_2Sn"
      }
    },
    {
      "cell_type": "code",
      "source": [
        "!pip install deep-translator email-validator"
      ],
      "metadata": {
        "colab": {
          "base_uri": "https://localhost:8080/"
        },
        "collapsed": true,
        "id": "cM49Bpw5_UAX",
        "outputId": "307e715f-3a08-4274-dbaa-68719bfb4597"
      },
      "execution_count": null,
      "outputs": [
        {
          "output_type": "stream",
          "name": "stdout",
          "text": [
            "Requirement already satisfied: deep-translator in /usr/local/lib/python3.12/dist-packages (1.11.4)\n",
            "Requirement already satisfied: email-validator in /usr/local/lib/python3.12/dist-packages (2.3.0)\n",
            "Requirement already satisfied: beautifulsoup4<5.0.0,>=4.9.1 in /usr/local/lib/python3.12/dist-packages (from deep-translator) (4.13.5)\n",
            "Requirement already satisfied: requests<3.0.0,>=2.23.0 in /usr/local/lib/python3.12/dist-packages (from deep-translator) (2.32.4)\n",
            "Requirement already satisfied: dnspython>=2.0.0 in /usr/local/lib/python3.12/dist-packages (from email-validator) (2.8.0)\n",
            "Requirement already satisfied: idna>=2.0.0 in /usr/local/lib/python3.12/dist-packages (from email-validator) (2.10)\n",
            "Requirement already satisfied: soupsieve>1.2 in /usr/local/lib/python3.12/dist-packages (from beautifulsoup4<5.0.0,>=4.9.1->deep-translator) (2.8)\n",
            "Requirement already satisfied: typing-extensions>=4.0.0 in /usr/local/lib/python3.12/dist-packages (from beautifulsoup4<5.0.0,>=4.9.1->deep-translator) (4.15.0)\n",
            "Requirement already satisfied: charset_normalizer<4,>=2 in /usr/local/lib/python3.12/dist-packages (from requests<3.0.0,>=2.23.0->deep-translator) (3.4.4)\n",
            "Requirement already satisfied: urllib3<3,>=1.21.1 in /usr/local/lib/python3.12/dist-packages (from requests<3.0.0,>=2.23.0->deep-translator) (2.5.0)\n",
            "Requirement already satisfied: certifi>=2017.4.17 in /usr/local/lib/python3.12/dist-packages (from requests<3.0.0,>=2.23.0->deep-translator) (2025.10.5)\n"
          ]
        }
      ]
    },
    {
      "cell_type": "code",
      "source": [
        "!pip install googletrans==4.0.0-rc1\n"
      ],
      "metadata": {
        "colab": {
          "base_uri": "https://localhost:8080/"
        },
        "collapsed": true,
        "id": "4gnYLqZ41qQT",
        "outputId": "2ab0928c-33a6-448c-a880-814d6e80477e"
      },
      "execution_count": null,
      "outputs": [
        {
          "output_type": "stream",
          "name": "stdout",
          "text": [
            "Requirement already satisfied: googletrans==4.0.0-rc1 in /usr/local/lib/python3.12/dist-packages (4.0.0rc1)\n",
            "Requirement already satisfied: httpx==0.13.3 in /usr/local/lib/python3.12/dist-packages (from googletrans==4.0.0-rc1) (0.13.3)\n",
            "Requirement already satisfied: certifi in /usr/local/lib/python3.12/dist-packages (from httpx==0.13.3->googletrans==4.0.0-rc1) (2025.10.5)\n",
            "Requirement already satisfied: hstspreload in /usr/local/lib/python3.12/dist-packages (from httpx==0.13.3->googletrans==4.0.0-rc1) (2025.1.1)\n",
            "Requirement already satisfied: sniffio in /usr/local/lib/python3.12/dist-packages (from httpx==0.13.3->googletrans==4.0.0-rc1) (1.3.1)\n",
            "Requirement already satisfied: chardet==3.* in /usr/local/lib/python3.12/dist-packages (from httpx==0.13.3->googletrans==4.0.0-rc1) (3.0.4)\n",
            "Requirement already satisfied: idna==2.* in /usr/local/lib/python3.12/dist-packages (from httpx==0.13.3->googletrans==4.0.0-rc1) (2.10)\n",
            "Requirement already satisfied: rfc3986<2,>=1.3 in /usr/local/lib/python3.12/dist-packages (from httpx==0.13.3->googletrans==4.0.0-rc1) (1.5.0)\n",
            "Requirement already satisfied: httpcore==0.9.* in /usr/local/lib/python3.12/dist-packages (from httpx==0.13.3->googletrans==4.0.0-rc1) (0.9.1)\n",
            "Requirement already satisfied: h11<0.10,>=0.8 in /usr/local/lib/python3.12/dist-packages (from httpcore==0.9.*->httpx==0.13.3->googletrans==4.0.0-rc1) (0.9.0)\n",
            "Requirement already satisfied: h2==3.* in /usr/local/lib/python3.12/dist-packages (from httpcore==0.9.*->httpx==0.13.3->googletrans==4.0.0-rc1) (3.2.0)\n",
            "Requirement already satisfied: hyperframe<6,>=5.2.0 in /usr/local/lib/python3.12/dist-packages (from h2==3.*->httpcore==0.9.*->httpx==0.13.3->googletrans==4.0.0-rc1) (5.2.0)\n",
            "Requirement already satisfied: hpack<4,>=3.0 in /usr/local/lib/python3.12/dist-packages (from h2==3.*->httpcore==0.9.*->httpx==0.13.3->googletrans==4.0.0-rc1) (3.0.0)\n"
          ]
        }
      ]
    },
    {
      "cell_type": "markdown",
      "source": [
        "# **Import Libraries**"
      ],
      "metadata": {
        "id": "68CGm2WxpyM4"
      }
    },
    {
      "cell_type": "code",
      "execution_count": null,
      "metadata": {
        "id": "o3TNiVxalM7B"
      },
      "outputs": [],
      "source": [
        "import pandas as pd\n",
        "import numpy as np\n",
        "import matplotlib.pyplot as plt\n",
        "import seaborn as sns\n",
        "import plotly.express as px\n",
        "from googletrans import Translator\n",
        "from deep_translator import GoogleTranslator\n",
        "from email_validator import validate_email, EmailNotValidError"
      ]
    },
    {
      "cell_type": "markdown",
      "source": [
        "#**Read the whole excel file containing the 4 sheets**\n",
        "\n",
        "\n",
        "*   Sales_Orders_Raw\n",
        "*   Products_Raw\n",
        "*   Customers_Raw\n",
        "*   Governorates_Lookup_Noise\n",
        "*   Data_Dictionary\n",
        "\n",
        "\n",
        "\n"
      ],
      "metadata": {
        "id": "JYipYgncp4Oo"
      }
    },
    {
      "cell_type": "code",
      "source": [
        "dataSheets = pd.ExcelFile('/content/EG_Retail_Sales_Raw_CaseStudy 1(1).xlsx')\n",
        "print(dataSheets.sheet_names)"
      ],
      "metadata": {
        "colab": {
          "base_uri": "https://localhost:8080/"
        },
        "id": "mz0M9tlepsDg",
        "outputId": "f1dfe30c-9ef0-4f7c-cc00-7ef2df363b9a"
      },
      "execution_count": null,
      "outputs": [
        {
          "output_type": "stream",
          "name": "stdout",
          "text": [
            "['Sales_Orders_Raw', 'Products_Raw', 'Governorates_Lookup_Noise', 'Customers_Raw', 'Data_Dictionary']\n"
          ]
        }
      ]
    },
    {
      "cell_type": "markdown",
      "source": [
        "# **Accessing Sales Orders Raw Sheet**\n",
        "\n",
        "---\n",
        "\n"
      ],
      "metadata": {
        "id": "TubAT-JJqO8q"
      }
    },
    {
      "cell_type": "code",
      "source": [
        "SalesDf = dataSheets.parse('Sales_Orders_Raw')"
      ],
      "metadata": {
        "id": "Llod7E8DqJhN"
      },
      "execution_count": null,
      "outputs": []
    },
    {
      "cell_type": "markdown",
      "source": [
        "# **Primary Inspection DF head,tail**\n",
        "\n",
        "\n"
      ],
      "metadata": {
        "id": "5riOIlvgq-Bd"
      }
    },
    {
      "cell_type": "code",
      "source": [
        "SalesDf.head()"
      ],
      "metadata": {
        "colab": {
          "base_uri": "https://localhost:8080/",
          "height": 429
        },
        "id": "disl__uMq3zs",
        "outputId": "8625f74c-fb67-4adc-aede-d2b45e15158d"
      },
      "execution_count": null,
      "outputs": [
        {
          "output_type": "execute_result",
          "data": {
            "text/plain": [
              "   OrderID    OrderDate DeliveryDate CustomerID     CustomerName Gender  \\\n",
              "0  SO93810   2024-01-29   02/02/2024    CUS-575  Mohamed Mahmoud      M   \n",
              "1  SO59823   12/03/2024   2024-03-15      C1077     سارة إبراهيم    ذكر   \n",
              "2  SO11504     06-23-24  02 Jul 2024      C1020     كريم إبراهيم      M   \n",
              "3  SO77839          NaN   01/05/2024      C1028       أحمد محمود      M   \n",
              "4  SO80855  04 Jan 2024  08 Jan 2024    CUS-521      Alaa Rashid    NaN   \n",
              "\n",
              "            Phone                    Email Governorate        City  ...  \\\n",
              "0             NaN    mohamed.mahmoud@gmail       Asyut    Manfalut  ...   \n",
              "1  +2001284752529  سارة.إبراهyمexample.com       cairo  Heliopolis  ...   \n",
              "2             NaN                      NaN       أسيوط      Abnoub  ...   \n",
              "3             NaN     aحمد.محمود@gmail.com       أسوان    Kom Ombo  ...   \n",
              "4   011 4828 5503                      NaN     RED SEA      Safaga  ...   \n",
              "\n",
              "  PaymentMethod PaymentStatus ShipperName ShippingCost   SalesRep    Channel  \\\n",
              "0         Meeza          Paid      Aramex          NaN  سارة محمد      E-com   \n",
              "1          Visa        Unpaid    بريد مصر        100.0   Karim R.      Store   \n",
              "2          فوري         مدفوع         DHL         25.0   Karim R.      E-com   \n",
              "3    MasterCard         مدفوع         DHL         25.0  Ahmed Ali  Tel-Sales   \n",
              "4    MasterCard       Pending         DHL          0.0  سارة محمد   WhatsApp   \n",
              "\n",
              "   ReturnFlag  ReturnDate     Status                            Notes  \n",
              "0           N         NaN        NaN            Wrong phone / invalid  \n",
              "1           N         NaN  Delivered  عنوان غير واضح - landmark: مسجد  \n",
              "2           N         NaN       ملغي                     Deliver ASAP  \n",
              "3           N         NaN        New                              NaN  \n",
              "4           N         NaN       ملغي  عنوان غير واضح - landmark: مسجد  \n",
              "\n",
              "[5 rows x 32 columns]"
            ],
            "text/html": [
              "\n",
              "  <div id=\"df-cbd2effb-af05-4335-9dba-d3123d4c6a97\" class=\"colab-df-container\">\n",
              "    <div>\n",
              "<style scoped>\n",
              "    .dataframe tbody tr th:only-of-type {\n",
              "        vertical-align: middle;\n",
              "    }\n",
              "\n",
              "    .dataframe tbody tr th {\n",
              "        vertical-align: top;\n",
              "    }\n",
              "\n",
              "    .dataframe thead th {\n",
              "        text-align: right;\n",
              "    }\n",
              "</style>\n",
              "<table border=\"1\" class=\"dataframe\">\n",
              "  <thead>\n",
              "    <tr style=\"text-align: right;\">\n",
              "      <th></th>\n",
              "      <th>OrderID</th>\n",
              "      <th>OrderDate</th>\n",
              "      <th>DeliveryDate</th>\n",
              "      <th>CustomerID</th>\n",
              "      <th>CustomerName</th>\n",
              "      <th>Gender</th>\n",
              "      <th>Phone</th>\n",
              "      <th>Email</th>\n",
              "      <th>Governorate</th>\n",
              "      <th>City</th>\n",
              "      <th>...</th>\n",
              "      <th>PaymentMethod</th>\n",
              "      <th>PaymentStatus</th>\n",
              "      <th>ShipperName</th>\n",
              "      <th>ShippingCost</th>\n",
              "      <th>SalesRep</th>\n",
              "      <th>Channel</th>\n",
              "      <th>ReturnFlag</th>\n",
              "      <th>ReturnDate</th>\n",
              "      <th>Status</th>\n",
              "      <th>Notes</th>\n",
              "    </tr>\n",
              "  </thead>\n",
              "  <tbody>\n",
              "    <tr>\n",
              "      <th>0</th>\n",
              "      <td>SO93810</td>\n",
              "      <td>2024-01-29</td>\n",
              "      <td>02/02/2024</td>\n",
              "      <td>CUS-575</td>\n",
              "      <td>Mohamed Mahmoud</td>\n",
              "      <td>M</td>\n",
              "      <td>NaN</td>\n",
              "      <td>mohamed.mahmoud@gmail</td>\n",
              "      <td>Asyut</td>\n",
              "      <td>Manfalut</td>\n",
              "      <td>...</td>\n",
              "      <td>Meeza</td>\n",
              "      <td>Paid</td>\n",
              "      <td>Aramex</td>\n",
              "      <td>NaN</td>\n",
              "      <td>سارة محمد</td>\n",
              "      <td>E-com</td>\n",
              "      <td>N</td>\n",
              "      <td>NaN</td>\n",
              "      <td>NaN</td>\n",
              "      <td>Wrong phone / invalid</td>\n",
              "    </tr>\n",
              "    <tr>\n",
              "      <th>1</th>\n",
              "      <td>SO59823</td>\n",
              "      <td>12/03/2024</td>\n",
              "      <td>2024-03-15</td>\n",
              "      <td>C1077</td>\n",
              "      <td>سارة إبراهيم</td>\n",
              "      <td>ذكر</td>\n",
              "      <td>+2001284752529</td>\n",
              "      <td>سارة.إبراهyمexample.com</td>\n",
              "      <td>cairo</td>\n",
              "      <td>Heliopolis</td>\n",
              "      <td>...</td>\n",
              "      <td>Visa</td>\n",
              "      <td>Unpaid</td>\n",
              "      <td>بريد مصر</td>\n",
              "      <td>100.0</td>\n",
              "      <td>Karim R.</td>\n",
              "      <td>Store</td>\n",
              "      <td>N</td>\n",
              "      <td>NaN</td>\n",
              "      <td>Delivered</td>\n",
              "      <td>عنوان غير واضح - landmark: مسجد</td>\n",
              "    </tr>\n",
              "    <tr>\n",
              "      <th>2</th>\n",
              "      <td>SO11504</td>\n",
              "      <td>06-23-24</td>\n",
              "      <td>02 Jul 2024</td>\n",
              "      <td>C1020</td>\n",
              "      <td>كريم إبراهيم</td>\n",
              "      <td>M</td>\n",
              "      <td>NaN</td>\n",
              "      <td>NaN</td>\n",
              "      <td>أسيوط</td>\n",
              "      <td>Abnoub</td>\n",
              "      <td>...</td>\n",
              "      <td>فوري</td>\n",
              "      <td>مدفوع</td>\n",
              "      <td>DHL</td>\n",
              "      <td>25.0</td>\n",
              "      <td>Karim R.</td>\n",
              "      <td>E-com</td>\n",
              "      <td>N</td>\n",
              "      <td>NaN</td>\n",
              "      <td>ملغي</td>\n",
              "      <td>Deliver ASAP</td>\n",
              "    </tr>\n",
              "    <tr>\n",
              "      <th>3</th>\n",
              "      <td>SO77839</td>\n",
              "      <td>NaN</td>\n",
              "      <td>01/05/2024</td>\n",
              "      <td>C1028</td>\n",
              "      <td>أحمد محمود</td>\n",
              "      <td>M</td>\n",
              "      <td>NaN</td>\n",
              "      <td>aحمد.محمود@gmail.com</td>\n",
              "      <td>أسوان</td>\n",
              "      <td>Kom Ombo</td>\n",
              "      <td>...</td>\n",
              "      <td>MasterCard</td>\n",
              "      <td>مدفوع</td>\n",
              "      <td>DHL</td>\n",
              "      <td>25.0</td>\n",
              "      <td>Ahmed Ali</td>\n",
              "      <td>Tel-Sales</td>\n",
              "      <td>N</td>\n",
              "      <td>NaN</td>\n",
              "      <td>New</td>\n",
              "      <td>NaN</td>\n",
              "    </tr>\n",
              "    <tr>\n",
              "      <th>4</th>\n",
              "      <td>SO80855</td>\n",
              "      <td>04 Jan 2024</td>\n",
              "      <td>08 Jan 2024</td>\n",
              "      <td>CUS-521</td>\n",
              "      <td>Alaa Rashid</td>\n",
              "      <td>NaN</td>\n",
              "      <td>011 4828 5503</td>\n",
              "      <td>NaN</td>\n",
              "      <td>RED SEA</td>\n",
              "      <td>Safaga</td>\n",
              "      <td>...</td>\n",
              "      <td>MasterCard</td>\n",
              "      <td>Pending</td>\n",
              "      <td>DHL</td>\n",
              "      <td>0.0</td>\n",
              "      <td>سارة محمد</td>\n",
              "      <td>WhatsApp</td>\n",
              "      <td>N</td>\n",
              "      <td>NaN</td>\n",
              "      <td>ملغي</td>\n",
              "      <td>عنوان غير واضح - landmark: مسجد</td>\n",
              "    </tr>\n",
              "  </tbody>\n",
              "</table>\n",
              "<p>5 rows × 32 columns</p>\n",
              "</div>\n",
              "    <div class=\"colab-df-buttons\">\n",
              "\n",
              "  <div class=\"colab-df-container\">\n",
              "    <button class=\"colab-df-convert\" onclick=\"convertToInteractive('df-cbd2effb-af05-4335-9dba-d3123d4c6a97')\"\n",
              "            title=\"Convert this dataframe to an interactive table.\"\n",
              "            style=\"display:none;\">\n",
              "\n",
              "  <svg xmlns=\"http://www.w3.org/2000/svg\" height=\"24px\" viewBox=\"0 -960 960 960\">\n",
              "    <path d=\"M120-120v-720h720v720H120Zm60-500h600v-160H180v160Zm220 220h160v-160H400v160Zm0 220h160v-160H400v160ZM180-400h160v-160H180v160Zm440 0h160v-160H620v160ZM180-180h160v-160H180v160Zm440 0h160v-160H620v160Z\"/>\n",
              "  </svg>\n",
              "    </button>\n",
              "\n",
              "  <style>\n",
              "    .colab-df-container {\n",
              "      display:flex;\n",
              "      gap: 12px;\n",
              "    }\n",
              "\n",
              "    .colab-df-convert {\n",
              "      background-color: #E8F0FE;\n",
              "      border: none;\n",
              "      border-radius: 50%;\n",
              "      cursor: pointer;\n",
              "      display: none;\n",
              "      fill: #1967D2;\n",
              "      height: 32px;\n",
              "      padding: 0 0 0 0;\n",
              "      width: 32px;\n",
              "    }\n",
              "\n",
              "    .colab-df-convert:hover {\n",
              "      background-color: #E2EBFA;\n",
              "      box-shadow: 0px 1px 2px rgba(60, 64, 67, 0.3), 0px 1px 3px 1px rgba(60, 64, 67, 0.15);\n",
              "      fill: #174EA6;\n",
              "    }\n",
              "\n",
              "    .colab-df-buttons div {\n",
              "      margin-bottom: 4px;\n",
              "    }\n",
              "\n",
              "    [theme=dark] .colab-df-convert {\n",
              "      background-color: #3B4455;\n",
              "      fill: #D2E3FC;\n",
              "    }\n",
              "\n",
              "    [theme=dark] .colab-df-convert:hover {\n",
              "      background-color: #434B5C;\n",
              "      box-shadow: 0px 1px 3px 1px rgba(0, 0, 0, 0.15);\n",
              "      filter: drop-shadow(0px 1px 2px rgba(0, 0, 0, 0.3));\n",
              "      fill: #FFFFFF;\n",
              "    }\n",
              "  </style>\n",
              "\n",
              "    <script>\n",
              "      const buttonEl =\n",
              "        document.querySelector('#df-cbd2effb-af05-4335-9dba-d3123d4c6a97 button.colab-df-convert');\n",
              "      buttonEl.style.display =\n",
              "        google.colab.kernel.accessAllowed ? 'block' : 'none';\n",
              "\n",
              "      async function convertToInteractive(key) {\n",
              "        const element = document.querySelector('#df-cbd2effb-af05-4335-9dba-d3123d4c6a97');\n",
              "        const dataTable =\n",
              "          await google.colab.kernel.invokeFunction('convertToInteractive',\n",
              "                                                    [key], {});\n",
              "        if (!dataTable) return;\n",
              "\n",
              "        const docLinkHtml = 'Like what you see? Visit the ' +\n",
              "          '<a target=\"_blank\" href=https://colab.research.google.com/notebooks/data_table.ipynb>data table notebook</a>'\n",
              "          + ' to learn more about interactive tables.';\n",
              "        element.innerHTML = '';\n",
              "        dataTable['output_type'] = 'display_data';\n",
              "        await google.colab.output.renderOutput(dataTable, element);\n",
              "        const docLink = document.createElement('div');\n",
              "        docLink.innerHTML = docLinkHtml;\n",
              "        element.appendChild(docLink);\n",
              "      }\n",
              "    </script>\n",
              "  </div>\n",
              "\n",
              "\n",
              "    <div id=\"df-9314d55f-c8d5-47e5-82ce-5e8b13df0a0a\">\n",
              "      <button class=\"colab-df-quickchart\" onclick=\"quickchart('df-9314d55f-c8d5-47e5-82ce-5e8b13df0a0a')\"\n",
              "                title=\"Suggest charts\"\n",
              "                style=\"display:none;\">\n",
              "\n",
              "<svg xmlns=\"http://www.w3.org/2000/svg\" height=\"24px\"viewBox=\"0 0 24 24\"\n",
              "     width=\"24px\">\n",
              "    <g>\n",
              "        <path d=\"M19 3H5c-1.1 0-2 .9-2 2v14c0 1.1.9 2 2 2h14c1.1 0 2-.9 2-2V5c0-1.1-.9-2-2-2zM9 17H7v-7h2v7zm4 0h-2V7h2v10zm4 0h-2v-4h2v4z\"/>\n",
              "    </g>\n",
              "</svg>\n",
              "      </button>\n",
              "\n",
              "<style>\n",
              "  .colab-df-quickchart {\n",
              "      --bg-color: #E8F0FE;\n",
              "      --fill-color: #1967D2;\n",
              "      --hover-bg-color: #E2EBFA;\n",
              "      --hover-fill-color: #174EA6;\n",
              "      --disabled-fill-color: #AAA;\n",
              "      --disabled-bg-color: #DDD;\n",
              "  }\n",
              "\n",
              "  [theme=dark] .colab-df-quickchart {\n",
              "      --bg-color: #3B4455;\n",
              "      --fill-color: #D2E3FC;\n",
              "      --hover-bg-color: #434B5C;\n",
              "      --hover-fill-color: #FFFFFF;\n",
              "      --disabled-bg-color: #3B4455;\n",
              "      --disabled-fill-color: #666;\n",
              "  }\n",
              "\n",
              "  .colab-df-quickchart {\n",
              "    background-color: var(--bg-color);\n",
              "    border: none;\n",
              "    border-radius: 50%;\n",
              "    cursor: pointer;\n",
              "    display: none;\n",
              "    fill: var(--fill-color);\n",
              "    height: 32px;\n",
              "    padding: 0;\n",
              "    width: 32px;\n",
              "  }\n",
              "\n",
              "  .colab-df-quickchart:hover {\n",
              "    background-color: var(--hover-bg-color);\n",
              "    box-shadow: 0 1px 2px rgba(60, 64, 67, 0.3), 0 1px 3px 1px rgba(60, 64, 67, 0.15);\n",
              "    fill: var(--button-hover-fill-color);\n",
              "  }\n",
              "\n",
              "  .colab-df-quickchart-complete:disabled,\n",
              "  .colab-df-quickchart-complete:disabled:hover {\n",
              "    background-color: var(--disabled-bg-color);\n",
              "    fill: var(--disabled-fill-color);\n",
              "    box-shadow: none;\n",
              "  }\n",
              "\n",
              "  .colab-df-spinner {\n",
              "    border: 2px solid var(--fill-color);\n",
              "    border-color: transparent;\n",
              "    border-bottom-color: var(--fill-color);\n",
              "    animation:\n",
              "      spin 1s steps(1) infinite;\n",
              "  }\n",
              "\n",
              "  @keyframes spin {\n",
              "    0% {\n",
              "      border-color: transparent;\n",
              "      border-bottom-color: var(--fill-color);\n",
              "      border-left-color: var(--fill-color);\n",
              "    }\n",
              "    20% {\n",
              "      border-color: transparent;\n",
              "      border-left-color: var(--fill-color);\n",
              "      border-top-color: var(--fill-color);\n",
              "    }\n",
              "    30% {\n",
              "      border-color: transparent;\n",
              "      border-left-color: var(--fill-color);\n",
              "      border-top-color: var(--fill-color);\n",
              "      border-right-color: var(--fill-color);\n",
              "    }\n",
              "    40% {\n",
              "      border-color: transparent;\n",
              "      border-right-color: var(--fill-color);\n",
              "      border-top-color: var(--fill-color);\n",
              "    }\n",
              "    60% {\n",
              "      border-color: transparent;\n",
              "      border-right-color: var(--fill-color);\n",
              "    }\n",
              "    80% {\n",
              "      border-color: transparent;\n",
              "      border-right-color: var(--fill-color);\n",
              "      border-bottom-color: var(--fill-color);\n",
              "    }\n",
              "    90% {\n",
              "      border-color: transparent;\n",
              "      border-bottom-color: var(--fill-color);\n",
              "    }\n",
              "  }\n",
              "</style>\n",
              "\n",
              "      <script>\n",
              "        async function quickchart(key) {\n",
              "          const quickchartButtonEl =\n",
              "            document.querySelector('#' + key + ' button');\n",
              "          quickchartButtonEl.disabled = true;  // To prevent multiple clicks.\n",
              "          quickchartButtonEl.classList.add('colab-df-spinner');\n",
              "          try {\n",
              "            const charts = await google.colab.kernel.invokeFunction(\n",
              "                'suggestCharts', [key], {});\n",
              "          } catch (error) {\n",
              "            console.error('Error during call to suggestCharts:', error);\n",
              "          }\n",
              "          quickchartButtonEl.classList.remove('colab-df-spinner');\n",
              "          quickchartButtonEl.classList.add('colab-df-quickchart-complete');\n",
              "        }\n",
              "        (() => {\n",
              "          let quickchartButtonEl =\n",
              "            document.querySelector('#df-9314d55f-c8d5-47e5-82ce-5e8b13df0a0a button');\n",
              "          quickchartButtonEl.style.display =\n",
              "            google.colab.kernel.accessAllowed ? 'block' : 'none';\n",
              "        })();\n",
              "      </script>\n",
              "    </div>\n",
              "\n",
              "    </div>\n",
              "  </div>\n"
            ],
            "application/vnd.google.colaboratory.intrinsic+json": {
              "type": "dataframe",
              "variable_name": "SalesDf"
            }
          },
          "metadata": {},
          "execution_count": 381
        }
      ]
    },
    {
      "cell_type": "code",
      "source": [
        "SalesDf.tail()"
      ],
      "metadata": {
        "colab": {
          "base_uri": "https://localhost:8080/",
          "height": 377
        },
        "id": "S-LVDWZOq4uE",
        "outputId": "3ad017c1-2b0d-401b-c57f-ace5b29ba2eb"
      },
      "execution_count": null,
      "outputs": [
        {
          "output_type": "execute_result",
          "data": {
            "text/plain": [
              "     OrderID    OrderDate DeliveryDate CustomerID   CustomerName Gender  \\\n",
              "145  SO94587   20/01/2024     02-03-24      C1029  Ahmed Mahmoud    ذكر   \n",
              "146  SO26822     03-19-24  30 Mar 2024    CUS-596      هاني راشد      M   \n",
              "147  SO24515   03/02/2024   05/02/2024        NaN       منى راشد   أنثى   \n",
              "148  SO38476          NaN     05-12-24      C1052       Hany Ali      M   \n",
              "149  SO16259  11 Jun 2024  22 Jun 2024      C1006   Alaa Mahmoud    NaN   \n",
              "\n",
              "               Phone                     Email  Governorate              City  \\\n",
              "145  +20 01150629797   ahmed.mahmoud@gmail.com  South Sinai   Sharm El Sheikh   \n",
              "146   +2001214323017       هانy.راشد@gmail.com     Qalyubia  Shubra El Kheima   \n",
              "147      01137072082        منy.راشد@gmail.com     Dakahlia          Mansoura   \n",
              "148    012 7199 5701       hany.aliexample.com  south sinai             Dahab   \n",
              "149   +2001142016340  alaa.mahmoud@example.com      القاهرة            Shobra   \n",
              "\n",
              "     ... PaymentMethod PaymentStatus ShipperName ShippingCost SalesRep  \\\n",
              "145  ...          Visa         مدفوع    بريد مصر         75.0    A.Ali   \n",
              "146  ...         Meeza     غير مدفوع      Aramex         75.0   Mona-S   \n",
              "147  ...          Cash         مدفوع      Aramex         75.0    A.Ali   \n",
              "148  ...          Cash       Pending         DHL          0.0   Mona-S   \n",
              "149  ...         Meeza       Pending      Aramex         25.0   Mona-S   \n",
              "\n",
              "       Channel  ReturnFlag  ReturnDate   Status                         Notes  \n",
              "145  Tel-Sales           N         NaN  Shipped          اتصل بنا قبل التوصيل  \n",
              "146      Store           N         NaN  Shipped         عميل قديم - خصم إضافي  \n",
              "147      E-com           N         NaN  Shipped  Customer asked for gift wrap  \n",
              "148   WhatsApp           N         NaN     ملغي         Wrong phone / invalid  \n",
              "149      E-com           N         NaN  Shipped                  Deliver ASAP  \n",
              "\n",
              "[5 rows x 32 columns]"
            ],
            "text/html": [
              "\n",
              "  <div id=\"df-7107866b-4e34-4db4-a45b-0ddd5562af9b\" class=\"colab-df-container\">\n",
              "    <div>\n",
              "<style scoped>\n",
              "    .dataframe tbody tr th:only-of-type {\n",
              "        vertical-align: middle;\n",
              "    }\n",
              "\n",
              "    .dataframe tbody tr th {\n",
              "        vertical-align: top;\n",
              "    }\n",
              "\n",
              "    .dataframe thead th {\n",
              "        text-align: right;\n",
              "    }\n",
              "</style>\n",
              "<table border=\"1\" class=\"dataframe\">\n",
              "  <thead>\n",
              "    <tr style=\"text-align: right;\">\n",
              "      <th></th>\n",
              "      <th>OrderID</th>\n",
              "      <th>OrderDate</th>\n",
              "      <th>DeliveryDate</th>\n",
              "      <th>CustomerID</th>\n",
              "      <th>CustomerName</th>\n",
              "      <th>Gender</th>\n",
              "      <th>Phone</th>\n",
              "      <th>Email</th>\n",
              "      <th>Governorate</th>\n",
              "      <th>City</th>\n",
              "      <th>...</th>\n",
              "      <th>PaymentMethod</th>\n",
              "      <th>PaymentStatus</th>\n",
              "      <th>ShipperName</th>\n",
              "      <th>ShippingCost</th>\n",
              "      <th>SalesRep</th>\n",
              "      <th>Channel</th>\n",
              "      <th>ReturnFlag</th>\n",
              "      <th>ReturnDate</th>\n",
              "      <th>Status</th>\n",
              "      <th>Notes</th>\n",
              "    </tr>\n",
              "  </thead>\n",
              "  <tbody>\n",
              "    <tr>\n",
              "      <th>145</th>\n",
              "      <td>SO94587</td>\n",
              "      <td>20/01/2024</td>\n",
              "      <td>02-03-24</td>\n",
              "      <td>C1029</td>\n",
              "      <td>Ahmed Mahmoud</td>\n",
              "      <td>ذكر</td>\n",
              "      <td>+20 01150629797</td>\n",
              "      <td>ahmed.mahmoud@gmail.com</td>\n",
              "      <td>South Sinai</td>\n",
              "      <td>Sharm El Sheikh</td>\n",
              "      <td>...</td>\n",
              "      <td>Visa</td>\n",
              "      <td>مدفوع</td>\n",
              "      <td>بريد مصر</td>\n",
              "      <td>75.0</td>\n",
              "      <td>A.Ali</td>\n",
              "      <td>Tel-Sales</td>\n",
              "      <td>N</td>\n",
              "      <td>NaN</td>\n",
              "      <td>Shipped</td>\n",
              "      <td>اتصل بنا قبل التوصيل</td>\n",
              "    </tr>\n",
              "    <tr>\n",
              "      <th>146</th>\n",
              "      <td>SO26822</td>\n",
              "      <td>03-19-24</td>\n",
              "      <td>30 Mar 2024</td>\n",
              "      <td>CUS-596</td>\n",
              "      <td>هاني راشد</td>\n",
              "      <td>M</td>\n",
              "      <td>+2001214323017</td>\n",
              "      <td>هانy.راشد@gmail.com</td>\n",
              "      <td>Qalyubia</td>\n",
              "      <td>Shubra El Kheima</td>\n",
              "      <td>...</td>\n",
              "      <td>Meeza</td>\n",
              "      <td>غير مدفوع</td>\n",
              "      <td>Aramex</td>\n",
              "      <td>75.0</td>\n",
              "      <td>Mona-S</td>\n",
              "      <td>Store</td>\n",
              "      <td>N</td>\n",
              "      <td>NaN</td>\n",
              "      <td>Shipped</td>\n",
              "      <td>عميل قديم - خصم إضافي</td>\n",
              "    </tr>\n",
              "    <tr>\n",
              "      <th>147</th>\n",
              "      <td>SO24515</td>\n",
              "      <td>03/02/2024</td>\n",
              "      <td>05/02/2024</td>\n",
              "      <td>NaN</td>\n",
              "      <td>منى راشد</td>\n",
              "      <td>أنثى</td>\n",
              "      <td>01137072082</td>\n",
              "      <td>منy.راشد@gmail.com</td>\n",
              "      <td>Dakahlia</td>\n",
              "      <td>Mansoura</td>\n",
              "      <td>...</td>\n",
              "      <td>Cash</td>\n",
              "      <td>مدفوع</td>\n",
              "      <td>Aramex</td>\n",
              "      <td>75.0</td>\n",
              "      <td>A.Ali</td>\n",
              "      <td>E-com</td>\n",
              "      <td>N</td>\n",
              "      <td>NaN</td>\n",
              "      <td>Shipped</td>\n",
              "      <td>Customer asked for gift wrap</td>\n",
              "    </tr>\n",
              "    <tr>\n",
              "      <th>148</th>\n",
              "      <td>SO38476</td>\n",
              "      <td>NaN</td>\n",
              "      <td>05-12-24</td>\n",
              "      <td>C1052</td>\n",
              "      <td>Hany Ali</td>\n",
              "      <td>M</td>\n",
              "      <td>012 7199 5701</td>\n",
              "      <td>hany.aliexample.com</td>\n",
              "      <td>south sinai</td>\n",
              "      <td>Dahab</td>\n",
              "      <td>...</td>\n",
              "      <td>Cash</td>\n",
              "      <td>Pending</td>\n",
              "      <td>DHL</td>\n",
              "      <td>0.0</td>\n",
              "      <td>Mona-S</td>\n",
              "      <td>WhatsApp</td>\n",
              "      <td>N</td>\n",
              "      <td>NaN</td>\n",
              "      <td>ملغي</td>\n",
              "      <td>Wrong phone / invalid</td>\n",
              "    </tr>\n",
              "    <tr>\n",
              "      <th>149</th>\n",
              "      <td>SO16259</td>\n",
              "      <td>11 Jun 2024</td>\n",
              "      <td>22 Jun 2024</td>\n",
              "      <td>C1006</td>\n",
              "      <td>Alaa Mahmoud</td>\n",
              "      <td>NaN</td>\n",
              "      <td>+2001142016340</td>\n",
              "      <td>alaa.mahmoud@example.com</td>\n",
              "      <td>القاهرة</td>\n",
              "      <td>Shobra</td>\n",
              "      <td>...</td>\n",
              "      <td>Meeza</td>\n",
              "      <td>Pending</td>\n",
              "      <td>Aramex</td>\n",
              "      <td>25.0</td>\n",
              "      <td>Mona-S</td>\n",
              "      <td>E-com</td>\n",
              "      <td>N</td>\n",
              "      <td>NaN</td>\n",
              "      <td>Shipped</td>\n",
              "      <td>Deliver ASAP</td>\n",
              "    </tr>\n",
              "  </tbody>\n",
              "</table>\n",
              "<p>5 rows × 32 columns</p>\n",
              "</div>\n",
              "    <div class=\"colab-df-buttons\">\n",
              "\n",
              "  <div class=\"colab-df-container\">\n",
              "    <button class=\"colab-df-convert\" onclick=\"convertToInteractive('df-7107866b-4e34-4db4-a45b-0ddd5562af9b')\"\n",
              "            title=\"Convert this dataframe to an interactive table.\"\n",
              "            style=\"display:none;\">\n",
              "\n",
              "  <svg xmlns=\"http://www.w3.org/2000/svg\" height=\"24px\" viewBox=\"0 -960 960 960\">\n",
              "    <path d=\"M120-120v-720h720v720H120Zm60-500h600v-160H180v160Zm220 220h160v-160H400v160Zm0 220h160v-160H400v160ZM180-400h160v-160H180v160Zm440 0h160v-160H620v160ZM180-180h160v-160H180v160Zm440 0h160v-160H620v160Z\"/>\n",
              "  </svg>\n",
              "    </button>\n",
              "\n",
              "  <style>\n",
              "    .colab-df-container {\n",
              "      display:flex;\n",
              "      gap: 12px;\n",
              "    }\n",
              "\n",
              "    .colab-df-convert {\n",
              "      background-color: #E8F0FE;\n",
              "      border: none;\n",
              "      border-radius: 50%;\n",
              "      cursor: pointer;\n",
              "      display: none;\n",
              "      fill: #1967D2;\n",
              "      height: 32px;\n",
              "      padding: 0 0 0 0;\n",
              "      width: 32px;\n",
              "    }\n",
              "\n",
              "    .colab-df-convert:hover {\n",
              "      background-color: #E2EBFA;\n",
              "      box-shadow: 0px 1px 2px rgba(60, 64, 67, 0.3), 0px 1px 3px 1px rgba(60, 64, 67, 0.15);\n",
              "      fill: #174EA6;\n",
              "    }\n",
              "\n",
              "    .colab-df-buttons div {\n",
              "      margin-bottom: 4px;\n",
              "    }\n",
              "\n",
              "    [theme=dark] .colab-df-convert {\n",
              "      background-color: #3B4455;\n",
              "      fill: #D2E3FC;\n",
              "    }\n",
              "\n",
              "    [theme=dark] .colab-df-convert:hover {\n",
              "      background-color: #434B5C;\n",
              "      box-shadow: 0px 1px 3px 1px rgba(0, 0, 0, 0.15);\n",
              "      filter: drop-shadow(0px 1px 2px rgba(0, 0, 0, 0.3));\n",
              "      fill: #FFFFFF;\n",
              "    }\n",
              "  </style>\n",
              "\n",
              "    <script>\n",
              "      const buttonEl =\n",
              "        document.querySelector('#df-7107866b-4e34-4db4-a45b-0ddd5562af9b button.colab-df-convert');\n",
              "      buttonEl.style.display =\n",
              "        google.colab.kernel.accessAllowed ? 'block' : 'none';\n",
              "\n",
              "      async function convertToInteractive(key) {\n",
              "        const element = document.querySelector('#df-7107866b-4e34-4db4-a45b-0ddd5562af9b');\n",
              "        const dataTable =\n",
              "          await google.colab.kernel.invokeFunction('convertToInteractive',\n",
              "                                                    [key], {});\n",
              "        if (!dataTable) return;\n",
              "\n",
              "        const docLinkHtml = 'Like what you see? Visit the ' +\n",
              "          '<a target=\"_blank\" href=https://colab.research.google.com/notebooks/data_table.ipynb>data table notebook</a>'\n",
              "          + ' to learn more about interactive tables.';\n",
              "        element.innerHTML = '';\n",
              "        dataTable['output_type'] = 'display_data';\n",
              "        await google.colab.output.renderOutput(dataTable, element);\n",
              "        const docLink = document.createElement('div');\n",
              "        docLink.innerHTML = docLinkHtml;\n",
              "        element.appendChild(docLink);\n",
              "      }\n",
              "    </script>\n",
              "  </div>\n",
              "\n",
              "\n",
              "    <div id=\"df-694baeb2-6c90-41e7-8f11-1325de6f93cb\">\n",
              "      <button class=\"colab-df-quickchart\" onclick=\"quickchart('df-694baeb2-6c90-41e7-8f11-1325de6f93cb')\"\n",
              "                title=\"Suggest charts\"\n",
              "                style=\"display:none;\">\n",
              "\n",
              "<svg xmlns=\"http://www.w3.org/2000/svg\" height=\"24px\"viewBox=\"0 0 24 24\"\n",
              "     width=\"24px\">\n",
              "    <g>\n",
              "        <path d=\"M19 3H5c-1.1 0-2 .9-2 2v14c0 1.1.9 2 2 2h14c1.1 0 2-.9 2-2V5c0-1.1-.9-2-2-2zM9 17H7v-7h2v7zm4 0h-2V7h2v10zm4 0h-2v-4h2v4z\"/>\n",
              "    </g>\n",
              "</svg>\n",
              "      </button>\n",
              "\n",
              "<style>\n",
              "  .colab-df-quickchart {\n",
              "      --bg-color: #E8F0FE;\n",
              "      --fill-color: #1967D2;\n",
              "      --hover-bg-color: #E2EBFA;\n",
              "      --hover-fill-color: #174EA6;\n",
              "      --disabled-fill-color: #AAA;\n",
              "      --disabled-bg-color: #DDD;\n",
              "  }\n",
              "\n",
              "  [theme=dark] .colab-df-quickchart {\n",
              "      --bg-color: #3B4455;\n",
              "      --fill-color: #D2E3FC;\n",
              "      --hover-bg-color: #434B5C;\n",
              "      --hover-fill-color: #FFFFFF;\n",
              "      --disabled-bg-color: #3B4455;\n",
              "      --disabled-fill-color: #666;\n",
              "  }\n",
              "\n",
              "  .colab-df-quickchart {\n",
              "    background-color: var(--bg-color);\n",
              "    border: none;\n",
              "    border-radius: 50%;\n",
              "    cursor: pointer;\n",
              "    display: none;\n",
              "    fill: var(--fill-color);\n",
              "    height: 32px;\n",
              "    padding: 0;\n",
              "    width: 32px;\n",
              "  }\n",
              "\n",
              "  .colab-df-quickchart:hover {\n",
              "    background-color: var(--hover-bg-color);\n",
              "    box-shadow: 0 1px 2px rgba(60, 64, 67, 0.3), 0 1px 3px 1px rgba(60, 64, 67, 0.15);\n",
              "    fill: var(--button-hover-fill-color);\n",
              "  }\n",
              "\n",
              "  .colab-df-quickchart-complete:disabled,\n",
              "  .colab-df-quickchart-complete:disabled:hover {\n",
              "    background-color: var(--disabled-bg-color);\n",
              "    fill: var(--disabled-fill-color);\n",
              "    box-shadow: none;\n",
              "  }\n",
              "\n",
              "  .colab-df-spinner {\n",
              "    border: 2px solid var(--fill-color);\n",
              "    border-color: transparent;\n",
              "    border-bottom-color: var(--fill-color);\n",
              "    animation:\n",
              "      spin 1s steps(1) infinite;\n",
              "  }\n",
              "\n",
              "  @keyframes spin {\n",
              "    0% {\n",
              "      border-color: transparent;\n",
              "      border-bottom-color: var(--fill-color);\n",
              "      border-left-color: var(--fill-color);\n",
              "    }\n",
              "    20% {\n",
              "      border-color: transparent;\n",
              "      border-left-color: var(--fill-color);\n",
              "      border-top-color: var(--fill-color);\n",
              "    }\n",
              "    30% {\n",
              "      border-color: transparent;\n",
              "      border-left-color: var(--fill-color);\n",
              "      border-top-color: var(--fill-color);\n",
              "      border-right-color: var(--fill-color);\n",
              "    }\n",
              "    40% {\n",
              "      border-color: transparent;\n",
              "      border-right-color: var(--fill-color);\n",
              "      border-top-color: var(--fill-color);\n",
              "    }\n",
              "    60% {\n",
              "      border-color: transparent;\n",
              "      border-right-color: var(--fill-color);\n",
              "    }\n",
              "    80% {\n",
              "      border-color: transparent;\n",
              "      border-right-color: var(--fill-color);\n",
              "      border-bottom-color: var(--fill-color);\n",
              "    }\n",
              "    90% {\n",
              "      border-color: transparent;\n",
              "      border-bottom-color: var(--fill-color);\n",
              "    }\n",
              "  }\n",
              "</style>\n",
              "\n",
              "      <script>\n",
              "        async function quickchart(key) {\n",
              "          const quickchartButtonEl =\n",
              "            document.querySelector('#' + key + ' button');\n",
              "          quickchartButtonEl.disabled = true;  // To prevent multiple clicks.\n",
              "          quickchartButtonEl.classList.add('colab-df-spinner');\n",
              "          try {\n",
              "            const charts = await google.colab.kernel.invokeFunction(\n",
              "                'suggestCharts', [key], {});\n",
              "          } catch (error) {\n",
              "            console.error('Error during call to suggestCharts:', error);\n",
              "          }\n",
              "          quickchartButtonEl.classList.remove('colab-df-spinner');\n",
              "          quickchartButtonEl.classList.add('colab-df-quickchart-complete');\n",
              "        }\n",
              "        (() => {\n",
              "          let quickchartButtonEl =\n",
              "            document.querySelector('#df-694baeb2-6c90-41e7-8f11-1325de6f93cb button');\n",
              "          quickchartButtonEl.style.display =\n",
              "            google.colab.kernel.accessAllowed ? 'block' : 'none';\n",
              "        })();\n",
              "      </script>\n",
              "    </div>\n",
              "\n",
              "    </div>\n",
              "  </div>\n"
            ],
            "application/vnd.google.colaboratory.intrinsic+json": {
              "type": "dataframe"
            }
          },
          "metadata": {},
          "execution_count": 382
        }
      ]
    },
    {
      "cell_type": "markdown",
      "source": [
        "\n",
        "**Sales Column**\n"
      ],
      "metadata": {
        "id": "jsmnfUCIvgZD"
      }
    },
    {
      "cell_type": "code",
      "source": [
        "SalesDf.columns"
      ],
      "metadata": {
        "colab": {
          "base_uri": "https://localhost:8080/"
        },
        "id": "shfgNdC3vftT",
        "outputId": "0de5605b-a93e-4015-f2da-f9a39d492d0f"
      },
      "execution_count": null,
      "outputs": [
        {
          "output_type": "execute_result",
          "data": {
            "text/plain": [
              "Index(['OrderID', 'OrderDate', 'DeliveryDate', 'CustomerID', 'CustomerName',\n",
              "       'Gender', 'Phone', 'Email', 'Governorate', 'City', 'Address',\n",
              "       'Latitude', 'Longitude', 'ProductSKU', 'ProductName', 'Category',\n",
              "       'UnitPrice', 'Quantity', 'Subtotal', 'Discount', 'TotalAmount',\n",
              "       'Currency', 'PaymentMethod', 'PaymentStatus', 'ShipperName',\n",
              "       'ShippingCost', 'SalesRep', 'Channel', 'ReturnFlag', 'ReturnDate',\n",
              "       'Status', 'Notes'],\n",
              "      dtype='object')"
            ]
          },
          "metadata": {},
          "execution_count": 383
        }
      ]
    },
    {
      "cell_type": "markdown",
      "source": [
        "**Checking Nulls and Data Types**"
      ],
      "metadata": {
        "id": "LFkCue-nv2Jw"
      }
    },
    {
      "cell_type": "code",
      "source": [
        "SalesDf.info()"
      ],
      "metadata": {
        "colab": {
          "base_uri": "https://localhost:8080/"
        },
        "id": "Uu_fEhaFv_m-",
        "outputId": "4bbe15e9-3ad8-45c3-c8a8-0ba18f17c7f4"
      },
      "execution_count": null,
      "outputs": [
        {
          "output_type": "stream",
          "name": "stdout",
          "text": [
            "<class 'pandas.core.frame.DataFrame'>\n",
            "RangeIndex: 150 entries, 0 to 149\n",
            "Data columns (total 32 columns):\n",
            " #   Column         Non-Null Count  Dtype  \n",
            "---  ------         --------------  -----  \n",
            " 0   OrderID        150 non-null    object \n",
            " 1   OrderDate      135 non-null    object \n",
            " 2   DeliveryDate   137 non-null    object \n",
            " 3   CustomerID     96 non-null     object \n",
            " 4   CustomerName   150 non-null    object \n",
            " 5   Gender         134 non-null    object \n",
            " 6   Phone          123 non-null    object \n",
            " 7   Email          118 non-null    object \n",
            " 8   Governorate    150 non-null    object \n",
            " 9   City           150 non-null    object \n",
            " 10  Address        150 non-null    object \n",
            " 11  Latitude       130 non-null    object \n",
            " 12  Longitude      130 non-null    object \n",
            " 13  ProductSKU     115 non-null    object \n",
            " 14  ProductName    150 non-null    object \n",
            " 15  Category       150 non-null    object \n",
            " 16  UnitPrice      150 non-null    float64\n",
            " 17  Quantity       150 non-null    int64  \n",
            " 18  Subtotal       95 non-null     float64\n",
            " 19  Discount       150 non-null    object \n",
            " 20  TotalAmount    150 non-null    float64\n",
            " 21  Currency       150 non-null    object \n",
            " 22  PaymentMethod  150 non-null    object \n",
            " 23  PaymentStatus  150 non-null    object \n",
            " 24  ShipperName    150 non-null    object \n",
            " 25  ShippingCost   133 non-null    float64\n",
            " 26  SalesRep       150 non-null    object \n",
            " 27  Channel        150 non-null    object \n",
            " 28  ReturnFlag     150 non-null    object \n",
            " 29  ReturnDate     4 non-null      object \n",
            " 30  Status         134 non-null    object \n",
            " 31  Notes          120 non-null    object \n",
            "dtypes: float64(4), int64(1), object(27)\n",
            "memory usage: 37.6+ KB\n"
          ]
        }
      ]
    },
    {
      "cell_type": "code",
      "source": [
        "SalesDf.isna().sum()[SalesDf.isna().sum() > 1]"
      ],
      "metadata": {
        "colab": {
          "base_uri": "https://localhost:8080/",
          "height": 523
        },
        "id": "1Q9VYtrpwRQ_",
        "outputId": "3c6f7eb2-3d37-4888-ebb3-da0df39c9781"
      },
      "execution_count": null,
      "outputs": [
        {
          "output_type": "execute_result",
          "data": {
            "text/plain": [
              "OrderDate        15\n",
              "DeliveryDate     13\n",
              "CustomerID       54\n",
              "Gender           16\n",
              "Phone            27\n",
              "Email            32\n",
              "Latitude         20\n",
              "Longitude        20\n",
              "ProductSKU       35\n",
              "Subtotal         55\n",
              "ShippingCost     17\n",
              "ReturnDate      146\n",
              "Status           16\n",
              "Notes            30\n",
              "dtype: int64"
            ],
            "text/html": [
              "<div>\n",
              "<style scoped>\n",
              "    .dataframe tbody tr th:only-of-type {\n",
              "        vertical-align: middle;\n",
              "    }\n",
              "\n",
              "    .dataframe tbody tr th {\n",
              "        vertical-align: top;\n",
              "    }\n",
              "\n",
              "    .dataframe thead th {\n",
              "        text-align: right;\n",
              "    }\n",
              "</style>\n",
              "<table border=\"1\" class=\"dataframe\">\n",
              "  <thead>\n",
              "    <tr style=\"text-align: right;\">\n",
              "      <th></th>\n",
              "      <th>0</th>\n",
              "    </tr>\n",
              "  </thead>\n",
              "  <tbody>\n",
              "    <tr>\n",
              "      <th>OrderDate</th>\n",
              "      <td>15</td>\n",
              "    </tr>\n",
              "    <tr>\n",
              "      <th>DeliveryDate</th>\n",
              "      <td>13</td>\n",
              "    </tr>\n",
              "    <tr>\n",
              "      <th>CustomerID</th>\n",
              "      <td>54</td>\n",
              "    </tr>\n",
              "    <tr>\n",
              "      <th>Gender</th>\n",
              "      <td>16</td>\n",
              "    </tr>\n",
              "    <tr>\n",
              "      <th>Phone</th>\n",
              "      <td>27</td>\n",
              "    </tr>\n",
              "    <tr>\n",
              "      <th>Email</th>\n",
              "      <td>32</td>\n",
              "    </tr>\n",
              "    <tr>\n",
              "      <th>Latitude</th>\n",
              "      <td>20</td>\n",
              "    </tr>\n",
              "    <tr>\n",
              "      <th>Longitude</th>\n",
              "      <td>20</td>\n",
              "    </tr>\n",
              "    <tr>\n",
              "      <th>ProductSKU</th>\n",
              "      <td>35</td>\n",
              "    </tr>\n",
              "    <tr>\n",
              "      <th>Subtotal</th>\n",
              "      <td>55</td>\n",
              "    </tr>\n",
              "    <tr>\n",
              "      <th>ShippingCost</th>\n",
              "      <td>17</td>\n",
              "    </tr>\n",
              "    <tr>\n",
              "      <th>ReturnDate</th>\n",
              "      <td>146</td>\n",
              "    </tr>\n",
              "    <tr>\n",
              "      <th>Status</th>\n",
              "      <td>16</td>\n",
              "    </tr>\n",
              "    <tr>\n",
              "      <th>Notes</th>\n",
              "      <td>30</td>\n",
              "    </tr>\n",
              "  </tbody>\n",
              "</table>\n",
              "</div><br><label><b>dtype:</b> int64</label>"
            ]
          },
          "metadata": {},
          "execution_count": 385
        }
      ]
    },
    {
      "cell_type": "markdown",
      "source": [],
      "metadata": {
        "id": "TDhtH1Hivfg1"
      }
    },
    {
      "cell_type": "markdown",
      "source": [
        "#**Conclusion**\n",
        "\n",
        "\n",
        "*   Mixed Date formats in both of OrderDate and DeliveryDate\n",
        "\n",
        "*   List item\n",
        "\n",
        "*   List item\n",
        "\n",
        "*   List item\n",
        "*   List item\n",
        "\n",
        "\n",
        "*   List item\n",
        "\n",
        "\n",
        "*   List item\n",
        "\n",
        "\n",
        "*   List item\n",
        "\n",
        "\n",
        " Mixed date formats (YYYY-MM-DD, DD/MM/YYYY, MM-DD-YY, Arabic month text)\n",
        " Inconsistent geography (Arabic/English/typos), swapped or out-of-range lat/long,\n",
        "decimal commas\n",
        " Product/Category typos (e.g., “Electrnics”, “إلكترونيات”), SKU format variants/missing\n",
        " Quantity of 0 or negative; mismatched Subtotal vs. UnitPrice×Quantity\n",
        " Discount as value / percent string / decimal rate\n",
        " Currency as code/symbol or full value string (including USD)\n",
        " Invalid or partial Email, irregular Phone formats (+20, spaced, missing)\n",
        " Free-text notes with Arabic/English; multi-line addresses (embedded newlines)"
      ],
      "metadata": {
        "id": "u2ACWCc0uDR0"
      }
    },
    {
      "cell_type": "markdown",
      "source": [
        "# **Adressing each problem one by one -> my goal is to find a generic solution not hard coded**\n"
      ],
      "metadata": {
        "id": "Re8UV98-uu8p"
      }
    },
    {
      "cell_type": "markdown",
      "source": [
        "# **Starting with Mixed Dates**"
      ],
      "metadata": {
        "id": "493WvnZXvEmO"
      }
    },
    {
      "cell_type": "markdown",
      "source": [],
      "metadata": {
        "id": "x6KdXzsFvEgD"
      }
    },
    {
      "cell_type": "code",
      "source": [
        "def parse_mixed_date(date_str):\n",
        "    date_str = str(date_str).strip()\n",
        "    formats = [\n",
        "        '%Y-%m-%d', '%d/%m/%Y', '%m/%d/%Y',\n",
        "        '%d-%m-%Y', '%m-%d-%y', '%d %b %Y', '%d مارس %Y'\n",
        "    ]\n",
        "    for fmt in formats:\n",
        "        try:\n",
        "            return pd.to_datetime(date_str, format=fmt)\n",
        "        except ValueError:\n",
        "            pass\n",
        "\n",
        "\n",
        "for idx, value in SalesDf['OrderDate'].items():\n",
        "    parsed_date = parse_mixed_date(value)\n",
        "    if parsed_date is not None and not pd.isna(parsed_date):\n",
        "        SalesDf.loc[idx, 'OrderDate'] = parsed_date\n",
        "    else:\n",
        "        SalesDf.loc[idx, 'OrderDate'] = pd.NaT\n"
      ],
      "metadata": {
        "id": "V8XuC8OFvEJF"
      },
      "execution_count": null,
      "outputs": []
    },
    {
      "cell_type": "code",
      "source": [
        "SalesDf['OrderDate'].isna().sum()"
      ],
      "metadata": {
        "colab": {
          "base_uri": "https://localhost:8080/"
        },
        "id": "LXEA2DBAvBhM",
        "outputId": "cc0f3396-13ad-425b-81da-28c35aaa546f"
      },
      "execution_count": null,
      "outputs": [
        {
          "output_type": "execute_result",
          "data": {
            "text/plain": [
              "np.int64(15)"
            ]
          },
          "metadata": {},
          "execution_count": 387
        }
      ]
    },
    {
      "cell_type": "code",
      "source": [
        "SalesDf['OrderDate'].unique()"
      ],
      "metadata": {
        "colab": {
          "base_uri": "https://localhost:8080/"
        },
        "id": "ldhPuE7ruuh6",
        "outputId": "f86ba0f6-5c3e-44d5-ec47-f49cd4be331e"
      },
      "execution_count": null,
      "outputs": [
        {
          "output_type": "execute_result",
          "data": {
            "text/plain": [
              "array([Timestamp('2024-01-29 00:00:00'), Timestamp('2024-03-12 00:00:00'),\n",
              "       Timestamp('2024-06-23 00:00:00'), NaT,\n",
              "       Timestamp('2024-01-04 00:00:00'), Timestamp('2024-04-01 00:00:00'),\n",
              "       Timestamp('2024-03-29 00:00:00'), Timestamp('2024-02-20 00:00:00'),\n",
              "       Timestamp('2024-03-25 00:00:00'), Timestamp('2024-01-11 00:00:00'),\n",
              "       Timestamp('2024-01-23 00:00:00'), Timestamp('2024-05-30 00:00:00'),\n",
              "       Timestamp('2024-01-02 00:00:00'), Timestamp('2024-03-26 00:00:00'),\n",
              "       Timestamp('2024-05-10 00:00:00'), Timestamp('2024-05-04 00:00:00'),\n",
              "       Timestamp('2024-01-28 00:00:00'), Timestamp('2024-04-03 00:00:00'),\n",
              "       Timestamp('2024-06-13 00:00:00'), Timestamp('2024-01-19 00:00:00'),\n",
              "       Timestamp('2024-02-27 00:00:00'), Timestamp('2024-06-02 00:00:00'),\n",
              "       Timestamp('2024-02-07 00:00:00'), Timestamp('2024-04-16 00:00:00'),\n",
              "       Timestamp('2024-01-18 00:00:00'), Timestamp('2024-05-07 00:00:00'),\n",
              "       Timestamp('2024-06-12 00:00:00'), Timestamp('2024-06-25 00:00:00'),\n",
              "       Timestamp('2024-05-29 00:00:00'), Timestamp('2024-06-29 00:00:00'),\n",
              "       Timestamp('2024-04-25 00:00:00'), Timestamp('2024-06-24 00:00:00'),\n",
              "       Timestamp('2024-03-17 00:00:00'), Timestamp('2024-01-08 00:00:00'),\n",
              "       Timestamp('2024-06-21 00:00:00'), Timestamp('2024-06-27 00:00:00'),\n",
              "       Timestamp('2024-03-19 00:00:00'), Timestamp('2024-03-04 00:00:00'),\n",
              "       Timestamp('2024-06-26 00:00:00'), Timestamp('2024-02-24 00:00:00'),\n",
              "       Timestamp('2024-03-18 00:00:00'), Timestamp('2024-05-21 00:00:00'),\n",
              "       Timestamp('2024-01-12 00:00:00'), Timestamp('2024-01-16 00:00:00'),\n",
              "       Timestamp('2024-01-24 00:00:00'), Timestamp('2024-02-12 00:00:00'),\n",
              "       Timestamp('2024-05-01 00:00:00'), Timestamp('2024-03-02 00:00:00'),\n",
              "       Timestamp('2024-04-14 00:00:00'), Timestamp('2024-01-05 00:00:00'),\n",
              "       Timestamp('2024-02-11 00:00:00'), Timestamp('2024-02-10 00:00:00'),\n",
              "       Timestamp('2024-03-21 00:00:00'), Timestamp('2024-02-04 00:00:00'),\n",
              "       Timestamp('2024-06-15 00:00:00'), Timestamp('2024-04-24 00:00:00'),\n",
              "       Timestamp('2024-01-31 00:00:00'), Timestamp('2024-01-25 00:00:00'),\n",
              "       Timestamp('2024-03-31 00:00:00'), Timestamp('2024-02-23 00:00:00'),\n",
              "       Timestamp('2024-01-03 00:00:00'), Timestamp('2024-05-09 00:00:00'),\n",
              "       Timestamp('2024-06-06 00:00:00'), Timestamp('2024-04-13 00:00:00'),\n",
              "       Timestamp('2024-06-16 00:00:00'), Timestamp('2024-04-29 00:00:00'),\n",
              "       Timestamp('2024-03-20 00:00:00'), Timestamp('2024-02-06 00:00:00'),\n",
              "       Timestamp('2024-05-28 00:00:00'), Timestamp('2024-05-06 00:00:00'),\n",
              "       Timestamp('2024-04-12 00:00:00'), Timestamp('2024-06-28 00:00:00'),\n",
              "       Timestamp('2024-06-14 00:00:00'), Timestamp('2024-04-21 00:00:00'),\n",
              "       Timestamp('2024-01-30 00:00:00'), Timestamp('2024-01-26 00:00:00'),\n",
              "       Timestamp('2024-04-22 00:00:00'), Timestamp('2024-01-21 00:00:00'),\n",
              "       Timestamp('2024-06-17 00:00:00'), Timestamp('2024-01-09 00:00:00'),\n",
              "       Timestamp('2024-01-01 00:00:00'), Timestamp('2024-02-03 00:00:00'),\n",
              "       Timestamp('2024-02-13 00:00:00'), Timestamp('2024-04-20 00:00:00'),\n",
              "       Timestamp('2024-02-19 00:00:00'), Timestamp('2024-02-01 00:00:00'),\n",
              "       Timestamp('2024-04-23 00:00:00'), Timestamp('2024-01-06 00:00:00'),\n",
              "       Timestamp('2024-03-01 00:00:00'), Timestamp('2024-01-20 00:00:00'),\n",
              "       Timestamp('2024-06-11 00:00:00')], dtype=object)"
            ]
          },
          "metadata": {},
          "execution_count": 388
        }
      ]
    },
    {
      "cell_type": "code",
      "source": [
        "for idx, value in SalesDf['DeliveryDate'].items():\n",
        "    parsed_date = parse_mixed_date(value)\n",
        "    if parsed_date is not None and not pd.isna(parsed_date):\n",
        "        SalesDf.loc[idx, 'DeliveryDate'] = parsed_date\n",
        "    else:\n",
        "        SalesDf.loc[idx, 'DeliveryDate'] = pd.NaT\n"
      ],
      "metadata": {
        "id": "GdOxobBJq8Il"
      },
      "execution_count": null,
      "outputs": []
    },
    {
      "cell_type": "code",
      "source": [
        "SalesDf['OrderDate'].isna().sum()"
      ],
      "metadata": {
        "colab": {
          "base_uri": "https://localhost:8080/"
        },
        "id": "WG_yaWVTyi0a",
        "outputId": "ca4b545a-edd0-49c8-cdf1-97393d902ad0"
      },
      "execution_count": null,
      "outputs": [
        {
          "output_type": "execute_result",
          "data": {
            "text/plain": [
              "np.int64(15)"
            ]
          },
          "metadata": {},
          "execution_count": 390
        }
      ]
    },
    {
      "cell_type": "markdown",
      "source": [
        "# **Customer ID**"
      ],
      "metadata": {
        "id": "24cmwOhEy5mk"
      }
    },
    {
      "cell_type": "code",
      "source": [
        "SalesDf[\"CustomerID\"].unique()"
      ],
      "metadata": {
        "colab": {
          "base_uri": "https://localhost:8080/"
        },
        "id": "NH6rAzeDylhY",
        "outputId": "9ff88fd5-8ff7-4e22-8215-7388d69569a7"
      },
      "execution_count": null,
      "outputs": [
        {
          "output_type": "execute_result",
          "data": {
            "text/plain": [
              "array(['CUS-575', 'C1077', 'C1020', 'C1028', 'CUS-521', 'C1016', 'C1079',\n",
              "       'C1024', nan, 'CUS-527', 'CUS-563', 'C1097', 'CUS-500', 'CUS-550',\n",
              "       'CUS-541', 'CUS-549', 'CUS-576', 'C1055', 'C1019', 'CUS-569',\n",
              "       'C1053', 'CUS-564', 'CUS-580', 'C1043', 'C1049', 'C1099', 'C1089',\n",
              "       'C1063', 'CUS-512', 'CUS-516', 'C1044', 'CUS-506', 'CUS-535',\n",
              "       'CUS-533', 'C1042', 'C1001', 'C1070', 'C1065', 'C1034', 'CUS-519',\n",
              "       'C1045', 'C1026', 'CUS-511', 'CUS-595', 'CUS-501', 'CUS-504',\n",
              "       'CUS-520', 'C1041', 'C1000', 'C1031', 'CUS-539', 'CUS-538',\n",
              "       'CUS-513', 'CUS-542', 'CUS-596', 'CUS-568', 'C1058', 'C1011',\n",
              "       'CUS-582', 'C1032', 'C1062', 'C1022', 'CUS-560', 'C1035', 'C1093',\n",
              "       'C1002', 'CUS-566', 'C1094', 'CUS-515', 'CUS-565', 'CUS-523',\n",
              "       'C1018', 'CUS-598', 'CUS-562', 'C1098', 'C1080', 'C1071', 'C1005',\n",
              "       'C1029', 'C1052', 'C1006'], dtype=object)"
            ]
          },
          "metadata": {},
          "execution_count": 391
        }
      ]
    },
    {
      "cell_type": "code",
      "source": [
        "SalesDf['CustomerID'] = SalesDf['CustomerID'].apply(lambda x: x.replace('CUS-', 'C') if isinstance(x, str) and x.startswith('CUS-') else x)\n"
      ],
      "metadata": {
        "id": "7a5tu9jp0abX"
      },
      "execution_count": null,
      "outputs": []
    },
    {
      "cell_type": "code",
      "source": [
        "SalesDf[\"CustomerID\"].unique()"
      ],
      "metadata": {
        "colab": {
          "base_uri": "https://localhost:8080/"
        },
        "id": "QaQ-16gM1cDC",
        "outputId": "1b871558-7f82-4c9b-8cc3-130031954f99"
      },
      "execution_count": null,
      "outputs": [
        {
          "output_type": "execute_result",
          "data": {
            "text/plain": [
              "array(['C575', 'C1077', 'C1020', 'C1028', 'C521', 'C1016', 'C1079',\n",
              "       'C1024', nan, 'C527', 'C563', 'C1097', 'C500', 'C550', 'C541',\n",
              "       'C549', 'C576', 'C1055', 'C1019', 'C569', 'C1053', 'C564', 'C580',\n",
              "       'C1043', 'C1049', 'C1099', 'C1089', 'C1063', 'C512', 'C516',\n",
              "       'C1044', 'C506', 'C535', 'C533', 'C1042', 'C1001', 'C1070',\n",
              "       'C1065', 'C1034', 'C519', 'C1045', 'C1026', 'C511', 'C595', 'C501',\n",
              "       'C504', 'C520', 'C1041', 'C1000', 'C1031', 'C539', 'C538', 'C513',\n",
              "       'C542', 'C596', 'C568', 'C1058', 'C1011', 'C582', 'C1032', 'C1062',\n",
              "       'C1022', 'C560', 'C1035', 'C1093', 'C1002', 'C566', 'C1094',\n",
              "       'C515', 'C565', 'C523', 'C1018', 'C598', 'C562', 'C1098', 'C1080',\n",
              "       'C1071', 'C1005', 'C1029', 'C1052', 'C1006'], dtype=object)"
            ]
          },
          "metadata": {},
          "execution_count": 393
        }
      ]
    },
    {
      "cell_type": "markdown",
      "source": [
        "#**Customer Name**\n",
        "\n",
        "\n",
        "*   We have a Mix of Arabic & English names\n",
        "\n",
        "\n",
        "      1.  Either we hard code it\n",
        "      2.   List item\n",
        "\n",
        "\n",
        "\n"
      ],
      "metadata": {
        "id": "x7AigGlI1jxh"
      }
    },
    {
      "cell_type": "code",
      "source": [
        "SalesDf[\"CustomerName\"].unique()"
      ],
      "metadata": {
        "colab": {
          "base_uri": "https://localhost:8080/"
        },
        "id": "FbpnTV2m1eeD",
        "outputId": "0d232b38-ee13-4d59-86bc-d58b99153bd2"
      },
      "execution_count": null,
      "outputs": [
        {
          "output_type": "execute_result",
          "data": {
            "text/plain": [
              "array(['Mohamed Mahmoud', 'سارة إبراهيم', 'كريم إبراهيم', 'أحمد محمود',\n",
              "       'Alaa Rashid', 'يوسف راشد', 'Alaa Mahmoud', 'Ahmed Farouk',\n",
              "       'يوسف إبراهيم', 'Sara Farouk', 'كريم علي', 'Dina Hassan',\n",
              "       'Youssef Rashid', 'نور فتحي', 'محمد فتحي', 'Ahmed Fathy',\n",
              "       'محمد محمود', 'Sara Mahmoud', 'هاني راشد', 'هاني علي', 'Mona Nasr',\n",
              "       'Nour Fathy', 'نور علي', 'Mona Ibrahim', 'منى إبراهيم', 'يوسف حسن',\n",
              "       'دينا محمود', 'يوسف نصر', 'Hany Rashid', 'Dina Ibrahim',\n",
              "       'علاء فاروق', 'علاء فتحي', 'كريم حسن', 'Alaa Farouk',\n",
              "       'Nour Farouk', 'Nour Mahmoud', 'منى علي', 'Ahmed Ibrahim',\n",
              "       'علاء حسن', 'سارة فتحي', 'Alaa Nasr', 'منى محمود', 'Hany Ibrahim',\n",
              "       'نور فاروق', 'Mohamed Nasr', 'علاء إبراهيم', 'Nour Hassan',\n",
              "       'محمد علي', 'Hany Ali', 'Alaa Hassan', 'Mona Hassan', 'Hany Fathy',\n",
              "       'يوسف علي', 'أحمد نصر', 'Mohamed Rashid', 'سارة محمود',\n",
              "       'Ahmed Mahmoud', 'Ahmed Ali', 'Mona Fathy', 'نور راشد',\n",
              "       'Dina Fathy', 'سارة حسن', 'علاء علي', 'Nour Ali', 'محمد حسن',\n",
              "       'نور محمود', 'Mona Ali', 'هاني نصر', 'Youssef Ali', 'أحمد حسن',\n",
              "       'أحمد إبراهيم', 'منى راشد', 'سارة علي', 'محمد راشد',\n",
              "       'Mohamed Farouk', 'Mohamed Ali', 'كريم فتحي', 'Karim Ibrahim',\n",
              "       'أحمد فتحي', 'Karim Mahmoud', 'Hany Hassan', 'هاني فاروق',\n",
              "       'منى فاروق', 'Karim Ali', 'هاني فتحي', 'Alaa Fathy', 'Dina Ali',\n",
              "       'نور نصر', 'أحمد راشد', 'دينا راشد', 'Ahmed Hassan', 'كريم نصر',\n",
              "       'أحمد فاروق', 'Mohamed Ibrahim', 'Mona Mahmoud', 'يوسف فتحي'],\n",
              "      dtype=object)"
            ]
          },
          "metadata": {},
          "execution_count": 394
        }
      ]
    },
    {
      "cell_type": "code",
      "source": [
        "translator = Translator()\n",
        "translated = translator.translate('سارة إبراهيم', src='ar', dest='en')\n",
        "print(translated.text)"
      ],
      "metadata": {
        "colab": {
          "base_uri": "https://localhost:8080/"
        },
        "id": "t64Y5NCN2h2H",
        "outputId": "5470a5de-29d4-43f1-9481-85adbbfc9fcd"
      },
      "execution_count": null,
      "outputs": [
        {
          "output_type": "stream",
          "name": "stdout",
          "text": [
            "Sarah Ibrahim\n"
          ]
        }
      ]
    },
    {
      "cell_type": "markdown",
      "source": [
        "#**After seeing the result on the sample case I'll apply it to the customer name column**"
      ],
      "metadata": {
        "id": "0j2NY3Ip2yXP"
      }
    },
    {
      "cell_type": "code",
      "source": [
        "SalesDf['CustomerName'] = SalesDf['CustomerName'].apply(\n",
        "    lambda x: translator.translate(x, src='ar', dest='en').text if isinstance(x, str) else x\n",
        ")"
      ],
      "metadata": {
        "id": "UOAAqqKg3MVF"
      },
      "execution_count": null,
      "outputs": []
    },
    {
      "cell_type": "code",
      "source": [
        "SalesDf[\"CustomerName\"].unique()"
      ],
      "metadata": {
        "colab": {
          "base_uri": "https://localhost:8080/"
        },
        "id": "epZ08dlp3SM2",
        "outputId": "244603ee-ec18-485e-8b63-316db8003354"
      },
      "execution_count": null,
      "outputs": [
        {
          "output_type": "execute_result",
          "data": {
            "text/plain": [
              "array(['Mohamed Mahmoud', 'Sarah Ibrahim', 'Karim Ibrahim',\n",
              "       'Ahmed Mahmoud', 'Alaa Rashid', 'Youssef Rashid', 'Alaa Mahmoud',\n",
              "       'Ahmed Farouk', 'Youssef Ibrahim', 'Sarah Farouk', 'Karim Ali',\n",
              "       'Dina Hassan', 'Nour Fathi', 'Muhammad Fathi', 'Ahmed Fathi',\n",
              "       'Muhammad Mahmoud', 'Sarah Mahmoud', 'Hani Rashid', 'Hani Ali',\n",
              "       'Mona Nasr', 'Nour Ali', 'Mona Ibrahim', 'Youssef Hassan',\n",
              "       'Dina Mahmoud', 'Youssef Nasr', 'Hany Rashid', 'Dina Ibrahim',\n",
              "       'Alaa Farouk', 'Alaa Fathi', 'Karim Hassan', 'Nour Farouk',\n",
              "       'Nour Mahmoud', 'Mona Ali', 'Ahmed Ibrahim', 'Alaa Hassan',\n",
              "       'Sarah Fathi', 'Alaa Nasr', 'Mona Mahmoud', 'Hany Ibrahim',\n",
              "       'Mohamed Nasr', 'Alaa Ibrahim', 'Nour Hassan', 'Muhammad Ali',\n",
              "       'Hany Ali', 'Mona Hassan', 'Hany Fathi', 'Yusuf Ali', 'Ahmed Nasr',\n",
              "       'Mohamed Rashid', 'Ahmed Ali', 'Mona Fathi', 'Nour Rashid',\n",
              "       'Dina Fathi', 'Sarah Hassan', 'Alaa Ali', 'Muhammad Hassan',\n",
              "       'Hani Nasr', 'Youssef Ali', 'Ahmed Hassan', 'Mona Rashid',\n",
              "       'Sarah Ali', 'Muhammad Rashid', 'Mohamed Farouk', 'Mohamed Ali',\n",
              "       'Karim Fathi', 'Karim Mahmoud', 'Hany Hassan', 'Hani Farouk',\n",
              "       'Mona Farouk', 'Hani Fathi', 'Dina Ali', 'Nour Nasr',\n",
              "       'Ahmed Rashid', 'Dina Rashid', 'Karim Nasr', 'Mohamed Ibrahim',\n",
              "       'Youssef Fathi'], dtype=object)"
            ]
          },
          "metadata": {},
          "execution_count": 397
        }
      ]
    },
    {
      "cell_type": "markdown",
      "source": [
        "#**Now we Don't have any Arabic Entries in the Customer Name**"
      ],
      "metadata": {
        "id": "RHAtqezq3wjn"
      }
    },
    {
      "cell_type": "markdown",
      "source": [],
      "metadata": {
        "id": "vh6hhMq235Uu"
      }
    },
    {
      "cell_type": "code",
      "source": [
        "SalesDf.columns"
      ],
      "metadata": {
        "id": "G9oqWxrb3v-f",
        "colab": {
          "base_uri": "https://localhost:8080/"
        },
        "outputId": "9ddaf902-4e94-4d42-bc6f-55e4a21bfb6d"
      },
      "execution_count": null,
      "outputs": [
        {
          "output_type": "execute_result",
          "data": {
            "text/plain": [
              "Index(['OrderID', 'OrderDate', 'DeliveryDate', 'CustomerID', 'CustomerName',\n",
              "       'Gender', 'Phone', 'Email', 'Governorate', 'City', 'Address',\n",
              "       'Latitude', 'Longitude', 'ProductSKU', 'ProductName', 'Category',\n",
              "       'UnitPrice', 'Quantity', 'Subtotal', 'Discount', 'TotalAmount',\n",
              "       'Currency', 'PaymentMethod', 'PaymentStatus', 'ShipperName',\n",
              "       'ShippingCost', 'SalesRep', 'Channel', 'ReturnFlag', 'ReturnDate',\n",
              "       'Status', 'Notes'],\n",
              "      dtype='object')"
            ]
          },
          "metadata": {},
          "execution_count": 398
        }
      ]
    },
    {
      "cell_type": "markdown",
      "source": [
        "# **Phone Normalization**\n",
        "**irregular Phone formats (+20, spaced, missing)**"
      ],
      "metadata": {
        "id": "-4MBy4XM4pnM"
      }
    },
    {
      "cell_type": "code",
      "source": [
        "SalesDf[\"Phone\"].unique()"
      ],
      "metadata": {
        "colab": {
          "base_uri": "https://localhost:8080/"
        },
        "id": "CNDUODvr3ub8",
        "outputId": "03bc302b-3f3a-4534-a528-1318e1c2c596"
      },
      "execution_count": null,
      "outputs": [
        {
          "output_type": "execute_result",
          "data": {
            "text/plain": [
              "array([nan, '+2001284752529', '011 4828 5503', '01065337219',\n",
              "       '+2001067062156', '01051746937', '+20 01190014570',\n",
              "       '+2001249209916', '+2001289160218', '+20 01275007200',\n",
              "       '+20 01016172803', '+20 01091478884', '01239711402',\n",
              "       '+20 01210380581', '+20 01034215035', '+20 01284990607',\n",
              "       '+2001252431444', '01054250344', '+2001158895439', '012 2862 8439',\n",
              "       '01098195059', '011 3317 3544', '01248124318', '01285383550',\n",
              "       '01042507072', '01048983895', '+20 01011243818', '+2001192493631',\n",
              "       '01073360324', '+2001050502136', '+2001112058055', '01216511491',\n",
              "       '01019865900', '+20 01063108878', '011 8514 1654',\n",
              "       '+2001128830282', '+2001092698414', '+20 01076399516',\n",
              "       '01121989814', '+2001152476240', '+20 01076627415',\n",
              "       '011 1925 1149', '+2001198911718', '010 3659 2965',\n",
              "       '+2001146297263', '+20 01080638102', '010 6556 8711',\n",
              "       '01023017361', '+2001038439415', '011 4616 0937', '011 9745 4571',\n",
              "       '012 8175 7508', '+2001087346846', '01293635734', '01220072800',\n",
              "       '010 6520 1639', '+20 01271231190', '012 6162 8545', '01082634888',\n",
              "       '+2001219679848', '01283487621', '01184044139', '+2001099736040',\n",
              "       '+2001289503557', '+20 01266463253', '01231715773', '01212062459',\n",
              "       '+2001246114740', '+20 01157661928', '010 9789 0153',\n",
              "       '010 8290 5989', '01218060088', '+2001293929707',\n",
              "       '+20 01027742113', '011 7040 6241', '+20 01193917080',\n",
              "       '01034796255', '+2001298520663', '+20 01187707540',\n",
              "       '+20 01119104802', '+20 01141895802', '012 4912 4904',\n",
              "       '011 9112 5155', '+20 01290213415', '011 5044 8811',\n",
              "       '+20 01262409851', '+20 01014971784', '012 3214 6747',\n",
              "       '+20 01068340640', '+2001284189605', '+2001264406548',\n",
              "       '+20 01029909634', '012 3957 6862', '010 1088 8369', '01131918943',\n",
              "       '+2001027275764', '+2001124404851', '010 4125 5233',\n",
              "       '+20 01084714519', '011 8655 1556', '+2001128865664',\n",
              "       '+20 01062744287', '+2001174205127', '010 9290 3638',\n",
              "       '012 5839 7866', '+20 01066711868', '+20 01245577682',\n",
              "       '012 6976 2583', '+20 01237811066', '+2001223327047',\n",
              "       '+20 01252103461', '+2001286875315', '+20 01150702879',\n",
              "       '01287424245', '+2001037187070', '+20 01278495121',\n",
              "       '+2001111256721', '+2001288710632', '+2001184424395',\n",
              "       '+20 01150629797', '+2001214323017', '01137072082',\n",
              "       '012 7199 5701', '+2001142016340'], dtype=object)"
            ]
          },
          "metadata": {},
          "execution_count": 399
        }
      ]
    },
    {
      "cell_type": "code",
      "source": [
        "SalesDf['Phone'] = SalesDf['Phone'].apply(lambda x: str(x).replace('+20', '').strip() if pd.notnull(x) else x)"
      ],
      "metadata": {
        "id": "k1yuw6Cj43m8"
      },
      "execution_count": null,
      "outputs": []
    },
    {
      "cell_type": "code",
      "source": [
        "SalesDf[\"Phone\"].unique()"
      ],
      "metadata": {
        "colab": {
          "base_uri": "https://localhost:8080/"
        },
        "id": "lXEIY0Fc5KRL",
        "outputId": "59b1caef-efd1-45a1-ee9f-1b88ab1a3379"
      },
      "execution_count": null,
      "outputs": [
        {
          "output_type": "execute_result",
          "data": {
            "text/plain": [
              "array([nan, '01284752529', '011 4828 5503', '01065337219', '01067062156',\n",
              "       '01051746937', '01190014570', '01249209916', '01289160218',\n",
              "       '01275007200', '01016172803', '01091478884', '01239711402',\n",
              "       '01210380581', '01034215035', '01284990607', '01252431444',\n",
              "       '01054250344', '01158895439', '012 2862 8439', '01098195059',\n",
              "       '011 3317 3544', '01248124318', '01285383550', '01042507072',\n",
              "       '01048983895', '01011243818', '01192493631', '01073360324',\n",
              "       '01050502136', '01112058055', '01216511491', '01019865900',\n",
              "       '01063108878', '011 8514 1654', '01128830282', '01092698414',\n",
              "       '01076399516', '01121989814', '01152476240', '01076627415',\n",
              "       '011 1925 1149', '01198911718', '010 3659 2965', '01146297263',\n",
              "       '01080638102', '010 6556 8711', '01023017361', '01038439415',\n",
              "       '011 4616 0937', '011 9745 4571', '012 8175 7508', '01087346846',\n",
              "       '01293635734', '01220072800', '010 6520 1639', '01271231190',\n",
              "       '012 6162 8545', '01082634888', '01219679848', '01283487621',\n",
              "       '01184044139', '01099736040', '01289503557', '01266463253',\n",
              "       '01231715773', '01212062459', '01246114740', '01157661928',\n",
              "       '010 9789 0153', '010 8290 5989', '01218060088', '01293929707',\n",
              "       '01027742113', '011 7040 6241', '01193917080', '01034796255',\n",
              "       '01298520663', '01187707540', '01119104802', '01141895802',\n",
              "       '012 4912 4904', '011 9112 5155', '01290213415', '011 5044 8811',\n",
              "       '01262409851', '01014971784', '012 3214 6747', '01068340640',\n",
              "       '01284189605', '01264406548', '01029909634', '012 3957 6862',\n",
              "       '010 1088 8369', '01131918943', '01027275764', '01124404851',\n",
              "       '010 4125 5233', '01084714519', '011 8655 1556', '01128865664',\n",
              "       '01062744287', '01174205127', '010 9290 3638', '012 5839 7866',\n",
              "       '01066711868', '01245577682', '012 6976 2583', '01237811066',\n",
              "       '01223327047', '01252103461', '01286875315', '01150702879',\n",
              "       '01287424245', '01037187070', '01278495121', '01111256721',\n",
              "       '01288710632', '01184424395', '01150629797', '01214323017',\n",
              "       '01137072082', '012 7199 5701', '01142016340'], dtype=object)"
            ]
          },
          "metadata": {},
          "execution_count": 401
        }
      ]
    },
    {
      "cell_type": "markdown",
      "source": [
        "#**All phone numbers are now without prefix**"
      ],
      "metadata": {
        "id": "k1rLr1DW5U_Q"
      }
    },
    {
      "cell_type": "markdown",
      "source": [],
      "metadata": {
        "id": "6DfCPW-USZih"
      }
    },
    {
      "cell_type": "markdown",
      "source": [
        "#**Gender**"
      ],
      "metadata": {
        "id": "AP1QAAWmUSu9"
      }
    },
    {
      "cell_type": "code",
      "source": [
        "SalesDf[\"Gender\"].unique()"
      ],
      "metadata": {
        "colab": {
          "base_uri": "https://localhost:8080/"
        },
        "id": "M5JhJpnSSaGx",
        "outputId": "6712f782-8b42-4ba8-b2df-702a415f7d9b"
      },
      "execution_count": null,
      "outputs": [
        {
          "output_type": "execute_result",
          "data": {
            "text/plain": [
              "array(['M', 'ذكر', nan, 'أنثى', 'F'], dtype=object)"
            ]
          },
          "metadata": {},
          "execution_count": 402
        }
      ]
    },
    {
      "cell_type": "code",
      "source": [
        "(SalesDf['Gender'].astype(str).str.strip().str.lower() == 'nan').sum()"
      ],
      "metadata": {
        "colab": {
          "base_uri": "https://localhost:8080/"
        },
        "id": "U8vxTBNLSaFS",
        "outputId": "be87880b-7a72-497c-f2d1-07571eb314b8"
      },
      "execution_count": null,
      "outputs": [
        {
          "output_type": "execute_result",
          "data": {
            "text/plain": [
              "np.int64(16)"
            ]
          },
          "metadata": {},
          "execution_count": 403
        }
      ]
    },
    {
      "cell_type": "code",
      "source": [
        "SalesDf['Gender'] = SalesDf['Gender'].astype(str).str.strip().str.lower().map({'m':'male', 'f':'female', 'ذكر':'male', 'أنثى':'female'})"
      ],
      "metadata": {
        "id": "vdW7ABN0SZ1i"
      },
      "execution_count": null,
      "outputs": []
    },
    {
      "cell_type": "code",
      "source": [
        "SalesDf[\"Gender\"].unique()\n"
      ],
      "metadata": {
        "colab": {
          "base_uri": "https://localhost:8080/"
        },
        "id": "SNX4w__8Tj2I",
        "outputId": "49f0b4e8-fd58-484e-d6c3-33a10445cf98"
      },
      "execution_count": null,
      "outputs": [
        {
          "output_type": "execute_result",
          "data": {
            "text/plain": [
              "array(['male', nan, 'female'], dtype=object)"
            ]
          },
          "metadata": {},
          "execution_count": 405
        }
      ]
    },
    {
      "cell_type": "code",
      "source": [
        "genderNulls=SalesDf[SalesDf.isna().any(axis=1)]['CustomerName']\n",
        "print(genderNulls)"
      ],
      "metadata": {
        "colab": {
          "base_uri": "https://localhost:8080/"
        },
        "id": "35_rwlM-UGqU",
        "outputId": "dbf6d77b-e7e7-42e9-97f5-dedba128d3f1"
      },
      "execution_count": null,
      "outputs": [
        {
          "output_type": "stream",
          "name": "stdout",
          "text": [
            "0      Mohamed Mahmoud\n",
            "1        Sarah Ibrahim\n",
            "2        Karim Ibrahim\n",
            "3        Ahmed Mahmoud\n",
            "4          Alaa Rashid\n",
            "            ...       \n",
            "145      Ahmed Mahmoud\n",
            "146        Hani Rashid\n",
            "147        Mona Rashid\n",
            "148           Hany Ali\n",
            "149       Alaa Mahmoud\n",
            "Name: CustomerName, Length: 150, dtype: object\n"
          ]
        }
      ]
    },
    {
      "cell_type": "markdown",
      "source": [
        "#**I'll fix the gender by myself as I can get it from the name**"
      ],
      "metadata": {
        "id": "vZRDGrhzTjl2"
      }
    },
    {
      "cell_type": "code",
      "source": [
        "NameGender= {\n",
        "    'alaa rashid': 'male',\n",
        "    'sarah ibrahim': 'female',\n",
        "    'karim ali': 'male',\n",
        "    'sarah farouk': 'female',\n",
        "    'alaa farouk': 'male',\n",
        "    'dina ibrahim': 'female',\n",
        "    'mona fathi': 'female',\n",
        "    'nour farouk': 'female',\n",
        "    'ahmed ibrahim': 'male',\n",
        "    'mohamed ali': 'male',\n",
        "    'mona ali': 'female',\n",
        "    'dina ali': 'female',\n",
        "    'ahmed rashid': 'male',\n",
        "    'muhammad mahmoud': 'male',\n",
        "    'alaa mahmoud': 'male'\n",
        "}"
      ],
      "metadata": {
        "id": "tZMlI467UsB4"
      },
      "execution_count": null,
      "outputs": []
    },
    {
      "cell_type": "markdown",
      "source": [
        "#**Mapping**"
      ],
      "metadata": {
        "id": "jLHnOTJEU0Fh"
      }
    },
    {
      "cell_type": "code",
      "source": [
        "SalesDf['Gender'] = SalesDf.apply(\n",
        "    lambda row: NameGender.get(str(row['CustomerName']).strip().lower(), row['Gender']),\n",
        "    axis=1\n",
        ")"
      ],
      "metadata": {
        "id": "TorzpvMQUv1-"
      },
      "execution_count": null,
      "outputs": []
    },
    {
      "cell_type": "markdown",
      "source": [
        "#**All the Nulls in the Gender Column and the inconsistancies are fixed**"
      ],
      "metadata": {
        "id": "kHANx0-hVENr"
      }
    },
    {
      "cell_type": "code",
      "source": [
        "SalesDf[\"Gender\"].isna().sum()"
      ],
      "metadata": {
        "colab": {
          "base_uri": "https://localhost:8080/"
        },
        "id": "epN1fU7bU_y9",
        "outputId": "c5d75032-cbbe-4828-b2bc-d1d9cb6a3e2d"
      },
      "execution_count": null,
      "outputs": [
        {
          "output_type": "execute_result",
          "data": {
            "text/plain": [
              "np.int64(0)"
            ]
          },
          "metadata": {},
          "execution_count": 409
        }
      ]
    },
    {
      "cell_type": "markdown",
      "source": [
        "#**Inconsistent geography (Arabic/English/typos)**"
      ],
      "metadata": {
        "id": "FDrNBl355gV0"
      }
    },
    {
      "cell_type": "code",
      "source": [
        "SalesDf[\"Governorate\"].unique()"
      ],
      "metadata": {
        "colab": {
          "base_uri": "https://localhost:8080/"
        },
        "id": "ThEsytkQ5MWc",
        "outputId": "19b55bbe-9685-47bb-c77b-30ab6a0b4eed"
      },
      "execution_count": null,
      "outputs": [
        {
          "output_type": "execute_result",
          "data": {
            "text/plain": [
              "array(['Asyut', 'cairo', 'أسيوط', 'أسوان', 'RED SEA', 'Red Sea',\n",
              "       'south sinai', 'جنوب سيناء', 'asyut', 'giza', 'الجيزة', 'SHARQIA',\n",
              "       'GHARBIA', 'البحر الأحمر', 'South Sinai', 'Alexandria', 'sharqia',\n",
              "       'القليوبية', 'Sharqia', 'GIZA', 'Al Red Sea', 'luxor', 'Luxor',\n",
              "       'SOUTH SINAI', 'ASYUT', 'LUXOR', 'Al Alexandria', 'الإسكندرية',\n",
              "       'Al Gharbia', 'Giza', 'Dakahlia', 'الأقصر', 'الغربية', 'aswan',\n",
              "       'QALYUBIA', 'qalyubia', 'alexandria', 'القاهرة', 'Gharbia',\n",
              "       'القاهره', 'Gizah', 'Cairo', 'الدقهلية', 'dakahlia', 'Qalyubia',\n",
              "       'DAKAHLIA', 'Aswan', 'Al South Sinai', 'Al Luxor', 'الشرقية',\n",
              "       'Al Giza', 'Al Asyut', 'Al Aswan'], dtype=object)"
            ]
          },
          "metadata": {},
          "execution_count": 410
        }
      ]
    },
    {
      "cell_type": "code",
      "source": [
        "SalesDf['Governorate'] = SalesDf['Governorate'].apply(\n",
        "    lambda x: translator.translate(x, src='ar', dest='en').text if isinstance(x, str) else x)"
      ],
      "metadata": {
        "id": "dJCfP-hd5wJi"
      },
      "execution_count": null,
      "outputs": []
    },
    {
      "cell_type": "code",
      "source": [
        "SalesDf[\"Governorate\"].unique()"
      ],
      "metadata": {
        "colab": {
          "base_uri": "https://localhost:8080/"
        },
        "id": "8ahv62tw6BUR",
        "outputId": "440e3a33-4ac1-4e5c-b84a-ee0fa203c130"
      },
      "execution_count": null,
      "outputs": [
        {
          "output_type": "execute_result",
          "data": {
            "text/plain": [
              "array(['Asyut', 'cairo', 'Assiut', 'Aswan', 'RED SEA', 'Red Sea',\n",
              "       'south sinai', 'South Sinai', 'asyut', 'giza', 'Giza', 'SHARQIA',\n",
              "       'GHARBIA', 'Alexandria', 'sharqia', 'Qalyubia', 'Sharqia', 'GIZA',\n",
              "       'Al Red Sea', 'luxor', 'Luxor', 'SOUTH SINAI', 'ASYUT', 'LUXOR',\n",
              "       'Al Alexandria', 'Al Gharbia', 'Dakahlia', 'Western', 'aswan',\n",
              "       'QALYUBIA', 'qalyubia', 'alexandria', 'Cairo', 'Gharbia', 'Gizah',\n",
              "       'Al South Sinai', 'Al Luxor', 'Eastern', 'Al Giza', 'Al Assiut',\n",
              "       'Al Aswan'], dtype=object)"
            ]
          },
          "metadata": {},
          "execution_count": 412
        }
      ]
    },
    {
      "cell_type": "code",
      "source": [
        "SalesDf = SalesDf.applymap(\n",
        "    lambda x: str(x).lower().replace('eastern', 'gharbia').replace('western','sharqia').replace('gizah','giza').replace('asyut','assiut').removeprefix('al ') if not str(x).lower().startswith('alexandria') else str(x).lower()\n",
        "     if isinstance(x, str) else x\n",
        ")\n"
      ],
      "metadata": {
        "colab": {
          "base_uri": "https://localhost:8080/"
        },
        "id": "rF_XEs4P6d8H",
        "outputId": "076f0b20-7ff7-4e4f-bc65-e3acc6a46e21"
      },
      "execution_count": null,
      "outputs": [
        {
          "output_type": "stream",
          "name": "stderr",
          "text": [
            "/tmp/ipython-input-1660195904.py:1: FutureWarning: DataFrame.applymap has been deprecated. Use DataFrame.map instead.\n",
            "  SalesDf = SalesDf.applymap(\n"
          ]
        }
      ]
    },
    {
      "cell_type": "markdown",
      "source": [
        "#**The Inconsistancies in the Governorate Column are Fixed**"
      ],
      "metadata": {
        "id": "VCMUlXem-DQr"
      }
    },
    {
      "cell_type": "code",
      "source": [
        "SalesDf[\"Governorate\"].unique()"
      ],
      "metadata": {
        "colab": {
          "base_uri": "https://localhost:8080/"
        },
        "id": "e3AzXSE57T8C",
        "outputId": "6592dc64-7286-432a-a371-824086b0687d"
      },
      "execution_count": null,
      "outputs": [
        {
          "output_type": "execute_result",
          "data": {
            "text/plain": [
              "array(['assiut', 'cairo', 'aswan', 'red sea', 'south sinai', 'giza',\n",
              "       'sharqia', 'gharbia', 'alexandria', 'qalyubia', 'luxor',\n",
              "       'dakahlia'], dtype=object)"
            ]
          },
          "metadata": {},
          "execution_count": 414
        }
      ]
    },
    {
      "cell_type": "markdown",
      "source": [
        "#**Converted lat/long values from string to float, fixed decimal commas, flagged coordinates, and swapped the wrong latitude and longitude**"
      ],
      "metadata": {
        "id": "Rt9Td0cWC5wc"
      }
    },
    {
      "cell_type": "code",
      "source": [
        "SalesDf[['Latitude', 'Longitude']] = SalesDf[['Latitude', 'Longitude']].applymap(lambda x: float(str(x).replace(',', '.')) if pd.notna(x) else pd.NA)"
      ],
      "metadata": {
        "colab": {
          "base_uri": "https://localhost:8080/"
        },
        "id": "0KMnA8_wC6VT",
        "outputId": "bc384649-1e29-4a1f-87c0-32147dc72798"
      },
      "execution_count": null,
      "outputs": [
        {
          "output_type": "stream",
          "name": "stderr",
          "text": [
            "/tmp/ipython-input-3483825830.py:1: FutureWarning: DataFrame.applymap has been deprecated. Use DataFrame.map instead.\n",
            "  SalesDf[['Latitude', 'Longitude']] = SalesDf[['Latitude', 'Longitude']].applymap(lambda x: float(str(x).replace(',', '.')) if pd.notna(x) else pd.NA)\n"
          ]
        }
      ]
    },
    {
      "cell_type": "code",
      "source": [
        "SalesDf[['Latitude', 'Longitude']]"
      ],
      "metadata": {
        "colab": {
          "base_uri": "https://localhost:8080/",
          "height": 424
        },
        "id": "wtkFEZ3WEFE4",
        "outputId": "341ddeb9-828f-4f9b-8864-f06af4b51099"
      },
      "execution_count": null,
      "outputs": [
        {
          "output_type": "execute_result",
          "data": {
            "text/plain": [
              "      Latitude  Longitude\n",
              "0    31.183700  27.180000\n",
              "1    30.085855  31.231585\n",
              "2    27.217872  31.216867\n",
              "3          NaN        NaN\n",
              "4    27.293172  33.777343\n",
              "..         ...        ...\n",
              "145  28.543865  34.001116\n",
              "146  31.280000  30.420000\n",
              "147  31.019691  31.416599\n",
              "148  28.499424  33.979843\n",
              "149        NaN        NaN\n",
              "\n",
              "[150 rows x 2 columns]"
            ],
            "text/html": [
              "\n",
              "  <div id=\"df-cc4e6acd-0a05-48d3-941b-1d24c8e121e8\" class=\"colab-df-container\">\n",
              "    <div>\n",
              "<style scoped>\n",
              "    .dataframe tbody tr th:only-of-type {\n",
              "        vertical-align: middle;\n",
              "    }\n",
              "\n",
              "    .dataframe tbody tr th {\n",
              "        vertical-align: top;\n",
              "    }\n",
              "\n",
              "    .dataframe thead th {\n",
              "        text-align: right;\n",
              "    }\n",
              "</style>\n",
              "<table border=\"1\" class=\"dataframe\">\n",
              "  <thead>\n",
              "    <tr style=\"text-align: right;\">\n",
              "      <th></th>\n",
              "      <th>Latitude</th>\n",
              "      <th>Longitude</th>\n",
              "    </tr>\n",
              "  </thead>\n",
              "  <tbody>\n",
              "    <tr>\n",
              "      <th>0</th>\n",
              "      <td>31.183700</td>\n",
              "      <td>27.180000</td>\n",
              "    </tr>\n",
              "    <tr>\n",
              "      <th>1</th>\n",
              "      <td>30.085855</td>\n",
              "      <td>31.231585</td>\n",
              "    </tr>\n",
              "    <tr>\n",
              "      <th>2</th>\n",
              "      <td>27.217872</td>\n",
              "      <td>31.216867</td>\n",
              "    </tr>\n",
              "    <tr>\n",
              "      <th>3</th>\n",
              "      <td>NaN</td>\n",
              "      <td>NaN</td>\n",
              "    </tr>\n",
              "    <tr>\n",
              "      <th>4</th>\n",
              "      <td>27.293172</td>\n",
              "      <td>33.777343</td>\n",
              "    </tr>\n",
              "    <tr>\n",
              "      <th>...</th>\n",
              "      <td>...</td>\n",
              "      <td>...</td>\n",
              "    </tr>\n",
              "    <tr>\n",
              "      <th>145</th>\n",
              "      <td>28.543865</td>\n",
              "      <td>34.001116</td>\n",
              "    </tr>\n",
              "    <tr>\n",
              "      <th>146</th>\n",
              "      <td>31.280000</td>\n",
              "      <td>30.420000</td>\n",
              "    </tr>\n",
              "    <tr>\n",
              "      <th>147</th>\n",
              "      <td>31.019691</td>\n",
              "      <td>31.416599</td>\n",
              "    </tr>\n",
              "    <tr>\n",
              "      <th>148</th>\n",
              "      <td>28.499424</td>\n",
              "      <td>33.979843</td>\n",
              "    </tr>\n",
              "    <tr>\n",
              "      <th>149</th>\n",
              "      <td>NaN</td>\n",
              "      <td>NaN</td>\n",
              "    </tr>\n",
              "  </tbody>\n",
              "</table>\n",
              "<p>150 rows × 2 columns</p>\n",
              "</div>\n",
              "    <div class=\"colab-df-buttons\">\n",
              "\n",
              "  <div class=\"colab-df-container\">\n",
              "    <button class=\"colab-df-convert\" onclick=\"convertToInteractive('df-cc4e6acd-0a05-48d3-941b-1d24c8e121e8')\"\n",
              "            title=\"Convert this dataframe to an interactive table.\"\n",
              "            style=\"display:none;\">\n",
              "\n",
              "  <svg xmlns=\"http://www.w3.org/2000/svg\" height=\"24px\" viewBox=\"0 -960 960 960\">\n",
              "    <path d=\"M120-120v-720h720v720H120Zm60-500h600v-160H180v160Zm220 220h160v-160H400v160Zm0 220h160v-160H400v160ZM180-400h160v-160H180v160Zm440 0h160v-160H620v160ZM180-180h160v-160H180v160Zm440 0h160v-160H620v160Z\"/>\n",
              "  </svg>\n",
              "    </button>\n",
              "\n",
              "  <style>\n",
              "    .colab-df-container {\n",
              "      display:flex;\n",
              "      gap: 12px;\n",
              "    }\n",
              "\n",
              "    .colab-df-convert {\n",
              "      background-color: #E8F0FE;\n",
              "      border: none;\n",
              "      border-radius: 50%;\n",
              "      cursor: pointer;\n",
              "      display: none;\n",
              "      fill: #1967D2;\n",
              "      height: 32px;\n",
              "      padding: 0 0 0 0;\n",
              "      width: 32px;\n",
              "    }\n",
              "\n",
              "    .colab-df-convert:hover {\n",
              "      background-color: #E2EBFA;\n",
              "      box-shadow: 0px 1px 2px rgba(60, 64, 67, 0.3), 0px 1px 3px 1px rgba(60, 64, 67, 0.15);\n",
              "      fill: #174EA6;\n",
              "    }\n",
              "\n",
              "    .colab-df-buttons div {\n",
              "      margin-bottom: 4px;\n",
              "    }\n",
              "\n",
              "    [theme=dark] .colab-df-convert {\n",
              "      background-color: #3B4455;\n",
              "      fill: #D2E3FC;\n",
              "    }\n",
              "\n",
              "    [theme=dark] .colab-df-convert:hover {\n",
              "      background-color: #434B5C;\n",
              "      box-shadow: 0px 1px 3px 1px rgba(0, 0, 0, 0.15);\n",
              "      filter: drop-shadow(0px 1px 2px rgba(0, 0, 0, 0.3));\n",
              "      fill: #FFFFFF;\n",
              "    }\n",
              "  </style>\n",
              "\n",
              "    <script>\n",
              "      const buttonEl =\n",
              "        document.querySelector('#df-cc4e6acd-0a05-48d3-941b-1d24c8e121e8 button.colab-df-convert');\n",
              "      buttonEl.style.display =\n",
              "        google.colab.kernel.accessAllowed ? 'block' : 'none';\n",
              "\n",
              "      async function convertToInteractive(key) {\n",
              "        const element = document.querySelector('#df-cc4e6acd-0a05-48d3-941b-1d24c8e121e8');\n",
              "        const dataTable =\n",
              "          await google.colab.kernel.invokeFunction('convertToInteractive',\n",
              "                                                    [key], {});\n",
              "        if (!dataTable) return;\n",
              "\n",
              "        const docLinkHtml = 'Like what you see? Visit the ' +\n",
              "          '<a target=\"_blank\" href=https://colab.research.google.com/notebooks/data_table.ipynb>data table notebook</a>'\n",
              "          + ' to learn more about interactive tables.';\n",
              "        element.innerHTML = '';\n",
              "        dataTable['output_type'] = 'display_data';\n",
              "        await google.colab.output.renderOutput(dataTable, element);\n",
              "        const docLink = document.createElement('div');\n",
              "        docLink.innerHTML = docLinkHtml;\n",
              "        element.appendChild(docLink);\n",
              "      }\n",
              "    </script>\n",
              "  </div>\n",
              "\n",
              "\n",
              "    <div id=\"df-ca5ac180-03e1-4eea-b293-509e355c5562\">\n",
              "      <button class=\"colab-df-quickchart\" onclick=\"quickchart('df-ca5ac180-03e1-4eea-b293-509e355c5562')\"\n",
              "                title=\"Suggest charts\"\n",
              "                style=\"display:none;\">\n",
              "\n",
              "<svg xmlns=\"http://www.w3.org/2000/svg\" height=\"24px\"viewBox=\"0 0 24 24\"\n",
              "     width=\"24px\">\n",
              "    <g>\n",
              "        <path d=\"M19 3H5c-1.1 0-2 .9-2 2v14c0 1.1.9 2 2 2h14c1.1 0 2-.9 2-2V5c0-1.1-.9-2-2-2zM9 17H7v-7h2v7zm4 0h-2V7h2v10zm4 0h-2v-4h2v4z\"/>\n",
              "    </g>\n",
              "</svg>\n",
              "      </button>\n",
              "\n",
              "<style>\n",
              "  .colab-df-quickchart {\n",
              "      --bg-color: #E8F0FE;\n",
              "      --fill-color: #1967D2;\n",
              "      --hover-bg-color: #E2EBFA;\n",
              "      --hover-fill-color: #174EA6;\n",
              "      --disabled-fill-color: #AAA;\n",
              "      --disabled-bg-color: #DDD;\n",
              "  }\n",
              "\n",
              "  [theme=dark] .colab-df-quickchart {\n",
              "      --bg-color: #3B4455;\n",
              "      --fill-color: #D2E3FC;\n",
              "      --hover-bg-color: #434B5C;\n",
              "      --hover-fill-color: #FFFFFF;\n",
              "      --disabled-bg-color: #3B4455;\n",
              "      --disabled-fill-color: #666;\n",
              "  }\n",
              "\n",
              "  .colab-df-quickchart {\n",
              "    background-color: var(--bg-color);\n",
              "    border: none;\n",
              "    border-radius: 50%;\n",
              "    cursor: pointer;\n",
              "    display: none;\n",
              "    fill: var(--fill-color);\n",
              "    height: 32px;\n",
              "    padding: 0;\n",
              "    width: 32px;\n",
              "  }\n",
              "\n",
              "  .colab-df-quickchart:hover {\n",
              "    background-color: var(--hover-bg-color);\n",
              "    box-shadow: 0 1px 2px rgba(60, 64, 67, 0.3), 0 1px 3px 1px rgba(60, 64, 67, 0.15);\n",
              "    fill: var(--button-hover-fill-color);\n",
              "  }\n",
              "\n",
              "  .colab-df-quickchart-complete:disabled,\n",
              "  .colab-df-quickchart-complete:disabled:hover {\n",
              "    background-color: var(--disabled-bg-color);\n",
              "    fill: var(--disabled-fill-color);\n",
              "    box-shadow: none;\n",
              "  }\n",
              "\n",
              "  .colab-df-spinner {\n",
              "    border: 2px solid var(--fill-color);\n",
              "    border-color: transparent;\n",
              "    border-bottom-color: var(--fill-color);\n",
              "    animation:\n",
              "      spin 1s steps(1) infinite;\n",
              "  }\n",
              "\n",
              "  @keyframes spin {\n",
              "    0% {\n",
              "      border-color: transparent;\n",
              "      border-bottom-color: var(--fill-color);\n",
              "      border-left-color: var(--fill-color);\n",
              "    }\n",
              "    20% {\n",
              "      border-color: transparent;\n",
              "      border-left-color: var(--fill-color);\n",
              "      border-top-color: var(--fill-color);\n",
              "    }\n",
              "    30% {\n",
              "      border-color: transparent;\n",
              "      border-left-color: var(--fill-color);\n",
              "      border-top-color: var(--fill-color);\n",
              "      border-right-color: var(--fill-color);\n",
              "    }\n",
              "    40% {\n",
              "      border-color: transparent;\n",
              "      border-right-color: var(--fill-color);\n",
              "      border-top-color: var(--fill-color);\n",
              "    }\n",
              "    60% {\n",
              "      border-color: transparent;\n",
              "      border-right-color: var(--fill-color);\n",
              "    }\n",
              "    80% {\n",
              "      border-color: transparent;\n",
              "      border-right-color: var(--fill-color);\n",
              "      border-bottom-color: var(--fill-color);\n",
              "    }\n",
              "    90% {\n",
              "      border-color: transparent;\n",
              "      border-bottom-color: var(--fill-color);\n",
              "    }\n",
              "  }\n",
              "</style>\n",
              "\n",
              "      <script>\n",
              "        async function quickchart(key) {\n",
              "          const quickchartButtonEl =\n",
              "            document.querySelector('#' + key + ' button');\n",
              "          quickchartButtonEl.disabled = true;  // To prevent multiple clicks.\n",
              "          quickchartButtonEl.classList.add('colab-df-spinner');\n",
              "          try {\n",
              "            const charts = await google.colab.kernel.invokeFunction(\n",
              "                'suggestCharts', [key], {});\n",
              "          } catch (error) {\n",
              "            console.error('Error during call to suggestCharts:', error);\n",
              "          }\n",
              "          quickchartButtonEl.classList.remove('colab-df-spinner');\n",
              "          quickchartButtonEl.classList.add('colab-df-quickchart-complete');\n",
              "        }\n",
              "        (() => {\n",
              "          let quickchartButtonEl =\n",
              "            document.querySelector('#df-ca5ac180-03e1-4eea-b293-509e355c5562 button');\n",
              "          quickchartButtonEl.style.display =\n",
              "            google.colab.kernel.accessAllowed ? 'block' : 'none';\n",
              "        })();\n",
              "      </script>\n",
              "    </div>\n",
              "\n",
              "    </div>\n",
              "  </div>\n"
            ],
            "application/vnd.google.colaboratory.intrinsic+json": {
              "type": "dataframe",
              "summary": "{\n  \"name\": \"SalesDf[['Latitude', 'Longitude']]\",\n  \"rows\": 150,\n  \"fields\": [\n    {\n      \"column\": \"Latitude\",\n      \"properties\": {\n        \"dtype\": \"number\",\n        \"std\": 13.081357517487117,\n        \"min\": 24.04732809232843,\n        \"max\": 97.21580416941458,\n        \"num_unique_values\": 114,\n        \"samples\": [\n          27.16156886246932,\n          27.27966121871388,\n          30.8686\n        ],\n        \"semantic_type\": \"\",\n        \"description\": \"\"\n      }\n    },\n    {\n      \"column\": \"Longitude\",\n      \"properties\": {\n        \"dtype\": \"number\",\n        \"std\": 14.912032666997986,\n        \"min\": 24.0889,\n        \"max\": 110.3217755285737,\n        \"num_unique_values\": 114,\n        \"samples\": [\n          31.18672534228778,\n          33.78195973123275,\n          31.1829\n        ],\n        \"semantic_type\": \"\",\n        \"description\": \"\"\n      }\n    }\n  ]\n}"
            }
          },
          "metadata": {},
          "execution_count": 416
        }
      ]
    },
    {
      "cell_type": "code",
      "source": [
        "SalesDf['LatLong_Swapped'] = ~SalesDf.apply(lambda row: -90 <= row['Latitude'] <= 90 and -180 <= row['Longitude'] <= 180, axis=1)"
      ],
      "metadata": {
        "id": "3qb9PTkkEVWD"
      },
      "execution_count": null,
      "outputs": []
    },
    {
      "cell_type": "code",
      "source": [
        "SalesDf['LatLong_Swapped'].value_counts()"
      ],
      "metadata": {
        "colab": {
          "base_uri": "https://localhost:8080/",
          "height": 178
        },
        "id": "Bg825lyIEWn3",
        "outputId": "1a3e45de-4eff-4ad1-cffe-d8c7638f805a"
      },
      "execution_count": null,
      "outputs": [
        {
          "output_type": "execute_result",
          "data": {
            "text/plain": [
              "LatLong_Swapped\n",
              "False    127\n",
              "True      23\n",
              "Name: count, dtype: int64"
            ],
            "text/html": [
              "<div>\n",
              "<style scoped>\n",
              "    .dataframe tbody tr th:only-of-type {\n",
              "        vertical-align: middle;\n",
              "    }\n",
              "\n",
              "    .dataframe tbody tr th {\n",
              "        vertical-align: top;\n",
              "    }\n",
              "\n",
              "    .dataframe thead th {\n",
              "        text-align: right;\n",
              "    }\n",
              "</style>\n",
              "<table border=\"1\" class=\"dataframe\">\n",
              "  <thead>\n",
              "    <tr style=\"text-align: right;\">\n",
              "      <th></th>\n",
              "      <th>count</th>\n",
              "    </tr>\n",
              "    <tr>\n",
              "      <th>LatLong_Swapped</th>\n",
              "      <th></th>\n",
              "    </tr>\n",
              "  </thead>\n",
              "  <tbody>\n",
              "    <tr>\n",
              "      <th>False</th>\n",
              "      <td>127</td>\n",
              "    </tr>\n",
              "    <tr>\n",
              "      <th>True</th>\n",
              "      <td>23</td>\n",
              "    </tr>\n",
              "  </tbody>\n",
              "</table>\n",
              "</div><br><label><b>dtype:</b> int64</label>"
            ]
          },
          "metadata": {},
          "execution_count": 418
        }
      ]
    },
    {
      "cell_type": "code",
      "source": [
        "SalesDf.loc[SalesDf['LatLong_Swapped'], ['Latitude', 'Longitude']] = SalesDf.loc[SalesDf['LatLong_Swapped'], ['Longitude', 'Latitude']].values"
      ],
      "metadata": {
        "id": "3tTi1noJEeAm"
      },
      "execution_count": null,
      "outputs": []
    },
    {
      "cell_type": "markdown",
      "source": [
        "#**Invalid or partial Email**"
      ],
      "metadata": {
        "id": "n9noh1p1_OtP"
      }
    },
    {
      "cell_type": "markdown",
      "source": [],
      "metadata": {
        "id": "2svYKtJM_Op0"
      }
    },
    {
      "cell_type": "code",
      "source": [
        "SalesDf[\"Email\"].unique()"
      ],
      "metadata": {
        "colab": {
          "base_uri": "https://localhost:8080/"
        },
        "id": "RWHVuytb7XLP",
        "outputId": "c5febd2f-cbcc-4de6-9992-2749540afebd"
      },
      "execution_count": null,
      "outputs": [
        {
          "output_type": "execute_result",
          "data": {
            "text/plain": [
              "array(['mohamed.mahmoud@gmail', 'سارة.إبراهyمexample.com', 'nan',\n",
              "       'aحمد.محمود@gmail.com', 'yوسف.راشد@example.com',\n",
              "       'سارة.إبراهyم@gmail.com', 'aحمد.محمودexample.com',\n",
              "       'alaa.mahmoud@gmail.com', 'كرyم.علy@gmail', 'dina.hassan@gmail',\n",
              "       'youssef.rashid@gmail', 'نور.فتحyexample.com',\n",
              "       'محمد.فتحy@example.com', 'ahmed.fathy@gmail.com',\n",
              "       'محمد.محمود@gmail', 'sara.mahmoud@gmail.com',\n",
              "       'هانy.راشد@gmail.com', 'هانy.علyexample.com',\n",
              "       'mona.nasr@example.com', 'nour.fathy@gmail', 'mona.ibrahim@gmail',\n",
              "       'منy.إبراهyم@gmail', 'yوسف.حسن@gmail', 'دyنا.محمود@example.com',\n",
              "       'sara.faroukexample.com', 'yوسف.نصرexample.com',\n",
              "       'علاء.فاروقexample.com', 'كرyم.حسن@gmail.com',\n",
              "       'alaa.faroukexample.com', 'nour.mahmoud@gmail.com',\n",
              "       'منy.علy@gmail', 'ahmed.ibrahim@example.com',\n",
              "       'علاء.حسنexample.com', 'alaa.nasr@example.com', 'منy.محمود@gmail',\n",
              "       'hany.ibrahimexample.com', 'نور.فاروق@gmail.com',\n",
              "       'mohamed.nasrexample.com', 'علاء.إبراهyم@example.com',\n",
              "       'nour.hassan@gmail', 'hany.aliexample.com',\n",
              "       'alaa.hassan@gmail.com', 'mona.hassanexample.com',\n",
              "       'hany.fathy@example.com', 'yوسف.علy@example.com', 'aحمد.نصر@gmail',\n",
              "       'mohamed.rashid@gmail.com', 'dina.ibrahim@gmail.com',\n",
              "       'ahmed.mahmoudexample.com', 'ahmed.ali@gmail',\n",
              "       'mona.fathy@example.com', 'نور.راشدexample.com',\n",
              "       'كرyم.إبراهyمexample.com', 'نور.راشد@gmail.com',\n",
              "       'علاء.حسن@example.com', 'ahmed.aliexample.com',\n",
              "       'dina.fathy@gmail.com', 'علاء.علy@gmail.com',\n",
              "       'nour.ali@example.com', 'mona.hassan@gmail.com',\n",
              "       'yوسف.نصر@example.com', 'mona.fathy@gmail.com',\n",
              "       'محمد.حسنexample.com', 'نور.محمود@gmail', 'mona.ali@gmail.com',\n",
              "       'nour.faroukexample.com', 'هانy.نصرexample.com',\n",
              "       'محمد.محمود@example.com', 'كرyم.علy@example.com', 'aحمد.حسن@gmail',\n",
              "       'aحمد.إبراهyم@gmail.com', 'منy.راشد@example.com',\n",
              "       'سارة.علyexample.com', 'yوسف.علy@gmail', 'mohamed.ali@example.com',\n",
              "       'منy.علy@gmail.com', 'كرyم.فتحy@example.com',\n",
              "       'mona.nasr@gmail.com', 'karim.ibrahim@example.com',\n",
              "       'aحمد.فتحyexample.com', 'dina.fathyexample.com',\n",
              "       'karim.mahmoudexample.com', 'hany.hassanexample.com',\n",
              "       'هانy.فاروقexample.com', 'منy.فاروقexample.com',\n",
              "       'karim.ali@gmail.com', 'هانy.فتحyexample.com', 'sara.farouk@gmail',\n",
              "       'alaa.fathy@gmail.com', 'dina.aliexample.com',\n",
              "       'mohamed.nasr@example.com', 'mohamed.mahmoudexample.com',\n",
              "       'نور.نصرexample.com', 'aحمد.راشد@gmail.com',\n",
              "       'mona.fathyexample.com', 'nour.fathy@gmail.com',\n",
              "       'ahmed.hassan@gmail', 'علاء.فاروق@example.com',\n",
              "       'منy.راشدexample.com', 'كرyم.نصر@example.com',\n",
              "       'aحمد.إبراهyم@gmail', 'ahmed.hassan@example.com',\n",
              "       'aحمد.فاروق@gmail', 'mohamed.ibrahim@gmail',\n",
              "       'nour.farouk@example.com', 'mona.mahmoud@gmail.com',\n",
              "       'yوسف.فتحy@gmail', 'ahmed.mahmoud@gmail.com', 'منy.راشد@gmail.com',\n",
              "       'alaa.mahmoud@example.com'], dtype=object)"
            ]
          },
          "metadata": {},
          "execution_count": 420
        }
      ]
    },
    {
      "cell_type": "markdown",
      "source": [
        "#**Function For Adjusting Email Formate**"
      ],
      "metadata": {
        "id": "b21I9xL3AQKw"
      }
    },
    {
      "cell_type": "code",
      "source": [
        "from email_validator import validate_email, EmailNotValidError\n",
        "from deep_translator import GoogleTranslator\n",
        "\n",
        "def smart_email_cleaner(email):\n",
        "    if not isinstance(email, str):\n",
        "        return None\n",
        "\n",
        "    email = email.strip()\n",
        "\n",
        "    # Fix common typos\n",
        "    if 'example.com' in email and '@' not in email:\n",
        "        email = email.replace('example.com', '@example.com')\n",
        "    if 'gmail' in email and '@' not in email:\n",
        "        email = email.replace('gmail', '@gmail.com')\n",
        "\n",
        "    # Translate only the name part\n",
        "    parts = email.split('@')\n",
        "    if len(parts) == 2:\n",
        "        local, domain = parts\n",
        "        try:\n",
        "            local_translated = GoogleTranslator(source='auto', target='en').translate(local)\n",
        "            email = f\"{local_translated}@{domain}\"\n",
        "        except:\n",
        "            pass  # If translation fails, keep original\n",
        "\n",
        "    # Validate\n",
        "    try:\n",
        "        return validate_email(email, check_deliverability=False).email\n",
        "    except EmailNotValidError:\n",
        "        return email  # Keep original if invalid"
      ],
      "metadata": {
        "id": "c4W_wvfsAPKs"
      },
      "execution_count": null,
      "outputs": []
    },
    {
      "cell_type": "markdown",
      "source": [
        "**Applying to DF**"
      ],
      "metadata": {
        "id": "RxZtLffXAOw7"
      }
    },
    {
      "cell_type": "code",
      "source": [
        "SalesDf['Email_Cleaned'] = SalesDf['Email'].apply(smart_email_cleaner)"
      ],
      "metadata": {
        "id": "sKFuGFrfA_jI"
      },
      "execution_count": null,
      "outputs": []
    },
    {
      "cell_type": "code",
      "source": [
        "SalesDf[\"Email_Cleaned\"].unique()"
      ],
      "metadata": {
        "colab": {
          "base_uri": "https://localhost:8080/"
        },
        "id": "r3HFxiOVBAF-",
        "outputId": "12d3b0a9-aaff-4e81-b9f4-5c1101c43de0"
      },
      "execution_count": null,
      "outputs": [
        {
          "output_type": "execute_result",
          "data": {
            "text/plain": [
              "array(['mohamed. mahmoud@gmail', 'Sarah. Ibrahim@example.com', 'nan',\n",
              "       'Ahmed. Mahmoud@gmail.com', 'Youssef Rashid@example.com',\n",
              "       'Sarah. Ibrahim@gmail.com', 'Ahmed. Mahmoud@example.com',\n",
              "       'alaa. mahmoud@gmail.com', 'Thank you@gmail', 'dina. hassan@gmail',\n",
              "       'youssef.rashid@gmail', 'Light. Fathy@example.com',\n",
              "       'Muhammad.Fathy@example.com', 'ahmed.fathy@gmail.com',\n",
              "       'Muhammad. Mahmoud@gmail', 'sara.mahmoud@gmail.com',\n",
              "       'Hany.Rashed@gmail.com', 'Hany. Aliy@example.com',\n",
              "       'mona.nasr@example.com', 'nour.fathy@gmail', 'mona.ibrahim@gmail',\n",
              "       'From Y. Ibrahim@gmail', 'Yousef. Hasan@gmail',\n",
              "       'Dr. Na Mahmoud@example.com', 'sara.farouk@example.com',\n",
              "       'Youssef Nasr@example.com', 'Alaa Farouk@example.com',\n",
              "       'Generous. Hassan@gmail.com', 'alaa. farouk@example.com',\n",
              "       'nour.mahmoud@gmail.com', 'My.Aly@gmail',\n",
              "       'ahmed.ibrahim@example.com', 'Alaa. Hassan@example.com',\n",
              "       'alaa.nasr@example.com', 'My. Mahmoud@gmail',\n",
              "       'only. ibrahim@example.com', 'Nour Farouk@gmail.com',\n",
              "       'mohamed.nasr@example.com', 'Alaa. Ibrahim@example.com',\n",
              "       'nour.hassan@gmail', 'only.ali@example.com',\n",
              "       'alaa. hassan@gmail.com', 'mona. hassan@example.com',\n",
              "       'only. fathy@example.com', 'yusf. Ali@example.com',\n",
              "       'Ahmed Nasr@gmail', 'mohamed. rashid@gmail.com',\n",
              "       'in. ibrahim@gmail.com', 'ahmed.mahmoud@example.com',\n",
              "       'ahmed.ali@gmail', 'mona.fathy@example.com',\n",
              "       'Nour Rashid@example.com', 'Ibrahim@example.com',\n",
              "       'Nour Rashid@gmail.com', 'ahmed.ali@example.com',\n",
              "       'dina.fathy@gmail.com', 'Alaa. Ali@gmail.com',\n",
              "       'nour.ali@example.com', 'mona. hassan@gmail.com',\n",
              "       'mona.fathy@gmail.com', 'Muhammad Hassan@example.com',\n",
              "       'Nour. Mahmoud@gmail', 'mona.ali@gmail.com',\n",
              "       'nour.farouk@example.com', 'Hany. Nasr@example.com',\n",
              "       'Muhammad. Mahmoud@example.com', 'Thank you@example.com',\n",
              "       'Ahmed.Hassan@gmail', 'Ahmed.Ibrahim@gmail.com',\n",
              "       'My. Rashed@example.com', 'Sarah. Ali@example.com',\n",
              "       'yusf. Ali@gmail', 'mohamed.ali@example.com', 'My.Aly@gmail.com',\n",
              "       'Crym.openy@example.com', 'mona.nasr@gmail.com',\n",
              "       'karim. ibrahim@example.com', 'Ahmed.Fathy@example.com',\n",
              "       'dina.fathy@example.com', 'karim.mahmoud@example.com',\n",
              "       'only. hassan@example.com', 'Hany Farouk@example.com',\n",
              "       'From Y. Farouk@example.com', 'karim.ali@gmail.com',\n",
              "       'Hany.openy@example.com', 'sara.farouk@gmail',\n",
              "       'Alaa. fathy@gmail.com', 'dina.ali@example.com',\n",
              "       'mohamed. mahmoud@example.com', 'Light. Victory@example.com',\n",
              "       'Ahmed Rashid@gmail.com', 'nour.fathy@gmail.com',\n",
              "       'ahmed. hassan@gmail', 'Karim Nasr@example.com',\n",
              "       'Ahmed.Ibrahim@gmail', 'ahmed. hassan@example.com',\n",
              "       'Ahmed Farouk@gmail', 'mohamed. ibrahim@gmail',\n",
              "       'mona.mahmoud@gmail.com', 'Yosef. Fathy@gmail',\n",
              "       'ahmed.mahmoud@gmail.com', 'My. Rashed@gmail.com',\n",
              "       'alaa. mahmoud@example.com'], dtype=object)"
            ]
          },
          "metadata": {},
          "execution_count": 423
        }
      ]
    },
    {
      "cell_type": "code",
      "source": [
        "#SalesDf['Email_Cleaned'] = SalesDf['Email_Cleaned'].apply(\n",
        "#    lambda x: str(x).replace(' ', '').strip().lower() if isinstance(x, str) else x\n",
        "#)"
      ],
      "metadata": {
        "id": "z0l9D0EqBK1f"
      },
      "execution_count": null,
      "outputs": []
    },
    {
      "cell_type": "code",
      "source": [
        "SalesDf['Email_Cleaned'] = SalesDf['Email_Cleaned'].apply(lambda x: (str(x).replace(' ', '').lower() + '.com') if isinstance(x, str) and '@' in x and '.com' not in x else str(x).replace(' ', '').lower() if isinstance(x, str) else x)"
      ],
      "metadata": {
        "id": "GqEHJA9KDkba"
      },
      "execution_count": null,
      "outputs": []
    },
    {
      "cell_type": "code",
      "source": [
        "SalesDf[\"Email\"]=SalesDf[\"Email_Cleaned\"]"
      ],
      "metadata": {
        "id": "7LkzFrrYQHA0"
      },
      "execution_count": null,
      "outputs": []
    },
    {
      "cell_type": "markdown",
      "source": [
        "#**ALL the Emails Are Consistant and Valide**"
      ],
      "metadata": {
        "id": "BH7D5BFKD-Ot"
      }
    },
    {
      "cell_type": "code",
      "source": [
        "SalesDf[\"Email_Cleaned\"].unique()"
      ],
      "metadata": {
        "colab": {
          "base_uri": "https://localhost:8080/"
        },
        "id": "nqUF_AIYCzHW",
        "outputId": "f3b6fb5f-bf28-4110-b17e-429dfccb4c9f"
      },
      "execution_count": null,
      "outputs": [
        {
          "output_type": "execute_result",
          "data": {
            "text/plain": [
              "array(['mohamed.mahmoud@gmail.com', 'sarah.ibrahim@example.com', 'nan',\n",
              "       'ahmed.mahmoud@gmail.com', 'youssefrashid@example.com',\n",
              "       'sarah.ibrahim@gmail.com', 'ahmed.mahmoud@example.com',\n",
              "       'alaa.mahmoud@gmail.com', 'thankyou@gmail.com',\n",
              "       'dina.hassan@gmail.com', 'youssef.rashid@gmail.com',\n",
              "       'light.fathy@example.com', 'muhammad.fathy@example.com',\n",
              "       'ahmed.fathy@gmail.com', 'muhammad.mahmoud@gmail.com',\n",
              "       'sara.mahmoud@gmail.com', 'hany.rashed@gmail.com',\n",
              "       'hany.aliy@example.com', 'mona.nasr@example.com',\n",
              "       'nour.fathy@gmail.com', 'mona.ibrahim@gmail.com',\n",
              "       'fromy.ibrahim@gmail.com', 'yousef.hasan@gmail.com',\n",
              "       'dr.namahmoud@example.com', 'sara.farouk@example.com',\n",
              "       'youssefnasr@example.com', 'alaafarouk@example.com',\n",
              "       'generous.hassan@gmail.com', 'alaa.farouk@example.com',\n",
              "       'nour.mahmoud@gmail.com', 'my.aly@gmail.com',\n",
              "       'ahmed.ibrahim@example.com', 'alaa.hassan@example.com',\n",
              "       'alaa.nasr@example.com', 'my.mahmoud@gmail.com',\n",
              "       'only.ibrahim@example.com', 'nourfarouk@gmail.com',\n",
              "       'mohamed.nasr@example.com', 'alaa.ibrahim@example.com',\n",
              "       'nour.hassan@gmail.com', 'only.ali@example.com',\n",
              "       'alaa.hassan@gmail.com', 'mona.hassan@example.com',\n",
              "       'only.fathy@example.com', 'yusf.ali@example.com',\n",
              "       'ahmednasr@gmail.com', 'mohamed.rashid@gmail.com',\n",
              "       'in.ibrahim@gmail.com', 'ahmed.ali@gmail.com',\n",
              "       'mona.fathy@example.com', 'nourrashid@example.com',\n",
              "       'ibrahim@example.com', 'nourrashid@gmail.com',\n",
              "       'ahmed.ali@example.com', 'dina.fathy@gmail.com',\n",
              "       'alaa.ali@gmail.com', 'nour.ali@example.com',\n",
              "       'mona.hassan@gmail.com', 'mona.fathy@gmail.com',\n",
              "       'muhammadhassan@example.com', 'mona.ali@gmail.com',\n",
              "       'nour.farouk@example.com', 'hany.nasr@example.com',\n",
              "       'muhammad.mahmoud@example.com', 'thankyou@example.com',\n",
              "       'ahmed.hassan@gmail.com', 'ahmed.ibrahim@gmail.com',\n",
              "       'my.rashed@example.com', 'sarah.ali@example.com',\n",
              "       'yusf.ali@gmail.com', 'mohamed.ali@example.com',\n",
              "       'crym.openy@example.com', 'mona.nasr@gmail.com',\n",
              "       'karim.ibrahim@example.com', 'ahmed.fathy@example.com',\n",
              "       'dina.fathy@example.com', 'karim.mahmoud@example.com',\n",
              "       'only.hassan@example.com', 'hanyfarouk@example.com',\n",
              "       'fromy.farouk@example.com', 'karim.ali@gmail.com',\n",
              "       'hany.openy@example.com', 'sara.farouk@gmail.com',\n",
              "       'alaa.fathy@gmail.com', 'dina.ali@example.com',\n",
              "       'mohamed.mahmoud@example.com', 'light.victory@example.com',\n",
              "       'ahmedrashid@gmail.com', 'karimnasr@example.com',\n",
              "       'ahmed.hassan@example.com', 'ahmedfarouk@gmail.com',\n",
              "       'mohamed.ibrahim@gmail.com', 'mona.mahmoud@gmail.com',\n",
              "       'yosef.fathy@gmail.com', 'my.rashed@gmail.com',\n",
              "       'alaa.mahmoud@example.com'], dtype=object)"
            ]
          },
          "metadata": {},
          "execution_count": 427
        }
      ]
    },
    {
      "cell_type": "markdown",
      "source": [
        "#**Product/Category typos (e.g., “Electrnics”, “إلكترونيات”), SKU format variants/missing**"
      ],
      "metadata": {
        "id": "u0qfKBe8EJoM"
      }
    },
    {
      "cell_type": "code",
      "source": [
        "SalesDf[\"ProductName\"].unique()"
      ],
      "metadata": {
        "colab": {
          "base_uri": "https://localhost:8080/"
        },
        "id": "92ayvjqqC1DV",
        "outputId": "abf08295-4e88-4aec-98f1-ad64eb68fd84"
      },
      "execution_count": null,
      "outputs": [
        {
          "output_type": "execute_result",
          "data": {
            "text/plain": [
              "array(['data warehousing 101', 'men t-shirt - تيشيرت',\n",
              "       'air fryer 4l - قلاية', 'bluetooth سماعة',\n",
              "       'puzzle 1000pcs - أحجية', 'organic زيت زيتون 1l',\n",
              "       'laptop i7 16gb - لابتوب', 'smartphone a55 - هاتف',\n",
              "       'football - كرة قدم', 'electric kettle - غلاية',\n",
              "       'smartphone a55 - تليفون', 'labtop i7 16gb - لابتوب'], dtype=object)"
            ]
          },
          "metadata": {},
          "execution_count": 428
        }
      ]
    },
    {
      "cell_type": "code",
      "source": [
        "SalesDf[\"Category\"].unique()"
      ],
      "metadata": {
        "colab": {
          "base_uri": "https://localhost:8080/"
        },
        "id": "Bj3rWzhWE5yg",
        "outputId": "6cbc3332-d324-4fa2-940a-9245ef2510d2"
      },
      "execution_count": null,
      "outputs": [
        {
          "output_type": "execute_result",
          "data": {
            "text/plain": [
              "array(['books', 'fashion', 'home', 'electronics', 'toys', 'grocery',\n",
              "       'electrnics', 'sports', 'إلكترونيات'], dtype=object)"
            ]
          },
          "metadata": {},
          "execution_count": 429
        }
      ]
    },
    {
      "cell_type": "code",
      "source": [
        "SalesDf['Category'] = SalesDf['Category'].apply(\n",
        "    lambda x: 'electronics' if str(x).lower().strip() in ['electrnics', 'إلكترونيات', 'electronics'] else str(x).lower().strip()\n",
        ")"
      ],
      "metadata": {
        "id": "CswtcvNlIiM1"
      },
      "execution_count": null,
      "outputs": []
    },
    {
      "cell_type": "code",
      "source": [
        "SalesDf[\"Category\"].unique()"
      ],
      "metadata": {
        "colab": {
          "base_uri": "https://localhost:8080/"
        },
        "id": "Aq9w9gOKJNwx",
        "outputId": "bf3119d2-a534-46c4-df30-a00d5590f8e5"
      },
      "execution_count": null,
      "outputs": [
        {
          "output_type": "execute_result",
          "data": {
            "text/plain": [
              "array(['books', 'fashion', 'home', 'electronics', 'toys', 'grocery',\n",
              "       'sports'], dtype=object)"
            ]
          },
          "metadata": {},
          "execution_count": 431
        }
      ]
    },
    {
      "cell_type": "markdown",
      "source": [
        "# **Standardize and Impute ProductSKU Values Based on ProductName**"
      ],
      "metadata": {
        "id": "-X_cPeVsLKR7"
      }
    },
    {
      "cell_type": "code",
      "source": [
        "SalesDf['ProductSKU'].unique()"
      ],
      "metadata": {
        "colab": {
          "base_uri": "https://localhost:8080/"
        },
        "id": "w7FxEYRbJP_5",
        "outputId": "868e96fe-54f9-42ef-ed21-f35244f6da00"
      },
      "execution_count": null,
      "outputs": [
        {
          "output_type": "execute_result",
          "data": {
            "text/plain": [
              "array(['book-900', 'fash-210', 'book900', 'home-102', 'nan', 'elec003',\n",
              "       'toy-777', 'elec-001', 'elec-002', 'elec-003', 'fash210',\n",
              "       'sprt301', 'home-101', 'toy777', 'home101', 'sprt-301', 'groc-501',\n",
              "       'elec002', 'groc501', 'elec001', 'home102'], dtype=object)"
            ]
          },
          "metadata": {},
          "execution_count": 432
        }
      ]
    },
    {
      "cell_type": "markdown",
      "source": [
        "**35 NULL entry in form of string**"
      ],
      "metadata": {
        "id": "uF2nMDsFLZJm"
      }
    },
    {
      "cell_type": "code",
      "source": [
        "SalesDf['ProductSKU'].apply(lambda x: str(x).lower().strip() == 'nan').sum()\n"
      ],
      "metadata": {
        "colab": {
          "base_uri": "https://localhost:8080/"
        },
        "id": "sJbQ1s89JaMy",
        "outputId": "2f67be48-5719-4c0e-d8d4-59e55be3c09c"
      },
      "execution_count": null,
      "outputs": [
        {
          "output_type": "execute_result",
          "data": {
            "text/plain": [
              "np.int64(35)"
            ]
          },
          "metadata": {},
          "execution_count": 433
        }
      ]
    },
    {
      "cell_type": "code",
      "source": [
        "SalesDf['ProductSKU'].apply(lambda x: x == 'book-900').sum()\n"
      ],
      "metadata": {
        "colab": {
          "base_uri": "https://localhost:8080/"
        },
        "id": "PRkJOJBZKHtY",
        "outputId": "9395b2e3-193d-4b72-bfb9-d7410189dc39"
      },
      "execution_count": null,
      "outputs": [
        {
          "output_type": "execute_result",
          "data": {
            "text/plain": [
              "np.int64(9)"
            ]
          },
          "metadata": {},
          "execution_count": 434
        }
      ]
    },
    {
      "cell_type": "markdown",
      "source": [
        "#**Standardization**\n",
        "\n",
        "---\n",
        "\n",
        "\n"
      ],
      "metadata": {
        "id": "XkzURIFbLfZS"
      }
    },
    {
      "cell_type": "code",
      "source": [
        "SalesDf['ProductSKU'] = SalesDf['ProductSKU'].apply(lambda x: str(x).replace('-', '').strip().lower() if pd.notna(x) else x)"
      ],
      "metadata": {
        "id": "Je-wYMB5LYEE"
      },
      "execution_count": null,
      "outputs": []
    },
    {
      "cell_type": "code",
      "source": [
        "SalesDf['ProductSKU'].unique()"
      ],
      "metadata": {
        "colab": {
          "base_uri": "https://localhost:8080/"
        },
        "id": "3I9oKhtoLrbo",
        "outputId": "e11421c2-5b72-459d-e569-b798e8078035"
      },
      "execution_count": null,
      "outputs": [
        {
          "output_type": "execute_result",
          "data": {
            "text/plain": [
              "array(['book900', 'fash210', 'home102', 'nan', 'elec003', 'toy777',\n",
              "       'elec001', 'elec002', 'sprt301', 'home101', 'groc501'],\n",
              "      dtype=object)"
            ]
          },
          "metadata": {},
          "execution_count": 436
        }
      ]
    },
    {
      "cell_type": "markdown",
      "source": [
        "**NULLS**\n",
        "appears to have 0 nulls because they are strings 'nan' but the 'nan' appears in the .unique as entry in the column"
      ],
      "metadata": {
        "id": "W5WMJMvgLvlC"
      }
    },
    {
      "cell_type": "code",
      "source": [
        "SalesDf['ProductSKU'] = SalesDf.groupby('ProductName')['ProductSKU'].transform(\n",
        "    lambda group: group.replace('nan', np.nan).fillna(method='ffill').fillna(method='bfill')\n",
        ")"
      ],
      "metadata": {
        "colab": {
          "base_uri": "https://localhost:8080/"
        },
        "id": "QxuuFmrSLuV3",
        "outputId": "dd89ae97-26c7-4496-eec0-aa826ce7e3b5"
      },
      "execution_count": null,
      "outputs": [
        {
          "output_type": "stream",
          "name": "stderr",
          "text": [
            "/tmp/ipython-input-1409685333.py:2: FutureWarning: Series.fillna with 'method' is deprecated and will raise in a future version. Use obj.ffill() or obj.bfill() instead.\n",
            "  lambda group: group.replace('nan', np.nan).fillna(method='ffill').fillna(method='bfill')\n"
          ]
        }
      ]
    },
    {
      "cell_type": "code",
      "source": [
        "SalesDf['ProductSKU'].unique()"
      ],
      "metadata": {
        "colab": {
          "base_uri": "https://localhost:8080/"
        },
        "id": "hTw0mSp1L4FO",
        "outputId": "252ff5f0-a248-4879-8a62-f035eadf254e"
      },
      "execution_count": null,
      "outputs": [
        {
          "output_type": "execute_result",
          "data": {
            "text/plain": [
              "array(['book900', 'fash210', 'home102', 'elec003', 'toy777', 'groc501',\n",
              "       'elec001', 'elec002', 'sprt301', 'home101'], dtype=object)"
            ]
          },
          "metadata": {},
          "execution_count": 438
        }
      ]
    },
    {
      "cell_type": "markdown",
      "source": [
        "# **ProductSKU have no issues left**"
      ],
      "metadata": {
        "id": "mB2KHEr2NEiz"
      }
    },
    {
      "cell_type": "markdown",
      "source": [
        "# **Currency**"
      ],
      "metadata": {
        "id": "rY-1ChntVY09"
      }
    },
    {
      "cell_type": "code",
      "source": [
        "SalesDf['Currency'].unique()"
      ],
      "metadata": {
        "colab": {
          "base_uri": "https://localhost:8080/"
        },
        "id": "l3xM6SJzVXu2",
        "outputId": "791592d9-8e43-4c88-d7eb-66a44b92b49b"
      },
      "execution_count": null,
      "outputs": [
        {
          "output_type": "execute_result",
          "data": {
            "text/plain": [
              "array(['ج.م', 'egp', 'e£ 35564.57', 'e£', 'usd', 'usd 10930.9',\n",
              "       'usd 1034.18', 'ج.م 67637.94', 'usd 1293.05', 'e£ 41982.116',\n",
              "       'usd 51507.984000000004', 'egp 145935.24', 'e£ 1998.65',\n",
              "       'e£ 95373.45', 'e£ 61003.33', 'usd 71287.912', 'usd 87.46',\n",
              "       'e£ 38326.83', 'e£ 75509.0685', 'egp 98410.32', 'egp 7171.444',\n",
              "       'ج.م 106755.28', 'ج.م 123945.77', 'egp 24877.57', 'egp 22540.86',\n",
              "       'ج.م 10966.19', 'egp 56905.87', 'ج.م 115228.22999999998',\n",
              "       'egp 163839.511', 'e£ 78208.7', 'ج.م 91116.16', 'egp 113751.165',\n",
              "       'e£ 58102.682', 'ج.م 226644.3', 'ج.م 100.0', 'usd 255.61',\n",
              "       'ج.م 103629.55', 'usd 51.79', 'e£ 17146.47', 'ج.م 40907.34',\n",
              "       'ج.م 19213.17', 'egp 32678.7', 'ج.م 62899.26', 'egp 19878.56',\n",
              "       'egp 8489.664', 'usd 941.31', 'usd 193036.37999999998',\n",
              "       'egp 135644.08', 'usd 180172.4', 'egp 72897.65',\n",
              "       'ج.م 114421.26400000001', 'e£ 27938.9', 'e£ 60411.76',\n",
              "       'usd 10196.858', 'usd 1300.99', 'e£ 115758.61'], dtype=object)"
            ]
          },
          "metadata": {},
          "execution_count": 439
        }
      ]
    },
    {
      "cell_type": "code",
      "source": [],
      "metadata": {
        "id": "76_W8SAyVXrb"
      },
      "execution_count": null,
      "outputs": []
    },
    {
      "cell_type": "code",
      "source": [],
      "metadata": {
        "id": "knfEzWqGVXkW"
      },
      "execution_count": null,
      "outputs": []
    },
    {
      "cell_type": "markdown",
      "source": [],
      "metadata": {
        "id": "QXlb8vuDVXVc"
      }
    },
    {
      "cell_type": "markdown",
      "source": [
        "#**Inspecting Unit Price**"
      ],
      "metadata": {
        "id": "6M06NnxrRlkD"
      }
    },
    {
      "cell_type": "code",
      "source": [
        "SalesDf.columns"
      ],
      "metadata": {
        "colab": {
          "base_uri": "https://localhost:8080/"
        },
        "id": "OXhMYhSaRmCm",
        "outputId": "cf3feeb5-b245-424d-8f74-513a4e7dd03a"
      },
      "execution_count": null,
      "outputs": [
        {
          "output_type": "execute_result",
          "data": {
            "text/plain": [
              "Index(['OrderID', 'OrderDate', 'DeliveryDate', 'CustomerID', 'CustomerName',\n",
              "       'Gender', 'Phone', 'Email', 'Governorate', 'City', 'Address',\n",
              "       'Latitude', 'Longitude', 'ProductSKU', 'ProductName', 'Category',\n",
              "       'UnitPrice', 'Quantity', 'Subtotal', 'Discount', 'TotalAmount',\n",
              "       'Currency', 'PaymentMethod', 'PaymentStatus', 'ShipperName',\n",
              "       'ShippingCost', 'SalesRep', 'Channel', 'ReturnFlag', 'ReturnDate',\n",
              "       'Status', 'Notes', 'LatLong_Swapped', 'Email_Cleaned'],\n",
              "      dtype='object')"
            ]
          },
          "metadata": {},
          "execution_count": 440
        }
      ]
    },
    {
      "cell_type": "code",
      "source": [
        "SalesDf['UnitPrice'].unique()"
      ],
      "metadata": {
        "colab": {
          "base_uri": "https://localhost:8080/"
        },
        "id": "xo3bcpz-Rl_w",
        "outputId": "75536554-855a-4a7a-9626-ec3cd1875208"
      },
      "execution_count": null,
      "outputs": [
        {
          "output_type": "execute_result",
          "data": {
            "text/plain": [
              "array(['30206.12', '37363.34', '43906.58', '23377.88', '29772.0',\n",
              "       '4660.31', '11185.03', '20333.45', '22530.98', '4243.18',\n",
              "       '33092.99', '15344.99', '4304.79', '29921.93', '35503.65',\n",
              "       '24791.67', '11647.81', '39336.31', '44276.42', '26327.97',\n",
              "       '4706.84', '44172.94', '40076.04', '30769.67', '32192.49',\n",
              "       '40072.9', '31965.64', '2238.12', '1788.21', '18076.78',\n",
              "       '41270.55', '9532.21', '7489.59', '49906.24', '33508.21',\n",
              "       '39548.84', '3951.23', '36406.51', '34830.6', '23326.9',\n",
              "       '26494.41', '37625.11', '27871.4', '48389.77', '19587.15',\n",
              "       '18321.36', '1683.12', '49624.69', '49592.32', '43005.13',\n",
              "       '31447.11', '24832.57', '46623.26', '22505.86', '2579.35',\n",
              "       '38214.28', '18950.29', '17123.32', '2278.62', '5670.32',\n",
              "       '8728.18', '33875.95', '21052.6', '31353.01', '33141.02',\n",
              "       '42607.34', '25303.1', '35119.7', '34346.23', '10194.21',\n",
              "       '5780.36', '26764.98', '32251.49', '45319.86', '25857.31',\n",
              "       '43371.75', '12927.36', '18573.21', '17031.3', '38224.0',\n",
              "       '42822.62', '11449.49', '6798.99', '42681.43', '34088.04',\n",
              "       '35345.97', '28572.06', '32893.72', '39655.56', '12153.64',\n",
              "       '10074.77', '28666.28', '9239.63', '23205.77', '659.78',\n",
              "       '24208.97', '32300.33', '38787.88', '2583.77', '3349.69', '92.12',\n",
              "       '1721.42', '6670.31', '47811.37', '12903.96', '16705.31',\n",
              "       '12171.99', '34633.3', '16340.3', '45692.05', '31041.74',\n",
              "       '24841.62', '18515.12', '30178.44', '11264.79', '13609.38',\n",
              "       '23480.66', '5830.34', '31437.13', '3118.13', '2424.19',\n",
              "       '41194.35', '7256.68', '46328.54', '9953.4', '2653.02', '13048.19',\n",
              "       '10607.77', '4005.2', '43445.59', '24330.74', '17884.34',\n",
              "       '7622.98', '10726.04', '3949.73', '45019.35', '24599.08',\n",
              "       '45691.07', '31776.74', '5591.78', '47890.9', '22731.13',\n",
              "       '30824.35', '5968.74', '27550.07', '36180.63', '31968.22',\n",
              "       '19584.96', '41030.31', '28124.6'], dtype=object)"
            ]
          },
          "metadata": {},
          "execution_count": 441
        }
      ]
    },
    {
      "cell_type": "markdown",
      "source": [
        "#**Transform Unit Price into Float instead of String to allow calculations**"
      ],
      "metadata": {
        "id": "YeswfmPdR_cU"
      }
    },
    {
      "cell_type": "code",
      "source": [
        "SalesDf['UnitPrice'] = SalesDf['UnitPrice'].astype('Float64')"
      ],
      "metadata": {
        "id": "ZFCbCzogRl8a"
      },
      "execution_count": null,
      "outputs": []
    },
    {
      "cell_type": "code",
      "source": [],
      "metadata": {
        "id": "hzWnRfGWRl6S"
      },
      "execution_count": null,
      "outputs": []
    },
    {
      "cell_type": "code",
      "source": [],
      "metadata": {
        "id": "XZjTyOoTRl1g"
      },
      "execution_count": null,
      "outputs": []
    },
    {
      "cell_type": "code",
      "source": [],
      "metadata": {
        "id": "k07FPMQvRlym"
      },
      "execution_count": null,
      "outputs": []
    },
    {
      "cell_type": "code",
      "source": [],
      "metadata": {
        "id": "LVmgAxJpRlwL"
      },
      "execution_count": null,
      "outputs": []
    },
    {
      "cell_type": "markdown",
      "source": [
        "#**Solving Quantity of 0 or negative; mismatched Subtotal vs. UnitPrice×Quantity**"
      ],
      "metadata": {
        "id": "44C5P3OuNQ63"
      }
    },
    {
      "cell_type": "code",
      "source": [],
      "metadata": {
        "id": "JI7uMTk1Oc2p"
      },
      "execution_count": null,
      "outputs": []
    },
    {
      "cell_type": "code",
      "source": [],
      "metadata": {
        "id": "kRm1bWbwV3IP"
      },
      "execution_count": null,
      "outputs": []
    },
    {
      "cell_type": "code",
      "source": [],
      "metadata": {
        "id": "dwEWk4t9V3E6"
      },
      "execution_count": null,
      "outputs": []
    },
    {
      "cell_type": "code",
      "source": [],
      "metadata": {
        "id": "vv1xPEJVV3Cp"
      },
      "execution_count": null,
      "outputs": []
    },
    {
      "cell_type": "markdown",
      "source": [
        "#\n",
        "\n",
        " 25  ShippingCost   133 non-null    float64\n",
        " 26  SalesRep       150 non-null    object\n",
        " 27  Channel        150 non-null    object\n",
        " 28  ReturnFlag     150 non-null    object\n",
        " 29  ReturnDate     4 non-null      object\n",
        " 30  Status         134 non-null    object\n",
        " 31  Notes  "
      ],
      "metadata": {
        "id": "O_84dCMbV23L"
      }
    },
    {
      "cell_type": "code",
      "source": [],
      "metadata": {
        "id": "bmhao93zV65t"
      },
      "execution_count": null,
      "outputs": []
    },
    {
      "cell_type": "code",
      "source": [],
      "metadata": {
        "id": "PVzS_zr6V62H"
      },
      "execution_count": null,
      "outputs": []
    },
    {
      "cell_type": "markdown",
      "source": [
        "# **Payment Method**"
      ],
      "metadata": {
        "id": "L_nIlbbDV6pV"
      }
    },
    {
      "cell_type": "code",
      "source": [
        "SalesDf['PaymentMethod'].unique()"
      ],
      "metadata": {
        "colab": {
          "base_uri": "https://localhost:8080/"
        },
        "id": "8Autrp9cOrxS",
        "outputId": "f4789adf-e170-4a05-f8ec-722fc771753c"
      },
      "execution_count": null,
      "outputs": [
        {
          "output_type": "execute_result",
          "data": {
            "text/plain": [
              "array(['meeza', 'visa', 'فوري', 'mastercard', 'cod', 'cash'], dtype=object)"
            ]
          },
          "metadata": {},
          "execution_count": 443
        }
      ]
    },
    {
      "cell_type": "code",
      "source": [
        "SalesDf['PaymentMethod'] = SalesDf['PaymentMethod'].replace('فوري', 'Fawry')"
      ],
      "metadata": {
        "id": "36MtpqCVV_rB"
      },
      "execution_count": null,
      "outputs": []
    },
    {
      "cell_type": "markdown",
      "source": [
        "#**Standardize Arabic Payment Method to English:**"
      ],
      "metadata": {
        "id": "KyBtbgMsW0CO"
      }
    },
    {
      "cell_type": "code",
      "source": [
        "SalesDf['PaymentMethod'].value_counts()"
      ],
      "metadata": {
        "colab": {
          "base_uri": "https://localhost:8080/",
          "height": 304
        },
        "id": "NWJPDw70WOq1",
        "outputId": "6640c62c-79e4-427b-eaeb-f88522cb3268"
      },
      "execution_count": null,
      "outputs": [
        {
          "output_type": "execute_result",
          "data": {
            "text/plain": [
              "PaymentMethod\n",
              "visa          29\n",
              "cash          28\n",
              "meeza         25\n",
              "Fawry         25\n",
              "cod           22\n",
              "mastercard    21\n",
              "Name: count, dtype: int64"
            ],
            "text/html": [
              "<div>\n",
              "<style scoped>\n",
              "    .dataframe tbody tr th:only-of-type {\n",
              "        vertical-align: middle;\n",
              "    }\n",
              "\n",
              "    .dataframe tbody tr th {\n",
              "        vertical-align: top;\n",
              "    }\n",
              "\n",
              "    .dataframe thead th {\n",
              "        text-align: right;\n",
              "    }\n",
              "</style>\n",
              "<table border=\"1\" class=\"dataframe\">\n",
              "  <thead>\n",
              "    <tr style=\"text-align: right;\">\n",
              "      <th></th>\n",
              "      <th>count</th>\n",
              "    </tr>\n",
              "    <tr>\n",
              "      <th>PaymentMethod</th>\n",
              "      <th></th>\n",
              "    </tr>\n",
              "  </thead>\n",
              "  <tbody>\n",
              "    <tr>\n",
              "      <th>visa</th>\n",
              "      <td>29</td>\n",
              "    </tr>\n",
              "    <tr>\n",
              "      <th>cash</th>\n",
              "      <td>28</td>\n",
              "    </tr>\n",
              "    <tr>\n",
              "      <th>meeza</th>\n",
              "      <td>25</td>\n",
              "    </tr>\n",
              "    <tr>\n",
              "      <th>Fawry</th>\n",
              "      <td>25</td>\n",
              "    </tr>\n",
              "    <tr>\n",
              "      <th>cod</th>\n",
              "      <td>22</td>\n",
              "    </tr>\n",
              "    <tr>\n",
              "      <th>mastercard</th>\n",
              "      <td>21</td>\n",
              "    </tr>\n",
              "  </tbody>\n",
              "</table>\n",
              "</div><br><label><b>dtype:</b> int64</label>"
            ]
          },
          "metadata": {},
          "execution_count": 445
        }
      ]
    },
    {
      "cell_type": "markdown",
      "source": [
        "#**Standardize Arabic Payment Status to English:**"
      ],
      "metadata": {
        "id": "BZBh8UW9XT9c"
      }
    },
    {
      "cell_type": "code",
      "source": [
        "SalesDf['PaymentStatus'].unique()"
      ],
      "metadata": {
        "colab": {
          "base_uri": "https://localhost:8080/"
        },
        "id": "CgQdK0YeWSle",
        "outputId": "28e4d764-6bef-4bd5-de9d-489c81366175"
      },
      "execution_count": null,
      "outputs": [
        {
          "output_type": "execute_result",
          "data": {
            "text/plain": [
              "array(['paid', 'unpaid', 'مدفوع', 'pending', 'غير مدفوع'], dtype=object)"
            ]
          },
          "metadata": {},
          "execution_count": 446
        }
      ]
    },
    {
      "cell_type": "code",
      "source": [
        "SalesDf['PaymentStatus'] = SalesDf['PaymentStatus'].str.strip().str.lower().replace({\n",
        "    'مدفوع': 'paid',\n",
        "    'غير مدفوع': 'unpaid'\n",
        "})"
      ],
      "metadata": {
        "id": "xJg9GiLIXAu1"
      },
      "execution_count": null,
      "outputs": []
    },
    {
      "cell_type": "code",
      "source": [
        "SalesDf['PaymentStatus'].value_counts()"
      ],
      "metadata": {
        "colab": {
          "base_uri": "https://localhost:8080/",
          "height": 210
        },
        "id": "EJQMOfXsXNVQ",
        "outputId": "fb98961e-4a59-4223-cae8-ab0e6ce6b0dd"
      },
      "execution_count": null,
      "outputs": [
        {
          "output_type": "execute_result",
          "data": {
            "text/plain": [
              "PaymentStatus\n",
              "unpaid     64\n",
              "paid       56\n",
              "pending    30\n",
              "Name: count, dtype: int64"
            ],
            "text/html": [
              "<div>\n",
              "<style scoped>\n",
              "    .dataframe tbody tr th:only-of-type {\n",
              "        vertical-align: middle;\n",
              "    }\n",
              "\n",
              "    .dataframe tbody tr th {\n",
              "        vertical-align: top;\n",
              "    }\n",
              "\n",
              "    .dataframe thead th {\n",
              "        text-align: right;\n",
              "    }\n",
              "</style>\n",
              "<table border=\"1\" class=\"dataframe\">\n",
              "  <thead>\n",
              "    <tr style=\"text-align: right;\">\n",
              "      <th></th>\n",
              "      <th>count</th>\n",
              "    </tr>\n",
              "    <tr>\n",
              "      <th>PaymentStatus</th>\n",
              "      <th></th>\n",
              "    </tr>\n",
              "  </thead>\n",
              "  <tbody>\n",
              "    <tr>\n",
              "      <th>unpaid</th>\n",
              "      <td>64</td>\n",
              "    </tr>\n",
              "    <tr>\n",
              "      <th>paid</th>\n",
              "      <td>56</td>\n",
              "    </tr>\n",
              "    <tr>\n",
              "      <th>pending</th>\n",
              "      <td>30</td>\n",
              "    </tr>\n",
              "  </tbody>\n",
              "</table>\n",
              "</div><br><label><b>dtype:</b> int64</label>"
            ]
          },
          "metadata": {},
          "execution_count": 448
        }
      ]
    },
    {
      "cell_type": "markdown",
      "source": [
        "#**convert the Arabic in Shipper Name Column**"
      ],
      "metadata": {
        "id": "3UeXyrJgXwlG"
      }
    },
    {
      "cell_type": "code",
      "source": [
        "SalesDf[\"ShipperName\"].unique()"
      ],
      "metadata": {
        "colab": {
          "base_uri": "https://localhost:8080/"
        },
        "id": "YSA9wd8MXQ4O",
        "outputId": "775a2ce0-5bf9-465f-dc9e-c9b9a8b5028a"
      },
      "execution_count": null,
      "outputs": [
        {
          "output_type": "execute_result",
          "data": {
            "text/plain": [
              "array(['aramex', 'بريد مصر', 'dhl', 'fedex'], dtype=object)"
            ]
          },
          "metadata": {},
          "execution_count": 449
        }
      ]
    },
    {
      "cell_type": "code",
      "source": [
        "SalesDf['ShipperName'] = SalesDf['ShipperName'].replace('بريد مصر', 'Egypt Post')"
      ],
      "metadata": {
        "id": "TjgQyRnhXgE-"
      },
      "execution_count": null,
      "outputs": []
    },
    {
      "cell_type": "code",
      "source": [
        "SalesDf['ShipperName'].value_counts()"
      ],
      "metadata": {
        "colab": {
          "base_uri": "https://localhost:8080/",
          "height": 241
        },
        "id": "Rgb0CeEjXmH6",
        "outputId": "d136c631-aaa7-443e-c1f3-d2d3073b7695"
      },
      "execution_count": null,
      "outputs": [
        {
          "output_type": "execute_result",
          "data": {
            "text/plain": [
              "ShipperName\n",
              "aramex        47\n",
              "Egypt Post    40\n",
              "dhl           32\n",
              "fedex         31\n",
              "Name: count, dtype: int64"
            ],
            "text/html": [
              "<div>\n",
              "<style scoped>\n",
              "    .dataframe tbody tr th:only-of-type {\n",
              "        vertical-align: middle;\n",
              "    }\n",
              "\n",
              "    .dataframe tbody tr th {\n",
              "        vertical-align: top;\n",
              "    }\n",
              "\n",
              "    .dataframe thead th {\n",
              "        text-align: right;\n",
              "    }\n",
              "</style>\n",
              "<table border=\"1\" class=\"dataframe\">\n",
              "  <thead>\n",
              "    <tr style=\"text-align: right;\">\n",
              "      <th></th>\n",
              "      <th>count</th>\n",
              "    </tr>\n",
              "    <tr>\n",
              "      <th>ShipperName</th>\n",
              "      <th></th>\n",
              "    </tr>\n",
              "  </thead>\n",
              "  <tbody>\n",
              "    <tr>\n",
              "      <th>aramex</th>\n",
              "      <td>47</td>\n",
              "    </tr>\n",
              "    <tr>\n",
              "      <th>Egypt Post</th>\n",
              "      <td>40</td>\n",
              "    </tr>\n",
              "    <tr>\n",
              "      <th>dhl</th>\n",
              "      <td>32</td>\n",
              "    </tr>\n",
              "    <tr>\n",
              "      <th>fedex</th>\n",
              "      <td>31</td>\n",
              "    </tr>\n",
              "  </tbody>\n",
              "</table>\n",
              "</div><br><label><b>dtype:</b> int64</label>"
            ]
          },
          "metadata": {},
          "execution_count": 451
        }
      ]
    },
    {
      "cell_type": "code",
      "source": [
        "SalesDf[\"SalesRep\"].unique()"
      ],
      "metadata": {
        "colab": {
          "base_uri": "https://localhost:8080/"
        },
        "id": "iXIpwG8lXqQX",
        "outputId": "d172523e-4ebd-4cce-903f-99a84a055879"
      },
      "execution_count": null,
      "outputs": [
        {
          "output_type": "execute_result",
          "data": {
            "text/plain": [
              "array(['سارة محمد', 'karim r.', 'ahmed ali', 'أحمد علي', 'a.ali',\n",
              "       'mona-s'], dtype=object)"
            ]
          },
          "metadata": {},
          "execution_count": 452
        }
      ]
    },
    {
      "cell_type": "markdown",
      "source": [
        "#**Since they are only 4 Sales Representitives we can use the mapping method no need for translation**"
      ],
      "metadata": {
        "id": "tN31UC2sYOLf"
      }
    },
    {
      "cell_type": "code",
      "source": [
        "SalesDf['SalesRep'] = SalesDf['SalesRep'].str.strip().str.lower().replace({'سارة محمد':'sarah mohamed','karim r.':'karim rashid','أحمد علي':'ahmed ali','a.ali':'ahmed ali','mona-s':'mona salah'})"
      ],
      "metadata": {
        "id": "sMyTaZkoYDxC"
      },
      "execution_count": null,
      "outputs": []
    },
    {
      "cell_type": "code",
      "source": [
        "SalesDf['SalesRep'].value_counts()"
      ],
      "metadata": {
        "colab": {
          "base_uri": "https://localhost:8080/",
          "height": 241
        },
        "id": "VcQPeiv8YkFu",
        "outputId": "a0117149-f8d8-4d3c-fe5e-4cbd3ae24810"
      },
      "execution_count": null,
      "outputs": [
        {
          "output_type": "execute_result",
          "data": {
            "text/plain": [
              "SalesRep\n",
              "ahmed ali        74\n",
              "karim rashid     32\n",
              "mona salah       28\n",
              "sarah mohamed    16\n",
              "Name: count, dtype: int64"
            ],
            "text/html": [
              "<div>\n",
              "<style scoped>\n",
              "    .dataframe tbody tr th:only-of-type {\n",
              "        vertical-align: middle;\n",
              "    }\n",
              "\n",
              "    .dataframe tbody tr th {\n",
              "        vertical-align: top;\n",
              "    }\n",
              "\n",
              "    .dataframe thead th {\n",
              "        text-align: right;\n",
              "    }\n",
              "</style>\n",
              "<table border=\"1\" class=\"dataframe\">\n",
              "  <thead>\n",
              "    <tr style=\"text-align: right;\">\n",
              "      <th></th>\n",
              "      <th>count</th>\n",
              "    </tr>\n",
              "    <tr>\n",
              "      <th>SalesRep</th>\n",
              "      <th></th>\n",
              "    </tr>\n",
              "  </thead>\n",
              "  <tbody>\n",
              "    <tr>\n",
              "      <th>ahmed ali</th>\n",
              "      <td>74</td>\n",
              "    </tr>\n",
              "    <tr>\n",
              "      <th>karim rashid</th>\n",
              "      <td>32</td>\n",
              "    </tr>\n",
              "    <tr>\n",
              "      <th>mona salah</th>\n",
              "      <td>28</td>\n",
              "    </tr>\n",
              "    <tr>\n",
              "      <th>sarah mohamed</th>\n",
              "      <td>16</td>\n",
              "    </tr>\n",
              "  </tbody>\n",
              "</table>\n",
              "</div><br><label><b>dtype:</b> int64</label>"
            ]
          },
          "metadata": {},
          "execution_count": 454
        }
      ]
    },
    {
      "cell_type": "markdown",
      "source": [
        "# **Replaced the Arabic term تجارة إلكترونية with its English translation e-com to have unified naming**"
      ],
      "metadata": {
        "id": "qzvSm4vZ7IPB"
      }
    },
    {
      "cell_type": "code",
      "source": [
        "SalesDf[\"Channel\"].unique()"
      ],
      "metadata": {
        "colab": {
          "base_uri": "https://localhost:8080/"
        },
        "id": "NLo0RolkYnWg",
        "outputId": "b3c7c4c3-968a-41d7-b725-96e19466e0db"
      },
      "execution_count": null,
      "outputs": [
        {
          "output_type": "execute_result",
          "data": {
            "text/plain": [
              "array(['e-com', 'store', 'tel-sales', 'whatsapp', 'تجارة إلكترونية'],\n",
              "      dtype=object)"
            ]
          },
          "metadata": {},
          "execution_count": 455
        }
      ]
    },
    {
      "cell_type": "code",
      "source": [
        "SalesDf['Channel'] = SalesDf['Channel'].str.strip().str.lower().replace({'تجارة إلكترونية': 'e-com'})"
      ],
      "metadata": {
        "id": "I6QT78lc7FtD"
      },
      "execution_count": null,
      "outputs": []
    },
    {
      "cell_type": "code",
      "source": [
        "SalesDf['Channel'].value_counts()"
      ],
      "metadata": {
        "colab": {
          "base_uri": "https://localhost:8080/",
          "height": 241
        },
        "id": "o7f43c077WAh",
        "outputId": "71f1ef69-4cba-460d-d548-846024f4c2bf"
      },
      "execution_count": null,
      "outputs": [
        {
          "output_type": "execute_result",
          "data": {
            "text/plain": [
              "Channel\n",
              "e-com        65\n",
              "tel-sales    31\n",
              "store        29\n",
              "whatsapp     25\n",
              "Name: count, dtype: int64"
            ],
            "text/html": [
              "<div>\n",
              "<style scoped>\n",
              "    .dataframe tbody tr th:only-of-type {\n",
              "        vertical-align: middle;\n",
              "    }\n",
              "\n",
              "    .dataframe tbody tr th {\n",
              "        vertical-align: top;\n",
              "    }\n",
              "\n",
              "    .dataframe thead th {\n",
              "        text-align: right;\n",
              "    }\n",
              "</style>\n",
              "<table border=\"1\" class=\"dataframe\">\n",
              "  <thead>\n",
              "    <tr style=\"text-align: right;\">\n",
              "      <th></th>\n",
              "      <th>count</th>\n",
              "    </tr>\n",
              "    <tr>\n",
              "      <th>Channel</th>\n",
              "      <th></th>\n",
              "    </tr>\n",
              "  </thead>\n",
              "  <tbody>\n",
              "    <tr>\n",
              "      <th>e-com</th>\n",
              "      <td>65</td>\n",
              "    </tr>\n",
              "    <tr>\n",
              "      <th>tel-sales</th>\n",
              "      <td>31</td>\n",
              "    </tr>\n",
              "    <tr>\n",
              "      <th>store</th>\n",
              "      <td>29</td>\n",
              "    </tr>\n",
              "    <tr>\n",
              "      <th>whatsapp</th>\n",
              "      <td>25</td>\n",
              "    </tr>\n",
              "  </tbody>\n",
              "</table>\n",
              "</div><br><label><b>dtype:</b> int64</label>"
            ]
          },
          "metadata": {},
          "execution_count": 457
        }
      ]
    },
    {
      "cell_type": "markdown",
      "source": [
        "#**Standardize the ReturnFlag column**"
      ],
      "metadata": {
        "id": "3PPiudv98WBj"
      }
    },
    {
      "cell_type": "code",
      "source": [
        "SalesDf['ReturnFlag'].unique()"
      ],
      "metadata": {
        "colab": {
          "base_uri": "https://localhost:8080/"
        },
        "id": "TzUCTAHN73_a",
        "outputId": "6e393097-bfa8-4071-ce50-a9fb91de32a3"
      },
      "execution_count": null,
      "outputs": [
        {
          "output_type": "execute_result",
          "data": {
            "text/plain": [
              "array(['n', 'لا', 'نعم', '0', 'no', '1', 'y'], dtype=object)"
            ]
          },
          "metadata": {},
          "execution_count": 458
        }
      ]
    },
    {
      "cell_type": "code",
      "source": [
        "SalesDf['ReturnFlag'].value_counts()"
      ],
      "metadata": {
        "colab": {
          "base_uri": "https://localhost:8080/",
          "height": 335
        },
        "id": "BdYEOPbe8ECZ",
        "outputId": "e8ebfb10-9fe5-4cce-bbc6-b195350037df"
      },
      "execution_count": null,
      "outputs": [
        {
          "output_type": "execute_result",
          "data": {
            "text/plain": [
              "ReturnFlag\n",
              "n      128\n",
              "no       6\n",
              "لا       5\n",
              "نعم      5\n",
              "0        4\n",
              "1        1\n",
              "y        1\n",
              "Name: count, dtype: int64"
            ],
            "text/html": [
              "<div>\n",
              "<style scoped>\n",
              "    .dataframe tbody tr th:only-of-type {\n",
              "        vertical-align: middle;\n",
              "    }\n",
              "\n",
              "    .dataframe tbody tr th {\n",
              "        vertical-align: top;\n",
              "    }\n",
              "\n",
              "    .dataframe thead th {\n",
              "        text-align: right;\n",
              "    }\n",
              "</style>\n",
              "<table border=\"1\" class=\"dataframe\">\n",
              "  <thead>\n",
              "    <tr style=\"text-align: right;\">\n",
              "      <th></th>\n",
              "      <th>count</th>\n",
              "    </tr>\n",
              "    <tr>\n",
              "      <th>ReturnFlag</th>\n",
              "      <th></th>\n",
              "    </tr>\n",
              "  </thead>\n",
              "  <tbody>\n",
              "    <tr>\n",
              "      <th>n</th>\n",
              "      <td>128</td>\n",
              "    </tr>\n",
              "    <tr>\n",
              "      <th>no</th>\n",
              "      <td>6</td>\n",
              "    </tr>\n",
              "    <tr>\n",
              "      <th>لا</th>\n",
              "      <td>5</td>\n",
              "    </tr>\n",
              "    <tr>\n",
              "      <th>نعم</th>\n",
              "      <td>5</td>\n",
              "    </tr>\n",
              "    <tr>\n",
              "      <th>0</th>\n",
              "      <td>4</td>\n",
              "    </tr>\n",
              "    <tr>\n",
              "      <th>1</th>\n",
              "      <td>1</td>\n",
              "    </tr>\n",
              "    <tr>\n",
              "      <th>y</th>\n",
              "      <td>1</td>\n",
              "    </tr>\n",
              "  </tbody>\n",
              "</table>\n",
              "</div><br><label><b>dtype:</b> int64</label>"
            ]
          },
          "metadata": {},
          "execution_count": 459
        }
      ]
    },
    {
      "cell_type": "code",
      "source": [
        "SalesDf['ReturnFlag'] = SalesDf['ReturnFlag'].str.strip().str.lower().replace({'نعم':'yes','y':'yes','1':'yes','لا':'no','n':'no','0':'no','no':'no'})"
      ],
      "metadata": {
        "id": "EsWURLua8Cjm"
      },
      "execution_count": null,
      "outputs": []
    },
    {
      "cell_type": "markdown",
      "source": [
        "#**We only have 2 status yes, no**"
      ],
      "metadata": {
        "id": "Qrfp_u1W8LUk"
      }
    },
    {
      "cell_type": "code",
      "source": [
        "SalesDf['ReturnFlag'].value_counts()"
      ],
      "metadata": {
        "colab": {
          "base_uri": "https://localhost:8080/",
          "height": 178
        },
        "id": "qEbCI0fk8Iif",
        "outputId": "b14a1a96-41f0-4824-b22d-3b4049805a4a"
      },
      "execution_count": null,
      "outputs": [
        {
          "output_type": "execute_result",
          "data": {
            "text/plain": [
              "ReturnFlag\n",
              "no     143\n",
              "yes      7\n",
              "Name: count, dtype: int64"
            ],
            "text/html": [
              "<div>\n",
              "<style scoped>\n",
              "    .dataframe tbody tr th:only-of-type {\n",
              "        vertical-align: middle;\n",
              "    }\n",
              "\n",
              "    .dataframe tbody tr th {\n",
              "        vertical-align: top;\n",
              "    }\n",
              "\n",
              "    .dataframe thead th {\n",
              "        text-align: right;\n",
              "    }\n",
              "</style>\n",
              "<table border=\"1\" class=\"dataframe\">\n",
              "  <thead>\n",
              "    <tr style=\"text-align: right;\">\n",
              "      <th></th>\n",
              "      <th>count</th>\n",
              "    </tr>\n",
              "    <tr>\n",
              "      <th>ReturnFlag</th>\n",
              "      <th></th>\n",
              "    </tr>\n",
              "  </thead>\n",
              "  <tbody>\n",
              "    <tr>\n",
              "      <th>no</th>\n",
              "      <td>143</td>\n",
              "    </tr>\n",
              "    <tr>\n",
              "      <th>yes</th>\n",
              "      <td>7</td>\n",
              "    </tr>\n",
              "  </tbody>\n",
              "</table>\n",
              "</div><br><label><b>dtype:</b> int64</label>"
            ]
          },
          "metadata": {},
          "execution_count": 461
        }
      ]
    },
    {
      "cell_type": "markdown",
      "source": [
        "# **Return Date Unification**"
      ],
      "metadata": {
        "id": "UngN1xPb_t7o"
      }
    },
    {
      "cell_type": "code",
      "source": [
        "SalesDf['ReturnDate'].unique()"
      ],
      "metadata": {
        "colab": {
          "base_uri": "https://localhost:8080/"
        },
        "id": "Id0gIJbl8b8i",
        "outputId": "9c709eb9-8d69-4c42-c324-c809c4e806e9"
      },
      "execution_count": null,
      "outputs": [
        {
          "output_type": "execute_result",
          "data": {
            "text/plain": [
              "array(['nan', '22/06/2024', '21 مارس 2024', '12/04/2024', '13 may 2024'],\n",
              "      dtype=object)"
            ]
          },
          "metadata": {},
          "execution_count": 462
        }
      ]
    },
    {
      "cell_type": "code",
      "source": [
        "SalesDf['ReturnDate'] = SalesDf['ReturnDate'].apply(\n",
        "    lambda x: pd.Timestamp('2024-06-22') if str(x).strip() == '22/06/2024' else\n",
        "              pd.Timestamp('2024-04-12') if str(x).strip() == '12/04/2024' else\n",
        "              pd.Timestamp('2024-11-13') if str(x).strip() == '11 13' else\n",
        "              pd.Timestamp('2024-05-01') if 'may' in str(x).lower() or 'مايو' in str(x) else\n",
        "              pd.NaT\n",
        ")"
      ],
      "metadata": {
        "id": "5AbsHrpm8tWT"
      },
      "execution_count": null,
      "outputs": []
    },
    {
      "cell_type": "code",
      "source": [
        "SalesDf.columns"
      ],
      "metadata": {
        "colab": {
          "base_uri": "https://localhost:8080/"
        },
        "id": "cokpD2wX7v-T",
        "outputId": "efc15c72-5e8b-470c-c5f1-a6b82ca6e0ad"
      },
      "execution_count": null,
      "outputs": [
        {
          "output_type": "execute_result",
          "data": {
            "text/plain": [
              "Index(['OrderID', 'OrderDate', 'DeliveryDate', 'CustomerID', 'CustomerName',\n",
              "       'Gender', 'Phone', 'Email', 'Governorate', 'City', 'Address',\n",
              "       'Latitude', 'Longitude', 'ProductSKU', 'ProductName', 'Category',\n",
              "       'UnitPrice', 'Quantity', 'Subtotal', 'Discount', 'TotalAmount',\n",
              "       'Currency', 'PaymentMethod', 'PaymentStatus', 'ShipperName',\n",
              "       'ShippingCost', 'SalesRep', 'Channel', 'ReturnFlag', 'ReturnDate',\n",
              "       'Status', 'Notes', 'LatLong_Swapped', 'Email_Cleaned'],\n",
              "      dtype='object')"
            ]
          },
          "metadata": {},
          "execution_count": 464
        }
      ]
    },
    {
      "cell_type": "code",
      "source": [
        "SalesDf['ReturnDate'].unique()"
      ],
      "metadata": {
        "id": "bK-mjdP372BP",
        "colab": {
          "base_uri": "https://localhost:8080/"
        },
        "outputId": "9cdb8fdb-1f90-483f-d245-e2ccc122caec"
      },
      "execution_count": null,
      "outputs": [
        {
          "output_type": "execute_result",
          "data": {
            "text/plain": [
              "<DatetimeArray>\n",
              "['NaT', '2024-06-22 00:00:00', '2024-04-12 00:00:00', '2024-05-01 00:00:00']\n",
              "Length: 4, dtype: datetime64[ns]"
            ]
          },
          "metadata": {},
          "execution_count": 465
        }
      ]
    },
    {
      "cell_type": "markdown",
      "source": [
        "# **Standardize Order Status Labels**"
      ],
      "metadata": {
        "id": "J0TplzwIACz6"
      }
    },
    {
      "cell_type": "code",
      "source": [
        "SalesDf['Status'].unique()"
      ],
      "metadata": {
        "colab": {
          "base_uri": "https://localhost:8080/"
        },
        "id": "yNR5QTNI9NDo",
        "outputId": "8fb3ec33-640d-4c3d-cc16-7796eb825c44"
      },
      "execution_count": null,
      "outputs": [
        {
          "output_type": "execute_result",
          "data": {
            "text/plain": [
              "array(['nan', 'delivered', 'ملغي', 'new', 'shipped', 'processing',\n",
              "       'returned'], dtype=object)"
            ]
          },
          "metadata": {},
          "execution_count": 466
        }
      ]
    },
    {
      "cell_type": "code",
      "source": [
        "SalesDf['Status'].value_counts()"
      ],
      "metadata": {
        "colab": {
          "base_uri": "https://localhost:8080/",
          "height": 335
        },
        "id": "maj5t2DZ_LJ6",
        "outputId": "9bfb7166-12fb-482e-b5c0-0bfbc6943a67"
      },
      "execution_count": null,
      "outputs": [
        {
          "output_type": "execute_result",
          "data": {
            "text/plain": [
              "Status\n",
              "shipped       29\n",
              "ملغي          27\n",
              "processing    26\n",
              "delivered     20\n",
              "returned      17\n",
              "nan           16\n",
              "new           15\n",
              "Name: count, dtype: int64"
            ],
            "text/html": [
              "<div>\n",
              "<style scoped>\n",
              "    .dataframe tbody tr th:only-of-type {\n",
              "        vertical-align: middle;\n",
              "    }\n",
              "\n",
              "    .dataframe tbody tr th {\n",
              "        vertical-align: top;\n",
              "    }\n",
              "\n",
              "    .dataframe thead th {\n",
              "        text-align: right;\n",
              "    }\n",
              "</style>\n",
              "<table border=\"1\" class=\"dataframe\">\n",
              "  <thead>\n",
              "    <tr style=\"text-align: right;\">\n",
              "      <th></th>\n",
              "      <th>count</th>\n",
              "    </tr>\n",
              "    <tr>\n",
              "      <th>Status</th>\n",
              "      <th></th>\n",
              "    </tr>\n",
              "  </thead>\n",
              "  <tbody>\n",
              "    <tr>\n",
              "      <th>shipped</th>\n",
              "      <td>29</td>\n",
              "    </tr>\n",
              "    <tr>\n",
              "      <th>ملغي</th>\n",
              "      <td>27</td>\n",
              "    </tr>\n",
              "    <tr>\n",
              "      <th>processing</th>\n",
              "      <td>26</td>\n",
              "    </tr>\n",
              "    <tr>\n",
              "      <th>delivered</th>\n",
              "      <td>20</td>\n",
              "    </tr>\n",
              "    <tr>\n",
              "      <th>returned</th>\n",
              "      <td>17</td>\n",
              "    </tr>\n",
              "    <tr>\n",
              "      <th>nan</th>\n",
              "      <td>16</td>\n",
              "    </tr>\n",
              "    <tr>\n",
              "      <th>new</th>\n",
              "      <td>15</td>\n",
              "    </tr>\n",
              "  </tbody>\n",
              "</table>\n",
              "</div><br><label><b>dtype:</b> int64</label>"
            ]
          },
          "metadata": {},
          "execution_count": 467
        }
      ]
    },
    {
      "cell_type": "code",
      "source": [
        "SalesDf['Status'] = SalesDf['Status'].str.strip().str.lower().replace({'ملغي': 'cancelled'})"
      ],
      "metadata": {
        "id": "h5sa8M_R_U17"
      },
      "execution_count": null,
      "outputs": []
    },
    {
      "cell_type": "code",
      "source": [
        "SalesDf['Status'].value_counts()"
      ],
      "metadata": {
        "colab": {
          "base_uri": "https://localhost:8080/",
          "height": 335
        },
        "id": "cAaoBcLi__k_",
        "outputId": "9bab5e54-7d17-43cb-91ed-3be110195494"
      },
      "execution_count": null,
      "outputs": [
        {
          "output_type": "execute_result",
          "data": {
            "text/plain": [
              "Status\n",
              "shipped       29\n",
              "cancelled     27\n",
              "processing    26\n",
              "delivered     20\n",
              "returned      17\n",
              "nan           16\n",
              "new           15\n",
              "Name: count, dtype: int64"
            ],
            "text/html": [
              "<div>\n",
              "<style scoped>\n",
              "    .dataframe tbody tr th:only-of-type {\n",
              "        vertical-align: middle;\n",
              "    }\n",
              "\n",
              "    .dataframe tbody tr th {\n",
              "        vertical-align: top;\n",
              "    }\n",
              "\n",
              "    .dataframe thead th {\n",
              "        text-align: right;\n",
              "    }\n",
              "</style>\n",
              "<table border=\"1\" class=\"dataframe\">\n",
              "  <thead>\n",
              "    <tr style=\"text-align: right;\">\n",
              "      <th></th>\n",
              "      <th>count</th>\n",
              "    </tr>\n",
              "    <tr>\n",
              "      <th>Status</th>\n",
              "      <th></th>\n",
              "    </tr>\n",
              "  </thead>\n",
              "  <tbody>\n",
              "    <tr>\n",
              "      <th>shipped</th>\n",
              "      <td>29</td>\n",
              "    </tr>\n",
              "    <tr>\n",
              "      <th>cancelled</th>\n",
              "      <td>27</td>\n",
              "    </tr>\n",
              "    <tr>\n",
              "      <th>processing</th>\n",
              "      <td>26</td>\n",
              "    </tr>\n",
              "    <tr>\n",
              "      <th>delivered</th>\n",
              "      <td>20</td>\n",
              "    </tr>\n",
              "    <tr>\n",
              "      <th>returned</th>\n",
              "      <td>17</td>\n",
              "    </tr>\n",
              "    <tr>\n",
              "      <th>nan</th>\n",
              "      <td>16</td>\n",
              "    </tr>\n",
              "    <tr>\n",
              "      <th>new</th>\n",
              "      <td>15</td>\n",
              "    </tr>\n",
              "  </tbody>\n",
              "</table>\n",
              "</div><br><label><b>dtype:</b> int64</label>"
            ]
          },
          "metadata": {},
          "execution_count": 469
        }
      ]
    },
    {
      "cell_type": "markdown",
      "source": [
        "#**- Translates Arabic Notes to English using translator object**"
      ],
      "metadata": {
        "id": "ibDDPG4pA3yX"
      }
    },
    {
      "cell_type": "code",
      "source": [
        "SalesDf[\"Notes\"].value_counts()"
      ],
      "metadata": {
        "colab": {
          "base_uri": "https://localhost:8080/",
          "height": 335
        },
        "id": "GEhdzlXRAA1a",
        "outputId": "4930fb91-9b61-401f-df33-d732d44265c1"
      },
      "execution_count": null,
      "outputs": [
        {
          "output_type": "execute_result",
          "data": {
            "text/plain": [
              "Notes\n",
              "nan                                30\n",
              "عنوان غير واضح - landmark: مسجد    25\n",
              "customer asked for gift wrap       22\n",
              "عميل قديم - خصم إضافي              22\n",
              "deliver asap                       20\n",
              "wrong phone / invalid              16\n",
              "اتصل بنا قبل التوصيل               15\n",
              "Name: count, dtype: int64"
            ],
            "text/html": [
              "<div>\n",
              "<style scoped>\n",
              "    .dataframe tbody tr th:only-of-type {\n",
              "        vertical-align: middle;\n",
              "    }\n",
              "\n",
              "    .dataframe tbody tr th {\n",
              "        vertical-align: top;\n",
              "    }\n",
              "\n",
              "    .dataframe thead th {\n",
              "        text-align: right;\n",
              "    }\n",
              "</style>\n",
              "<table border=\"1\" class=\"dataframe\">\n",
              "  <thead>\n",
              "    <tr style=\"text-align: right;\">\n",
              "      <th></th>\n",
              "      <th>count</th>\n",
              "    </tr>\n",
              "    <tr>\n",
              "      <th>Notes</th>\n",
              "      <th></th>\n",
              "    </tr>\n",
              "  </thead>\n",
              "  <tbody>\n",
              "    <tr>\n",
              "      <th>nan</th>\n",
              "      <td>30</td>\n",
              "    </tr>\n",
              "    <tr>\n",
              "      <th>عنوان غير واضح - landmark: مسجد</th>\n",
              "      <td>25</td>\n",
              "    </tr>\n",
              "    <tr>\n",
              "      <th>customer asked for gift wrap</th>\n",
              "      <td>22</td>\n",
              "    </tr>\n",
              "    <tr>\n",
              "      <th>عميل قديم - خصم إضافي</th>\n",
              "      <td>22</td>\n",
              "    </tr>\n",
              "    <tr>\n",
              "      <th>deliver asap</th>\n",
              "      <td>20</td>\n",
              "    </tr>\n",
              "    <tr>\n",
              "      <th>wrong phone / invalid</th>\n",
              "      <td>16</td>\n",
              "    </tr>\n",
              "    <tr>\n",
              "      <th>اتصل بنا قبل التوصيل</th>\n",
              "      <td>15</td>\n",
              "    </tr>\n",
              "  </tbody>\n",
              "</table>\n",
              "</div><br><label><b>dtype:</b> int64</label>"
            ]
          },
          "metadata": {},
          "execution_count": 470
        }
      ]
    },
    {
      "cell_type": "code",
      "source": [
        "SalesDf['Notes'] = SalesDf['Notes'].apply(lambda x: translator.translate(x, src='ar', dest='en').text if isinstance(x, str) and any('\\u0600' <= c <= '\\u06FF' for c in x) else x)"
      ],
      "metadata": {
        "id": "ubpKIRycALA8"
      },
      "execution_count": null,
      "outputs": []
    },
    {
      "cell_type": "code",
      "source": [
        "tr = GoogleTranslator(source='auto', target='en')\n",
        "SalesDf['Notes'] = SalesDf['Notes'].apply(lambda x: tr.translate(x) if isinstance(x, str) else x)"
      ],
      "metadata": {
        "id": "w5J8Gu5Bf_-S"
      },
      "execution_count": null,
      "outputs": []
    },
    {
      "cell_type": "code",
      "source": [
        "SalesDf[\"Notes\"].value_counts()"
      ],
      "metadata": {
        "colab": {
          "base_uri": "https://localhost:8080/",
          "height": 366
        },
        "id": "V0zS5hq7Av_F",
        "outputId": "b2d7f00c-a40b-491b-8cd7-9c31c341dff6"
      },
      "execution_count": null,
      "outputs": [
        {
          "output_type": "execute_result",
          "data": {
            "text/plain": [
              "Notes\n",
              "in                                    30\n",
              "customer asked for gift wrap          22\n",
              "Old customer - extra discount         22\n",
              "Unclear address - landmark: mosque    21\n",
              "deliver asap                          20\n",
              "wrong phone / invalid                 16\n",
              "Contact us before delivery            15\n",
              "Unclear title - landmark: Mosque       4\n",
              "Name: count, dtype: int64"
            ],
            "text/html": [
              "<div>\n",
              "<style scoped>\n",
              "    .dataframe tbody tr th:only-of-type {\n",
              "        vertical-align: middle;\n",
              "    }\n",
              "\n",
              "    .dataframe tbody tr th {\n",
              "        vertical-align: top;\n",
              "    }\n",
              "\n",
              "    .dataframe thead th {\n",
              "        text-align: right;\n",
              "    }\n",
              "</style>\n",
              "<table border=\"1\" class=\"dataframe\">\n",
              "  <thead>\n",
              "    <tr style=\"text-align: right;\">\n",
              "      <th></th>\n",
              "      <th>count</th>\n",
              "    </tr>\n",
              "    <tr>\n",
              "      <th>Notes</th>\n",
              "      <th></th>\n",
              "    </tr>\n",
              "  </thead>\n",
              "  <tbody>\n",
              "    <tr>\n",
              "      <th>in</th>\n",
              "      <td>30</td>\n",
              "    </tr>\n",
              "    <tr>\n",
              "      <th>customer asked for gift wrap</th>\n",
              "      <td>22</td>\n",
              "    </tr>\n",
              "    <tr>\n",
              "      <th>Old customer - extra discount</th>\n",
              "      <td>22</td>\n",
              "    </tr>\n",
              "    <tr>\n",
              "      <th>Unclear address - landmark: mosque</th>\n",
              "      <td>21</td>\n",
              "    </tr>\n",
              "    <tr>\n",
              "      <th>deliver asap</th>\n",
              "      <td>20</td>\n",
              "    </tr>\n",
              "    <tr>\n",
              "      <th>wrong phone / invalid</th>\n",
              "      <td>16</td>\n",
              "    </tr>\n",
              "    <tr>\n",
              "      <th>Contact us before delivery</th>\n",
              "      <td>15</td>\n",
              "    </tr>\n",
              "    <tr>\n",
              "      <th>Unclear title - landmark: Mosque</th>\n",
              "      <td>4</td>\n",
              "    </tr>\n",
              "  </tbody>\n",
              "</table>\n",
              "</div><br><label><b>dtype:</b> int64</label>"
            ]
          },
          "metadata": {},
          "execution_count": 481
        }
      ]
    },
    {
      "cell_type": "markdown",
      "source": [
        "#**multi-line addresses (embedded newlines) & Dealing with arabic words**"
      ],
      "metadata": {
        "id": "n3godmMFCYBv"
      }
    },
    {
      "cell_type": "code",
      "source": [
        "SalesDf[\"Address\"].unique()"
      ],
      "metadata": {
        "colab": {
          "base_uri": "https://localhost:8080/"
        },
        "id": "IYc3R-HxAx9L",
        "outputId": "8b596cf5-9261-44c2-e384-a75b5d2b9320"
      },
      "execution_count": null,
      "outputs": [
        {
          "output_type": "execute_result",
          "data": {
            "text/plain": [
              "array(['88\\napt 18\\nblock 7', '146\\napt 46\\nعمارة 7', '139 شارع tahrir',\n",
              "       '186 شارع الهرم', '192\\napt 21\\nblock 2', '28\\napt 48\\nblock 9',\n",
              "       '172 شارع nile', '130 st. الهرم', '119\\napt 43\\nعمارة 25',\n",
              "       '125 street الهرم', '20\\napt 38\\nblock 4', '143 street الهرم',\n",
              "       '88 street tahrir', '19 street nile', '160 st. الهرم',\n",
              "       '147\\napt 25\\nblock 28', '63 شارع الهرم', '80\\napt 29\\nblock 19',\n",
              "       '36 street tahrir', '4\\napt 23\\nblock 19', '107\\napt 47\\nblock 11',\n",
              "       '145 شارع الهرم', '148\\napt 28\\nعمارة 23', '130\\napt 5\\nعمارة 15',\n",
              "       '150\\napt 43\\nblock 30', '80\\napt 31\\nblock 12',\n",
              "       '141\\napt 47\\nعمارة 4', '200\\napt 44\\nعمارة 23',\n",
              "       '71\\napt 41\\nblock 3', '77\\napt 11\\nblock 26', '33 شارع النصر',\n",
              "       '13\\napt 19\\nعمارة 28', '143 st. nile', '106\\napt 45\\nblock 14',\n",
              "       '55\\napt 13\\nعمارة 30', '73 st. الهرم', '96 st. الهرم',\n",
              "       '161\\napt 44\\nعمارة 18', '102\\napt 16\\nعمارة 25',\n",
              "       '96\\napt 4\\nعمارة 22', '122 st. tahrir', '93\\napt 7\\nblock 1',\n",
              "       '77\\napt 21\\nblock 16', '12 شارع الهرم', '102\\napt 2\\nblock 15',\n",
              "       '99\\napt 36\\nعمارة 14', '83\\napt 46\\nعمارة 10', '145 st. النصر',\n",
              "       '98 street nile', '5\\napt 38\\nblock 1', '198\\napt 2\\nعمارة 26',\n",
              "       '3 st. nile', '180 شارع النصر', '20 street tahrir', '15 st. النصر',\n",
              "       '78\\napt 21\\nblock 6', '148 شارع nile', '121\\napt 32\\nعمارة 3',\n",
              "       '82\\napt 47\\nblock 3', '105 شارع الهرم', '65\\napt 39\\nعمارة 23',\n",
              "       '47 st. tahrir', '2\\napt 3\\nblock 24', '30 st. الهرم',\n",
              "       '26\\napt 12\\nblock 28', '135 شارع nile', '154 st. النصر',\n",
              "       '36\\napt 27\\nعمارة 27', '58 شارع الهرم', '107 شارع الهرم',\n",
              "       '143\\napt 5\\nblock 30', '42\\napt 12\\nblock 20', '138 street النصر',\n",
              "       '27\\napt 46\\nعمارة 27', '15 street النصر', '197 st. النصر',\n",
              "       '158 شارع tahrir', '71\\napt 15\\nblock 15', '68 street nile',\n",
              "       '108 شارع النصر', '162\\napt 10\\nblock 21', '135\\napt 11\\nblock 2',\n",
              "       '21\\napt 28\\nblock 17', '32 شارع nile', '82\\napt 36\\nعمارة 26',\n",
              "       '25 شارع tahrir', '92 شارع الهرم', '68\\napt 24\\nblock 8',\n",
              "       '22 st. الهرم', '53 شارع النصر', '58\\napt 10\\nعمارة 29',\n",
              "       '60 شارع nile', '49\\napt 19\\nعمارة 13', '108 st. النصر',\n",
              "       '75\\napt 31\\nblock 4', '176 st. النصر', '29 st. tahrir',\n",
              "       '141 st. النصر', '78\\napt 35\\nعمارة 13', '77 شارع النصر',\n",
              "       '116 st. النصر', '169\\napt 19\\nblock 10', '136\\napt 28\\nblock 10',\n",
              "       '29\\napt 45\\nblock 9', '1 شارع الهرم', '55 شارع الهرم',\n",
              "       '97 street tahrir', '138 street nile', '152 st. الهرم',\n",
              "       '177\\napt 22\\nblock 10', '49 st. tahrir', '183 شارع النصر',\n",
              "       '51\\napt 2\\nblock 18', '48\\napt 25\\nعمارة 18', '13 st. النصر',\n",
              "       '20\\napt 2\\nعمارة 25', '105 street النصر', '125\\napt 33\\nعمارة 5',\n",
              "       '87\\napt 32\\nعمارة 6', '119\\napt 10\\nblock 5', '199 شارع النصر',\n",
              "       '113 شارع النصر', '22 st. النصر', '22 street الهرم',\n",
              "       '43 st. الهرم', '182 شارع الهرم', '11 شارع النصر',\n",
              "       '112\\napt 35\\nblock 1', '3\\napt 7\\nعمارة 14', '41 شارع الهرم',\n",
              "       '113 st. tahrir', '165 street الهرم', '117\\napt 7\\nblock 23',\n",
              "       '79 st. nile', '5\\napt 18\\nblock 8', '16\\napt 21\\nعمارة 18',\n",
              "       '186\\napt 36\\nعمارة 29', '60\\napt 32\\nعمارة 2',\n",
              "       '185 street tahrir', '98 st. tahrir', '14 st. النصر',\n",
              "       '26 street nile', '103 شارع tahrir', '67 street النصر',\n",
              "       '98\\napt 14\\nعمارة 3', '64 شارع النصر', '30\\napt 46\\nblock 11',\n",
              "       '175 شارع tahrir'], dtype=object)"
            ]
          },
          "metadata": {},
          "execution_count": 482
        }
      ]
    },
    {
      "cell_type": "code",
      "source": [],
      "metadata": {
        "id": "vTKXxKbzfy8r"
      },
      "execution_count": null,
      "outputs": []
    },
    {
      "cell_type": "code",
      "source": [
        "SalesDf['Address'] = SalesDf['Address'].apply(lambda x: translator.translate(str(x).replace('\\n', ' '), src='ar', dest='en').text if any('\\u0600' <= c <= '\\u06FF' for c in str(x)) else str(x).replace('\\n', ' '))"
      ],
      "metadata": {
        "id": "p7bNfb0PBHsI"
      },
      "execution_count": null,
      "outputs": []
    },
    {
      "cell_type": "markdown",
      "source": [],
      "metadata": {
        "id": "KBd1WJrsCjoS"
      }
    },
    {
      "cell_type": "markdown",
      "source": [
        "#**Final Address Result**"
      ],
      "metadata": {
        "id": "AijLyWCJCrmm"
      }
    },
    {
      "cell_type": "code",
      "source": [
        "SalesDf['Address'].unique()"
      ],
      "metadata": {
        "colab": {
          "base_uri": "https://localhost:8080/"
        },
        "id": "C1isgoHtBxqd",
        "outputId": "cd31db83-6168-404e-92b8-d1a1c4b05eac"
      },
      "execution_count": null,
      "outputs": [
        {
          "output_type": "execute_result",
          "data": {
            "text/plain": [
              "array(['88 apt 18 block 7', '146 apt 46 building 7', '139 Tahrir Street',\n",
              "       '186 Haram Street', '192 apt 21 block 2', '28 apt 48 block 9',\n",
              "       '172 nile street', '130 st.Pyramid', '119 apt 43 building 25',\n",
              "       '125 street, Haram', '20 apt 38 block 4', '143 street Haram',\n",
              "       '88 street tahrir', '19 street nile', '160 st.Pyramid',\n",
              "       '147 apt 25 block 28', '63 Haram Street', '80 apt 29 block 19',\n",
              "       '36 street tahrir', '4 apt 23 block 19', '107 apt 47 block 11',\n",
              "       '145 Haram Street', '148 apt 28 building 23',\n",
              "       '130 apt 5 building 15', '150 apt 43 block 30',\n",
              "       '80 apt 31 block 12', '141 apt 47 building 4',\n",
              "       '200 apt 44 building 23', '71 apt 41 block 3',\n",
              "       '77 apt 11 block 26', '33 Al-Nasr Street', '13 apt 19 building 28',\n",
              "       '143 st. nile', '106 apt 45 block 14', '55 apt 13 building 30',\n",
              "       '73 st.Pyramid', '96 st.Pyramid', '161 apt 44 building 18',\n",
              "       '102 apt 16 building 25', '96 apt 4 building 22', '122 st. tahrir',\n",
              "       '93 apt 7 block 1', '77 apt 21 block 16', '12 Haram Street',\n",
              "       '102 apt 2 block 15', '99 apt 36 building 14',\n",
              "       '83 apt 46 building 10', '145 st.Victory', '98 street nile',\n",
              "       '5 apt 38 block 1', '198 apt 2 building 26', '3 st. nile',\n",
              "       '180 Al-Nasr Street', '20 street tahrir', '15 st.Victory',\n",
              "       '78 apt 21 block 6', '148 nile street', '121 apt 32 building 3',\n",
              "       '82 apt 47 block 3', '105 Haram Street', '65 apt 39 building 23',\n",
              "       '47 st. tahrir', '2 apt 3 block 24', '30 st.Pyramid',\n",
              "       '26 apt 12 block 28', '135 nile street', '154 st.Victory',\n",
              "       '36 apt 27 building 27', '58 Haram Street', '107 Haram Street',\n",
              "       '143 apt 5 block 30', '42 apt 12 block 20', '138 street Al-Nasr',\n",
              "       '27 apt 46 building 27', '15 street victory', '197 st.Victory',\n",
              "       '158 Tahrir Street', '71 apt 15 block 15', '68 street nile',\n",
              "       '108 Al-Nasr Street', '162 apt 10 block 21', '135 apt 11 block 2',\n",
              "       '21 apt 28 block 17', '32 nile street', '82 apt 36 building 26',\n",
              "       '25 Tahrir Street', '92 Haram Street', '68 apt 24 block 8',\n",
              "       '22 st.Pyramid', '53 Al-Nasr Street', '58 apt 10 building 29',\n",
              "       '60 nile street', '49 apt 19 building 13', '108 st.Victory',\n",
              "       '75 apt 31 block 4', '176 st.Victory', '29 st. tahrir',\n",
              "       '141 st.Victory', '78 apt 35 building 13', '77 Al-Nasr Street',\n",
              "       '116 st.Victory', '169 apt 19 block 10', '136 apt 28 block 10',\n",
              "       '29 apt 45 block 9', '1 Haram Street', '55 Haram Street',\n",
              "       '97 street tahrir', '138 street nile', '152 st.Pyramid',\n",
              "       '177 apt 22 block 10', '49 st. tahrir', '183 Al-Nasr Street',\n",
              "       '51 apt 2 block 18', '48 apt 25 building 18', '13 st.Victory',\n",
              "       '20 apt 2 building 25', '105 street victory',\n",
              "       '125 apt 33 building 5', '87 apt 32 building 6',\n",
              "       '119 apt 10 block 5', '199 Al-Nasr Street', '113 Al-Nasr Street',\n",
              "       '22 st.Victory', '22 Haram street', '43 st.Pyramid',\n",
              "       '182 Haram Street', '11 Al-Nasr Street', '112 apt 35 block 1',\n",
              "       '3 apt 7 building 14', '41 Haram Street', '113 st. tahrir',\n",
              "       '165 Haram street', '117 apt 7 block 23', '79 st. nile',\n",
              "       '5 apt 18 block 8', '16 apt 21 building 18',\n",
              "       '186 apt 36 building 29', '60 apt 32 building 2',\n",
              "       '185 street tahrir', '98 st. tahrir', '14 st.Victory',\n",
              "       '26 street nile', '103 Tahrir Street', '67 street victory',\n",
              "       '98 apt 14 building 3', '64 Al-Nasr Street', '30 apt 46 block 11',\n",
              "       '175 Tahrir Street'], dtype=object)"
            ]
          },
          "metadata": {},
          "execution_count": 484
        }
      ]
    },
    {
      "cell_type": "markdown",
      "source": [
        "#**Discount as value / percent string / decimal rate**\n"
      ],
      "metadata": {
        "id": "KdZl2CmtFc2g"
      }
    },
    {
      "cell_type": "code",
      "source": [
        "SalesDf[\"Discount\"].value_counts()"
      ],
      "metadata": {
        "colab": {
          "base_uri": "https://localhost:8080/",
          "height": 461
        },
        "id": "vwELTp7ZCMz4",
        "outputId": "997e2ed5-11c0-4f06-ab38-643c787fc806"
      },
      "execution_count": null,
      "outputs": [
        {
          "output_type": "execute_result",
          "data": {
            "text/plain": [
              "Discount\n",
              "20      25\n",
              "0       16\n",
              "15%     16\n",
              "0.1     15\n",
              "10%     14\n",
              "0.05    13\n",
              "5       13\n",
              "15      13\n",
              "0.2      9\n",
              "5%       9\n",
              "10       7\n",
              "Name: count, dtype: int64"
            ],
            "text/html": [
              "<div>\n",
              "<style scoped>\n",
              "    .dataframe tbody tr th:only-of-type {\n",
              "        vertical-align: middle;\n",
              "    }\n",
              "\n",
              "    .dataframe tbody tr th {\n",
              "        vertical-align: top;\n",
              "    }\n",
              "\n",
              "    .dataframe thead th {\n",
              "        text-align: right;\n",
              "    }\n",
              "</style>\n",
              "<table border=\"1\" class=\"dataframe\">\n",
              "  <thead>\n",
              "    <tr style=\"text-align: right;\">\n",
              "      <th></th>\n",
              "      <th>count</th>\n",
              "    </tr>\n",
              "    <tr>\n",
              "      <th>Discount</th>\n",
              "      <th></th>\n",
              "    </tr>\n",
              "  </thead>\n",
              "  <tbody>\n",
              "    <tr>\n",
              "      <th>20</th>\n",
              "      <td>25</td>\n",
              "    </tr>\n",
              "    <tr>\n",
              "      <th>0</th>\n",
              "      <td>16</td>\n",
              "    </tr>\n",
              "    <tr>\n",
              "      <th>15%</th>\n",
              "      <td>16</td>\n",
              "    </tr>\n",
              "    <tr>\n",
              "      <th>0.1</th>\n",
              "      <td>15</td>\n",
              "    </tr>\n",
              "    <tr>\n",
              "      <th>10%</th>\n",
              "      <td>14</td>\n",
              "    </tr>\n",
              "    <tr>\n",
              "      <th>0.05</th>\n",
              "      <td>13</td>\n",
              "    </tr>\n",
              "    <tr>\n",
              "      <th>5</th>\n",
              "      <td>13</td>\n",
              "    </tr>\n",
              "    <tr>\n",
              "      <th>15</th>\n",
              "      <td>13</td>\n",
              "    </tr>\n",
              "    <tr>\n",
              "      <th>0.2</th>\n",
              "      <td>9</td>\n",
              "    </tr>\n",
              "    <tr>\n",
              "      <th>5%</th>\n",
              "      <td>9</td>\n",
              "    </tr>\n",
              "    <tr>\n",
              "      <th>10</th>\n",
              "      <td>7</td>\n",
              "    </tr>\n",
              "  </tbody>\n",
              "</table>\n",
              "</div><br><label><b>dtype:</b> int64</label>"
            ]
          },
          "metadata": {},
          "execution_count": 485
        }
      ]
    },
    {
      "cell_type": "code",
      "source": [
        "SalesDf['Discount'] = SalesDf['Discount'].apply(lambda x: float(str(x).replace('%', '')) / 100 if '%' in str(x) else float(str(x)))"
      ],
      "metadata": {
        "id": "oF9G4rvUFgPR"
      },
      "execution_count": null,
      "outputs": []
    },
    {
      "cell_type": "code",
      "source": [
        "SalesDf[\"Discount\"].value_counts()"
      ],
      "metadata": {
        "colab": {
          "base_uri": "https://localhost:8080/",
          "height": 398
        },
        "id": "Bn6623ZjFzpS",
        "outputId": "9befc25d-5c90-4487-a011-e981f1259398"
      },
      "execution_count": null,
      "outputs": [
        {
          "output_type": "execute_result",
          "data": {
            "text/plain": [
              "Discount\n",
              "0.10     29\n",
              "20.00    25\n",
              "0.05     22\n",
              "0.15     16\n",
              "0.00     16\n",
              "15.00    13\n",
              "5.00     13\n",
              "0.20      9\n",
              "10.00     7\n",
              "Name: count, dtype: int64"
            ],
            "text/html": [
              "<div>\n",
              "<style scoped>\n",
              "    .dataframe tbody tr th:only-of-type {\n",
              "        vertical-align: middle;\n",
              "    }\n",
              "\n",
              "    .dataframe tbody tr th {\n",
              "        vertical-align: top;\n",
              "    }\n",
              "\n",
              "    .dataframe thead th {\n",
              "        text-align: right;\n",
              "    }\n",
              "</style>\n",
              "<table border=\"1\" class=\"dataframe\">\n",
              "  <thead>\n",
              "    <tr style=\"text-align: right;\">\n",
              "      <th></th>\n",
              "      <th>count</th>\n",
              "    </tr>\n",
              "    <tr>\n",
              "      <th>Discount</th>\n",
              "      <th></th>\n",
              "    </tr>\n",
              "  </thead>\n",
              "  <tbody>\n",
              "    <tr>\n",
              "      <th>0.10</th>\n",
              "      <td>29</td>\n",
              "    </tr>\n",
              "    <tr>\n",
              "      <th>20.00</th>\n",
              "      <td>25</td>\n",
              "    </tr>\n",
              "    <tr>\n",
              "      <th>0.05</th>\n",
              "      <td>22</td>\n",
              "    </tr>\n",
              "    <tr>\n",
              "      <th>0.15</th>\n",
              "      <td>16</td>\n",
              "    </tr>\n",
              "    <tr>\n",
              "      <th>0.00</th>\n",
              "      <td>16</td>\n",
              "    </tr>\n",
              "    <tr>\n",
              "      <th>15.00</th>\n",
              "      <td>13</td>\n",
              "    </tr>\n",
              "    <tr>\n",
              "      <th>5.00</th>\n",
              "      <td>13</td>\n",
              "    </tr>\n",
              "    <tr>\n",
              "      <th>0.20</th>\n",
              "      <td>9</td>\n",
              "    </tr>\n",
              "    <tr>\n",
              "      <th>10.00</th>\n",
              "      <td>7</td>\n",
              "    </tr>\n",
              "  </tbody>\n",
              "</table>\n",
              "</div><br><label><b>dtype:</b> int64</label>"
            ]
          },
          "metadata": {},
          "execution_count": 487
        }
      ]
    },
    {
      "cell_type": "markdown",
      "source": [
        "#**Standardized mixed discount formats by converting percentage strings, whole numbers, and decimals into decimal**"
      ],
      "metadata": {
        "id": "He5j84LfGUV_"
      }
    },
    {
      "cell_type": "markdown",
      "source": [
        "#**Solving Quantity of 0 or negative; mismatched Subtotal vs. UnitPrice×Quantity**"
      ],
      "metadata": {
        "id": "ILtOLWm9HExM"
      }
    },
    {
      "cell_type": "code",
      "source": [
        "SalesDf['Quantity'].unique()"
      ],
      "metadata": {
        "colab": {
          "base_uri": "https://localhost:8080/"
        },
        "id": "ihsVVrYXHHzu",
        "outputId": "c51df227-a428-4454-f229-6d8bea7c835f"
      },
      "execution_count": null,
      "outputs": [
        {
          "output_type": "execute_result",
          "data": {
            "text/plain": [
              "array(['4', '5', '1', '2', '3', '-1', '0', '10'], dtype=object)"
            ]
          },
          "metadata": {},
          "execution_count": 488
        }
      ]
    },
    {
      "cell_type": "code",
      "source": [
        "SalesDf['Quantity'].apply(lambda x: x == '0').sum()\n"
      ],
      "metadata": {
        "colab": {
          "base_uri": "https://localhost:8080/"
        },
        "id": "yG7GuLfZL8jz",
        "outputId": "dd56b145-e002-4dc3-e848-71c7a7a980af"
      },
      "execution_count": null,
      "outputs": [
        {
          "output_type": "execute_result",
          "data": {
            "text/plain": [
              "np.int64(4)"
            ]
          },
          "metadata": {},
          "execution_count": 489
        }
      ]
    },
    {
      "cell_type": "markdown",
      "source": [
        "**Transform Quantity from object to Int**"
      ],
      "metadata": {
        "id": "YvHa_19MG0iX"
      }
    },
    {
      "cell_type": "code",
      "source": [
        "SalesDf[(SalesDf['Quantity'] == 0) | (SalesDf['Quantity'] == -1)][['Quantity', 'UnitPrice', 'Subtotal', 'ReturnFlag','TotalAmount']]"
      ],
      "metadata": {
        "colab": {
          "base_uri": "https://localhost:8080/",
          "height": 53
        },
        "id": "0vMH2fCrG0PQ",
        "outputId": "c761df62-2f9a-4827-ad90-d2ff80efcaf7"
      },
      "execution_count": null,
      "outputs": [
        {
          "output_type": "execute_result",
          "data": {
            "text/plain": [
              "Empty DataFrame\n",
              "Columns: [Quantity, UnitPrice, Subtotal, ReturnFlag, TotalAmount]\n",
              "Index: []"
            ],
            "text/html": [
              "\n",
              "  <div id=\"df-3398cdf9-ff28-4b91-9ced-36dffd6c4413\" class=\"colab-df-container\">\n",
              "    <div>\n",
              "<style scoped>\n",
              "    .dataframe tbody tr th:only-of-type {\n",
              "        vertical-align: middle;\n",
              "    }\n",
              "\n",
              "    .dataframe tbody tr th {\n",
              "        vertical-align: top;\n",
              "    }\n",
              "\n",
              "    .dataframe thead th {\n",
              "        text-align: right;\n",
              "    }\n",
              "</style>\n",
              "<table border=\"1\" class=\"dataframe\">\n",
              "  <thead>\n",
              "    <tr style=\"text-align: right;\">\n",
              "      <th></th>\n",
              "      <th>Quantity</th>\n",
              "      <th>UnitPrice</th>\n",
              "      <th>Subtotal</th>\n",
              "      <th>ReturnFlag</th>\n",
              "      <th>TotalAmount</th>\n",
              "    </tr>\n",
              "  </thead>\n",
              "  <tbody>\n",
              "  </tbody>\n",
              "</table>\n",
              "</div>\n",
              "    <div class=\"colab-df-buttons\">\n",
              "\n",
              "  <div class=\"colab-df-container\">\n",
              "    <button class=\"colab-df-convert\" onclick=\"convertToInteractive('df-3398cdf9-ff28-4b91-9ced-36dffd6c4413')\"\n",
              "            title=\"Convert this dataframe to an interactive table.\"\n",
              "            style=\"display:none;\">\n",
              "\n",
              "  <svg xmlns=\"http://www.w3.org/2000/svg\" height=\"24px\" viewBox=\"0 -960 960 960\">\n",
              "    <path d=\"M120-120v-720h720v720H120Zm60-500h600v-160H180v160Zm220 220h160v-160H400v160Zm0 220h160v-160H400v160ZM180-400h160v-160H180v160Zm440 0h160v-160H620v160ZM180-180h160v-160H180v160Zm440 0h160v-160H620v160Z\"/>\n",
              "  </svg>\n",
              "    </button>\n",
              "\n",
              "  <style>\n",
              "    .colab-df-container {\n",
              "      display:flex;\n",
              "      gap: 12px;\n",
              "    }\n",
              "\n",
              "    .colab-df-convert {\n",
              "      background-color: #E8F0FE;\n",
              "      border: none;\n",
              "      border-radius: 50%;\n",
              "      cursor: pointer;\n",
              "      display: none;\n",
              "      fill: #1967D2;\n",
              "      height: 32px;\n",
              "      padding: 0 0 0 0;\n",
              "      width: 32px;\n",
              "    }\n",
              "\n",
              "    .colab-df-convert:hover {\n",
              "      background-color: #E2EBFA;\n",
              "      box-shadow: 0px 1px 2px rgba(60, 64, 67, 0.3), 0px 1px 3px 1px rgba(60, 64, 67, 0.15);\n",
              "      fill: #174EA6;\n",
              "    }\n",
              "\n",
              "    .colab-df-buttons div {\n",
              "      margin-bottom: 4px;\n",
              "    }\n",
              "\n",
              "    [theme=dark] .colab-df-convert {\n",
              "      background-color: #3B4455;\n",
              "      fill: #D2E3FC;\n",
              "    }\n",
              "\n",
              "    [theme=dark] .colab-df-convert:hover {\n",
              "      background-color: #434B5C;\n",
              "      box-shadow: 0px 1px 3px 1px rgba(0, 0, 0, 0.15);\n",
              "      filter: drop-shadow(0px 1px 2px rgba(0, 0, 0, 0.3));\n",
              "      fill: #FFFFFF;\n",
              "    }\n",
              "  </style>\n",
              "\n",
              "    <script>\n",
              "      const buttonEl =\n",
              "        document.querySelector('#df-3398cdf9-ff28-4b91-9ced-36dffd6c4413 button.colab-df-convert');\n",
              "      buttonEl.style.display =\n",
              "        google.colab.kernel.accessAllowed ? 'block' : 'none';\n",
              "\n",
              "      async function convertToInteractive(key) {\n",
              "        const element = document.querySelector('#df-3398cdf9-ff28-4b91-9ced-36dffd6c4413');\n",
              "        const dataTable =\n",
              "          await google.colab.kernel.invokeFunction('convertToInteractive',\n",
              "                                                    [key], {});\n",
              "        if (!dataTable) return;\n",
              "\n",
              "        const docLinkHtml = 'Like what you see? Visit the ' +\n",
              "          '<a target=\"_blank\" href=https://colab.research.google.com/notebooks/data_table.ipynb>data table notebook</a>'\n",
              "          + ' to learn more about interactive tables.';\n",
              "        element.innerHTML = '';\n",
              "        dataTable['output_type'] = 'display_data';\n",
              "        await google.colab.output.renderOutput(dataTable, element);\n",
              "        const docLink = document.createElement('div');\n",
              "        docLink.innerHTML = docLinkHtml;\n",
              "        element.appendChild(docLink);\n",
              "      }\n",
              "    </script>\n",
              "  </div>\n",
              "\n",
              "\n",
              "    </div>\n",
              "  </div>\n"
            ],
            "application/vnd.google.colaboratory.intrinsic+json": {
              "type": "dataframe",
              "repr_error": "Out of range float values are not JSON compliant: nan"
            }
          },
          "metadata": {},
          "execution_count": 490
        }
      ]
    },
    {
      "cell_type": "code",
      "source": [
        "SalesDf['Quantity'] = SalesDf['Quantity'].astype('Int64')"
      ],
      "metadata": {
        "id": "KbO3pEjhF1jc"
      },
      "execution_count": null,
      "outputs": []
    },
    {
      "cell_type": "code",
      "source": [
        "if 'ReturnFlag' not in SalesDf: SalesDf['ReturnFlag'] = 'no'\n",
        "SalesDf['ReturnFlag'] = SalesDf['ReturnFlag'].astype(str).str.strip().str.lower()\n",
        "SalesDf['Quantity'] = pd.to_numeric(SalesDf['Quantity'], errors='coerce')\n",
        "\n",
        "SalesDf.loc[SalesDf['ReturnFlag']=='yes', 'Quantity'] = 0\n",
        "SalesDf.loc[(SalesDf['ReturnFlag']!='yes') & (SalesDf['Quantity']==-1), 'Quantity'] = 1\n",
        "SalesDf.loc[(SalesDf['ReturnFlag']!='yes') & (SalesDf['Quantity'].isna() | (SalesDf['Quantity']==0)), 'Quantity'] = 1\n",
        "\n"
      ],
      "metadata": {
        "id": "Zdf_5nK9Jt6U"
      },
      "execution_count": null,
      "outputs": []
    },
    {
      "cell_type": "code",
      "source": [
        "SalesDf['Quantity'].unique()"
      ],
      "metadata": {
        "colab": {
          "base_uri": "https://localhost:8080/"
        },
        "id": "apT_tw2LJ9F6",
        "outputId": "83b0584f-7c66-4998-e492-1d6dc87f5a66"
      },
      "execution_count": null,
      "outputs": [
        {
          "output_type": "execute_result",
          "data": {
            "text/plain": [
              "<IntegerArray>\n",
              "[4, 5, 1, 2, 3, 10, 0]\n",
              "Length: 7, dtype: Int64"
            ]
          },
          "metadata": {},
          "execution_count": 493
        }
      ]
    },
    {
      "cell_type": "code",
      "source": [
        "SubTotalNew= SalesDf.eval(\"UnitPrice * Quantity\")"
      ],
      "metadata": {
        "colab": {
          "base_uri": "https://localhost:8080/"
        },
        "id": "1Xqaf-sZKAAJ",
        "outputId": "34aa4688-6e47-450c-b95d-30191c11340a"
      },
      "execution_count": null,
      "outputs": [
        {
          "output_type": "stream",
          "name": "stderr",
          "text": [
            "/tmp/ipython-input-3887973959.py:1: RuntimeWarning: Engine has switched to 'python' because numexpr does not support extension array dtypes. Please set your engine to python manually.\n",
            "  SubTotalNew= SalesDf.eval(\"UnitPrice * Quantity\")\n"
          ]
        }
      ]
    },
    {
      "cell_type": "code",
      "source": [
        "for c in ['Quantity','UnitPrice','Subtotal']:\n",
        "    SalesDf[c] = pd.to_numeric(\n",
        "        SalesDf[c].astype(str).str.replace(r'[^0-9\\.-]', '', regex=True),\n",
        "        errors='coerce'\n",
        "    )\n"
      ],
      "metadata": {
        "id": "k-I_P_BRLmWJ"
      },
      "execution_count": null,
      "outputs": []
    },
    {
      "cell_type": "code",
      "source": [
        "FillNew= SalesDf['Subtotal'].isna() | (~np.isclose(SalesDf['Subtotal'].fillna(SubTotalNew), SubTotalNew, atol=1e-6))"
      ],
      "metadata": {
        "id": "BEUNzWq3Kn9q"
      },
      "execution_count": null,
      "outputs": []
    },
    {
      "cell_type": "code",
      "source": [
        "print(SalesDf.loc[FillNew, ['Quantity','UnitPrice','Subtotal']].to_string(index=True))"
      ],
      "metadata": {
        "colab": {
          "base_uri": "https://localhost:8080/"
        },
        "id": "9_e9rq5oLLB9",
        "outputId": "f2200301-91bd-4ccd-db03-3984a88df380"
      },
      "execution_count": null,
      "outputs": [
        {
          "output_type": "stream",
          "name": "stdout",
          "text": [
            "     Quantity  UnitPrice   Subtotal\n",
            "0           4   30206.12  121699.93\n",
            "3           1   23377.88        NaN\n",
            "4           2   29772.00        NaN\n",
            "5           3    4660.31   12706.11\n",
            "7           3   20333.45   58400.68\n",
            "8           3   22530.98        NaN\n",
            "9           4    4243.18   15892.34\n",
            "10          1   33092.99  -29867.43\n",
            "11          4   15344.99   62036.39\n",
            "12          1    4304.79        NaN\n",
            "15          1   24791.67  -26624.77\n",
            "17          3   39336.31  118737.10\n",
            "18          4   44276.42  181202.21\n",
            "19          4   26327.97  104222.43\n",
            "20          1    4706.84        NaN\n",
            "21          1   44172.94   45709.88\n",
            "23          4   30769.67        NaN\n",
            "24          2   32192.49        NaN\n",
            "25          5   40072.90  182419.05\n",
            "26          1   31965.64   29477.80\n",
            "27          1    2238.12    2155.58\n",
            "28          1    1788.21        NaN\n",
            "29          4   18076.78        NaN\n",
            "30          1   41270.55        NaN\n",
            "31         10    9532.21   95298.45\n",
            "32          2    7489.59        NaN\n",
            "34          2   33508.21   61018.33\n",
            "35          2   39548.84        NaN\n",
            "36          1    3951.23        NaN\n",
            "37          0   36406.51   38271.83\n",
            "38          3   34830.60        NaN\n",
            "39          4   23326.90   98189.99\n",
            "40          3   26494.41        NaN\n",
            "41          0   37625.11  163409.61\n",
            "42          1   27871.40   25230.65\n",
            "43          3   48389.77  141570.72\n",
            "45          2   18321.36   34901.12\n",
            "46          5    1683.12    7857.16\n",
            "48          2   49592.32  106765.28\n",
            "50          4   31447.11  123865.77\n",
            "51          1   24832.57        NaN\n",
            "52          1   46623.26        NaN\n",
            "54          4    2579.35   10981.19\n",
            "55          5   38214.28  204312.84\n",
            "56          3   18950.29        NaN\n",
            "57          2   17123.32        NaN\n",
            "58          3    2278.62    6461.59\n",
            "59          2    5670.32        NaN\n",
            "62          3   21052.60   60133.29\n",
            "63          1   31353.01  -31353.01\n",
            "64          5   33141.02  172357.38\n",
            "65          2   42607.34   82294.56\n",
            "67          0   35119.70        NaN\n",
            "68          2   34346.23        NaN\n",
            "69          4   10194.21        NaN\n",
            "70          2    5780.36        NaN\n",
            "71          5   26764.98        NaN\n",
            "73          5   45319.86        NaN\n",
            "74          2   25857.31   51883.95\n",
            "75          0   43371.75        NaN\n",
            "77          4   18573.21   80692.20\n",
            "78          5   17031.30        NaN\n",
            "79          0   38224.00   40884.47\n",
            "81          3   11449.49        NaN\n",
            "82          5    6798.99        NaN\n",
            "83          5   42681.43  196776.60\n",
            "84          3   34088.04        NaN\n",
            "86          4   28572.06        NaN\n",
            "87          5   32893.72  162594.06\n",
            "88          2   39655.56   80821.70\n",
            "89          4   12153.64        NaN\n",
            "90          3   10074.77        NaN\n",
            "91          3   28666.28   93046.19\n",
            "95          3   24208.97   71567.34\n",
            "96          4   32300.33        NaN\n",
            "97          2   38787.88        NaN\n",
            "99          1    3349.69       0.00\n",
            "100         3      92.12     254.79\n",
            "103         3   47811.37  138699.85\n",
            "104         3   12903.96   40857.34\n",
            "105         1   16705.31        NaN\n",
            "107         5   34633.30  173966.07\n",
            "108         1   16340.30       0.00\n",
            "110         1   31041.74        NaN\n",
            "112         1   18515.12   19128.17\n",
            "113         1   30178.44   32643.70\n",
            "114         2   11264.79        NaN\n",
            "115         3   13609.38        NaN\n",
            "116         0   23480.66        NaN\n",
            "117         5    5830.34        NaN\n",
            "119         2    3118.13    6656.50\n",
            "120         4    2424.19        NaN\n",
            "122         5    7256.68   35844.19\n",
            "124         2    9953.40        NaN\n",
            "125         4    2653.02        NaN\n",
            "126         4   13048.19   48184.61\n",
            "129         5   43445.59  227042.80\n",
            "130         5   24330.74  132244.41\n",
            "131         1   17884.34   18981.78\n",
            "133         3   10726.04        NaN\n",
            "134         4    3949.73        NaN\n",
            "135         4   45019.35        NaN\n",
            "136         3   24599.08   72867.65\n",
            "137         2   45691.07        NaN\n",
            "138         0   31776.74        NaN\n",
            "139         5    5591.78        NaN\n",
            "140         2   47890.90   89354.49\n",
            "144         2   27550.07        NaN\n",
            "145         4   36180.63        NaN\n",
            "146         2   31968.22        NaN\n",
            "148         2   41030.31        NaN\n",
            "149         4   28124.60  122270.63\n"
          ]
        }
      ]
    },
    {
      "cell_type": "code",
      "source": [
        "SalesDf.loc[FillNew, 'Subtotal'] = SubTotalNew[FillNew]"
      ],
      "metadata": {
        "id": "rpjxiDQILzc2"
      },
      "execution_count": null,
      "outputs": []
    },
    {
      "cell_type": "markdown",
      "source": [
        "#**Now they are Matching**"
      ],
      "metadata": {
        "id": "KsjY8vq2MZJw"
      }
    },
    {
      "cell_type": "code",
      "source": [
        "print(SalesDf.loc[FillNew, ['Quantity','UnitPrice','Subtotal']].to_string(index=True))"
      ],
      "metadata": {
        "colab": {
          "base_uri": "https://localhost:8080/"
        },
        "id": "Gyxxm3tQMUik",
        "outputId": "9306bca0-cc1b-4892-c6e4-8ac9ac0e8eec"
      },
      "execution_count": null,
      "outputs": [
        {
          "output_type": "stream",
          "name": "stdout",
          "text": [
            "     Quantity  UnitPrice   Subtotal\n",
            "0           4   30206.12  120824.48\n",
            "3           1   23377.88   23377.88\n",
            "4           2   29772.00   59544.00\n",
            "5           3    4660.31   13980.93\n",
            "7           3   20333.45   61000.35\n",
            "8           3   22530.98   67592.94\n",
            "9           4    4243.18   16972.72\n",
            "10          1   33092.99   33092.99\n",
            "11          4   15344.99   61379.96\n",
            "12          1    4304.79    4304.79\n",
            "15          1   24791.67   24791.67\n",
            "17          3   39336.31  118008.93\n",
            "18          4   44276.42  177105.68\n",
            "19          4   26327.97  105311.88\n",
            "20          1    4706.84    4706.84\n",
            "21          1   44172.94   44172.94\n",
            "23          4   30769.67  123078.68\n",
            "24          2   32192.49   64384.98\n",
            "25          5   40072.90  200364.50\n",
            "26          1   31965.64   31965.64\n",
            "27          1    2238.12    2238.12\n",
            "28          1    1788.21    1788.21\n",
            "29          4   18076.78   72307.12\n",
            "30          1   41270.55   41270.55\n",
            "31         10    9532.21   95322.10\n",
            "32          2    7489.59   14979.18\n",
            "34          2   33508.21   67016.42\n",
            "35          2   39548.84   79097.68\n",
            "36          1    3951.23    3951.23\n",
            "37          0   36406.51       0.00\n",
            "38          3   34830.60  104491.80\n",
            "39          4   23326.90   93307.60\n",
            "40          3   26494.41   79483.23\n",
            "41          0   37625.11       0.00\n",
            "42          1   27871.40   27871.40\n",
            "43          3   48389.77  145169.31\n",
            "45          2   18321.36   36642.72\n",
            "46          5    1683.12    8415.60\n",
            "48          2   49592.32   99184.64\n",
            "50          4   31447.11  125788.44\n",
            "51          1   24832.57   24832.57\n",
            "52          1   46623.26   46623.26\n",
            "54          4    2579.35   10317.40\n",
            "55          5   38214.28  191071.40\n",
            "56          3   18950.29   56850.87\n",
            "57          2   17123.32   34246.64\n",
            "58          3    2278.62    6835.86\n",
            "59          2    5670.32   11340.64\n",
            "62          3   21052.60   63157.80\n",
            "63          1   31353.01   31353.01\n",
            "64          5   33141.02  165705.10\n",
            "65          2   42607.34   85214.68\n",
            "67          0   35119.70       0.00\n",
            "68          2   34346.23   68692.46\n",
            "69          4   10194.21   40776.84\n",
            "70          2    5780.36   11560.72\n",
            "71          5   26764.98  133824.90\n",
            "73          5   45319.86  226599.30\n",
            "74          2   25857.31   51714.62\n",
            "75          0   43371.75       0.00\n",
            "77          4   18573.21   74292.84\n",
            "78          5   17031.30   85156.50\n",
            "79          0   38224.00       0.00\n",
            "81          3   11449.49   34348.47\n",
            "82          5    6798.99   33994.95\n",
            "83          5   42681.43  213407.15\n",
            "84          3   34088.04  102264.12\n",
            "86          4   28572.06  114288.24\n",
            "87          5   32893.72  164468.60\n",
            "88          2   39655.56   79311.12\n",
            "89          4   12153.64   48614.56\n",
            "90          3   10074.77   30224.31\n",
            "91          3   28666.28   85998.84\n",
            "95          3   24208.97   72626.91\n",
            "96          4   32300.33  129201.32\n",
            "97          2   38787.88   77575.76\n",
            "99          1    3349.69    3349.69\n",
            "100         3      92.12     276.36\n",
            "103         3   47811.37  143434.11\n",
            "104         3   12903.96   38711.88\n",
            "105         1   16705.31   16705.31\n",
            "107         5   34633.30  173166.50\n",
            "108         1   16340.30   16340.30\n",
            "110         1   31041.74   31041.74\n",
            "112         1   18515.12   18515.12\n",
            "113         1   30178.44   30178.44\n",
            "114         2   11264.79   22529.58\n",
            "115         3   13609.38   40828.14\n",
            "116         0   23480.66       0.00\n",
            "117         5    5830.34   29151.70\n",
            "119         2    3118.13    6236.26\n",
            "120         4    2424.19    9696.76\n",
            "122         5    7256.68   36283.40\n",
            "124         2    9953.40   19906.80\n",
            "125         4    2653.02   10612.08\n",
            "126         4   13048.19   52192.76\n",
            "129         5   43445.59  217227.95\n",
            "130         5   24330.74  121653.70\n",
            "131         1   17884.34   17884.34\n",
            "133         3   10726.04   32178.12\n",
            "134         4    3949.73   15798.92\n",
            "135         4   45019.35  180077.40\n",
            "136         3   24599.08   73797.24\n",
            "137         2   45691.07   91382.14\n",
            "138         0   31776.74       0.00\n",
            "139         5    5591.78   27958.90\n",
            "140         2   47890.90   95781.80\n",
            "144         2   27550.07   55100.14\n",
            "145         4   36180.63  144722.52\n",
            "146         2   31968.22   63936.44\n",
            "148         2   41030.31   82060.62\n",
            "149         4   28124.60  112498.40\n"
          ]
        }
      ]
    },
    {
      "cell_type": "markdown",
      "source": [
        "#**Currency as code/symbol or full value string (including USD)**"
      ],
      "metadata": {
        "id": "g2PkS41QMlFF"
      }
    },
    {
      "cell_type": "code",
      "source": [
        "SalesDf[\"Currency\"].unique()"
      ],
      "metadata": {
        "colab": {
          "base_uri": "https://localhost:8080/"
        },
        "id": "UYFwXj9OMXY7",
        "outputId": "190c0245-d487-4c23-8a77-7318ce60a2e6"
      },
      "execution_count": null,
      "outputs": [
        {
          "output_type": "execute_result",
          "data": {
            "text/plain": [
              "array(['ج.م', 'egp', 'e£ 35564.57', 'e£', 'usd', 'usd 10930.9',\n",
              "       'usd 1034.18', 'ج.م 67637.94', 'usd 1293.05', 'e£ 41982.116',\n",
              "       'usd 51507.984000000004', 'egp 145935.24', 'e£ 1998.65',\n",
              "       'e£ 95373.45', 'e£ 61003.33', 'usd 71287.912', 'usd 87.46',\n",
              "       'e£ 38326.83', 'e£ 75509.0685', 'egp 98410.32', 'egp 7171.444',\n",
              "       'ج.م 106755.28', 'ج.م 123945.77', 'egp 24877.57', 'egp 22540.86',\n",
              "       'ج.م 10966.19', 'egp 56905.87', 'ج.م 115228.22999999998',\n",
              "       'egp 163839.511', 'e£ 78208.7', 'ج.م 91116.16', 'egp 113751.165',\n",
              "       'e£ 58102.682', 'ج.م 226644.3', 'ج.م 100.0', 'usd 255.61',\n",
              "       'ج.م 103629.55', 'usd 51.79', 'e£ 17146.47', 'ج.م 40907.34',\n",
              "       'ج.م 19213.17', 'egp 32678.7', 'ج.م 62899.26', 'egp 19878.56',\n",
              "       'egp 8489.664', 'usd 941.31', 'usd 193036.37999999998',\n",
              "       'egp 135644.08', 'usd 180172.4', 'egp 72897.65',\n",
              "       'ج.م 114421.26400000001', 'e£ 27938.9', 'e£ 60411.76',\n",
              "       'usd 10196.858', 'usd 1300.99', 'e£ 115758.61'], dtype=object)"
            ]
          },
          "metadata": {},
          "execution_count": 500
        }
      ]
    },
    {
      "cell_type": "code",
      "source": [
        "SalesDf['Currency'] = SalesDf['Currency'].apply(lambda x: 'usd' if 'usd' in str(x).lower() else 'egp' if any(c in str(x).lower() for c in ['ج.م', 'e£', 'egp']) else pd.NA)"
      ],
      "metadata": {
        "id": "p_IUbZMMMrBH"
      },
      "execution_count": null,
      "outputs": []
    },
    {
      "cell_type": "markdown",
      "source": [
        "#**The Currency only includes data about if it is Egp or USD because we already have the TotalAmount column no need for redundant numbers in the currency column**"
      ],
      "metadata": {
        "id": "jeVwDQi0N4Dt"
      }
    },
    {
      "cell_type": "code",
      "source": [
        "SalesDf['Currency'].value_counts()"
      ],
      "metadata": {
        "colab": {
          "base_uri": "https://localhost:8080/",
          "height": 178
        },
        "id": "FnovO_w-Nhz8",
        "outputId": "7c9ad5c4-aeaa-4b23-dfa7-6ebe7b3b9797"
      },
      "execution_count": null,
      "outputs": [
        {
          "output_type": "execute_result",
          "data": {
            "text/plain": [
              "Currency\n",
              "egp    104\n",
              "usd     46\n",
              "Name: count, dtype: int64"
            ],
            "text/html": [
              "<div>\n",
              "<style scoped>\n",
              "    .dataframe tbody tr th:only-of-type {\n",
              "        vertical-align: middle;\n",
              "    }\n",
              "\n",
              "    .dataframe tbody tr th {\n",
              "        vertical-align: top;\n",
              "    }\n",
              "\n",
              "    .dataframe thead th {\n",
              "        text-align: right;\n",
              "    }\n",
              "</style>\n",
              "<table border=\"1\" class=\"dataframe\">\n",
              "  <thead>\n",
              "    <tr style=\"text-align: right;\">\n",
              "      <th></th>\n",
              "      <th>count</th>\n",
              "    </tr>\n",
              "    <tr>\n",
              "      <th>Currency</th>\n",
              "      <th></th>\n",
              "    </tr>\n",
              "  </thead>\n",
              "  <tbody>\n",
              "    <tr>\n",
              "      <th>egp</th>\n",
              "      <td>104</td>\n",
              "    </tr>\n",
              "    <tr>\n",
              "      <th>usd</th>\n",
              "      <td>46</td>\n",
              "    </tr>\n",
              "  </tbody>\n",
              "</table>\n",
              "</div><br><label><b>dtype:</b> int64</label>"
            ]
          },
          "metadata": {},
          "execution_count": 502
        }
      ]
    },
    {
      "cell_type": "markdown",
      "source": [
        "#**DataFrame After Cleaning**"
      ],
      "metadata": {
        "id": "tQZO22cwOIvo"
      }
    },
    {
      "cell_type": "code",
      "source": [
        "SalesDf.head()"
      ],
      "metadata": {
        "colab": {
          "base_uri": "https://localhost:8080/",
          "height": 429
        },
        "id": "9AuBao5PNjAb",
        "outputId": "ad672a77-8ec8-4c37-b8c6-0da36806329e"
      },
      "execution_count": null,
      "outputs": [
        {
          "output_type": "execute_result",
          "data": {
            "text/plain": [
              "   OrderID            OrderDate         DeliveryDate CustomerID  \\\n",
              "0  so93810  2024-01-29 00:00:00  2024-02-02 00:00:00       c575   \n",
              "1  so59823  2024-03-12 00:00:00  2024-03-15 00:00:00      c1077   \n",
              "2  so11504  2024-06-23 00:00:00  2024-07-02 00:00:00      c1020   \n",
              "3  so77839                  nat  2024-05-01 00:00:00      c1028   \n",
              "4  so80855  2024-01-04 00:00:00  2024-01-08 00:00:00       c521   \n",
              "\n",
              "      CustomerName  Gender          Phone                      Email  \\\n",
              "0  mohamed mahmoud    male            nan  mohamed.mahmoud@gmail.com   \n",
              "1    sarah ibrahim  female    01284752529  sarah.ibrahim@example.com   \n",
              "2    karim ibrahim    male            nan                        nan   \n",
              "3    ahmed mahmoud    male            nan    ahmed.mahmoud@gmail.com   \n",
              "4      alaa rashid    male  011 4828 5503                        nan   \n",
              "\n",
              "  Governorate        City  ... ShipperName  ShippingCost       SalesRep  \\\n",
              "0      assiut    manfalut  ...      aramex           nan  sarah mohamed   \n",
              "1       cairo  heliopolis  ...  Egypt Post         100.0   karim rashid   \n",
              "2      assiut      abnoub  ...         dhl          25.0   karim rashid   \n",
              "3       aswan    kom ombo  ...         dhl          25.0      ahmed ali   \n",
              "4     red sea      safaga  ...         dhl           0.0  sarah mohamed   \n",
              "\n",
              "     Channel ReturnFlag ReturnDate     Status  \\\n",
              "0      e-com         no        NaT        nan   \n",
              "1      store         no        NaT  delivered   \n",
              "2      e-com         no        NaT  cancelled   \n",
              "3  tel-sales         no        NaT        new   \n",
              "4   whatsapp         no        NaT  cancelled   \n",
              "\n",
              "                                Notes  LatLong_Swapped  \\\n",
              "0               wrong phone / invalid            False   \n",
              "1  Unclear address - landmark: mosque            False   \n",
              "2                        deliver asap            False   \n",
              "3                                  in             True   \n",
              "4  Unclear address - landmark: mosque            False   \n",
              "\n",
              "               Email_Cleaned  \n",
              "0  mohamed.mahmoud@gmail.com  \n",
              "1  sarah.ibrahim@example.com  \n",
              "2                        nan  \n",
              "3    ahmed.mahmoud@gmail.com  \n",
              "4                        nan  \n",
              "\n",
              "[5 rows x 34 columns]"
            ],
            "text/html": [
              "\n",
              "  <div id=\"df-8780e62b-cb89-4968-a2fd-cdef4fbbc0a0\" class=\"colab-df-container\">\n",
              "    <div>\n",
              "<style scoped>\n",
              "    .dataframe tbody tr th:only-of-type {\n",
              "        vertical-align: middle;\n",
              "    }\n",
              "\n",
              "    .dataframe tbody tr th {\n",
              "        vertical-align: top;\n",
              "    }\n",
              "\n",
              "    .dataframe thead th {\n",
              "        text-align: right;\n",
              "    }\n",
              "</style>\n",
              "<table border=\"1\" class=\"dataframe\">\n",
              "  <thead>\n",
              "    <tr style=\"text-align: right;\">\n",
              "      <th></th>\n",
              "      <th>OrderID</th>\n",
              "      <th>OrderDate</th>\n",
              "      <th>DeliveryDate</th>\n",
              "      <th>CustomerID</th>\n",
              "      <th>CustomerName</th>\n",
              "      <th>Gender</th>\n",
              "      <th>Phone</th>\n",
              "      <th>Email</th>\n",
              "      <th>Governorate</th>\n",
              "      <th>City</th>\n",
              "      <th>...</th>\n",
              "      <th>ShipperName</th>\n",
              "      <th>ShippingCost</th>\n",
              "      <th>SalesRep</th>\n",
              "      <th>Channel</th>\n",
              "      <th>ReturnFlag</th>\n",
              "      <th>ReturnDate</th>\n",
              "      <th>Status</th>\n",
              "      <th>Notes</th>\n",
              "      <th>LatLong_Swapped</th>\n",
              "      <th>Email_Cleaned</th>\n",
              "    </tr>\n",
              "  </thead>\n",
              "  <tbody>\n",
              "    <tr>\n",
              "      <th>0</th>\n",
              "      <td>so93810</td>\n",
              "      <td>2024-01-29 00:00:00</td>\n",
              "      <td>2024-02-02 00:00:00</td>\n",
              "      <td>c575</td>\n",
              "      <td>mohamed mahmoud</td>\n",
              "      <td>male</td>\n",
              "      <td>nan</td>\n",
              "      <td>mohamed.mahmoud@gmail.com</td>\n",
              "      <td>assiut</td>\n",
              "      <td>manfalut</td>\n",
              "      <td>...</td>\n",
              "      <td>aramex</td>\n",
              "      <td>nan</td>\n",
              "      <td>sarah mohamed</td>\n",
              "      <td>e-com</td>\n",
              "      <td>no</td>\n",
              "      <td>NaT</td>\n",
              "      <td>nan</td>\n",
              "      <td>wrong phone / invalid</td>\n",
              "      <td>False</td>\n",
              "      <td>mohamed.mahmoud@gmail.com</td>\n",
              "    </tr>\n",
              "    <tr>\n",
              "      <th>1</th>\n",
              "      <td>so59823</td>\n",
              "      <td>2024-03-12 00:00:00</td>\n",
              "      <td>2024-03-15 00:00:00</td>\n",
              "      <td>c1077</td>\n",
              "      <td>sarah ibrahim</td>\n",
              "      <td>female</td>\n",
              "      <td>01284752529</td>\n",
              "      <td>sarah.ibrahim@example.com</td>\n",
              "      <td>cairo</td>\n",
              "      <td>heliopolis</td>\n",
              "      <td>...</td>\n",
              "      <td>Egypt Post</td>\n",
              "      <td>100.0</td>\n",
              "      <td>karim rashid</td>\n",
              "      <td>store</td>\n",
              "      <td>no</td>\n",
              "      <td>NaT</td>\n",
              "      <td>delivered</td>\n",
              "      <td>Unclear address - landmark: mosque</td>\n",
              "      <td>False</td>\n",
              "      <td>sarah.ibrahim@example.com</td>\n",
              "    </tr>\n",
              "    <tr>\n",
              "      <th>2</th>\n",
              "      <td>so11504</td>\n",
              "      <td>2024-06-23 00:00:00</td>\n",
              "      <td>2024-07-02 00:00:00</td>\n",
              "      <td>c1020</td>\n",
              "      <td>karim ibrahim</td>\n",
              "      <td>male</td>\n",
              "      <td>nan</td>\n",
              "      <td>nan</td>\n",
              "      <td>assiut</td>\n",
              "      <td>abnoub</td>\n",
              "      <td>...</td>\n",
              "      <td>dhl</td>\n",
              "      <td>25.0</td>\n",
              "      <td>karim rashid</td>\n",
              "      <td>e-com</td>\n",
              "      <td>no</td>\n",
              "      <td>NaT</td>\n",
              "      <td>cancelled</td>\n",
              "      <td>deliver asap</td>\n",
              "      <td>False</td>\n",
              "      <td>nan</td>\n",
              "    </tr>\n",
              "    <tr>\n",
              "      <th>3</th>\n",
              "      <td>so77839</td>\n",
              "      <td>nat</td>\n",
              "      <td>2024-05-01 00:00:00</td>\n",
              "      <td>c1028</td>\n",
              "      <td>ahmed mahmoud</td>\n",
              "      <td>male</td>\n",
              "      <td>nan</td>\n",
              "      <td>ahmed.mahmoud@gmail.com</td>\n",
              "      <td>aswan</td>\n",
              "      <td>kom ombo</td>\n",
              "      <td>...</td>\n",
              "      <td>dhl</td>\n",
              "      <td>25.0</td>\n",
              "      <td>ahmed ali</td>\n",
              "      <td>tel-sales</td>\n",
              "      <td>no</td>\n",
              "      <td>NaT</td>\n",
              "      <td>new</td>\n",
              "      <td>in</td>\n",
              "      <td>True</td>\n",
              "      <td>ahmed.mahmoud@gmail.com</td>\n",
              "    </tr>\n",
              "    <tr>\n",
              "      <th>4</th>\n",
              "      <td>so80855</td>\n",
              "      <td>2024-01-04 00:00:00</td>\n",
              "      <td>2024-01-08 00:00:00</td>\n",
              "      <td>c521</td>\n",
              "      <td>alaa rashid</td>\n",
              "      <td>male</td>\n",
              "      <td>011 4828 5503</td>\n",
              "      <td>nan</td>\n",
              "      <td>red sea</td>\n",
              "      <td>safaga</td>\n",
              "      <td>...</td>\n",
              "      <td>dhl</td>\n",
              "      <td>0.0</td>\n",
              "      <td>sarah mohamed</td>\n",
              "      <td>whatsapp</td>\n",
              "      <td>no</td>\n",
              "      <td>NaT</td>\n",
              "      <td>cancelled</td>\n",
              "      <td>Unclear address - landmark: mosque</td>\n",
              "      <td>False</td>\n",
              "      <td>nan</td>\n",
              "    </tr>\n",
              "  </tbody>\n",
              "</table>\n",
              "<p>5 rows × 34 columns</p>\n",
              "</div>\n",
              "    <div class=\"colab-df-buttons\">\n",
              "\n",
              "  <div class=\"colab-df-container\">\n",
              "    <button class=\"colab-df-convert\" onclick=\"convertToInteractive('df-8780e62b-cb89-4968-a2fd-cdef4fbbc0a0')\"\n",
              "            title=\"Convert this dataframe to an interactive table.\"\n",
              "            style=\"display:none;\">\n",
              "\n",
              "  <svg xmlns=\"http://www.w3.org/2000/svg\" height=\"24px\" viewBox=\"0 -960 960 960\">\n",
              "    <path d=\"M120-120v-720h720v720H120Zm60-500h600v-160H180v160Zm220 220h160v-160H400v160Zm0 220h160v-160H400v160ZM180-400h160v-160H180v160Zm440 0h160v-160H620v160ZM180-180h160v-160H180v160Zm440 0h160v-160H620v160Z\"/>\n",
              "  </svg>\n",
              "    </button>\n",
              "\n",
              "  <style>\n",
              "    .colab-df-container {\n",
              "      display:flex;\n",
              "      gap: 12px;\n",
              "    }\n",
              "\n",
              "    .colab-df-convert {\n",
              "      background-color: #E8F0FE;\n",
              "      border: none;\n",
              "      border-radius: 50%;\n",
              "      cursor: pointer;\n",
              "      display: none;\n",
              "      fill: #1967D2;\n",
              "      height: 32px;\n",
              "      padding: 0 0 0 0;\n",
              "      width: 32px;\n",
              "    }\n",
              "\n",
              "    .colab-df-convert:hover {\n",
              "      background-color: #E2EBFA;\n",
              "      box-shadow: 0px 1px 2px rgba(60, 64, 67, 0.3), 0px 1px 3px 1px rgba(60, 64, 67, 0.15);\n",
              "      fill: #174EA6;\n",
              "    }\n",
              "\n",
              "    .colab-df-buttons div {\n",
              "      margin-bottom: 4px;\n",
              "    }\n",
              "\n",
              "    [theme=dark] .colab-df-convert {\n",
              "      background-color: #3B4455;\n",
              "      fill: #D2E3FC;\n",
              "    }\n",
              "\n",
              "    [theme=dark] .colab-df-convert:hover {\n",
              "      background-color: #434B5C;\n",
              "      box-shadow: 0px 1px 3px 1px rgba(0, 0, 0, 0.15);\n",
              "      filter: drop-shadow(0px 1px 2px rgba(0, 0, 0, 0.3));\n",
              "      fill: #FFFFFF;\n",
              "    }\n",
              "  </style>\n",
              "\n",
              "    <script>\n",
              "      const buttonEl =\n",
              "        document.querySelector('#df-8780e62b-cb89-4968-a2fd-cdef4fbbc0a0 button.colab-df-convert');\n",
              "      buttonEl.style.display =\n",
              "        google.colab.kernel.accessAllowed ? 'block' : 'none';\n",
              "\n",
              "      async function convertToInteractive(key) {\n",
              "        const element = document.querySelector('#df-8780e62b-cb89-4968-a2fd-cdef4fbbc0a0');\n",
              "        const dataTable =\n",
              "          await google.colab.kernel.invokeFunction('convertToInteractive',\n",
              "                                                    [key], {});\n",
              "        if (!dataTable) return;\n",
              "\n",
              "        const docLinkHtml = 'Like what you see? Visit the ' +\n",
              "          '<a target=\"_blank\" href=https://colab.research.google.com/notebooks/data_table.ipynb>data table notebook</a>'\n",
              "          + ' to learn more about interactive tables.';\n",
              "        element.innerHTML = '';\n",
              "        dataTable['output_type'] = 'display_data';\n",
              "        await google.colab.output.renderOutput(dataTable, element);\n",
              "        const docLink = document.createElement('div');\n",
              "        docLink.innerHTML = docLinkHtml;\n",
              "        element.appendChild(docLink);\n",
              "      }\n",
              "    </script>\n",
              "  </div>\n",
              "\n",
              "\n",
              "    <div id=\"df-98a9d85f-1c26-4c23-8811-fb242c9d2703\">\n",
              "      <button class=\"colab-df-quickchart\" onclick=\"quickchart('df-98a9d85f-1c26-4c23-8811-fb242c9d2703')\"\n",
              "                title=\"Suggest charts\"\n",
              "                style=\"display:none;\">\n",
              "\n",
              "<svg xmlns=\"http://www.w3.org/2000/svg\" height=\"24px\"viewBox=\"0 0 24 24\"\n",
              "     width=\"24px\">\n",
              "    <g>\n",
              "        <path d=\"M19 3H5c-1.1 0-2 .9-2 2v14c0 1.1.9 2 2 2h14c1.1 0 2-.9 2-2V5c0-1.1-.9-2-2-2zM9 17H7v-7h2v7zm4 0h-2V7h2v10zm4 0h-2v-4h2v4z\"/>\n",
              "    </g>\n",
              "</svg>\n",
              "      </button>\n",
              "\n",
              "<style>\n",
              "  .colab-df-quickchart {\n",
              "      --bg-color: #E8F0FE;\n",
              "      --fill-color: #1967D2;\n",
              "      --hover-bg-color: #E2EBFA;\n",
              "      --hover-fill-color: #174EA6;\n",
              "      --disabled-fill-color: #AAA;\n",
              "      --disabled-bg-color: #DDD;\n",
              "  }\n",
              "\n",
              "  [theme=dark] .colab-df-quickchart {\n",
              "      --bg-color: #3B4455;\n",
              "      --fill-color: #D2E3FC;\n",
              "      --hover-bg-color: #434B5C;\n",
              "      --hover-fill-color: #FFFFFF;\n",
              "      --disabled-bg-color: #3B4455;\n",
              "      --disabled-fill-color: #666;\n",
              "  }\n",
              "\n",
              "  .colab-df-quickchart {\n",
              "    background-color: var(--bg-color);\n",
              "    border: none;\n",
              "    border-radius: 50%;\n",
              "    cursor: pointer;\n",
              "    display: none;\n",
              "    fill: var(--fill-color);\n",
              "    height: 32px;\n",
              "    padding: 0;\n",
              "    width: 32px;\n",
              "  }\n",
              "\n",
              "  .colab-df-quickchart:hover {\n",
              "    background-color: var(--hover-bg-color);\n",
              "    box-shadow: 0 1px 2px rgba(60, 64, 67, 0.3), 0 1px 3px 1px rgba(60, 64, 67, 0.15);\n",
              "    fill: var(--button-hover-fill-color);\n",
              "  }\n",
              "\n",
              "  .colab-df-quickchart-complete:disabled,\n",
              "  .colab-df-quickchart-complete:disabled:hover {\n",
              "    background-color: var(--disabled-bg-color);\n",
              "    fill: var(--disabled-fill-color);\n",
              "    box-shadow: none;\n",
              "  }\n",
              "\n",
              "  .colab-df-spinner {\n",
              "    border: 2px solid var(--fill-color);\n",
              "    border-color: transparent;\n",
              "    border-bottom-color: var(--fill-color);\n",
              "    animation:\n",
              "      spin 1s steps(1) infinite;\n",
              "  }\n",
              "\n",
              "  @keyframes spin {\n",
              "    0% {\n",
              "      border-color: transparent;\n",
              "      border-bottom-color: var(--fill-color);\n",
              "      border-left-color: var(--fill-color);\n",
              "    }\n",
              "    20% {\n",
              "      border-color: transparent;\n",
              "      border-left-color: var(--fill-color);\n",
              "      border-top-color: var(--fill-color);\n",
              "    }\n",
              "    30% {\n",
              "      border-color: transparent;\n",
              "      border-left-color: var(--fill-color);\n",
              "      border-top-color: var(--fill-color);\n",
              "      border-right-color: var(--fill-color);\n",
              "    }\n",
              "    40% {\n",
              "      border-color: transparent;\n",
              "      border-right-color: var(--fill-color);\n",
              "      border-top-color: var(--fill-color);\n",
              "    }\n",
              "    60% {\n",
              "      border-color: transparent;\n",
              "      border-right-color: var(--fill-color);\n",
              "    }\n",
              "    80% {\n",
              "      border-color: transparent;\n",
              "      border-right-color: var(--fill-color);\n",
              "      border-bottom-color: var(--fill-color);\n",
              "    }\n",
              "    90% {\n",
              "      border-color: transparent;\n",
              "      border-bottom-color: var(--fill-color);\n",
              "    }\n",
              "  }\n",
              "</style>\n",
              "\n",
              "      <script>\n",
              "        async function quickchart(key) {\n",
              "          const quickchartButtonEl =\n",
              "            document.querySelector('#' + key + ' button');\n",
              "          quickchartButtonEl.disabled = true;  // To prevent multiple clicks.\n",
              "          quickchartButtonEl.classList.add('colab-df-spinner');\n",
              "          try {\n",
              "            const charts = await google.colab.kernel.invokeFunction(\n",
              "                'suggestCharts', [key], {});\n",
              "          } catch (error) {\n",
              "            console.error('Error during call to suggestCharts:', error);\n",
              "          }\n",
              "          quickchartButtonEl.classList.remove('colab-df-spinner');\n",
              "          quickchartButtonEl.classList.add('colab-df-quickchart-complete');\n",
              "        }\n",
              "        (() => {\n",
              "          let quickchartButtonEl =\n",
              "            document.querySelector('#df-98a9d85f-1c26-4c23-8811-fb242c9d2703 button');\n",
              "          quickchartButtonEl.style.display =\n",
              "            google.colab.kernel.accessAllowed ? 'block' : 'none';\n",
              "        })();\n",
              "      </script>\n",
              "    </div>\n",
              "\n",
              "    </div>\n",
              "  </div>\n"
            ],
            "application/vnd.google.colaboratory.intrinsic+json": {
              "type": "dataframe",
              "variable_name": "SalesDf"
            }
          },
          "metadata": {},
          "execution_count": 503
        }
      ]
    },
    {
      "cell_type": "code",
      "source": [
        "print(SalesDf['OrderID'].duplicated().sum())"
      ],
      "metadata": {
        "colab": {
          "base_uri": "https://localhost:8080/"
        },
        "id": "hbThAMClOP-s",
        "outputId": "9aa26836-0838-4c43-f157-e154b1df0642"
      },
      "execution_count": null,
      "outputs": [
        {
          "output_type": "stream",
          "name": "stdout",
          "text": [
            "14\n"
          ]
        }
      ]
    },
    {
      "cell_type": "code",
      "source": [
        "print(SalesDf[SalesDf['OrderID'].duplicated(keep=False)])"
      ],
      "metadata": {
        "colab": {
          "base_uri": "https://localhost:8080/"
        },
        "id": "mHlJ-x_3Ol8a",
        "outputId": "b419fd98-27b8-48a7-c72c-e8a8840e89ba"
      },
      "execution_count": null,
      "outputs": [
        {
          "output_type": "stream",
          "name": "stdout",
          "text": [
            "     OrderID            OrderDate         DeliveryDate CustomerID  \\\n",
            "3    so77839                  nat  2024-05-01 00:00:00      c1028   \n",
            "5    so19508                  nat  2024-01-03 00:00:00      c1016   \n",
            "6    so15229  2024-04-01 00:00:00  2024-04-03 00:00:00      c1079   \n",
            "7    so77839  2024-03-29 00:00:00  2024-04-08 00:00:00      c1024   \n",
            "9    so15229  2024-03-25 00:00:00  2024-01-29 00:00:00        nan   \n",
            "14   so63523  2024-03-26 00:00:00  2024-03-29 00:00:00      c1097   \n",
            "19   so15229  2024-06-13 00:00:00  2024-06-13 00:00:00        nan   \n",
            "22   so63523  2024-06-02 00:00:00  2024-06-06 00:00:00        nan   \n",
            "25   so77839                  nat  2024-05-18 00:00:00       c576   \n",
            "26   so13495  2024-04-16 00:00:00  2024-04-20 00:00:00        nan   \n",
            "29   so19508  2024-05-07 00:00:00  2024-05-07 00:00:00        nan   \n",
            "42   so52778  2024-01-08 00:00:00  2024-01-16 00:00:00        nan   \n",
            "60   so13495  2024-06-25 00:00:00  2024-06-30 00:00:00       c535   \n",
            "73   so57774  2024-03-21 00:00:00  2024-03-25 00:00:00        nan   \n",
            "74   so28398  2024-04-24 00:00:00  2024-05-04 00:00:00      c1045   \n",
            "75   so88908  2024-01-31 00:00:00  2024-02-06 00:00:00      c1026   \n",
            "83   so57774  2024-02-04 00:00:00  2024-02-05 00:00:00       c501   \n",
            "89   so28398  2024-01-11 00:00:00  2024-01-17 00:00:00        nan   \n",
            "92   so88908  2024-01-31 00:00:00  2024-02-03 00:00:00       c538   \n",
            "96   so77839  2024-04-29 00:00:00  2024-05-13 00:00:00       c542   \n",
            "102  so80673  2024-05-28 00:00:00  2024-06-03 00:00:00        nan   \n",
            "115  so84130  2024-04-21 00:00:00  2024-05-03 00:00:00      c1002   \n",
            "131  so52778  2024-02-19 00:00:00  2024-02-28 00:00:00        nan   \n",
            "138  so84130                  nat  2024-05-01 00:00:00       c576   \n",
            "143  so80673  2024-01-08 00:00:00  2024-01-16 00:00:00      c1005   \n",
            "\n",
            "         CustomerName  Gender          Phone                         Email  \\\n",
            "3       ahmed mahmoud    male            nan       ahmed.mahmoud@gmail.com   \n",
            "5      youssef rashid    male            nan     youssefrashid@example.com   \n",
            "6       sarah ibrahim  female    01065337219       sarah.ibrahim@gmail.com   \n",
            "7       ahmed mahmoud    male            nan     ahmed.mahmoud@example.com   \n",
            "9        ahmed farouk  female            nan                           nan   \n",
            "14     youssef rashid  female            nan      youssef.rashid@gmail.com   \n",
            "19      sarah mahmoud  female    01210380581        sara.mahmoud@gmail.com   \n",
            "22          mona nasr  female    01284990607         mona.nasr@example.com   \n",
            "25       mona ibrahim    male    01158895439        mona.ibrahim@gmail.com   \n",
            "26       mona ibrahim  female  012 2862 8439       fromy.ibrahim@gmail.com   \n",
            "29       dina mahmoud    male  011 3317 3544      dr.namahmoud@example.com   \n",
            "42        alaa hassan    male    01019865900       alaa.hassan@example.com   \n",
            "60   muhammad mahmoud    male  011 4616 0937                           nan   \n",
            "73         dina fathi    male    01184044139          dina.fathy@gmail.com   \n",
            "74       sarah hassan  female    01099736040                           nan   \n",
            "75           alaa ali  female    01289503557            alaa.ali@gmail.com   \n",
            "83       nour mahmoud    male            nan        nour.mahmoud@gmail.com   \n",
            "89   muhammad mahmoud    male    01027742113  muhammad.mahmoud@example.com   \n",
            "92      karim ibrahim    male    01034796255                           nan   \n",
            "96          sarah ali    male    01119104802         sarah.ali@example.com   \n",
            "102    youssef rashid    male    01290213415                           nan   \n",
            "115       mona farouk  female    01131918943      fromy.farouk@example.com   \n",
            "131       alaa farouk    male    01237811066        alaafarouk@example.com   \n",
            "138       alaa farouk    male    01278495121        alaafarouk@example.com   \n",
            "143      mona mahmoud  female    01184424395        mona.mahmoud@gmail.com   \n",
            "\n",
            "     Governorate        City  ... ShipperName  ShippingCost       SalesRep  \\\n",
            "3          aswan    kom ombo  ...         dhl          25.0      ahmed ali   \n",
            "5        red sea      safaga  ...      aramex          50.0      ahmed ali   \n",
            "6    south sinai       dahab  ...      aramex          50.0      ahmed ali   \n",
            "7        red sea    hurghada  ...      aramex           nan      ahmed ali   \n",
            "9         assiut    manfalut  ...      aramex          75.0     mona salah   \n",
            "14       sharqia     zagazig  ...       fedex          75.0     mona salah   \n",
            "19    alexandria     stanley  ...       fedex          75.0     mona salah   \n",
            "22       sharqia  abu hammad  ...         dhl          75.0      ahmed ali   \n",
            "25         luxor        esna  ...  Egypt Post           0.0   karim rashid   \n",
            "26         luxor      armant  ...      aramex           nan   karim rashid   \n",
            "29       red sea      safaga  ...         dhl           0.0      ahmed ali   \n",
            "42    alexandria     montaza  ...         dhl         100.0   karim rashid   \n",
            "60       red sea    hurghada  ...  Egypt Post          50.0  sarah mohamed   \n",
            "73       red sea    hurghada  ...      aramex          50.0     mona salah   \n",
            "74      qalyubia     qanater  ...         dhl          75.0      ahmed ali   \n",
            "75       red sea    hurghada  ...  Egypt Post         100.0   karim rashid   \n",
            "83       sharqia     zagazig  ...      aramex           nan      ahmed ali   \n",
            "89      dakahlia    mansoura  ...       fedex          75.0      ahmed ali   \n",
            "92         luxor        esna  ...      aramex           0.0      ahmed ali   \n",
            "96       gharbia  el mahalla  ...       fedex          75.0   karim rashid   \n",
            "102        aswan        edfu  ...  Egypt Post           nan      ahmed ali   \n",
            "115     qalyubia     qanater  ...         dhl           0.0      ahmed ali   \n",
            "131      red sea      safaga  ...       fedex          25.0      ahmed ali   \n",
            "138   alexandria      smouha  ...      aramex          25.0   karim rashid   \n",
            "143       assiut      abnoub  ...         dhl          50.0   karim rashid   \n",
            "\n",
            "       Channel ReturnFlag ReturnDate      Status  \\\n",
            "3    tel-sales         no        NaT         new   \n",
            "5        e-com         no        NaT         new   \n",
            "6        e-com         no        NaT         nan   \n",
            "7        e-com         no        NaT         new   \n",
            "9        store         no        NaT     shipped   \n",
            "14   tel-sales         no        NaT    returned   \n",
            "19       store         no        NaT   delivered   \n",
            "22       e-com         no        NaT  processing   \n",
            "25       e-com         no        NaT  processing   \n",
            "26    whatsapp         no        NaT   cancelled   \n",
            "29       store         no        NaT     shipped   \n",
            "42       e-com         no        NaT  processing   \n",
            "60       store         no        NaT   delivered   \n",
            "73    whatsapp         no        NaT    returned   \n",
            "74       store         no        NaT  processing   \n",
            "75       e-com        yes        NaT    returned   \n",
            "83       store         no        NaT   delivered   \n",
            "89    whatsapp         no        NaT         nan   \n",
            "92   tel-sales         no        NaT     shipped   \n",
            "96       e-com         no        NaT     shipped   \n",
            "102      e-com         no        NaT         new   \n",
            "115      e-com         no        NaT    returned   \n",
            "131      e-com         no        NaT         new   \n",
            "138  tel-sales        yes 2024-05-01    returned   \n",
            "143   whatsapp         no        NaT         new   \n",
            "\n",
            "                                  Notes  LatLong_Swapped  \\\n",
            "3                                    in             True   \n",
            "5    Unclear address - landmark: mosque            False   \n",
            "6                                    in            False   \n",
            "7                 wrong phone / invalid            False   \n",
            "9                 wrong phone / invalid            False   \n",
            "14           Contact us before delivery            False   \n",
            "19         customer asked for gift wrap             True   \n",
            "22                         deliver asap            False   \n",
            "25                                   in            False   \n",
            "26         customer asked for gift wrap            False   \n",
            "29           Contact us before delivery            False   \n",
            "42     Unclear title - landmark: Mosque            False   \n",
            "60                                   in            False   \n",
            "73           Contact us before delivery            False   \n",
            "74           Contact us before delivery            False   \n",
            "75        Old customer - extra discount            False   \n",
            "83                                   in            False   \n",
            "89                                   in            False   \n",
            "92                                   in            False   \n",
            "96         customer asked for gift wrap            False   \n",
            "102          Contact us before delivery             True   \n",
            "115        customer asked for gift wrap            False   \n",
            "131                                  in            False   \n",
            "138        customer asked for gift wrap            False   \n",
            "143  Unclear address - landmark: mosque            False   \n",
            "\n",
            "                    Email_Cleaned  \n",
            "3         ahmed.mahmoud@gmail.com  \n",
            "5       youssefrashid@example.com  \n",
            "6         sarah.ibrahim@gmail.com  \n",
            "7       ahmed.mahmoud@example.com  \n",
            "9                             nan  \n",
            "14       youssef.rashid@gmail.com  \n",
            "19         sara.mahmoud@gmail.com  \n",
            "22          mona.nasr@example.com  \n",
            "25         mona.ibrahim@gmail.com  \n",
            "26        fromy.ibrahim@gmail.com  \n",
            "29       dr.namahmoud@example.com  \n",
            "42        alaa.hassan@example.com  \n",
            "60                            nan  \n",
            "73           dina.fathy@gmail.com  \n",
            "74                            nan  \n",
            "75             alaa.ali@gmail.com  \n",
            "83         nour.mahmoud@gmail.com  \n",
            "89   muhammad.mahmoud@example.com  \n",
            "92                            nan  \n",
            "96          sarah.ali@example.com  \n",
            "102                           nan  \n",
            "115      fromy.farouk@example.com  \n",
            "131        alaafarouk@example.com  \n",
            "138        alaafarouk@example.com  \n",
            "143        mona.mahmoud@gmail.com  \n",
            "\n",
            "[25 rows x 34 columns]\n"
          ]
        }
      ]
    },
    {
      "cell_type": "code",
      "source": [
        "SalesDf = SalesDf.sort_values(by=['OrderDate', 'CustomerID', 'Email', 'Phone'], ascending=[False, False, False, False]).drop_duplicates(subset='OrderID', keep='first')"
      ],
      "metadata": {
        "id": "kGYH-jHeOt8g"
      },
      "execution_count": null,
      "outputs": []
    },
    {
      "cell_type": "code",
      "source": [
        "print(SalesDf['OrderID'].duplicated().sum())"
      ],
      "metadata": {
        "colab": {
          "base_uri": "https://localhost:8080/"
        },
        "id": "nRJ5X_HhQUVJ",
        "outputId": "64b2ae13-ff01-417f-9777-4fcb71d4b91a"
      },
      "execution_count": null,
      "outputs": [
        {
          "output_type": "stream",
          "name": "stdout",
          "text": [
            "0\n"
          ]
        }
      ]
    },
    {
      "cell_type": "markdown",
      "source": [
        "#**Products_Raw**\n",
        "---"
      ],
      "metadata": {
        "id": "kue5mNbOQcPe"
      }
    },
    {
      "cell_type": "code",
      "source": [
        "ProductDf = dataSheets.parse('Products_Raw')"
      ],
      "metadata": {
        "id": "xau0c4HhQZOe"
      },
      "execution_count": null,
      "outputs": []
    },
    {
      "cell_type": "markdown",
      "source": [
        "# **Primary Inspection DF head,tail**\n",
        "\n"
      ],
      "metadata": {
        "id": "qkobBSpnQ7V7"
      }
    },
    {
      "cell_type": "code",
      "source": [
        "ProductDf.head()"
      ],
      "metadata": {
        "colab": {
          "base_uri": "https://localhost:8080/",
          "height": 206
        },
        "id": "l6CG-DM3Qvxt",
        "outputId": "8e57fb48-6476-46fd-bec9-b955c2c95cc9"
      },
      "execution_count": null,
      "outputs": [
        {
          "output_type": "execute_result",
          "data": {
            "text/plain": [
              "        SKU              ProductName     Category\n",
              "0  ELEC-001  Laptop i7 16GB - لابتوب  electronics\n",
              "1  elec-001  LAPTOP I7 16GB - لابتوب   إلكترونيات\n",
              "2  ELEC-001  Labtop i7 16GB - لابتوب  electronics\n",
              "3  elec-002    Smartphone A55 - هاتف   Electrnics\n",
              "4   ELEC002    Smartphone A55 - هاتف   إلكترونيات"
            ],
            "text/html": [
              "\n",
              "  <div id=\"df-206ff210-0192-4c0d-ba3f-3f33eda9aa23\" class=\"colab-df-container\">\n",
              "    <div>\n",
              "<style scoped>\n",
              "    .dataframe tbody tr th:only-of-type {\n",
              "        vertical-align: middle;\n",
              "    }\n",
              "\n",
              "    .dataframe tbody tr th {\n",
              "        vertical-align: top;\n",
              "    }\n",
              "\n",
              "    .dataframe thead th {\n",
              "        text-align: right;\n",
              "    }\n",
              "</style>\n",
              "<table border=\"1\" class=\"dataframe\">\n",
              "  <thead>\n",
              "    <tr style=\"text-align: right;\">\n",
              "      <th></th>\n",
              "      <th>SKU</th>\n",
              "      <th>ProductName</th>\n",
              "      <th>Category</th>\n",
              "    </tr>\n",
              "  </thead>\n",
              "  <tbody>\n",
              "    <tr>\n",
              "      <th>0</th>\n",
              "      <td>ELEC-001</td>\n",
              "      <td>Laptop i7 16GB - لابتوب</td>\n",
              "      <td>electronics</td>\n",
              "    </tr>\n",
              "    <tr>\n",
              "      <th>1</th>\n",
              "      <td>elec-001</td>\n",
              "      <td>LAPTOP I7 16GB - لابتوب</td>\n",
              "      <td>إلكترونيات</td>\n",
              "    </tr>\n",
              "    <tr>\n",
              "      <th>2</th>\n",
              "      <td>ELEC-001</td>\n",
              "      <td>Labtop i7 16GB - لابتوب</td>\n",
              "      <td>electronics</td>\n",
              "    </tr>\n",
              "    <tr>\n",
              "      <th>3</th>\n",
              "      <td>elec-002</td>\n",
              "      <td>Smartphone A55 - هاتف</td>\n",
              "      <td>Electrnics</td>\n",
              "    </tr>\n",
              "    <tr>\n",
              "      <th>4</th>\n",
              "      <td>ELEC002</td>\n",
              "      <td>Smartphone A55 - هاتف</td>\n",
              "      <td>إلكترونيات</td>\n",
              "    </tr>\n",
              "  </tbody>\n",
              "</table>\n",
              "</div>\n",
              "    <div class=\"colab-df-buttons\">\n",
              "\n",
              "  <div class=\"colab-df-container\">\n",
              "    <button class=\"colab-df-convert\" onclick=\"convertToInteractive('df-206ff210-0192-4c0d-ba3f-3f33eda9aa23')\"\n",
              "            title=\"Convert this dataframe to an interactive table.\"\n",
              "            style=\"display:none;\">\n",
              "\n",
              "  <svg xmlns=\"http://www.w3.org/2000/svg\" height=\"24px\" viewBox=\"0 -960 960 960\">\n",
              "    <path d=\"M120-120v-720h720v720H120Zm60-500h600v-160H180v160Zm220 220h160v-160H400v160Zm0 220h160v-160H400v160ZM180-400h160v-160H180v160Zm440 0h160v-160H620v160ZM180-180h160v-160H180v160Zm440 0h160v-160H620v160Z\"/>\n",
              "  </svg>\n",
              "    </button>\n",
              "\n",
              "  <style>\n",
              "    .colab-df-container {\n",
              "      display:flex;\n",
              "      gap: 12px;\n",
              "    }\n",
              "\n",
              "    .colab-df-convert {\n",
              "      background-color: #E8F0FE;\n",
              "      border: none;\n",
              "      border-radius: 50%;\n",
              "      cursor: pointer;\n",
              "      display: none;\n",
              "      fill: #1967D2;\n",
              "      height: 32px;\n",
              "      padding: 0 0 0 0;\n",
              "      width: 32px;\n",
              "    }\n",
              "\n",
              "    .colab-df-convert:hover {\n",
              "      background-color: #E2EBFA;\n",
              "      box-shadow: 0px 1px 2px rgba(60, 64, 67, 0.3), 0px 1px 3px 1px rgba(60, 64, 67, 0.15);\n",
              "      fill: #174EA6;\n",
              "    }\n",
              "\n",
              "    .colab-df-buttons div {\n",
              "      margin-bottom: 4px;\n",
              "    }\n",
              "\n",
              "    [theme=dark] .colab-df-convert {\n",
              "      background-color: #3B4455;\n",
              "      fill: #D2E3FC;\n",
              "    }\n",
              "\n",
              "    [theme=dark] .colab-df-convert:hover {\n",
              "      background-color: #434B5C;\n",
              "      box-shadow: 0px 1px 3px 1px rgba(0, 0, 0, 0.15);\n",
              "      filter: drop-shadow(0px 1px 2px rgba(0, 0, 0, 0.3));\n",
              "      fill: #FFFFFF;\n",
              "    }\n",
              "  </style>\n",
              "\n",
              "    <script>\n",
              "      const buttonEl =\n",
              "        document.querySelector('#df-206ff210-0192-4c0d-ba3f-3f33eda9aa23 button.colab-df-convert');\n",
              "      buttonEl.style.display =\n",
              "        google.colab.kernel.accessAllowed ? 'block' : 'none';\n",
              "\n",
              "      async function convertToInteractive(key) {\n",
              "        const element = document.querySelector('#df-206ff210-0192-4c0d-ba3f-3f33eda9aa23');\n",
              "        const dataTable =\n",
              "          await google.colab.kernel.invokeFunction('convertToInteractive',\n",
              "                                                    [key], {});\n",
              "        if (!dataTable) return;\n",
              "\n",
              "        const docLinkHtml = 'Like what you see? Visit the ' +\n",
              "          '<a target=\"_blank\" href=https://colab.research.google.com/notebooks/data_table.ipynb>data table notebook</a>'\n",
              "          + ' to learn more about interactive tables.';\n",
              "        element.innerHTML = '';\n",
              "        dataTable['output_type'] = 'display_data';\n",
              "        await google.colab.output.renderOutput(dataTable, element);\n",
              "        const docLink = document.createElement('div');\n",
              "        docLink.innerHTML = docLinkHtml;\n",
              "        element.appendChild(docLink);\n",
              "      }\n",
              "    </script>\n",
              "  </div>\n",
              "\n",
              "\n",
              "    <div id=\"df-3e6909ca-6665-4d17-818e-6e71ea460b05\">\n",
              "      <button class=\"colab-df-quickchart\" onclick=\"quickchart('df-3e6909ca-6665-4d17-818e-6e71ea460b05')\"\n",
              "                title=\"Suggest charts\"\n",
              "                style=\"display:none;\">\n",
              "\n",
              "<svg xmlns=\"http://www.w3.org/2000/svg\" height=\"24px\"viewBox=\"0 0 24 24\"\n",
              "     width=\"24px\">\n",
              "    <g>\n",
              "        <path d=\"M19 3H5c-1.1 0-2 .9-2 2v14c0 1.1.9 2 2 2h14c1.1 0 2-.9 2-2V5c0-1.1-.9-2-2-2zM9 17H7v-7h2v7zm4 0h-2V7h2v10zm4 0h-2v-4h2v4z\"/>\n",
              "    </g>\n",
              "</svg>\n",
              "      </button>\n",
              "\n",
              "<style>\n",
              "  .colab-df-quickchart {\n",
              "      --bg-color: #E8F0FE;\n",
              "      --fill-color: #1967D2;\n",
              "      --hover-bg-color: #E2EBFA;\n",
              "      --hover-fill-color: #174EA6;\n",
              "      --disabled-fill-color: #AAA;\n",
              "      --disabled-bg-color: #DDD;\n",
              "  }\n",
              "\n",
              "  [theme=dark] .colab-df-quickchart {\n",
              "      --bg-color: #3B4455;\n",
              "      --fill-color: #D2E3FC;\n",
              "      --hover-bg-color: #434B5C;\n",
              "      --hover-fill-color: #FFFFFF;\n",
              "      --disabled-bg-color: #3B4455;\n",
              "      --disabled-fill-color: #666;\n",
              "  }\n",
              "\n",
              "  .colab-df-quickchart {\n",
              "    background-color: var(--bg-color);\n",
              "    border: none;\n",
              "    border-radius: 50%;\n",
              "    cursor: pointer;\n",
              "    display: none;\n",
              "    fill: var(--fill-color);\n",
              "    height: 32px;\n",
              "    padding: 0;\n",
              "    width: 32px;\n",
              "  }\n",
              "\n",
              "  .colab-df-quickchart:hover {\n",
              "    background-color: var(--hover-bg-color);\n",
              "    box-shadow: 0 1px 2px rgba(60, 64, 67, 0.3), 0 1px 3px 1px rgba(60, 64, 67, 0.15);\n",
              "    fill: var(--button-hover-fill-color);\n",
              "  }\n",
              "\n",
              "  .colab-df-quickchart-complete:disabled,\n",
              "  .colab-df-quickchart-complete:disabled:hover {\n",
              "    background-color: var(--disabled-bg-color);\n",
              "    fill: var(--disabled-fill-color);\n",
              "    box-shadow: none;\n",
              "  }\n",
              "\n",
              "  .colab-df-spinner {\n",
              "    border: 2px solid var(--fill-color);\n",
              "    border-color: transparent;\n",
              "    border-bottom-color: var(--fill-color);\n",
              "    animation:\n",
              "      spin 1s steps(1) infinite;\n",
              "  }\n",
              "\n",
              "  @keyframes spin {\n",
              "    0% {\n",
              "      border-color: transparent;\n",
              "      border-bottom-color: var(--fill-color);\n",
              "      border-left-color: var(--fill-color);\n",
              "    }\n",
              "    20% {\n",
              "      border-color: transparent;\n",
              "      border-left-color: var(--fill-color);\n",
              "      border-top-color: var(--fill-color);\n",
              "    }\n",
              "    30% {\n",
              "      border-color: transparent;\n",
              "      border-left-color: var(--fill-color);\n",
              "      border-top-color: var(--fill-color);\n",
              "      border-right-color: var(--fill-color);\n",
              "    }\n",
              "    40% {\n",
              "      border-color: transparent;\n",
              "      border-right-color: var(--fill-color);\n",
              "      border-top-color: var(--fill-color);\n",
              "    }\n",
              "    60% {\n",
              "      border-color: transparent;\n",
              "      border-right-color: var(--fill-color);\n",
              "    }\n",
              "    80% {\n",
              "      border-color: transparent;\n",
              "      border-right-color: var(--fill-color);\n",
              "      border-bottom-color: var(--fill-color);\n",
              "    }\n",
              "    90% {\n",
              "      border-color: transparent;\n",
              "      border-bottom-color: var(--fill-color);\n",
              "    }\n",
              "  }\n",
              "</style>\n",
              "\n",
              "      <script>\n",
              "        async function quickchart(key) {\n",
              "          const quickchartButtonEl =\n",
              "            document.querySelector('#' + key + ' button');\n",
              "          quickchartButtonEl.disabled = true;  // To prevent multiple clicks.\n",
              "          quickchartButtonEl.classList.add('colab-df-spinner');\n",
              "          try {\n",
              "            const charts = await google.colab.kernel.invokeFunction(\n",
              "                'suggestCharts', [key], {});\n",
              "          } catch (error) {\n",
              "            console.error('Error during call to suggestCharts:', error);\n",
              "          }\n",
              "          quickchartButtonEl.classList.remove('colab-df-spinner');\n",
              "          quickchartButtonEl.classList.add('colab-df-quickchart-complete');\n",
              "        }\n",
              "        (() => {\n",
              "          let quickchartButtonEl =\n",
              "            document.querySelector('#df-3e6909ca-6665-4d17-818e-6e71ea460b05 button');\n",
              "          quickchartButtonEl.style.display =\n",
              "            google.colab.kernel.accessAllowed ? 'block' : 'none';\n",
              "        })();\n",
              "      </script>\n",
              "    </div>\n",
              "\n",
              "    </div>\n",
              "  </div>\n"
            ],
            "application/vnd.google.colaboratory.intrinsic+json": {
              "type": "dataframe",
              "variable_name": "ProductDf",
              "summary": "{\n  \"name\": \"ProductDf\",\n  \"rows\": 30,\n  \"fields\": [\n    {\n      \"column\": \"SKU\",\n      \"properties\": {\n        \"dtype\": \"string\",\n        \"num_unique_values\": 21,\n        \"samples\": [\n          \"ELEC-001\",\n          \"ELEC-003\",\n          \"book-900\"\n        ],\n        \"semantic_type\": \"\",\n        \"description\": \"\"\n      }\n    },\n    {\n      \"column\": \"ProductName\",\n      \"properties\": {\n        \"dtype\": \"string\",\n        \"num_unique_values\": 18,\n        \"samples\": [\n          \"Laptop i7 16GB - \\u0644\\u0627\\u0628\\u062a\\u0648\\u0628\",\n          \"LAPTOP I7 16GB - \\u0644\\u0627\\u0628\\u062a\\u0648\\u0628\",\n          \"FOOTBALL - \\u0643\\u0631\\u0629 \\u0642\\u062f\\u0645\"\n        ],\n        \"semantic_type\": \"\",\n        \"description\": \"\"\n      }\n    },\n    {\n      \"column\": \"Category\",\n      \"properties\": {\n        \"dtype\": \"category\",\n        \"num_unique_values\": 13,\n        \"samples\": [\n          \"Toys\",\n          \"books\",\n          \"electronics\"\n        ],\n        \"semantic_type\": \"\",\n        \"description\": \"\"\n      }\n    }\n  ]\n}"
            }
          },
          "metadata": {},
          "execution_count": 243
        }
      ]
    },
    {
      "cell_type": "code",
      "source": [
        "ProductDf.tail()"
      ],
      "metadata": {
        "colab": {
          "base_uri": "https://localhost:8080/",
          "height": 206
        },
        "id": "Nn1FTz8aQ934",
        "outputId": "089b349b-da07-42b0-d295-c1e1312da004"
      },
      "execution_count": null,
      "outputs": [
        {
          "output_type": "execute_result",
          "data": {
            "text/plain": [
              "        SKU             ProductName Category\n",
              "25  HOME102    Air Fryer 4L - قلاية     home\n",
              "26  HOME102    AIR FRYER 4L - قلاية     Home\n",
              "27  TOY-777  PUZZLE 1000PCS - أحجية     Toys\n",
              "28  TOY-777  PUZZLE 1000PCS - أحجية     Toys\n",
              "29  TOY-777  Puzzle 1000pcs - أحجية     toys"
            ],
            "text/html": [
              "\n",
              "  <div id=\"df-55943c66-06cb-4930-9504-d949e64e9229\" class=\"colab-df-container\">\n",
              "    <div>\n",
              "<style scoped>\n",
              "    .dataframe tbody tr th:only-of-type {\n",
              "        vertical-align: middle;\n",
              "    }\n",
              "\n",
              "    .dataframe tbody tr th {\n",
              "        vertical-align: top;\n",
              "    }\n",
              "\n",
              "    .dataframe thead th {\n",
              "        text-align: right;\n",
              "    }\n",
              "</style>\n",
              "<table border=\"1\" class=\"dataframe\">\n",
              "  <thead>\n",
              "    <tr style=\"text-align: right;\">\n",
              "      <th></th>\n",
              "      <th>SKU</th>\n",
              "      <th>ProductName</th>\n",
              "      <th>Category</th>\n",
              "    </tr>\n",
              "  </thead>\n",
              "  <tbody>\n",
              "    <tr>\n",
              "      <th>25</th>\n",
              "      <td>HOME102</td>\n",
              "      <td>Air Fryer 4L - قلاية</td>\n",
              "      <td>home</td>\n",
              "    </tr>\n",
              "    <tr>\n",
              "      <th>26</th>\n",
              "      <td>HOME102</td>\n",
              "      <td>AIR FRYER 4L - قلاية</td>\n",
              "      <td>Home</td>\n",
              "    </tr>\n",
              "    <tr>\n",
              "      <th>27</th>\n",
              "      <td>TOY-777</td>\n",
              "      <td>PUZZLE 1000PCS - أحجية</td>\n",
              "      <td>Toys</td>\n",
              "    </tr>\n",
              "    <tr>\n",
              "      <th>28</th>\n",
              "      <td>TOY-777</td>\n",
              "      <td>PUZZLE 1000PCS - أحجية</td>\n",
              "      <td>Toys</td>\n",
              "    </tr>\n",
              "    <tr>\n",
              "      <th>29</th>\n",
              "      <td>TOY-777</td>\n",
              "      <td>Puzzle 1000pcs - أحجية</td>\n",
              "      <td>toys</td>\n",
              "    </tr>\n",
              "  </tbody>\n",
              "</table>\n",
              "</div>\n",
              "    <div class=\"colab-df-buttons\">\n",
              "\n",
              "  <div class=\"colab-df-container\">\n",
              "    <button class=\"colab-df-convert\" onclick=\"convertToInteractive('df-55943c66-06cb-4930-9504-d949e64e9229')\"\n",
              "            title=\"Convert this dataframe to an interactive table.\"\n",
              "            style=\"display:none;\">\n",
              "\n",
              "  <svg xmlns=\"http://www.w3.org/2000/svg\" height=\"24px\" viewBox=\"0 -960 960 960\">\n",
              "    <path d=\"M120-120v-720h720v720H120Zm60-500h600v-160H180v160Zm220 220h160v-160H400v160Zm0 220h160v-160H400v160ZM180-400h160v-160H180v160Zm440 0h160v-160H620v160ZM180-180h160v-160H180v160Zm440 0h160v-160H620v160Z\"/>\n",
              "  </svg>\n",
              "    </button>\n",
              "\n",
              "  <style>\n",
              "    .colab-df-container {\n",
              "      display:flex;\n",
              "      gap: 12px;\n",
              "    }\n",
              "\n",
              "    .colab-df-convert {\n",
              "      background-color: #E8F0FE;\n",
              "      border: none;\n",
              "      border-radius: 50%;\n",
              "      cursor: pointer;\n",
              "      display: none;\n",
              "      fill: #1967D2;\n",
              "      height: 32px;\n",
              "      padding: 0 0 0 0;\n",
              "      width: 32px;\n",
              "    }\n",
              "\n",
              "    .colab-df-convert:hover {\n",
              "      background-color: #E2EBFA;\n",
              "      box-shadow: 0px 1px 2px rgba(60, 64, 67, 0.3), 0px 1px 3px 1px rgba(60, 64, 67, 0.15);\n",
              "      fill: #174EA6;\n",
              "    }\n",
              "\n",
              "    .colab-df-buttons div {\n",
              "      margin-bottom: 4px;\n",
              "    }\n",
              "\n",
              "    [theme=dark] .colab-df-convert {\n",
              "      background-color: #3B4455;\n",
              "      fill: #D2E3FC;\n",
              "    }\n",
              "\n",
              "    [theme=dark] .colab-df-convert:hover {\n",
              "      background-color: #434B5C;\n",
              "      box-shadow: 0px 1px 3px 1px rgba(0, 0, 0, 0.15);\n",
              "      filter: drop-shadow(0px 1px 2px rgba(0, 0, 0, 0.3));\n",
              "      fill: #FFFFFF;\n",
              "    }\n",
              "  </style>\n",
              "\n",
              "    <script>\n",
              "      const buttonEl =\n",
              "        document.querySelector('#df-55943c66-06cb-4930-9504-d949e64e9229 button.colab-df-convert');\n",
              "      buttonEl.style.display =\n",
              "        google.colab.kernel.accessAllowed ? 'block' : 'none';\n",
              "\n",
              "      async function convertToInteractive(key) {\n",
              "        const element = document.querySelector('#df-55943c66-06cb-4930-9504-d949e64e9229');\n",
              "        const dataTable =\n",
              "          await google.colab.kernel.invokeFunction('convertToInteractive',\n",
              "                                                    [key], {});\n",
              "        if (!dataTable) return;\n",
              "\n",
              "        const docLinkHtml = 'Like what you see? Visit the ' +\n",
              "          '<a target=\"_blank\" href=https://colab.research.google.com/notebooks/data_table.ipynb>data table notebook</a>'\n",
              "          + ' to learn more about interactive tables.';\n",
              "        element.innerHTML = '';\n",
              "        dataTable['output_type'] = 'display_data';\n",
              "        await google.colab.output.renderOutput(dataTable, element);\n",
              "        const docLink = document.createElement('div');\n",
              "        docLink.innerHTML = docLinkHtml;\n",
              "        element.appendChild(docLink);\n",
              "      }\n",
              "    </script>\n",
              "  </div>\n",
              "\n",
              "\n",
              "    <div id=\"df-332a5937-8e92-48ca-84f2-3d02c33eb29a\">\n",
              "      <button class=\"colab-df-quickchart\" onclick=\"quickchart('df-332a5937-8e92-48ca-84f2-3d02c33eb29a')\"\n",
              "                title=\"Suggest charts\"\n",
              "                style=\"display:none;\">\n",
              "\n",
              "<svg xmlns=\"http://www.w3.org/2000/svg\" height=\"24px\"viewBox=\"0 0 24 24\"\n",
              "     width=\"24px\">\n",
              "    <g>\n",
              "        <path d=\"M19 3H5c-1.1 0-2 .9-2 2v14c0 1.1.9 2 2 2h14c1.1 0 2-.9 2-2V5c0-1.1-.9-2-2-2zM9 17H7v-7h2v7zm4 0h-2V7h2v10zm4 0h-2v-4h2v4z\"/>\n",
              "    </g>\n",
              "</svg>\n",
              "      </button>\n",
              "\n",
              "<style>\n",
              "  .colab-df-quickchart {\n",
              "      --bg-color: #E8F0FE;\n",
              "      --fill-color: #1967D2;\n",
              "      --hover-bg-color: #E2EBFA;\n",
              "      --hover-fill-color: #174EA6;\n",
              "      --disabled-fill-color: #AAA;\n",
              "      --disabled-bg-color: #DDD;\n",
              "  }\n",
              "\n",
              "  [theme=dark] .colab-df-quickchart {\n",
              "      --bg-color: #3B4455;\n",
              "      --fill-color: #D2E3FC;\n",
              "      --hover-bg-color: #434B5C;\n",
              "      --hover-fill-color: #FFFFFF;\n",
              "      --disabled-bg-color: #3B4455;\n",
              "      --disabled-fill-color: #666;\n",
              "  }\n",
              "\n",
              "  .colab-df-quickchart {\n",
              "    background-color: var(--bg-color);\n",
              "    border: none;\n",
              "    border-radius: 50%;\n",
              "    cursor: pointer;\n",
              "    display: none;\n",
              "    fill: var(--fill-color);\n",
              "    height: 32px;\n",
              "    padding: 0;\n",
              "    width: 32px;\n",
              "  }\n",
              "\n",
              "  .colab-df-quickchart:hover {\n",
              "    background-color: var(--hover-bg-color);\n",
              "    box-shadow: 0 1px 2px rgba(60, 64, 67, 0.3), 0 1px 3px 1px rgba(60, 64, 67, 0.15);\n",
              "    fill: var(--button-hover-fill-color);\n",
              "  }\n",
              "\n",
              "  .colab-df-quickchart-complete:disabled,\n",
              "  .colab-df-quickchart-complete:disabled:hover {\n",
              "    background-color: var(--disabled-bg-color);\n",
              "    fill: var(--disabled-fill-color);\n",
              "    box-shadow: none;\n",
              "  }\n",
              "\n",
              "  .colab-df-spinner {\n",
              "    border: 2px solid var(--fill-color);\n",
              "    border-color: transparent;\n",
              "    border-bottom-color: var(--fill-color);\n",
              "    animation:\n",
              "      spin 1s steps(1) infinite;\n",
              "  }\n",
              "\n",
              "  @keyframes spin {\n",
              "    0% {\n",
              "      border-color: transparent;\n",
              "      border-bottom-color: var(--fill-color);\n",
              "      border-left-color: var(--fill-color);\n",
              "    }\n",
              "    20% {\n",
              "      border-color: transparent;\n",
              "      border-left-color: var(--fill-color);\n",
              "      border-top-color: var(--fill-color);\n",
              "    }\n",
              "    30% {\n",
              "      border-color: transparent;\n",
              "      border-left-color: var(--fill-color);\n",
              "      border-top-color: var(--fill-color);\n",
              "      border-right-color: var(--fill-color);\n",
              "    }\n",
              "    40% {\n",
              "      border-color: transparent;\n",
              "      border-right-color: var(--fill-color);\n",
              "      border-top-color: var(--fill-color);\n",
              "    }\n",
              "    60% {\n",
              "      border-color: transparent;\n",
              "      border-right-color: var(--fill-color);\n",
              "    }\n",
              "    80% {\n",
              "      border-color: transparent;\n",
              "      border-right-color: var(--fill-color);\n",
              "      border-bottom-color: var(--fill-color);\n",
              "    }\n",
              "    90% {\n",
              "      border-color: transparent;\n",
              "      border-bottom-color: var(--fill-color);\n",
              "    }\n",
              "  }\n",
              "</style>\n",
              "\n",
              "      <script>\n",
              "        async function quickchart(key) {\n",
              "          const quickchartButtonEl =\n",
              "            document.querySelector('#' + key + ' button');\n",
              "          quickchartButtonEl.disabled = true;  // To prevent multiple clicks.\n",
              "          quickchartButtonEl.classList.add('colab-df-spinner');\n",
              "          try {\n",
              "            const charts = await google.colab.kernel.invokeFunction(\n",
              "                'suggestCharts', [key], {});\n",
              "          } catch (error) {\n",
              "            console.error('Error during call to suggestCharts:', error);\n",
              "          }\n",
              "          quickchartButtonEl.classList.remove('colab-df-spinner');\n",
              "          quickchartButtonEl.classList.add('colab-df-quickchart-complete');\n",
              "        }\n",
              "        (() => {\n",
              "          let quickchartButtonEl =\n",
              "            document.querySelector('#df-332a5937-8e92-48ca-84f2-3d02c33eb29a button');\n",
              "          quickchartButtonEl.style.display =\n",
              "            google.colab.kernel.accessAllowed ? 'block' : 'none';\n",
              "        })();\n",
              "      </script>\n",
              "    </div>\n",
              "\n",
              "    </div>\n",
              "  </div>\n"
            ],
            "application/vnd.google.colaboratory.intrinsic+json": {
              "type": "dataframe",
              "summary": "{\n  \"name\": \"ProductDf\",\n  \"rows\": 5,\n  \"fields\": [\n    {\n      \"column\": \"SKU\",\n      \"properties\": {\n        \"dtype\": \"category\",\n        \"num_unique_values\": 2,\n        \"samples\": [\n          \"TOY-777\",\n          \"HOME102\"\n        ],\n        \"semantic_type\": \"\",\n        \"description\": \"\"\n      }\n    },\n    {\n      \"column\": \"ProductName\",\n      \"properties\": {\n        \"dtype\": \"string\",\n        \"num_unique_values\": 4,\n        \"samples\": [\n          \"AIR FRYER 4L - \\u0642\\u0644\\u0627\\u064a\\u0629\",\n          \"Puzzle 1000pcs - \\u0623\\u062d\\u062c\\u064a\\u0629\"\n        ],\n        \"semantic_type\": \"\",\n        \"description\": \"\"\n      }\n    },\n    {\n      \"column\": \"Category\",\n      \"properties\": {\n        \"dtype\": \"string\",\n        \"num_unique_values\": 4,\n        \"samples\": [\n          \"Home\",\n          \"toys\"\n        ],\n        \"semantic_type\": \"\",\n        \"description\": \"\"\n      }\n    }\n  ]\n}"
            }
          },
          "metadata": {},
          "execution_count": 244
        }
      ]
    },
    {
      "cell_type": "code",
      "source": [
        "ProductDf.info()"
      ],
      "metadata": {
        "colab": {
          "base_uri": "https://localhost:8080/"
        },
        "id": "GFstee3WRA5T",
        "outputId": "34160441-36e9-49b2-8303-92aa2b02d1b3"
      },
      "execution_count": null,
      "outputs": [
        {
          "output_type": "stream",
          "name": "stdout",
          "text": [
            "<class 'pandas.core.frame.DataFrame'>\n",
            "RangeIndex: 30 entries, 0 to 29\n",
            "Data columns (total 3 columns):\n",
            " #   Column       Non-Null Count  Dtype \n",
            "---  ------       --------------  ----- \n",
            " 0   SKU          30 non-null     object\n",
            " 1   ProductName  30 non-null     object\n",
            " 2   Category     30 non-null     object\n",
            "dtypes: object(3)\n",
            "memory usage: 852.0+ bytes\n"
          ]
        }
      ]
    },
    {
      "cell_type": "code",
      "source": [
        "ProductDf.isna().sum()[ProductDf.isna().sum() > 1]"
      ],
      "metadata": {
        "colab": {
          "base_uri": "https://localhost:8080/",
          "height": 84
        },
        "id": "qizelfp9REoM",
        "outputId": "2838fb15-568a-4478-b487-68ab2b5414db"
      },
      "execution_count": null,
      "outputs": [
        {
          "output_type": "execute_result",
          "data": {
            "text/plain": [
              "Series([], dtype: int64)"
            ],
            "text/html": [
              "<div>\n",
              "<style scoped>\n",
              "    .dataframe tbody tr th:only-of-type {\n",
              "        vertical-align: middle;\n",
              "    }\n",
              "\n",
              "    .dataframe tbody tr th {\n",
              "        vertical-align: top;\n",
              "    }\n",
              "\n",
              "    .dataframe thead th {\n",
              "        text-align: right;\n",
              "    }\n",
              "</style>\n",
              "<table border=\"1\" class=\"dataframe\">\n",
              "  <thead>\n",
              "    <tr style=\"text-align: right;\">\n",
              "      <th></th>\n",
              "      <th>0</th>\n",
              "    </tr>\n",
              "  </thead>\n",
              "  <tbody>\n",
              "  </tbody>\n",
              "</table>\n",
              "</div><br><label><b>dtype:</b> int64</label>"
            ]
          },
          "metadata": {},
          "execution_count": 248
        }
      ]
    },
    {
      "cell_type": "code",
      "source": [],
      "metadata": {
        "id": "rj-oRZ8PRGRW"
      },
      "execution_count": null,
      "outputs": []
    },
    {
      "cell_type": "markdown",
      "source": [
        "#**Product/Category typos (e.g., “Electrnics”, “إلكترونيات”), SKU format variants/missing**"
      ],
      "metadata": {
        "id": "40U0--63RjLC"
      }
    },
    {
      "cell_type": "code",
      "source": [
        "ProductDf[\"ProductName\"].unique()"
      ],
      "metadata": {
        "colab": {
          "base_uri": "https://localhost:8080/"
        },
        "outputId": "1a4098c9-75c1-4b92-ec91-efcee6388649",
        "id": "Ho4W4JS7RjLE"
      },
      "execution_count": null,
      "outputs": [
        {
          "output_type": "execute_result",
          "data": {
            "text/plain": [
              "array(['Laptop i7 16GB - لابتوب', 'LAPTOP I7 16GB - لابتوب',\n",
              "       'Labtop i7 16GB - لابتوب', 'Smartphone A55 - هاتف',\n",
              "       'Electric Kettle - غلاية', 'ELECTRIC KETTLE - غلاية',\n",
              "       'Organic زيت زيتون 1L', 'Men T-Shirt - تيشيرت',\n",
              "       'FOOTBALL - كرة قدم', 'Football - كرة قدم', 'Data Warehousing 101',\n",
              "       'DATA WAREHOUSING 101', 'BLUETOOTH سماعة', 'Bluetooth سماعة',\n",
              "       'Air Fryer 4L - قلاية', 'AIR FRYER 4L - قلاية',\n",
              "       'PUZZLE 1000PCS - أحجية', 'Puzzle 1000pcs - أحجية'], dtype=object)"
            ]
          },
          "metadata": {},
          "execution_count": 249
        }
      ]
    },
    {
      "cell_type": "code",
      "source": [
        "ProductDf[\"Category\"].unique()"
      ],
      "metadata": {
        "colab": {
          "base_uri": "https://localhost:8080/"
        },
        "outputId": "f0b4f204-5ef1-4776-c53e-fbfc3078e617",
        "id": "J5wIYEGTRjLG"
      },
      "execution_count": null,
      "outputs": [
        {
          "output_type": "execute_result",
          "data": {
            "text/plain": [
              "array(['electronics', 'إلكترونيات', 'Electrnics', 'Home', 'grocery',\n",
              "       'Grocery', 'Fashion', 'sports', 'Books', 'books', 'home', 'Toys',\n",
              "       'toys'], dtype=object)"
            ]
          },
          "metadata": {},
          "execution_count": 250
        }
      ]
    },
    {
      "cell_type": "code",
      "source": [
        "ProductDf['Category'] = ProductDf['Category'].apply(\n",
        "    lambda x: 'electronics' if str(x).lower().strip() in ['electrnics', 'إلكترونيات', 'electronics'] else str(x).lower().strip()\n",
        ")"
      ],
      "metadata": {
        "id": "AS7dOWgURjLH"
      },
      "execution_count": null,
      "outputs": []
    },
    {
      "cell_type": "code",
      "source": [
        "ProductDf[\"Category\"].unique()"
      ],
      "metadata": {
        "colab": {
          "base_uri": "https://localhost:8080/"
        },
        "outputId": "ec15f93b-df97-4a0a-8244-0971132745ad",
        "id": "oLF58aEVRjLI"
      },
      "execution_count": null,
      "outputs": [
        {
          "output_type": "execute_result",
          "data": {
            "text/plain": [
              "array(['electronics', 'home', 'grocery', 'fashion', 'sports', 'books',\n",
              "       'toys'], dtype=object)"
            ]
          },
          "metadata": {},
          "execution_count": 252
        }
      ]
    },
    {
      "cell_type": "markdown",
      "source": [
        "# **Standardize and Impute ProductSKU Values Based on ProductName**"
      ],
      "metadata": {
        "id": "sk_Wr1CNRjLI"
      }
    },
    {
      "cell_type": "code",
      "source": [
        "ProductDf['SKU'].unique()"
      ],
      "metadata": {
        "colab": {
          "base_uri": "https://localhost:8080/"
        },
        "outputId": "5893fe91-24f3-4350-8ee0-7a4a4a667cba",
        "id": "Sd8-JBc8RjLJ"
      },
      "execution_count": null,
      "outputs": [
        {
          "output_type": "execute_result",
          "data": {
            "text/plain": [
              "array(['ELEC-001', 'elec-001', 'elec-002', 'ELEC002', 'home-101',\n",
              "       'HOME101', 'groc-501', 'GROC501', 'GROC-501', 'fash-210',\n",
              "       'FASH-210', 'sprt-301', 'SPRT-301', 'SPRT301', 'BOOK900',\n",
              "       'book-900', 'ELEC003', 'ELEC-003', 'elec-003', 'HOME102',\n",
              "       'TOY-777'], dtype=object)"
            ]
          },
          "metadata": {},
          "execution_count": 254
        }
      ]
    },
    {
      "cell_type": "markdown",
      "source": [
        "**35 NULL entry in form of string**"
      ],
      "metadata": {
        "id": "Yzo1YVpxRjLJ"
      }
    },
    {
      "cell_type": "code",
      "source": [
        "ProductDf['SKU'].apply(lambda x: str(x).lower().strip() == 'nan').sum()\n"
      ],
      "metadata": {
        "colab": {
          "base_uri": "https://localhost:8080/"
        },
        "outputId": "0d576ba0-39aa-4cfd-a9c7-75d5490a58b9",
        "id": "XcfyVLgSRjLJ"
      },
      "execution_count": null,
      "outputs": [
        {
          "output_type": "execute_result",
          "data": {
            "text/plain": [
              "np.int64(0)"
            ]
          },
          "metadata": {},
          "execution_count": 256
        }
      ]
    },
    {
      "cell_type": "code",
      "source": [
        "ProductDf['SKU'].apply(lambda x: x == 'book-900').sum()\n"
      ],
      "metadata": {
        "colab": {
          "base_uri": "https://localhost:8080/"
        },
        "outputId": "fd18d06a-ba09-4b69-a692-6746e59c0000",
        "id": "0yQJ6enSRjLJ"
      },
      "execution_count": null,
      "outputs": [
        {
          "output_type": "execute_result",
          "data": {
            "text/plain": [
              "np.int64(1)"
            ]
          },
          "metadata": {},
          "execution_count": 257
        }
      ]
    },
    {
      "cell_type": "markdown",
      "source": [
        "#**Standardization**\n",
        "\n",
        "---\n",
        "\n",
        "\n"
      ],
      "metadata": {
        "id": "e8H8tS1FRjLK"
      }
    },
    {
      "cell_type": "code",
      "source": [
        "ProductDf['SKU'] = ProductDf['SKU'].apply(lambda x: str(x).replace('-', '').strip().lower() if pd.notna(x) else x)"
      ],
      "metadata": {
        "id": "4Usgbz6IRjLK"
      },
      "execution_count": null,
      "outputs": []
    },
    {
      "cell_type": "code",
      "source": [
        "ProductDf['SKU'].unique()"
      ],
      "metadata": {
        "colab": {
          "base_uri": "https://localhost:8080/"
        },
        "outputId": "d1a85810-ae24-4a9f-9771-2b6c5a01415d",
        "id": "s03QYib4RjLK"
      },
      "execution_count": null,
      "outputs": [
        {
          "output_type": "execute_result",
          "data": {
            "text/plain": [
              "array(['elec001', 'elec002', 'home101', 'groc501', 'fash210', 'sprt301',\n",
              "       'book900', 'elec003', 'home102', 'toy777'], dtype=object)"
            ]
          },
          "metadata": {},
          "execution_count": 259
        }
      ]
    },
    {
      "cell_type": "markdown",
      "source": [
        "**NULLS**\n",
        "appears to have 0 nulls because they are strings 'nan' but the 'nan' appears in the .unique as entry in the column"
      ],
      "metadata": {
        "id": "HCNGMp_mRjLL"
      }
    },
    {
      "cell_type": "code",
      "source": [
        "ProductDf['SKU'] = ProductDf.groupby('ProductName')['SKU'].transform(\n",
        "    lambda group: group.replace('nan', np.nan).fillna(method='ffill').fillna(method='bfill')\n",
        ")"
      ],
      "metadata": {
        "colab": {
          "base_uri": "https://localhost:8080/"
        },
        "outputId": "bde09cc7-d1a3-471a-a230-2957fd43295b",
        "id": "g2XdTnqyRjLL"
      },
      "execution_count": null,
      "outputs": [
        {
          "output_type": "stream",
          "name": "stderr",
          "text": [
            "/tmp/ipython-input-1427144408.py:2: FutureWarning: Series.fillna with 'method' is deprecated and will raise in a future version. Use obj.ffill() or obj.bfill() instead.\n",
            "  lambda group: group.replace('nan', np.nan).fillna(method='ffill').fillna(method='bfill')\n"
          ]
        }
      ]
    },
    {
      "cell_type": "code",
      "source": [
        "ProductDf['SKU'].unique()"
      ],
      "metadata": {
        "colab": {
          "base_uri": "https://localhost:8080/"
        },
        "outputId": "086f9856-e321-48c9-bf2f-14f43dfda468",
        "id": "yhVdnkzsRjLL"
      },
      "execution_count": null,
      "outputs": [
        {
          "output_type": "execute_result",
          "data": {
            "text/plain": [
              "array(['elec001', 'elec002', 'home101', 'groc501', 'fash210', 'sprt301',\n",
              "       'book900', 'elec003', 'home102', 'toy777'], dtype=object)"
            ]
          },
          "metadata": {},
          "execution_count": 261
        }
      ]
    },
    {
      "cell_type": "markdown",
      "source": [
        "# **SKU have no issues left**"
      ],
      "metadata": {
        "id": "nOZuD53QRjLM"
      }
    },
    {
      "cell_type": "markdown",
      "source": [
        "#**Customers_Raw**\n"
      ],
      "metadata": {
        "id": "2I6pwl1bSh0h"
      }
    },
    {
      "cell_type": "markdown",
      "source": [
        "# **Accessing Customers Raw Sheet**\n",
        "\n",
        "---\n",
        "\n"
      ],
      "metadata": {
        "id": "BNPjMqVcS4zK"
      }
    },
    {
      "cell_type": "code",
      "source": [
        "CustomersDf = dataSheets.parse('Customers_Raw')"
      ],
      "metadata": {
        "id": "sCY_InvGS4zM"
      },
      "execution_count": null,
      "outputs": []
    },
    {
      "cell_type": "markdown",
      "source": [
        "# **Primary Inspection DF head,tail**\n",
        "\n",
        "\n"
      ],
      "metadata": {
        "id": "zPNkcfUjS4zM"
      }
    },
    {
      "cell_type": "code",
      "source": [
        "CustomersDf.head()"
      ],
      "metadata": {
        "colab": {
          "base_uri": "https://localhost:8080/",
          "height": 206
        },
        "outputId": "990c31a7-3449-4ddc-8879-3d6cfcabee06",
        "id": "-kN_yoLiS4zN"
      },
      "execution_count": null,
      "outputs": [
        {
          "output_type": "execute_result",
          "data": {
            "text/plain": [
              "  CustomerID  CustomerName Gender            Phone                    Email  \\\n",
              "0      C1000    Alaa Fathy      M      01232297072    alaa.fathyexample.com   \n",
              "1      C1001   Mohamed Ali      M      01288174504  mohamed.ali@example.com   \n",
              "2    CUS-502  Youssef Nasr    ذكر  +20 01142158168       youssef.nasr@gmail   \n",
              "3    CUS-503  علاء إبراهيم      M   +2001247509496  علاء.إبراهyمexample.com   \n",
              "4        NaN      يوسف علي      M    012 5369 1252       yوسف.علy@gmail.com   \n",
              "\n",
              "        Gov             City           Address  \n",
              "0   Sharqia            Tanta   8 Street Tahrir  \n",
              "1   gharbia  Sharm El Sheikh   134 شارع Tahrir  \n",
              "2     LUXOR            Tanta  26 Street Tahrir  \n",
              "3     luxor  Sharm El Sheikh  106 Street النصر  \n",
              "4  Dakahlia        Nasr City    90 شارع Tahrir  "
            ],
            "text/html": [
              "\n",
              "  <div id=\"df-e3744ed8-9640-4042-af0e-c6583bc8ab7b\" class=\"colab-df-container\">\n",
              "    <div>\n",
              "<style scoped>\n",
              "    .dataframe tbody tr th:only-of-type {\n",
              "        vertical-align: middle;\n",
              "    }\n",
              "\n",
              "    .dataframe tbody tr th {\n",
              "        vertical-align: top;\n",
              "    }\n",
              "\n",
              "    .dataframe thead th {\n",
              "        text-align: right;\n",
              "    }\n",
              "</style>\n",
              "<table border=\"1\" class=\"dataframe\">\n",
              "  <thead>\n",
              "    <tr style=\"text-align: right;\">\n",
              "      <th></th>\n",
              "      <th>CustomerID</th>\n",
              "      <th>CustomerName</th>\n",
              "      <th>Gender</th>\n",
              "      <th>Phone</th>\n",
              "      <th>Email</th>\n",
              "      <th>Gov</th>\n",
              "      <th>City</th>\n",
              "      <th>Address</th>\n",
              "    </tr>\n",
              "  </thead>\n",
              "  <tbody>\n",
              "    <tr>\n",
              "      <th>0</th>\n",
              "      <td>C1000</td>\n",
              "      <td>Alaa Fathy</td>\n",
              "      <td>M</td>\n",
              "      <td>01232297072</td>\n",
              "      <td>alaa.fathyexample.com</td>\n",
              "      <td>Sharqia</td>\n",
              "      <td>Tanta</td>\n",
              "      <td>8 Street Tahrir</td>\n",
              "    </tr>\n",
              "    <tr>\n",
              "      <th>1</th>\n",
              "      <td>C1001</td>\n",
              "      <td>Mohamed Ali</td>\n",
              "      <td>M</td>\n",
              "      <td>01288174504</td>\n",
              "      <td>mohamed.ali@example.com</td>\n",
              "      <td>gharbia</td>\n",
              "      <td>Sharm El Sheikh</td>\n",
              "      <td>134 شارع Tahrir</td>\n",
              "    </tr>\n",
              "    <tr>\n",
              "      <th>2</th>\n",
              "      <td>CUS-502</td>\n",
              "      <td>Youssef Nasr</td>\n",
              "      <td>ذكر</td>\n",
              "      <td>+20 01142158168</td>\n",
              "      <td>youssef.nasr@gmail</td>\n",
              "      <td>LUXOR</td>\n",
              "      <td>Tanta</td>\n",
              "      <td>26 Street Tahrir</td>\n",
              "    </tr>\n",
              "    <tr>\n",
              "      <th>3</th>\n",
              "      <td>CUS-503</td>\n",
              "      <td>علاء إبراهيم</td>\n",
              "      <td>M</td>\n",
              "      <td>+2001247509496</td>\n",
              "      <td>علاء.إبراهyمexample.com</td>\n",
              "      <td>luxor</td>\n",
              "      <td>Sharm El Sheikh</td>\n",
              "      <td>106 Street النصر</td>\n",
              "    </tr>\n",
              "    <tr>\n",
              "      <th>4</th>\n",
              "      <td>NaN</td>\n",
              "      <td>يوسف علي</td>\n",
              "      <td>M</td>\n",
              "      <td>012 5369 1252</td>\n",
              "      <td>yوسف.علy@gmail.com</td>\n",
              "      <td>Dakahlia</td>\n",
              "      <td>Nasr City</td>\n",
              "      <td>90 شارع Tahrir</td>\n",
              "    </tr>\n",
              "  </tbody>\n",
              "</table>\n",
              "</div>\n",
              "    <div class=\"colab-df-buttons\">\n",
              "\n",
              "  <div class=\"colab-df-container\">\n",
              "    <button class=\"colab-df-convert\" onclick=\"convertToInteractive('df-e3744ed8-9640-4042-af0e-c6583bc8ab7b')\"\n",
              "            title=\"Convert this dataframe to an interactive table.\"\n",
              "            style=\"display:none;\">\n",
              "\n",
              "  <svg xmlns=\"http://www.w3.org/2000/svg\" height=\"24px\" viewBox=\"0 -960 960 960\">\n",
              "    <path d=\"M120-120v-720h720v720H120Zm60-500h600v-160H180v160Zm220 220h160v-160H400v160Zm0 220h160v-160H400v160ZM180-400h160v-160H180v160Zm440 0h160v-160H620v160ZM180-180h160v-160H180v160Zm440 0h160v-160H620v160Z\"/>\n",
              "  </svg>\n",
              "    </button>\n",
              "\n",
              "  <style>\n",
              "    .colab-df-container {\n",
              "      display:flex;\n",
              "      gap: 12px;\n",
              "    }\n",
              "\n",
              "    .colab-df-convert {\n",
              "      background-color: #E8F0FE;\n",
              "      border: none;\n",
              "      border-radius: 50%;\n",
              "      cursor: pointer;\n",
              "      display: none;\n",
              "      fill: #1967D2;\n",
              "      height: 32px;\n",
              "      padding: 0 0 0 0;\n",
              "      width: 32px;\n",
              "    }\n",
              "\n",
              "    .colab-df-convert:hover {\n",
              "      background-color: #E2EBFA;\n",
              "      box-shadow: 0px 1px 2px rgba(60, 64, 67, 0.3), 0px 1px 3px 1px rgba(60, 64, 67, 0.15);\n",
              "      fill: #174EA6;\n",
              "    }\n",
              "\n",
              "    .colab-df-buttons div {\n",
              "      margin-bottom: 4px;\n",
              "    }\n",
              "\n",
              "    [theme=dark] .colab-df-convert {\n",
              "      background-color: #3B4455;\n",
              "      fill: #D2E3FC;\n",
              "    }\n",
              "\n",
              "    [theme=dark] .colab-df-convert:hover {\n",
              "      background-color: #434B5C;\n",
              "      box-shadow: 0px 1px 3px 1px rgba(0, 0, 0, 0.15);\n",
              "      filter: drop-shadow(0px 1px 2px rgba(0, 0, 0, 0.3));\n",
              "      fill: #FFFFFF;\n",
              "    }\n",
              "  </style>\n",
              "\n",
              "    <script>\n",
              "      const buttonEl =\n",
              "        document.querySelector('#df-e3744ed8-9640-4042-af0e-c6583bc8ab7b button.colab-df-convert');\n",
              "      buttonEl.style.display =\n",
              "        google.colab.kernel.accessAllowed ? 'block' : 'none';\n",
              "\n",
              "      async function convertToInteractive(key) {\n",
              "        const element = document.querySelector('#df-e3744ed8-9640-4042-af0e-c6583bc8ab7b');\n",
              "        const dataTable =\n",
              "          await google.colab.kernel.invokeFunction('convertToInteractive',\n",
              "                                                    [key], {});\n",
              "        if (!dataTable) return;\n",
              "\n",
              "        const docLinkHtml = 'Like what you see? Visit the ' +\n",
              "          '<a target=\"_blank\" href=https://colab.research.google.com/notebooks/data_table.ipynb>data table notebook</a>'\n",
              "          + ' to learn more about interactive tables.';\n",
              "        element.innerHTML = '';\n",
              "        dataTable['output_type'] = 'display_data';\n",
              "        await google.colab.output.renderOutput(dataTable, element);\n",
              "        const docLink = document.createElement('div');\n",
              "        docLink.innerHTML = docLinkHtml;\n",
              "        element.appendChild(docLink);\n",
              "      }\n",
              "    </script>\n",
              "  </div>\n",
              "\n",
              "\n",
              "    <div id=\"df-f194a4b9-e6b7-4feb-b857-946a0315a892\">\n",
              "      <button class=\"colab-df-quickchart\" onclick=\"quickchart('df-f194a4b9-e6b7-4feb-b857-946a0315a892')\"\n",
              "                title=\"Suggest charts\"\n",
              "                style=\"display:none;\">\n",
              "\n",
              "<svg xmlns=\"http://www.w3.org/2000/svg\" height=\"24px\"viewBox=\"0 0 24 24\"\n",
              "     width=\"24px\">\n",
              "    <g>\n",
              "        <path d=\"M19 3H5c-1.1 0-2 .9-2 2v14c0 1.1.9 2 2 2h14c1.1 0 2-.9 2-2V5c0-1.1-.9-2-2-2zM9 17H7v-7h2v7zm4 0h-2V7h2v10zm4 0h-2v-4h2v4z\"/>\n",
              "    </g>\n",
              "</svg>\n",
              "      </button>\n",
              "\n",
              "<style>\n",
              "  .colab-df-quickchart {\n",
              "      --bg-color: #E8F0FE;\n",
              "      --fill-color: #1967D2;\n",
              "      --hover-bg-color: #E2EBFA;\n",
              "      --hover-fill-color: #174EA6;\n",
              "      --disabled-fill-color: #AAA;\n",
              "      --disabled-bg-color: #DDD;\n",
              "  }\n",
              "\n",
              "  [theme=dark] .colab-df-quickchart {\n",
              "      --bg-color: #3B4455;\n",
              "      --fill-color: #D2E3FC;\n",
              "      --hover-bg-color: #434B5C;\n",
              "      --hover-fill-color: #FFFFFF;\n",
              "      --disabled-bg-color: #3B4455;\n",
              "      --disabled-fill-color: #666;\n",
              "  }\n",
              "\n",
              "  .colab-df-quickchart {\n",
              "    background-color: var(--bg-color);\n",
              "    border: none;\n",
              "    border-radius: 50%;\n",
              "    cursor: pointer;\n",
              "    display: none;\n",
              "    fill: var(--fill-color);\n",
              "    height: 32px;\n",
              "    padding: 0;\n",
              "    width: 32px;\n",
              "  }\n",
              "\n",
              "  .colab-df-quickchart:hover {\n",
              "    background-color: var(--hover-bg-color);\n",
              "    box-shadow: 0 1px 2px rgba(60, 64, 67, 0.3), 0 1px 3px 1px rgba(60, 64, 67, 0.15);\n",
              "    fill: var(--button-hover-fill-color);\n",
              "  }\n",
              "\n",
              "  .colab-df-quickchart-complete:disabled,\n",
              "  .colab-df-quickchart-complete:disabled:hover {\n",
              "    background-color: var(--disabled-bg-color);\n",
              "    fill: var(--disabled-fill-color);\n",
              "    box-shadow: none;\n",
              "  }\n",
              "\n",
              "  .colab-df-spinner {\n",
              "    border: 2px solid var(--fill-color);\n",
              "    border-color: transparent;\n",
              "    border-bottom-color: var(--fill-color);\n",
              "    animation:\n",
              "      spin 1s steps(1) infinite;\n",
              "  }\n",
              "\n",
              "  @keyframes spin {\n",
              "    0% {\n",
              "      border-color: transparent;\n",
              "      border-bottom-color: var(--fill-color);\n",
              "      border-left-color: var(--fill-color);\n",
              "    }\n",
              "    20% {\n",
              "      border-color: transparent;\n",
              "      border-left-color: var(--fill-color);\n",
              "      border-top-color: var(--fill-color);\n",
              "    }\n",
              "    30% {\n",
              "      border-color: transparent;\n",
              "      border-left-color: var(--fill-color);\n",
              "      border-top-color: var(--fill-color);\n",
              "      border-right-color: var(--fill-color);\n",
              "    }\n",
              "    40% {\n",
              "      border-color: transparent;\n",
              "      border-right-color: var(--fill-color);\n",
              "      border-top-color: var(--fill-color);\n",
              "    }\n",
              "    60% {\n",
              "      border-color: transparent;\n",
              "      border-right-color: var(--fill-color);\n",
              "    }\n",
              "    80% {\n",
              "      border-color: transparent;\n",
              "      border-right-color: var(--fill-color);\n",
              "      border-bottom-color: var(--fill-color);\n",
              "    }\n",
              "    90% {\n",
              "      border-color: transparent;\n",
              "      border-bottom-color: var(--fill-color);\n",
              "    }\n",
              "  }\n",
              "</style>\n",
              "\n",
              "      <script>\n",
              "        async function quickchart(key) {\n",
              "          const quickchartButtonEl =\n",
              "            document.querySelector('#' + key + ' button');\n",
              "          quickchartButtonEl.disabled = true;  // To prevent multiple clicks.\n",
              "          quickchartButtonEl.classList.add('colab-df-spinner');\n",
              "          try {\n",
              "            const charts = await google.colab.kernel.invokeFunction(\n",
              "                'suggestCharts', [key], {});\n",
              "          } catch (error) {\n",
              "            console.error('Error during call to suggestCharts:', error);\n",
              "          }\n",
              "          quickchartButtonEl.classList.remove('colab-df-spinner');\n",
              "          quickchartButtonEl.classList.add('colab-df-quickchart-complete');\n",
              "        }\n",
              "        (() => {\n",
              "          let quickchartButtonEl =\n",
              "            document.querySelector('#df-f194a4b9-e6b7-4feb-b857-946a0315a892 button');\n",
              "          quickchartButtonEl.style.display =\n",
              "            google.colab.kernel.accessAllowed ? 'block' : 'none';\n",
              "        })();\n",
              "      </script>\n",
              "    </div>\n",
              "\n",
              "    </div>\n",
              "  </div>\n"
            ],
            "application/vnd.google.colaboratory.intrinsic+json": {
              "type": "dataframe",
              "variable_name": "CustomersDf",
              "summary": "{\n  \"name\": \"CustomersDf\",\n  \"rows\": 60,\n  \"fields\": [\n    {\n      \"column\": \"CustomerID\",\n      \"properties\": {\n        \"dtype\": \"string\",\n        \"num_unique_values\": 40,\n        \"samples\": [\n          \"CUS-527\",\n          \"CUS-523\",\n          \"CUS-522\"\n        ],\n        \"semantic_type\": \"\",\n        \"description\": \"\"\n      }\n    },\n    {\n      \"column\": \"CustomerName\",\n      \"properties\": {\n        \"dtype\": \"string\",\n        \"num_unique_values\": 50,\n        \"samples\": [\n          \"Karim Rashid\",\n          \"Hany Farouk\",\n          \"\\u0647\\u0627\\u0646\\u064a \\u0645\\u062d\\u0645\\u0648\\u062f\"\n        ],\n        \"semantic_type\": \"\",\n        \"description\": \"\"\n      }\n    },\n    {\n      \"column\": \"Gender\",\n      \"properties\": {\n        \"dtype\": \"category\",\n        \"num_unique_values\": 4,\n        \"samples\": [\n          \"\\u0630\\u0643\\u0631\",\n          \"\\u0623\\u0646\\u062b\\u0649\",\n          \"M\"\n        ],\n        \"semantic_type\": \"\",\n        \"description\": \"\"\n      }\n    },\n    {\n      \"column\": \"Phone\",\n      \"properties\": {\n        \"dtype\": \"string\",\n        \"num_unique_values\": 50,\n        \"samples\": [\n          \"+2001129437798\",\n          \"01046297151\",\n          \"011 2594 4033\"\n        ],\n        \"semantic_type\": \"\",\n        \"description\": \"\"\n      }\n    },\n    {\n      \"column\": \"Email\",\n      \"properties\": {\n        \"dtype\": \"string\",\n        \"num_unique_values\": 49,\n        \"samples\": [\n          \"sara.nasr@gmail\",\n          \"karim.farouk@example.com\",\n          \"dina.hassan@example.com\"\n        ],\n        \"semantic_type\": \"\",\n        \"description\": \"\"\n      }\n    },\n    {\n      \"column\": \"Gov\",\n      \"properties\": {\n        \"dtype\": \"string\",\n        \"num_unique_values\": 38,\n        \"samples\": [\n          \"ASYUT\",\n          \"South Sinai\",\n          \"Dakahlia\"\n        ],\n        \"semantic_type\": \"\",\n        \"description\": \"\"\n      }\n    },\n    {\n      \"column\": \"City\",\n      \"properties\": {\n        \"dtype\": \"category\",\n        \"num_unique_values\": 6,\n        \"samples\": [\n          \"Tanta\",\n          \"Sharm El Sheikh\",\n          \"Mansoura\"\n        ],\n        \"semantic_type\": \"\",\n        \"description\": \"\"\n      }\n    },\n    {\n      \"column\": \"Address\",\n      \"properties\": {\n        \"dtype\": \"string\",\n        \"num_unique_values\": 58,\n        \"samples\": [\n          \"8 Street Tahrir\",\n          \"78 \\u0634\\u0627\\u0631\\u0639 \\u0627\\u0644\\u0646\\u0635\\u0631\",\n          \"191 \\u0634\\u0627\\u0631\\u0639 \\u0627\\u0644\\u0646\\u0635\\u0631\"\n        ],\n        \"semantic_type\": \"\",\n        \"description\": \"\"\n      }\n    }\n  ]\n}"
            }
          },
          "metadata": {},
          "execution_count": 270
        }
      ]
    },
    {
      "cell_type": "code",
      "source": [
        "CustomersDf.tail()"
      ],
      "metadata": {
        "colab": {
          "base_uri": "https://localhost:8080/",
          "height": 206
        },
        "outputId": "253e2903-1bca-4758-9b60-9ae8e5598aea",
        "id": "92XZ0No5S4zN"
      },
      "execution_count": null,
      "outputs": [
        {
          "output_type": "execute_result",
          "data": {
            "text/plain": [
              "   CustomerID  CustomerName Gender            Phone                     Email  \\\n",
              "55        NaN  Karim Farouk    ذكر      01058384619  karim.farouk@example.com   \n",
              "56        NaN  Karim Rashid      M  +20 01177008305   karim.rashidexample.com   \n",
              "57    CUS-557   Dina Hassan   أنثى   +2001247376435   dina.hassan@example.com   \n",
              "58        NaN   Alaa Farouk      F              NaN         alaa.farouk@gmail   \n",
              "59    CUS-559      سارة حسن      M  +20 01012302458                       NaN   \n",
              "\n",
              "              Gov      City            Address  \n",
              "55  Al Alexandria     Tanta  154 Street Tahrir  \n",
              "56         الجيزة  Hurghada      38 شارع النصر  \n",
              "57     alexandria     Tanta     82 شارع Tahrir  \n",
              "58        Gharbia     Maadi   99 Street Tahrir  \n",
              "59     Alexandria     Tanta   93 Street Tahrir  "
            ],
            "text/html": [
              "\n",
              "  <div id=\"df-5a551f65-178d-4c34-be42-5d6ab72693bb\" class=\"colab-df-container\">\n",
              "    <div>\n",
              "<style scoped>\n",
              "    .dataframe tbody tr th:only-of-type {\n",
              "        vertical-align: middle;\n",
              "    }\n",
              "\n",
              "    .dataframe tbody tr th {\n",
              "        vertical-align: top;\n",
              "    }\n",
              "\n",
              "    .dataframe thead th {\n",
              "        text-align: right;\n",
              "    }\n",
              "</style>\n",
              "<table border=\"1\" class=\"dataframe\">\n",
              "  <thead>\n",
              "    <tr style=\"text-align: right;\">\n",
              "      <th></th>\n",
              "      <th>CustomerID</th>\n",
              "      <th>CustomerName</th>\n",
              "      <th>Gender</th>\n",
              "      <th>Phone</th>\n",
              "      <th>Email</th>\n",
              "      <th>Gov</th>\n",
              "      <th>City</th>\n",
              "      <th>Address</th>\n",
              "    </tr>\n",
              "  </thead>\n",
              "  <tbody>\n",
              "    <tr>\n",
              "      <th>55</th>\n",
              "      <td>NaN</td>\n",
              "      <td>Karim Farouk</td>\n",
              "      <td>ذكر</td>\n",
              "      <td>01058384619</td>\n",
              "      <td>karim.farouk@example.com</td>\n",
              "      <td>Al Alexandria</td>\n",
              "      <td>Tanta</td>\n",
              "      <td>154 Street Tahrir</td>\n",
              "    </tr>\n",
              "    <tr>\n",
              "      <th>56</th>\n",
              "      <td>NaN</td>\n",
              "      <td>Karim Rashid</td>\n",
              "      <td>M</td>\n",
              "      <td>+20 01177008305</td>\n",
              "      <td>karim.rashidexample.com</td>\n",
              "      <td>الجيزة</td>\n",
              "      <td>Hurghada</td>\n",
              "      <td>38 شارع النصر</td>\n",
              "    </tr>\n",
              "    <tr>\n",
              "      <th>57</th>\n",
              "      <td>CUS-557</td>\n",
              "      <td>Dina Hassan</td>\n",
              "      <td>أنثى</td>\n",
              "      <td>+2001247376435</td>\n",
              "      <td>dina.hassan@example.com</td>\n",
              "      <td>alexandria</td>\n",
              "      <td>Tanta</td>\n",
              "      <td>82 شارع Tahrir</td>\n",
              "    </tr>\n",
              "    <tr>\n",
              "      <th>58</th>\n",
              "      <td>NaN</td>\n",
              "      <td>Alaa Farouk</td>\n",
              "      <td>F</td>\n",
              "      <td>NaN</td>\n",
              "      <td>alaa.farouk@gmail</td>\n",
              "      <td>Gharbia</td>\n",
              "      <td>Maadi</td>\n",
              "      <td>99 Street Tahrir</td>\n",
              "    </tr>\n",
              "    <tr>\n",
              "      <th>59</th>\n",
              "      <td>CUS-559</td>\n",
              "      <td>سارة حسن</td>\n",
              "      <td>M</td>\n",
              "      <td>+20 01012302458</td>\n",
              "      <td>NaN</td>\n",
              "      <td>Alexandria</td>\n",
              "      <td>Tanta</td>\n",
              "      <td>93 Street Tahrir</td>\n",
              "    </tr>\n",
              "  </tbody>\n",
              "</table>\n",
              "</div>\n",
              "    <div class=\"colab-df-buttons\">\n",
              "\n",
              "  <div class=\"colab-df-container\">\n",
              "    <button class=\"colab-df-convert\" onclick=\"convertToInteractive('df-5a551f65-178d-4c34-be42-5d6ab72693bb')\"\n",
              "            title=\"Convert this dataframe to an interactive table.\"\n",
              "            style=\"display:none;\">\n",
              "\n",
              "  <svg xmlns=\"http://www.w3.org/2000/svg\" height=\"24px\" viewBox=\"0 -960 960 960\">\n",
              "    <path d=\"M120-120v-720h720v720H120Zm60-500h600v-160H180v160Zm220 220h160v-160H400v160Zm0 220h160v-160H400v160ZM180-400h160v-160H180v160Zm440 0h160v-160H620v160ZM180-180h160v-160H180v160Zm440 0h160v-160H620v160Z\"/>\n",
              "  </svg>\n",
              "    </button>\n",
              "\n",
              "  <style>\n",
              "    .colab-df-container {\n",
              "      display:flex;\n",
              "      gap: 12px;\n",
              "    }\n",
              "\n",
              "    .colab-df-convert {\n",
              "      background-color: #E8F0FE;\n",
              "      border: none;\n",
              "      border-radius: 50%;\n",
              "      cursor: pointer;\n",
              "      display: none;\n",
              "      fill: #1967D2;\n",
              "      height: 32px;\n",
              "      padding: 0 0 0 0;\n",
              "      width: 32px;\n",
              "    }\n",
              "\n",
              "    .colab-df-convert:hover {\n",
              "      background-color: #E2EBFA;\n",
              "      box-shadow: 0px 1px 2px rgba(60, 64, 67, 0.3), 0px 1px 3px 1px rgba(60, 64, 67, 0.15);\n",
              "      fill: #174EA6;\n",
              "    }\n",
              "\n",
              "    .colab-df-buttons div {\n",
              "      margin-bottom: 4px;\n",
              "    }\n",
              "\n",
              "    [theme=dark] .colab-df-convert {\n",
              "      background-color: #3B4455;\n",
              "      fill: #D2E3FC;\n",
              "    }\n",
              "\n",
              "    [theme=dark] .colab-df-convert:hover {\n",
              "      background-color: #434B5C;\n",
              "      box-shadow: 0px 1px 3px 1px rgba(0, 0, 0, 0.15);\n",
              "      filter: drop-shadow(0px 1px 2px rgba(0, 0, 0, 0.3));\n",
              "      fill: #FFFFFF;\n",
              "    }\n",
              "  </style>\n",
              "\n",
              "    <script>\n",
              "      const buttonEl =\n",
              "        document.querySelector('#df-5a551f65-178d-4c34-be42-5d6ab72693bb button.colab-df-convert');\n",
              "      buttonEl.style.display =\n",
              "        google.colab.kernel.accessAllowed ? 'block' : 'none';\n",
              "\n",
              "      async function convertToInteractive(key) {\n",
              "        const element = document.querySelector('#df-5a551f65-178d-4c34-be42-5d6ab72693bb');\n",
              "        const dataTable =\n",
              "          await google.colab.kernel.invokeFunction('convertToInteractive',\n",
              "                                                    [key], {});\n",
              "        if (!dataTable) return;\n",
              "\n",
              "        const docLinkHtml = 'Like what you see? Visit the ' +\n",
              "          '<a target=\"_blank\" href=https://colab.research.google.com/notebooks/data_table.ipynb>data table notebook</a>'\n",
              "          + ' to learn more about interactive tables.';\n",
              "        element.innerHTML = '';\n",
              "        dataTable['output_type'] = 'display_data';\n",
              "        await google.colab.output.renderOutput(dataTable, element);\n",
              "        const docLink = document.createElement('div');\n",
              "        docLink.innerHTML = docLinkHtml;\n",
              "        element.appendChild(docLink);\n",
              "      }\n",
              "    </script>\n",
              "  </div>\n",
              "\n",
              "\n",
              "    <div id=\"df-dba44156-86a4-4907-9616-a63cb3c86017\">\n",
              "      <button class=\"colab-df-quickchart\" onclick=\"quickchart('df-dba44156-86a4-4907-9616-a63cb3c86017')\"\n",
              "                title=\"Suggest charts\"\n",
              "                style=\"display:none;\">\n",
              "\n",
              "<svg xmlns=\"http://www.w3.org/2000/svg\" height=\"24px\"viewBox=\"0 0 24 24\"\n",
              "     width=\"24px\">\n",
              "    <g>\n",
              "        <path d=\"M19 3H5c-1.1 0-2 .9-2 2v14c0 1.1.9 2 2 2h14c1.1 0 2-.9 2-2V5c0-1.1-.9-2-2-2zM9 17H7v-7h2v7zm4 0h-2V7h2v10zm4 0h-2v-4h2v4z\"/>\n",
              "    </g>\n",
              "</svg>\n",
              "      </button>\n",
              "\n",
              "<style>\n",
              "  .colab-df-quickchart {\n",
              "      --bg-color: #E8F0FE;\n",
              "      --fill-color: #1967D2;\n",
              "      --hover-bg-color: #E2EBFA;\n",
              "      --hover-fill-color: #174EA6;\n",
              "      --disabled-fill-color: #AAA;\n",
              "      --disabled-bg-color: #DDD;\n",
              "  }\n",
              "\n",
              "  [theme=dark] .colab-df-quickchart {\n",
              "      --bg-color: #3B4455;\n",
              "      --fill-color: #D2E3FC;\n",
              "      --hover-bg-color: #434B5C;\n",
              "      --hover-fill-color: #FFFFFF;\n",
              "      --disabled-bg-color: #3B4455;\n",
              "      --disabled-fill-color: #666;\n",
              "  }\n",
              "\n",
              "  .colab-df-quickchart {\n",
              "    background-color: var(--bg-color);\n",
              "    border: none;\n",
              "    border-radius: 50%;\n",
              "    cursor: pointer;\n",
              "    display: none;\n",
              "    fill: var(--fill-color);\n",
              "    height: 32px;\n",
              "    padding: 0;\n",
              "    width: 32px;\n",
              "  }\n",
              "\n",
              "  .colab-df-quickchart:hover {\n",
              "    background-color: var(--hover-bg-color);\n",
              "    box-shadow: 0 1px 2px rgba(60, 64, 67, 0.3), 0 1px 3px 1px rgba(60, 64, 67, 0.15);\n",
              "    fill: var(--button-hover-fill-color);\n",
              "  }\n",
              "\n",
              "  .colab-df-quickchart-complete:disabled,\n",
              "  .colab-df-quickchart-complete:disabled:hover {\n",
              "    background-color: var(--disabled-bg-color);\n",
              "    fill: var(--disabled-fill-color);\n",
              "    box-shadow: none;\n",
              "  }\n",
              "\n",
              "  .colab-df-spinner {\n",
              "    border: 2px solid var(--fill-color);\n",
              "    border-color: transparent;\n",
              "    border-bottom-color: var(--fill-color);\n",
              "    animation:\n",
              "      spin 1s steps(1) infinite;\n",
              "  }\n",
              "\n",
              "  @keyframes spin {\n",
              "    0% {\n",
              "      border-color: transparent;\n",
              "      border-bottom-color: var(--fill-color);\n",
              "      border-left-color: var(--fill-color);\n",
              "    }\n",
              "    20% {\n",
              "      border-color: transparent;\n",
              "      border-left-color: var(--fill-color);\n",
              "      border-top-color: var(--fill-color);\n",
              "    }\n",
              "    30% {\n",
              "      border-color: transparent;\n",
              "      border-left-color: var(--fill-color);\n",
              "      border-top-color: var(--fill-color);\n",
              "      border-right-color: var(--fill-color);\n",
              "    }\n",
              "    40% {\n",
              "      border-color: transparent;\n",
              "      border-right-color: var(--fill-color);\n",
              "      border-top-color: var(--fill-color);\n",
              "    }\n",
              "    60% {\n",
              "      border-color: transparent;\n",
              "      border-right-color: var(--fill-color);\n",
              "    }\n",
              "    80% {\n",
              "      border-color: transparent;\n",
              "      border-right-color: var(--fill-color);\n",
              "      border-bottom-color: var(--fill-color);\n",
              "    }\n",
              "    90% {\n",
              "      border-color: transparent;\n",
              "      border-bottom-color: var(--fill-color);\n",
              "    }\n",
              "  }\n",
              "</style>\n",
              "\n",
              "      <script>\n",
              "        async function quickchart(key) {\n",
              "          const quickchartButtonEl =\n",
              "            document.querySelector('#' + key + ' button');\n",
              "          quickchartButtonEl.disabled = true;  // To prevent multiple clicks.\n",
              "          quickchartButtonEl.classList.add('colab-df-spinner');\n",
              "          try {\n",
              "            const charts = await google.colab.kernel.invokeFunction(\n",
              "                'suggestCharts', [key], {});\n",
              "          } catch (error) {\n",
              "            console.error('Error during call to suggestCharts:', error);\n",
              "          }\n",
              "          quickchartButtonEl.classList.remove('colab-df-spinner');\n",
              "          quickchartButtonEl.classList.add('colab-df-quickchart-complete');\n",
              "        }\n",
              "        (() => {\n",
              "          let quickchartButtonEl =\n",
              "            document.querySelector('#df-dba44156-86a4-4907-9616-a63cb3c86017 button');\n",
              "          quickchartButtonEl.style.display =\n",
              "            google.colab.kernel.accessAllowed ? 'block' : 'none';\n",
              "        })();\n",
              "      </script>\n",
              "    </div>\n",
              "\n",
              "    </div>\n",
              "  </div>\n"
            ],
            "application/vnd.google.colaboratory.intrinsic+json": {
              "type": "dataframe",
              "summary": "{\n  \"name\": \"CustomersDf\",\n  \"rows\": 5,\n  \"fields\": [\n    {\n      \"column\": \"CustomerID\",\n      \"properties\": {\n        \"dtype\": \"category\",\n        \"num_unique_values\": 2,\n        \"samples\": [\n          \"CUS-559\",\n          \"CUS-557\"\n        ],\n        \"semantic_type\": \"\",\n        \"description\": \"\"\n      }\n    },\n    {\n      \"column\": \"CustomerName\",\n      \"properties\": {\n        \"dtype\": \"string\",\n        \"num_unique_values\": 5,\n        \"samples\": [\n          \"Karim Rashid\",\n          \"\\u0633\\u0627\\u0631\\u0629 \\u062d\\u0633\\u0646\"\n        ],\n        \"semantic_type\": \"\",\n        \"description\": \"\"\n      }\n    },\n    {\n      \"column\": \"Gender\",\n      \"properties\": {\n        \"dtype\": \"string\",\n        \"num_unique_values\": 4,\n        \"samples\": [\n          \"M\",\n          \"F\"\n        ],\n        \"semantic_type\": \"\",\n        \"description\": \"\"\n      }\n    },\n    {\n      \"column\": \"Phone\",\n      \"properties\": {\n        \"dtype\": \"string\",\n        \"num_unique_values\": 4,\n        \"samples\": [\n          \"+20 01177008305\",\n          \"+20 01012302458\"\n        ],\n        \"semantic_type\": \"\",\n        \"description\": \"\"\n      }\n    },\n    {\n      \"column\": \"Email\",\n      \"properties\": {\n        \"dtype\": \"string\",\n        \"num_unique_values\": 4,\n        \"samples\": [\n          \"karim.rashidexample.com\",\n          \"alaa.farouk@gmail\"\n        ],\n        \"semantic_type\": \"\",\n        \"description\": \"\"\n      }\n    },\n    {\n      \"column\": \"Gov\",\n      \"properties\": {\n        \"dtype\": \"string\",\n        \"num_unique_values\": 5,\n        \"samples\": [\n          \"\\u0627\\u0644\\u062c\\u064a\\u0632\\u0629\",\n          \"Alexandria\"\n        ],\n        \"semantic_type\": \"\",\n        \"description\": \"\"\n      }\n    },\n    {\n      \"column\": \"City\",\n      \"properties\": {\n        \"dtype\": \"string\",\n        \"num_unique_values\": 3,\n        \"samples\": [\n          \"Tanta\",\n          \"Hurghada\"\n        ],\n        \"semantic_type\": \"\",\n        \"description\": \"\"\n      }\n    },\n    {\n      \"column\": \"Address\",\n      \"properties\": {\n        \"dtype\": \"string\",\n        \"num_unique_values\": 5,\n        \"samples\": [\n          \"38 \\u0634\\u0627\\u0631\\u0639 \\u0627\\u0644\\u0646\\u0635\\u0631\",\n          \"93 Street Tahrir\"\n        ],\n        \"semantic_type\": \"\",\n        \"description\": \"\"\n      }\n    }\n  ]\n}"
            }
          },
          "metadata": {},
          "execution_count": 271
        }
      ]
    },
    {
      "cell_type": "markdown",
      "source": [
        "\n",
        "**Customer Columns**\n"
      ],
      "metadata": {
        "id": "t6sD7ytRS4zN"
      }
    },
    {
      "cell_type": "code",
      "source": [
        "CustomersDf.columns"
      ],
      "metadata": {
        "colab": {
          "base_uri": "https://localhost:8080/"
        },
        "outputId": "e3e4fee5-9db1-4181-e973-1887b43a1110",
        "id": "q2nMcxm4S4zO"
      },
      "execution_count": null,
      "outputs": [
        {
          "output_type": "execute_result",
          "data": {
            "text/plain": [
              "Index(['CustomerID', 'CustomerName', 'Gender', 'Phone', 'Email', 'Gov', 'City',\n",
              "       'Address'],\n",
              "      dtype='object')"
            ]
          },
          "metadata": {},
          "execution_count": 272
        }
      ]
    },
    {
      "cell_type": "markdown",
      "source": [
        "**Checking Nulls and Data Types**"
      ],
      "metadata": {
        "id": "VGpuKiuAS4zO"
      }
    },
    {
      "cell_type": "code",
      "source": [
        "CustomersDf.info()"
      ],
      "metadata": {
        "colab": {
          "base_uri": "https://localhost:8080/"
        },
        "outputId": "7181a68e-ffb2-4168-958f-2afecdf9e987",
        "id": "X_5TbYhNS4zO"
      },
      "execution_count": null,
      "outputs": [
        {
          "output_type": "stream",
          "name": "stdout",
          "text": [
            "<class 'pandas.core.frame.DataFrame'>\n",
            "RangeIndex: 60 entries, 0 to 59\n",
            "Data columns (total 8 columns):\n",
            " #   Column        Non-Null Count  Dtype \n",
            "---  ------        --------------  ----- \n",
            " 0   CustomerID    40 non-null     object\n",
            " 1   CustomerName  60 non-null     object\n",
            " 2   Gender        54 non-null     object\n",
            " 3   Phone         50 non-null     object\n",
            " 4   Email         50 non-null     object\n",
            " 5   Gov           60 non-null     object\n",
            " 6   City          60 non-null     object\n",
            " 7   Address       60 non-null     object\n",
            "dtypes: object(8)\n",
            "memory usage: 3.9+ KB\n"
          ]
        }
      ]
    },
    {
      "cell_type": "code",
      "source": [
        "CustomersDf.isna().sum()[CustomersDf.isna().sum() > 1]"
      ],
      "metadata": {
        "colab": {
          "base_uri": "https://localhost:8080/",
          "height": 210
        },
        "outputId": "60fd729d-b88b-464b-abf9-70a7d69d39f0",
        "id": "9IosPsofS4zP"
      },
      "execution_count": null,
      "outputs": [
        {
          "output_type": "execute_result",
          "data": {
            "text/plain": [
              "CustomerID    20\n",
              "Gender         6\n",
              "Phone         10\n",
              "Email         10\n",
              "dtype: int64"
            ],
            "text/html": [
              "<div>\n",
              "<style scoped>\n",
              "    .dataframe tbody tr th:only-of-type {\n",
              "        vertical-align: middle;\n",
              "    }\n",
              "\n",
              "    .dataframe tbody tr th {\n",
              "        vertical-align: top;\n",
              "    }\n",
              "\n",
              "    .dataframe thead th {\n",
              "        text-align: right;\n",
              "    }\n",
              "</style>\n",
              "<table border=\"1\" class=\"dataframe\">\n",
              "  <thead>\n",
              "    <tr style=\"text-align: right;\">\n",
              "      <th></th>\n",
              "      <th>0</th>\n",
              "    </tr>\n",
              "  </thead>\n",
              "  <tbody>\n",
              "    <tr>\n",
              "      <th>CustomerID</th>\n",
              "      <td>20</td>\n",
              "    </tr>\n",
              "    <tr>\n",
              "      <th>Gender</th>\n",
              "      <td>6</td>\n",
              "    </tr>\n",
              "    <tr>\n",
              "      <th>Phone</th>\n",
              "      <td>10</td>\n",
              "    </tr>\n",
              "    <tr>\n",
              "      <th>Email</th>\n",
              "      <td>10</td>\n",
              "    </tr>\n",
              "  </tbody>\n",
              "</table>\n",
              "</div><br><label><b>dtype:</b> int64</label>"
            ]
          },
          "metadata": {},
          "execution_count": 274
        }
      ]
    },
    {
      "cell_type": "markdown",
      "source": [],
      "metadata": {
        "id": "lOwmcVQIS4zP"
      }
    },
    {
      "cell_type": "markdown",
      "source": [
        "#**Customer Name**\n",
        "\n",
        "\n",
        "*   We have a Mix of Arabic & English names\n",
        "\n",
        "\n",
        "      1.  Either we hard code it\n",
        "      2.   List item\n",
        "\n",
        "\n",
        "\n"
      ],
      "metadata": {
        "id": "n2g4QkUKVBlN"
      }
    },
    {
      "cell_type": "code",
      "source": [
        "CustomersDf[\"CustomerName\"].unique()"
      ],
      "metadata": {
        "colab": {
          "base_uri": "https://localhost:8080/"
        },
        "outputId": "70e1f264-28b0-4184-a007-9cf7c0979566",
        "id": "00o6Am6dVBlP"
      },
      "execution_count": null,
      "outputs": [
        {
          "output_type": "execute_result",
          "data": {
            "text/plain": [
              "array(['Alaa Fathy', 'Mohamed Ali', 'Youssef Nasr', 'علاء إبراهيم',\n",
              "       'يوسف علي', 'محمد نصر', 'محمد فتحي', 'Karim Fathy', 'Alaa Nasr',\n",
              "       'علاء علي', 'Dina Farouk', 'Nour Fathy', 'علاء راشد',\n",
              "       'Karim Rashid', 'نور إبراهيم', 'Alaa Ibrahim', 'Sara Nasr',\n",
              "       'Dina Mahmoud', 'Hany Ibrahim', 'منى علي', 'هاني راشد',\n",
              "       'يوسف فاروق', 'Nour Nasr', 'سارة فاروق', 'Mohamed Farouk',\n",
              "       'دينا حسن', 'كريم علي', 'منى فتحي', 'Youssef Hassan',\n",
              "       'Hany Hassan', 'هاني محمود', 'Dina Rashid', 'Dina Ali',\n",
              "       'دينا إبراهيم', 'Sara Fathy', 'Dina Hassan', 'Mohamed Ibrahim',\n",
              "       'علاء نصر', 'سارة نصر', 'Hany Farouk', 'علاء فتحي', 'نور علي',\n",
              "       'Hany Rashid', 'نور محمود', 'Ahmed Ali', 'كريم فاروق', 'Sara Ali',\n",
              "       'Karim Farouk', 'Alaa Farouk', 'سارة حسن'], dtype=object)"
            ]
          },
          "metadata": {},
          "execution_count": 280
        }
      ]
    },
    {
      "cell_type": "code",
      "source": [
        "translator = Translator()\n",
        "translated = translator.translate('سارة إبراهيم', src='ar', dest='en')\n",
        "print(translated.text)"
      ],
      "metadata": {
        "colab": {
          "base_uri": "https://localhost:8080/"
        },
        "outputId": "8cb30fa6-e4c0-4768-a4a0-cfb4b2962118",
        "id": "I5Dtzwm0VBlP"
      },
      "execution_count": null,
      "outputs": [
        {
          "output_type": "stream",
          "name": "stdout",
          "text": [
            "Sarah Ibrahim\n"
          ]
        }
      ]
    },
    {
      "cell_type": "markdown",
      "source": [
        "#**After seeing the result on the sample case I'll apply it to the customer name column**"
      ],
      "metadata": {
        "id": "A0DBTwpVVBlR"
      }
    },
    {
      "cell_type": "code",
      "source": [
        "CustomersDf['CustomerName'] = CustomersDf['CustomerName'].apply(\n",
        "    lambda x: translator.translate(x, src='ar', dest='en').text if isinstance(x, str) else x\n",
        ")"
      ],
      "metadata": {
        "id": "Fk-yVhs4VBlR"
      },
      "execution_count": null,
      "outputs": []
    },
    {
      "cell_type": "code",
      "source": [
        "CustomersDf[\"CustomerName\"].unique()"
      ],
      "metadata": {
        "colab": {
          "base_uri": "https://localhost:8080/"
        },
        "outputId": "2a5393ce-962e-4883-a23c-670678f6b1db",
        "id": "cshFk7GyVBlR"
      },
      "execution_count": null,
      "outputs": [
        {
          "output_type": "execute_result",
          "data": {
            "text/plain": [
              "array(['Alaa Fathi', 'Mohamed Ali', 'Youssef Nasr', 'Alaa Ibrahim',\n",
              "       'Yusuf Ali', 'Muhammad Nasr', 'Muhammad Fathi', 'Karim Fathi',\n",
              "       'Alaa Nasr', 'Alaa Ali', 'Dina Farouk', 'Nour Fathi',\n",
              "       'Alaa Rashid', 'Karim Rashid', 'Nour Ibrahim', 'Sarah Nasser',\n",
              "       'Dina Mahmoud', 'Hany Ibrahim', 'Mona Ali', 'Hani Rashid',\n",
              "       'Youssef Farouk', 'Nour Nasser', 'Sarah Farouk', 'Mohamed Farouk',\n",
              "       'Dina Hassan', 'Karim Ali', 'Mona Fathi', 'Youssef Hassan',\n",
              "       'Hany Hassan', 'Hani Mahmoud', 'Dina Rashid', 'Dina Ali',\n",
              "       'Dina Ibrahim', 'Sarah Fathi', 'Mohamed Ibrahim', 'Sarah Nasr',\n",
              "       'Hany Farouk', 'Nour Ali', 'Hany Rashid', 'Nour Mahmoud',\n",
              "       'Ahmed Ali', 'Karim Farouk', 'Sara Ali', 'Alaa Farouk',\n",
              "       'Sarah Hassan'], dtype=object)"
            ]
          },
          "metadata": {},
          "execution_count": 284
        }
      ]
    },
    {
      "cell_type": "markdown",
      "source": [
        "#**Now we Don't have any Arabic Entries in the Customer Name**"
      ],
      "metadata": {
        "id": "7Ry-ozqfVBlS"
      }
    },
    {
      "cell_type": "markdown",
      "source": [
        "#**Gender**"
      ],
      "metadata": {
        "id": "474n-e-YUa4t"
      }
    },
    {
      "cell_type": "code",
      "source": [
        "CustomersDf[\"Gender\"].unique()"
      ],
      "metadata": {
        "colab": {
          "base_uri": "https://localhost:8080/"
        },
        "outputId": "a0f274c6-dcc5-46c9-d93e-ed151a5bac83",
        "id": "0Oe7km8AUa4u"
      },
      "execution_count": null,
      "outputs": [
        {
          "output_type": "execute_result",
          "data": {
            "text/plain": [
              "array(['male', 'female', nan], dtype=object)"
            ]
          },
          "metadata": {},
          "execution_count": 285
        }
      ]
    },
    {
      "cell_type": "code",
      "source": [
        "(CustomersDf['Gender'].astype(str).str.strip().str.lower() == 'nan').sum()"
      ],
      "metadata": {
        "colab": {
          "base_uri": "https://localhost:8080/"
        },
        "outputId": "1d5b0404-0f22-4741-8981-a7e640b49470",
        "id": "mpUgg9sOUa4v"
      },
      "execution_count": null,
      "outputs": [
        {
          "output_type": "execute_result",
          "data": {
            "text/plain": [
              "np.int64(6)"
            ]
          },
          "metadata": {},
          "execution_count": 286
        }
      ]
    },
    {
      "cell_type": "code",
      "source": [
        "CustomersDf['Gender'] = CustomersDf['Gender'].astype(str).str.strip().str.lower().map({'m':'male', 'f':'female', 'ذكر':'male', 'أنثى':'female'})"
      ],
      "metadata": {
        "id": "ldUWEiW6Ua4v"
      },
      "execution_count": null,
      "outputs": []
    },
    {
      "cell_type": "code",
      "source": [
        "CustomersDf[\"Gender\"].unique()\n"
      ],
      "metadata": {
        "colab": {
          "base_uri": "https://localhost:8080/"
        },
        "outputId": "4cf13831-813a-48ef-8b09-9dda6a463ca4",
        "id": "sO8CEAwxUa4v"
      },
      "execution_count": null,
      "outputs": [
        {
          "output_type": "execute_result",
          "data": {
            "text/plain": [
              "array([nan], dtype=object)"
            ]
          },
          "metadata": {},
          "execution_count": 288
        }
      ]
    },
    {
      "cell_type": "code",
      "source": [
        "genderNulls=CustomersDf[CustomersDf.isna().any(axis=1)]['CustomerName']\n",
        "print(genderNulls)"
      ],
      "metadata": {
        "colab": {
          "base_uri": "https://localhost:8080/"
        },
        "outputId": "def529ce-d396-4d0c-88d4-4f0ec9c09410",
        "id": "3y8e2uGMUa4w"
      },
      "execution_count": null,
      "outputs": [
        {
          "output_type": "stream",
          "name": "stdout",
          "text": [
            "0          Alaa Fathi\n",
            "1         Mohamed Ali\n",
            "2        Youssef Nasr\n",
            "3        Alaa Ibrahim\n",
            "4           Yusuf Ali\n",
            "5       Muhammad Nasr\n",
            "6      Muhammad Fathi\n",
            "7         Karim Fathi\n",
            "8           Alaa Nasr\n",
            "9            Alaa Ali\n",
            "10        Dina Farouk\n",
            "11         Nour Fathi\n",
            "12        Alaa Rashid\n",
            "13       Karim Rashid\n",
            "14       Nour Ibrahim\n",
            "15       Alaa Ibrahim\n",
            "16       Sarah Nasser\n",
            "17       Dina Mahmoud\n",
            "18       Hany Ibrahim\n",
            "19           Mona Ali\n",
            "20        Hani Rashid\n",
            "21     Youssef Farouk\n",
            "22        Nour Nasser\n",
            "23       Sarah Farouk\n",
            "24     Mohamed Farouk\n",
            "25        Dina Hassan\n",
            "26          Karim Ali\n",
            "27         Mona Fathi\n",
            "28     Youssef Hassan\n",
            "29        Hany Hassan\n",
            "30       Hani Mahmoud\n",
            "31        Dina Rashid\n",
            "32         Nour Fathi\n",
            "33           Dina Ali\n",
            "34       Dina Ibrahim\n",
            "35        Sarah Fathi\n",
            "36        Mohamed Ali\n",
            "37        Dina Hassan\n",
            "38    Mohamed Ibrahim\n",
            "39          Alaa Nasr\n",
            "40       Youssef Nasr\n",
            "41        Dina Farouk\n",
            "42         Sarah Nasr\n",
            "43        Hany Farouk\n",
            "44      Muhammad Nasr\n",
            "45         Alaa Fathi\n",
            "46           Nour Ali\n",
            "47          Karim Ali\n",
            "48        Hany Rashid\n",
            "49        Alaa Rashid\n",
            "50        Dina Hassan\n",
            "51       Nour Mahmoud\n",
            "52          Ahmed Ali\n",
            "53       Karim Farouk\n",
            "54           Sara Ali\n",
            "55       Karim Farouk\n",
            "56       Karim Rashid\n",
            "57        Dina Hassan\n",
            "58        Alaa Farouk\n",
            "59       Sarah Hassan\n",
            "Name: CustomerName, dtype: object\n"
          ]
        }
      ]
    },
    {
      "cell_type": "markdown",
      "source": [
        "#**I'll fix the gender by myself as I can get it from the name**"
      ],
      "metadata": {
        "id": "kuvUWIgeUa4w"
      }
    },
    {
      "cell_type": "code",
      "source": [
        "CustomersDf['Gender'] = CustomersDf['CustomerName'].apply(lambda x: 'female' if any(f in x.lower() for f in ['dina', 'sarah', 'sara', 'mona', 'nour']) else 'male')"
      ],
      "metadata": {
        "id": "D1e-EZTEUa4w"
      },
      "execution_count": null,
      "outputs": []
    },
    {
      "cell_type": "markdown",
      "source": [
        "#**All the Nulls in the Gender Column and the inconsistancies are fixed**"
      ],
      "metadata": {
        "id": "AfZS02sXUa4x"
      }
    },
    {
      "cell_type": "code",
      "source": [
        "CustomersDf[\"Gender\"].isna().sum()"
      ],
      "metadata": {
        "colab": {
          "base_uri": "https://localhost:8080/"
        },
        "outputId": "bb7cb7fd-a8d3-40c2-dc10-ad3c4667d899",
        "id": "225ago73Ua4x"
      },
      "execution_count": null,
      "outputs": [
        {
          "output_type": "execute_result",
          "data": {
            "text/plain": [
              "np.int64(0)"
            ]
          },
          "metadata": {},
          "execution_count": 297
        }
      ]
    },
    {
      "cell_type": "code",
      "source": [],
      "metadata": {
        "id": "4Py6b9KmWctF"
      },
      "execution_count": null,
      "outputs": []
    },
    {
      "cell_type": "markdown",
      "source": [
        "#**Invalid or partial Email**"
      ],
      "metadata": {
        "id": "AEWg7iXdWurD"
      }
    },
    {
      "cell_type": "markdown",
      "source": [],
      "metadata": {
        "id": "htCupd55WurG"
      }
    },
    {
      "cell_type": "code",
      "source": [
        "CustomersDf[\"Email\"].unique()"
      ],
      "metadata": {
        "colab": {
          "base_uri": "https://localhost:8080/"
        },
        "outputId": "e9e468c6-b6a2-4dfe-d817-320448aeb86a",
        "id": "n0ynvyKGWurG"
      },
      "execution_count": null,
      "outputs": [
        {
          "output_type": "execute_result",
          "data": {
            "text/plain": [
              "array(['alaa.fathyexample.com', 'mohamed.ali@example.com',\n",
              "       'youssef.nasr@gmail', 'علاء.إبراهyمexample.com',\n",
              "       'yوسف.علy@gmail.com', nan, 'محمد.فتحy@example.com',\n",
              "       'alaa.nasr@example.com', 'علاء.علyexample.com',\n",
              "       'dina.farouk@gmail.com', 'nour.fathy@example.com',\n",
              "       'karim.rashid@example.com', 'نور.إبراهyم@gmail.com',\n",
              "       'alaa.ibrahim@gmail.com', 'sara.nasr@gmail',\n",
              "       'dina.mahmoud@gmail.com', 'هانy.راشد@gmail.com',\n",
              "       'yوسف.فاروق@gmail.com', 'nour.nasr@gmail', 'سارة.فاروق@gmail',\n",
              "       'mohamed.faroukexample.com', 'دyنا.حسن@example.com',\n",
              "       'كرyم.علy@gmail', 'منy.فتحyexample.com',\n",
              "       'youssef.hassan@gmail.com', 'هانy.محمود@example.com',\n",
              "       'dina.rashid@gmail', 'nour.fathy@gmail.com', 'dina.aliexample.com',\n",
              "       'دyنا.إبراهyم@example.com', 'sara.fathy@gmail',\n",
              "       'dina.hassan@gmail.com', 'mohamed.ibrahim@gmail', 'علاء.نصر@gmail',\n",
              "       'youssef.nasr@example.com', 'سارة.نصر@example.com',\n",
              "       'hany.farouk@example.com', 'محمد.نصر@gmail.com', 'علاء.فتحy@gmail',\n",
              "       'نور.علyexample.com', 'كرyم.علy@gmail.com',\n",
              "       'hany.rashid@example.com', 'علاء.راشدexample.com',\n",
              "       'نور.محمود@gmail', 'ahmed.ali@example.com', 'sara.ali@gmail.com',\n",
              "       'karim.farouk@example.com', 'karim.rashidexample.com',\n",
              "       'dina.hassan@example.com', 'alaa.farouk@gmail'], dtype=object)"
            ]
          },
          "metadata": {},
          "execution_count": 299
        }
      ]
    },
    {
      "cell_type": "markdown",
      "source": [
        "#**Function For Adjusting Email Formate**"
      ],
      "metadata": {
        "id": "2G7Wpjl6WurH"
      }
    },
    {
      "cell_type": "markdown",
      "source": [
        "**Applying to DF**"
      ],
      "metadata": {
        "id": "XEIWASBrWurI"
      }
    },
    {
      "cell_type": "code",
      "source": [
        "CustomersDf['Email_Cleaned'] = CustomersDf['Email'].apply(smart_email_cleaner)"
      ],
      "metadata": {
        "id": "GSeGZxpHWurI"
      },
      "execution_count": null,
      "outputs": []
    },
    {
      "cell_type": "code",
      "source": [
        "CustomersDf[\"Email_Cleaned\"].unique()"
      ],
      "metadata": {
        "colab": {
          "base_uri": "https://localhost:8080/"
        },
        "outputId": "265cf15a-5236-4ccc-ee56-71c3f77e8953",
        "id": "L8UFpNoTWurI"
      },
      "execution_count": null,
      "outputs": [
        {
          "output_type": "execute_result",
          "data": {
            "text/plain": [
              "array(['Alaa. fathy@example.com', 'mohamed.ali@example.com',\n",
              "       'youssef.nasr@gmail', 'Alaa. Ibrahim@example.com',\n",
              "       'yusf. Ali@gmail.com', None, 'Muhammad.Fathy@example.com',\n",
              "       'alaa.nasr@example.com', 'Alaa. Ali@example.com',\n",
              "       'dina. farouk@gmail.com', 'nour.fathy@example.com',\n",
              "       'karim. rashid@example.com', 'Nour. Ibrahim@gmail.com',\n",
              "       'alaa. ibrahim@gmail.com', 'sara.nasr@gmail',\n",
              "       'in. mahmoud@gmail.com', 'Hany.Rashed@gmail.com',\n",
              "       'Youssef Farouk@gmail.com', 'nour.nasr@gmail',\n",
              "       'Sarah Farouk@gmail', 'mohamed.farouk@example.com',\n",
              "       'dyna.hassan@example.com', 'Thank you@gmail',\n",
              "       'My. Fathy@example.com', 'youssef.hassan@gmail.com',\n",
              "       'Hany. Mahmoud@example.com', 'dina.rashid@gmail',\n",
              "       'nour.fathy@gmail.com', 'dina.ali@example.com',\n",
              "       'Dr. Ibrahim@example.com', 'sara. fathy@gmail',\n",
              "       'dina. hassan@gmail.com', 'mohamed. ibrahim@gmail',\n",
              "       'Alaa Nasr@gmail', 'youssef.nasr@example.com',\n",
              "       'Sarah Nasr@example.com', 'only.farouk@example.com',\n",
              "       'Muhammad Nasr@gmail.com', 'Alaa.Fathy@gmail',\n",
              "       'Nour. Ali@example.com', 'Thank you@gmail.com',\n",
              "       'only.rashid@example.com', 'Alaa Rashid@example.com',\n",
              "       'Nour. Mahmoud@gmail', 'ahmed.ali@example.com',\n",
              "       'sara.ali@gmail.com', 'karim. farouk@example.com',\n",
              "       'dina. hassan@example.com', 'alaa. farouk@gmail'], dtype=object)"
            ]
          },
          "metadata": {},
          "execution_count": 302
        }
      ]
    },
    {
      "cell_type": "code",
      "source": [
        "#SalesDf['Email_Cleaned'] = SalesDf['Email_Cleaned'].apply(\n",
        "#    lambda x: str(x).replace(' ', '').strip().lower() if isinstance(x, str) else x\n",
        "#)"
      ],
      "metadata": {
        "id": "-lGT07zlWurI"
      },
      "execution_count": null,
      "outputs": []
    },
    {
      "cell_type": "code",
      "source": [
        "CustomersDf['Email_Cleaned'] = CustomersDf['Email_Cleaned'].apply(lambda x: (str(x).replace(' ', '').lower() + '.com') if isinstance(x, str) and '@' in x and '.com' not in x else str(x).replace(' ', '').lower() if isinstance(x, str) else x)"
      ],
      "metadata": {
        "id": "s8z3cWAvWurJ"
      },
      "execution_count": null,
      "outputs": []
    },
    {
      "cell_type": "code",
      "source": [
        "CustomersDf[\"Email\"]=CustomersDf[\"Email_Cleaned\"]"
      ],
      "metadata": {
        "id": "XL-Ajt3gWurJ"
      },
      "execution_count": null,
      "outputs": []
    },
    {
      "cell_type": "code",
      "source": [
        "CustomersDf[\"Email\"]"
      ],
      "metadata": {
        "colab": {
          "base_uri": "https://localhost:8080/",
          "height": 1000
        },
        "id": "qIxy-FjSXQSf",
        "outputId": "455ab454-fffa-448e-8b3a-3dd794640207"
      },
      "execution_count": null,
      "outputs": [
        {
          "output_type": "execute_result",
          "data": {
            "text/plain": [
              "0         alaa.fathy@example.com\n",
              "1        mohamed.ali@example.com\n",
              "2         youssef.nasr@gmail.com\n",
              "3       alaa.ibrahim@example.com\n",
              "4             yusf.ali@gmail.com\n",
              "5                           None\n",
              "6     muhammad.fathy@example.com\n",
              "7                           None\n",
              "8          alaa.nasr@example.com\n",
              "9           alaa.ali@example.com\n",
              "10         dina.farouk@gmail.com\n",
              "11        nour.fathy@example.com\n",
              "12                          None\n",
              "13      karim.rashid@example.com\n",
              "14        nour.ibrahim@gmail.com\n",
              "15        alaa.ibrahim@gmail.com\n",
              "16           sara.nasr@gmail.com\n",
              "17          in.mahmoud@gmail.com\n",
              "18                          None\n",
              "19                          None\n",
              "20         hany.rashed@gmail.com\n",
              "21       yousseffarouk@gmail.com\n",
              "22           nour.nasr@gmail.com\n",
              "23         sarahfarouk@gmail.com\n",
              "24    mohamed.farouk@example.com\n",
              "25       dyna.hassan@example.com\n",
              "26            thankyou@gmail.com\n",
              "27          my.fathy@example.com\n",
              "28      youssef.hassan@gmail.com\n",
              "29                          None\n",
              "30      hany.mahmoud@example.com\n",
              "31         dina.rashid@gmail.com\n",
              "32          nour.fathy@gmail.com\n",
              "33          dina.ali@example.com\n",
              "34        dr.ibrahim@example.com\n",
              "35          sara.fathy@gmail.com\n",
              "36       mohamed.ali@example.com\n",
              "37         dina.hassan@gmail.com\n",
              "38     mohamed.ibrahim@gmail.com\n",
              "39            alaanasr@gmail.com\n",
              "40      youssef.nasr@example.com\n",
              "41                          None\n",
              "42         sarahnasr@example.com\n",
              "43       only.farouk@example.com\n",
              "44        muhammadnasr@gmail.com\n",
              "45          alaa.fathy@gmail.com\n",
              "46          nour.ali@example.com\n",
              "47            thankyou@gmail.com\n",
              "48       only.rashid@example.com\n",
              "49        alaarashid@example.com\n",
              "50                          None\n",
              "51        nour.mahmoud@gmail.com\n",
              "52         ahmed.ali@example.com\n",
              "53                          None\n",
              "54            sara.ali@gmail.com\n",
              "55      karim.farouk@example.com\n",
              "56      karim.rashid@example.com\n",
              "57       dina.hassan@example.com\n",
              "58         alaa.farouk@gmail.com\n",
              "59                          None\n",
              "Name: Email, dtype: object"
            ],
            "text/html": [
              "<div>\n",
              "<style scoped>\n",
              "    .dataframe tbody tr th:only-of-type {\n",
              "        vertical-align: middle;\n",
              "    }\n",
              "\n",
              "    .dataframe tbody tr th {\n",
              "        vertical-align: top;\n",
              "    }\n",
              "\n",
              "    .dataframe thead th {\n",
              "        text-align: right;\n",
              "    }\n",
              "</style>\n",
              "<table border=\"1\" class=\"dataframe\">\n",
              "  <thead>\n",
              "    <tr style=\"text-align: right;\">\n",
              "      <th></th>\n",
              "      <th>Email</th>\n",
              "    </tr>\n",
              "  </thead>\n",
              "  <tbody>\n",
              "    <tr>\n",
              "      <th>0</th>\n",
              "      <td>alaa.fathy@example.com</td>\n",
              "    </tr>\n",
              "    <tr>\n",
              "      <th>1</th>\n",
              "      <td>mohamed.ali@example.com</td>\n",
              "    </tr>\n",
              "    <tr>\n",
              "      <th>2</th>\n",
              "      <td>youssef.nasr@gmail.com</td>\n",
              "    </tr>\n",
              "    <tr>\n",
              "      <th>3</th>\n",
              "      <td>alaa.ibrahim@example.com</td>\n",
              "    </tr>\n",
              "    <tr>\n",
              "      <th>4</th>\n",
              "      <td>yusf.ali@gmail.com</td>\n",
              "    </tr>\n",
              "    <tr>\n",
              "      <th>5</th>\n",
              "      <td>None</td>\n",
              "    </tr>\n",
              "    <tr>\n",
              "      <th>6</th>\n",
              "      <td>muhammad.fathy@example.com</td>\n",
              "    </tr>\n",
              "    <tr>\n",
              "      <th>7</th>\n",
              "      <td>None</td>\n",
              "    </tr>\n",
              "    <tr>\n",
              "      <th>8</th>\n",
              "      <td>alaa.nasr@example.com</td>\n",
              "    </tr>\n",
              "    <tr>\n",
              "      <th>9</th>\n",
              "      <td>alaa.ali@example.com</td>\n",
              "    </tr>\n",
              "    <tr>\n",
              "      <th>10</th>\n",
              "      <td>dina.farouk@gmail.com</td>\n",
              "    </tr>\n",
              "    <tr>\n",
              "      <th>11</th>\n",
              "      <td>nour.fathy@example.com</td>\n",
              "    </tr>\n",
              "    <tr>\n",
              "      <th>12</th>\n",
              "      <td>None</td>\n",
              "    </tr>\n",
              "    <tr>\n",
              "      <th>13</th>\n",
              "      <td>karim.rashid@example.com</td>\n",
              "    </tr>\n",
              "    <tr>\n",
              "      <th>14</th>\n",
              "      <td>nour.ibrahim@gmail.com</td>\n",
              "    </tr>\n",
              "    <tr>\n",
              "      <th>15</th>\n",
              "      <td>alaa.ibrahim@gmail.com</td>\n",
              "    </tr>\n",
              "    <tr>\n",
              "      <th>16</th>\n",
              "      <td>sara.nasr@gmail.com</td>\n",
              "    </tr>\n",
              "    <tr>\n",
              "      <th>17</th>\n",
              "      <td>in.mahmoud@gmail.com</td>\n",
              "    </tr>\n",
              "    <tr>\n",
              "      <th>18</th>\n",
              "      <td>None</td>\n",
              "    </tr>\n",
              "    <tr>\n",
              "      <th>19</th>\n",
              "      <td>None</td>\n",
              "    </tr>\n",
              "    <tr>\n",
              "      <th>20</th>\n",
              "      <td>hany.rashed@gmail.com</td>\n",
              "    </tr>\n",
              "    <tr>\n",
              "      <th>21</th>\n",
              "      <td>yousseffarouk@gmail.com</td>\n",
              "    </tr>\n",
              "    <tr>\n",
              "      <th>22</th>\n",
              "      <td>nour.nasr@gmail.com</td>\n",
              "    </tr>\n",
              "    <tr>\n",
              "      <th>23</th>\n",
              "      <td>sarahfarouk@gmail.com</td>\n",
              "    </tr>\n",
              "    <tr>\n",
              "      <th>24</th>\n",
              "      <td>mohamed.farouk@example.com</td>\n",
              "    </tr>\n",
              "    <tr>\n",
              "      <th>25</th>\n",
              "      <td>dyna.hassan@example.com</td>\n",
              "    </tr>\n",
              "    <tr>\n",
              "      <th>26</th>\n",
              "      <td>thankyou@gmail.com</td>\n",
              "    </tr>\n",
              "    <tr>\n",
              "      <th>27</th>\n",
              "      <td>my.fathy@example.com</td>\n",
              "    </tr>\n",
              "    <tr>\n",
              "      <th>28</th>\n",
              "      <td>youssef.hassan@gmail.com</td>\n",
              "    </tr>\n",
              "    <tr>\n",
              "      <th>29</th>\n",
              "      <td>None</td>\n",
              "    </tr>\n",
              "    <tr>\n",
              "      <th>30</th>\n",
              "      <td>hany.mahmoud@example.com</td>\n",
              "    </tr>\n",
              "    <tr>\n",
              "      <th>31</th>\n",
              "      <td>dina.rashid@gmail.com</td>\n",
              "    </tr>\n",
              "    <tr>\n",
              "      <th>32</th>\n",
              "      <td>nour.fathy@gmail.com</td>\n",
              "    </tr>\n",
              "    <tr>\n",
              "      <th>33</th>\n",
              "      <td>dina.ali@example.com</td>\n",
              "    </tr>\n",
              "    <tr>\n",
              "      <th>34</th>\n",
              "      <td>dr.ibrahim@example.com</td>\n",
              "    </tr>\n",
              "    <tr>\n",
              "      <th>35</th>\n",
              "      <td>sara.fathy@gmail.com</td>\n",
              "    </tr>\n",
              "    <tr>\n",
              "      <th>36</th>\n",
              "      <td>mohamed.ali@example.com</td>\n",
              "    </tr>\n",
              "    <tr>\n",
              "      <th>37</th>\n",
              "      <td>dina.hassan@gmail.com</td>\n",
              "    </tr>\n",
              "    <tr>\n",
              "      <th>38</th>\n",
              "      <td>mohamed.ibrahim@gmail.com</td>\n",
              "    </tr>\n",
              "    <tr>\n",
              "      <th>39</th>\n",
              "      <td>alaanasr@gmail.com</td>\n",
              "    </tr>\n",
              "    <tr>\n",
              "      <th>40</th>\n",
              "      <td>youssef.nasr@example.com</td>\n",
              "    </tr>\n",
              "    <tr>\n",
              "      <th>41</th>\n",
              "      <td>None</td>\n",
              "    </tr>\n",
              "    <tr>\n",
              "      <th>42</th>\n",
              "      <td>sarahnasr@example.com</td>\n",
              "    </tr>\n",
              "    <tr>\n",
              "      <th>43</th>\n",
              "      <td>only.farouk@example.com</td>\n",
              "    </tr>\n",
              "    <tr>\n",
              "      <th>44</th>\n",
              "      <td>muhammadnasr@gmail.com</td>\n",
              "    </tr>\n",
              "    <tr>\n",
              "      <th>45</th>\n",
              "      <td>alaa.fathy@gmail.com</td>\n",
              "    </tr>\n",
              "    <tr>\n",
              "      <th>46</th>\n",
              "      <td>nour.ali@example.com</td>\n",
              "    </tr>\n",
              "    <tr>\n",
              "      <th>47</th>\n",
              "      <td>thankyou@gmail.com</td>\n",
              "    </tr>\n",
              "    <tr>\n",
              "      <th>48</th>\n",
              "      <td>only.rashid@example.com</td>\n",
              "    </tr>\n",
              "    <tr>\n",
              "      <th>49</th>\n",
              "      <td>alaarashid@example.com</td>\n",
              "    </tr>\n",
              "    <tr>\n",
              "      <th>50</th>\n",
              "      <td>None</td>\n",
              "    </tr>\n",
              "    <tr>\n",
              "      <th>51</th>\n",
              "      <td>nour.mahmoud@gmail.com</td>\n",
              "    </tr>\n",
              "    <tr>\n",
              "      <th>52</th>\n",
              "      <td>ahmed.ali@example.com</td>\n",
              "    </tr>\n",
              "    <tr>\n",
              "      <th>53</th>\n",
              "      <td>None</td>\n",
              "    </tr>\n",
              "    <tr>\n",
              "      <th>54</th>\n",
              "      <td>sara.ali@gmail.com</td>\n",
              "    </tr>\n",
              "    <tr>\n",
              "      <th>55</th>\n",
              "      <td>karim.farouk@example.com</td>\n",
              "    </tr>\n",
              "    <tr>\n",
              "      <th>56</th>\n",
              "      <td>karim.rashid@example.com</td>\n",
              "    </tr>\n",
              "    <tr>\n",
              "      <th>57</th>\n",
              "      <td>dina.hassan@example.com</td>\n",
              "    </tr>\n",
              "    <tr>\n",
              "      <th>58</th>\n",
              "      <td>alaa.farouk@gmail.com</td>\n",
              "    </tr>\n",
              "    <tr>\n",
              "      <th>59</th>\n",
              "      <td>None</td>\n",
              "    </tr>\n",
              "  </tbody>\n",
              "</table>\n",
              "</div><br><label><b>dtype:</b> object</label>"
            ]
          },
          "metadata": {},
          "execution_count": 305
        }
      ]
    },
    {
      "cell_type": "markdown",
      "source": [
        "#**ALL the Emails Are Consistant and Valide**"
      ],
      "metadata": {
        "id": "M6tY_NMxWurJ"
      }
    },
    {
      "cell_type": "code",
      "source": [],
      "metadata": {
        "id": "AViB8i6gXWHD"
      },
      "execution_count": null,
      "outputs": []
    },
    {
      "cell_type": "markdown",
      "source": [
        "# **Phone Normalization**\n",
        "**irregular Phone formats (+20, spaced, missing)**"
      ],
      "metadata": {
        "id": "Cu8uGkhKXWXq"
      }
    },
    {
      "cell_type": "code",
      "source": [
        "CustomersDf[\"Phone\"].unique()"
      ],
      "metadata": {
        "colab": {
          "base_uri": "https://localhost:8080/"
        },
        "outputId": "844cc7f0-82e8-4383-d00c-0a73a69a4354",
        "id": "ec6yZTh8XWXr"
      },
      "execution_count": null,
      "outputs": [
        {
          "output_type": "execute_result",
          "data": {
            "text/plain": [
              "array(['01232297072', '01288174504', '+20 01142158168', '+2001247509496',\n",
              "       '012 5369 1252', nan, '+2001038405950', '+2001226521948',\n",
              "       '+20 01125527644', '+20 01166867849', '010 7708 6404',\n",
              "       '011 4912 3810', '01231366552', '012 8355 2661', '+2001129437798',\n",
              "       '010 5772 5656', '01260381528', '+2001015253706', '01198336655',\n",
              "       '01223288780', '+2001161241954', '+20 01130601268',\n",
              "       '+2001129640030', '+2001226960874', '+20 01177408068',\n",
              "       '01242217185', '012 1097 8481', '+20 01078945564',\n",
              "       '+20 01010691813', '010 7317 6107', '+2001058215939',\n",
              "       '011 2594 4033', '+2001211831931', '+2001026168027',\n",
              "       '010 5512 1027', '01015488046', '01099784619', '+2001081612882',\n",
              "       '01277628209', '+20 01280474132', '01046297151', '+20 01249580182',\n",
              "       '+20 01139613670', '+2001033637158', '011 4291 7412',\n",
              "       '+20 01082950883', '+20 01057420453', '01058384619',\n",
              "       '+20 01177008305', '+2001247376435', '+20 01012302458'],\n",
              "      dtype=object)"
            ]
          },
          "metadata": {},
          "execution_count": 306
        }
      ]
    },
    {
      "cell_type": "code",
      "source": [
        "CustomersDf['Phone'] = CustomersDf['Phone'].apply(lambda x: str(x).replace('+20', '').replace(' ','').strip() if pd.notnull(x) else x)"
      ],
      "metadata": {
        "id": "FbJiG_XHXWXs"
      },
      "execution_count": null,
      "outputs": []
    },
    {
      "cell_type": "code",
      "source": [
        "CustomersDf[\"Phone\"].unique()"
      ],
      "metadata": {
        "colab": {
          "base_uri": "https://localhost:8080/"
        },
        "outputId": "96d784fa-ba94-4dfd-8332-85f14a52a0eb",
        "id": "g6wD4c8AXWXs"
      },
      "execution_count": null,
      "outputs": [
        {
          "output_type": "execute_result",
          "data": {
            "text/plain": [
              "array(['01232297072', '01288174504', '01142158168', '01247509496',\n",
              "       '01253691252', nan, '01038405950', '01226521948', '01125527644',\n",
              "       '01166867849', '01077086404', '01149123810', '01231366552',\n",
              "       '01283552661', '01129437798', '01057725656', '01260381528',\n",
              "       '01015253706', '01198336655', '01223288780', '01161241954',\n",
              "       '01130601268', '01129640030', '01226960874', '01177408068',\n",
              "       '01242217185', '01210978481', '01078945564', '01010691813',\n",
              "       '01073176107', '01058215939', '01125944033', '01211831931',\n",
              "       '01026168027', '01055121027', '01015488046', '01099784619',\n",
              "       '01081612882', '01277628209', '01280474132', '01046297151',\n",
              "       '01249580182', '01139613670', '01033637158', '01142917412',\n",
              "       '01082950883', '01057420453', '01058384619', '01177008305',\n",
              "       '01247376435', '01012302458'], dtype=object)"
            ]
          },
          "metadata": {},
          "execution_count": 310
        }
      ]
    },
    {
      "cell_type": "markdown",
      "source": [
        "#**All phone numbers are now without prefix**"
      ],
      "metadata": {
        "id": "neVKqFtXXWXs"
      }
    },
    {
      "cell_type": "code",
      "source": [],
      "metadata": {
        "id": "FGTgUKCqX7sa"
      },
      "execution_count": null,
      "outputs": []
    },
    {
      "cell_type": "markdown",
      "source": [
        "#**Inconsistent geography (Arabic/English/typos)**"
      ],
      "metadata": {
        "id": "NCSVp7WLX77h"
      }
    },
    {
      "cell_type": "code",
      "source": [
        "CustomersDf[\"Gov\"].unique()"
      ],
      "metadata": {
        "colab": {
          "base_uri": "https://localhost:8080/"
        },
        "outputId": "11c456ea-087d-4259-d4f5-1866cc9a63cc",
        "id": "E939Eg5CX77h"
      },
      "execution_count": null,
      "outputs": [
        {
          "output_type": "execute_result",
          "data": {
            "text/plain": [
              "array(['Sharqia', 'gharbia', 'LUXOR', 'luxor', 'Dakahlia', 'SOUTH SINAI',\n",
              "       'الجيزة', 'Alexandria', 'Aswan', 'الإسكندرية', 'qalyubia',\n",
              "       'Qalyubia', 'Asyut', 'Giza', 'sharqia', 'dakahlia', 'Al Red Sea',\n",
              "       'CAIRO', 'أسيوط', 'giza', 'alexandria', 'الغربية', 'cairo',\n",
              "       'Al Qalyubia', 'DAKAHLIA', 'القليوبية', 'aswan', 'الدقهلية',\n",
              "       'ASWAN', 'أسوان', 'Gharbia', 'QALYUBIA', 'الأقصر', 'ASYUT',\n",
              "       'SHARQIA', 'GHARBIA', 'South Sinai', 'Al Alexandria'], dtype=object)"
            ]
          },
          "metadata": {},
          "execution_count": 312
        }
      ]
    },
    {
      "cell_type": "code",
      "source": [
        "CustomersDf['Gov'] = CustomersDf['Gov'].apply(\n",
        "    lambda x: translator.translate(x, src='ar', dest='en').text if isinstance(x, str) else x)"
      ],
      "metadata": {
        "id": "nlo7pCh-X77i"
      },
      "execution_count": null,
      "outputs": []
    },
    {
      "cell_type": "code",
      "source": [
        "CustomersDf[\"Gov\"].unique()"
      ],
      "metadata": {
        "colab": {
          "base_uri": "https://localhost:8080/"
        },
        "outputId": "89686a2d-2e66-43d4-c473-96c582eb4e98",
        "id": "XBNdGNy5X77j"
      },
      "execution_count": null,
      "outputs": [
        {
          "output_type": "execute_result",
          "data": {
            "text/plain": [
              "array(['Sharqia', 'gharbia', 'LUXOR', 'luxor', 'Dakahlia', 'SOUTH SINAI',\n",
              "       'Giza', 'Alexandria', 'Aswan', 'qalyubia', 'Qalyubia', 'Asyut',\n",
              "       'sharqia', 'Al Red Sea', 'CAIRO', 'Assiut', 'giza', 'alexandria',\n",
              "       'Western', 'cairo', 'Al Qalyubia', 'aswan', 'ASWAN', 'Gharbia',\n",
              "       'QALYUBIA', 'Luxor', 'ASYUT', 'SHARQIA', 'GHARBIA', 'South Sinai',\n",
              "       'Al Alexandria'], dtype=object)"
            ]
          },
          "metadata": {},
          "execution_count": 317
        }
      ]
    },
    {
      "cell_type": "code",
      "source": [
        "CustomersDf = CustomersDf.applymap(\n",
        "    lambda x: str(x).lower().replace('eastern', 'gharbia').replace('western','sharqia').replace('gizah','giza').replace('asyut','assiut').removeprefix('al ') if not str(x).lower().startswith('alexandria') else str(x).lower()\n",
        "     if isinstance(x, str) else x\n",
        ")\n"
      ],
      "metadata": {
        "colab": {
          "base_uri": "https://localhost:8080/"
        },
        "outputId": "41832bd9-a69a-4029-8b13-fbdbe017a2b7",
        "id": "euIJP296X77j"
      },
      "execution_count": null,
      "outputs": [
        {
          "output_type": "stream",
          "name": "stderr",
          "text": [
            "/tmp/ipython-input-1056832121.py:1: FutureWarning: DataFrame.applymap has been deprecated. Use DataFrame.map instead.\n",
            "  CustomersDf = CustomersDf.applymap(\n"
          ]
        }
      ]
    },
    {
      "cell_type": "markdown",
      "source": [
        "#**The Inconsistancies in the Governorate Column are Fixed**"
      ],
      "metadata": {
        "id": "41Lno9dLX77k"
      }
    },
    {
      "cell_type": "code",
      "source": [
        "CustomersDf[\"Gov\"].unique()"
      ],
      "metadata": {
        "colab": {
          "base_uri": "https://localhost:8080/"
        },
        "outputId": "a2019c4e-80f6-47a4-ecaa-bbe2ee8ab43e",
        "id": "oF1ypywhX77k"
      },
      "execution_count": null,
      "outputs": [
        {
          "output_type": "execute_result",
          "data": {
            "text/plain": [
              "array(['sharqia', 'gharbia', 'luxor', 'dakahlia', 'south sinai', 'giza',\n",
              "       'alexandria', 'aswan', 'qalyubia', 'assiut', 'red sea', 'cairo'],\n",
              "      dtype=object)"
            ]
          },
          "metadata": {},
          "execution_count": 319
        }
      ]
    },
    {
      "cell_type": "code",
      "source": [],
      "metadata": {
        "id": "jmG0d5kGYUHb"
      },
      "execution_count": null,
      "outputs": []
    },
    {
      "cell_type": "markdown",
      "source": [
        "#**multi-line addresses (embedded newlines) & Dealing with arabic words**"
      ],
      "metadata": {
        "id": "JqJMe5faZG5R"
      }
    },
    {
      "cell_type": "code",
      "source": [
        "CustomersDf[\"Address\"].unique()"
      ],
      "metadata": {
        "colab": {
          "base_uri": "https://localhost:8080/"
        },
        "outputId": "40cc96c3-a3e8-4959-de50-7c93da9b39d7",
        "id": "EV7R8MzKZG5U"
      },
      "execution_count": null,
      "outputs": [
        {
          "output_type": "execute_result",
          "data": {
            "text/plain": [
              "array(['8 street tahrir', '134 شارع tahrir', '26 street tahrir',\n",
              "       '106 street النصر', '90 شارع tahrir', '78 شارع النصر',\n",
              "       '84 شارع tahrir', '148 street tahrir', '30 شارع النصر',\n",
              "       '57 street tahrir', '82 شارع النصر', '58 street النصر',\n",
              "       '194 شارع tahrir', '182 شارع tahrir', '186 street النصر',\n",
              "       '39 شارع النصر', '3 street النصر', '147 street النصر',\n",
              "       '169 street النصر', '193 street النصر', '137 شارع النصر',\n",
              "       '155 street tahrir', '53 street tahrir', '137 street tahrir',\n",
              "       '32 street tahrir', '89 شارع tahrir', '200 street tahrir',\n",
              "       '163 street tahrir', '109 street tahrir', '156 street tahrir',\n",
              "       '87 street النصر', '119 شارع النصر', '51 street النصر',\n",
              "       '69 street tahrir', '191 شارع النصر', '193 شارع tahrir',\n",
              "       '3 شارع tahrir', '64 شارع النصر', '5 street النصر',\n",
              "       '29 شارع tahrir', '72 street tahrir', '200 شارع النصر',\n",
              "       '181 شارع النصر', '12 street النصر', '48 street النصر',\n",
              "       '44 street النصر', '155 شارع tahrir', '66 street النصر',\n",
              "       '115 street tahrir', '80 street النصر', '26 شارع tahrir',\n",
              "       '36 شارع tahrir', '131 شارع النصر', '154 street tahrir',\n",
              "       '38 شارع النصر', '82 شارع tahrir', '99 street tahrir',\n",
              "       '93 street tahrir'], dtype=object)"
            ]
          },
          "metadata": {},
          "execution_count": 320
        }
      ]
    },
    {
      "cell_type": "code",
      "source": [
        "CustomersDf['Address'] = CustomersDf['Address'].apply(lambda x: translator.translate(str(x).replace('\\n', ' '), src='ar', dest='en').text if any('\\u0600' <= c <= '\\u06FF' for c in str(x)) else str(x).replace('\\n', ' '))"
      ],
      "metadata": {
        "id": "I4P92KdoZG5V"
      },
      "execution_count": null,
      "outputs": []
    },
    {
      "cell_type": "markdown",
      "source": [],
      "metadata": {
        "id": "jgN7ov9rZG5V"
      }
    },
    {
      "cell_type": "markdown",
      "source": [
        "#**Final Address Result**"
      ],
      "metadata": {
        "id": "1AGae-G3ZG5W"
      }
    },
    {
      "cell_type": "code",
      "source": [
        "CustomersDf['Address'].unique()"
      ],
      "metadata": {
        "colab": {
          "base_uri": "https://localhost:8080/"
        },
        "outputId": "985d81f2-743a-4154-95c9-92e3c509cf68",
        "id": "ZPBYI5nZZG5W"
      },
      "execution_count": null,
      "outputs": [
        {
          "output_type": "execute_result",
          "data": {
            "text/plain": [
              "array(['8 street tahrir', '134 Tahrir Street', '26 street tahrir',\n",
              "       '106 street victory', '90 Tahrir Street', '78 Al-Nasr Street',\n",
              "       '84 Tahrir Street', '148 street tahrir', '30 Al-Nasr Street',\n",
              "       '57 street tahrir', '82 Al-Nasr Street', '58 street victory',\n",
              "       '194 Tahrir Street', '182 Tahrir Street', '186 street Al-Nasr',\n",
              "       '39 Al-Nasr Street', '3 street victory', '147 street Al-Nasr',\n",
              "       '169 street victory', '193 street victory', '137 Al-Nasr Street',\n",
              "       '155 street tahrir', '53 street tahrir', '137 street tahrir',\n",
              "       '32 street tahrir', '89 Tahrir Street', '200 street tahrir',\n",
              "       '163 street tahrir', '109 street tahrir', '156 street tahrir',\n",
              "       '87 street victory', '119 Al-Nasr Street', '51 street victory',\n",
              "       '69 street tahrir', '191 Al-Nasr Street', '193 Tahrir Street',\n",
              "       '3 Tahrir Street', '64 Al-Nasr Street', '5 street victory',\n",
              "       '29 Tahrir Street', '72 street tahrir', '200 Al-Nasr Street',\n",
              "       '181 Al-Nasr Street', '12 street victory', '48 street victory',\n",
              "       '44 street victory', '155 Tahrir Street', '66 street victory',\n",
              "       '115 street tahrir', '80 street victory', '26 Tahrir Street',\n",
              "       '36 Tahrir Street', '131 Al-Nasr Street', '154 street tahrir',\n",
              "       '38 Al-Nasr Street', '82 Tahrir Street', '99 street tahrir',\n",
              "       '93 street tahrir'], dtype=object)"
            ]
          },
          "metadata": {},
          "execution_count": 322
        }
      ]
    },
    {
      "cell_type": "markdown",
      "source": [],
      "metadata": {
        "id": "O_whhVtOZo4t"
      }
    },
    {
      "cell_type": "markdown",
      "source": [
        "# **Customer ID**"
      ],
      "metadata": {
        "id": "GIDJZvtrZpV4"
      }
    },
    {
      "cell_type": "code",
      "source": [
        "CustomersDf[\"CustomerID\"].unique()"
      ],
      "metadata": {
        "colab": {
          "base_uri": "https://localhost:8080/"
        },
        "outputId": "5ff5f780-aa01-49d8-aabb-f75174d9be25",
        "id": "9X3w7B1FZpV5"
      },
      "execution_count": null,
      "outputs": [
        {
          "output_type": "execute_result",
          "data": {
            "text/plain": [
              "array(['c1000', 'c1001', 'cus-502', 'cus-503', 'nan', 'c1006', 'c1008',\n",
              "       'cus-511', 'cus-512', 'c1013', 'c1015', 'cus-517', 'cus-518',\n",
              "       'c1019', 'cus-520', 'c1021', 'cus-522', 'cus-523', 'c1024',\n",
              "       'c1025', 'cus-527', 'cus-530', 'c1031', 'cus-532', 'cus-533',\n",
              "       'c1034', 'c1037', 'c1038', 'c1039', 'c1041', 'c1042', 'c1043',\n",
              "       'c1046', 'c1047', 'c1049', 'cus-550', 'c1051', 'c1052', 'c1053',\n",
              "       'cus-557', 'cus-559'], dtype=object)"
            ]
          },
          "metadata": {},
          "execution_count": 324
        }
      ]
    },
    {
      "cell_type": "code",
      "source": [
        "CustomersDf['CustomerID'] = CustomersDf['CustomerID'].apply(lambda x: x.replace('cus-', 'c') if isinstance(x, str) and x.startswith('cus-') else x)\n"
      ],
      "metadata": {
        "id": "ZT4yMptvZpV6"
      },
      "execution_count": null,
      "outputs": []
    },
    {
      "cell_type": "code",
      "source": [
        "CustomersDf[\"CustomerID\"].unique()"
      ],
      "metadata": {
        "colab": {
          "base_uri": "https://localhost:8080/"
        },
        "outputId": "8d31322a-8db4-46dd-aeaa-e2b8067b4755",
        "id": "MiEP4hUzZpV7"
      },
      "execution_count": null,
      "outputs": [
        {
          "output_type": "execute_result",
          "data": {
            "text/plain": [
              "array(['c1000', 'c1001', 'c502', 'c503', 'nan', 'c1006', 'c1008', 'c511',\n",
              "       'c512', 'c1013', 'c1015', 'c517', 'c518', 'c1019', 'c520', 'c1021',\n",
              "       'c522', 'c523', 'c1024', 'c1025', 'c527', 'c530', 'c1031', 'c532',\n",
              "       'c533', 'c1034', 'c1037', 'c1038', 'c1039', 'c1041', 'c1042',\n",
              "       'c1043', 'c1046', 'c1047', 'c1049', 'c550', 'c1051', 'c1052',\n",
              "       'c1053', 'c557', 'c559'], dtype=object)"
            ]
          },
          "metadata": {},
          "execution_count": 330
        }
      ]
    },
    {
      "cell_type": "markdown",
      "source": [
        "#**Final Dataset Results**"
      ],
      "metadata": {
        "id": "CqRk9gvjZaJp"
      }
    },
    {
      "cell_type": "code",
      "source": [
        "CustomersDf.head()"
      ],
      "metadata": {
        "colab": {
          "base_uri": "https://localhost:8080/",
          "height": 206
        },
        "id": "nrOgP2tjZYTq",
        "outputId": "f59877ae-e9d5-4553-95f7-db1395ef3f88"
      },
      "execution_count": null,
      "outputs": [
        {
          "output_type": "execute_result",
          "data": {
            "text/plain": [
              "  CustomerID  CustomerName Gender        Phone                     Email  \\\n",
              "0      c1000    alaa fathi   male  01232297072    alaa.fathy@example.com   \n",
              "1      c1001   mohamed ali   male  01288174504   mohamed.ali@example.com   \n",
              "2    cus-502  youssef nasr   male  01142158168    youssef.nasr@gmail.com   \n",
              "3    cus-503  alaa ibrahim   male  01247509496  alaa.ibrahim@example.com   \n",
              "4        nan     yusuf ali   male  01253691252        yusf.ali@gmail.com   \n",
              "\n",
              "        Gov             City             Address             Email_Cleaned  \n",
              "0   sharqia            tanta     8 street tahrir    alaa.fathy@example.com  \n",
              "1   gharbia  sharm el sheikh   134 Tahrir Street   mohamed.ali@example.com  \n",
              "2     luxor            tanta    26 street tahrir    youssef.nasr@gmail.com  \n",
              "3     luxor  sharm el sheikh  106 street victory  alaa.ibrahim@example.com  \n",
              "4  dakahlia        nasr city    90 Tahrir Street        yusf.ali@gmail.com  "
            ],
            "text/html": [
              "\n",
              "  <div id=\"df-6e41af94-5ef8-4b44-9369-a323162cbc46\" class=\"colab-df-container\">\n",
              "    <div>\n",
              "<style scoped>\n",
              "    .dataframe tbody tr th:only-of-type {\n",
              "        vertical-align: middle;\n",
              "    }\n",
              "\n",
              "    .dataframe tbody tr th {\n",
              "        vertical-align: top;\n",
              "    }\n",
              "\n",
              "    .dataframe thead th {\n",
              "        text-align: right;\n",
              "    }\n",
              "</style>\n",
              "<table border=\"1\" class=\"dataframe\">\n",
              "  <thead>\n",
              "    <tr style=\"text-align: right;\">\n",
              "      <th></th>\n",
              "      <th>CustomerID</th>\n",
              "      <th>CustomerName</th>\n",
              "      <th>Gender</th>\n",
              "      <th>Phone</th>\n",
              "      <th>Email</th>\n",
              "      <th>Gov</th>\n",
              "      <th>City</th>\n",
              "      <th>Address</th>\n",
              "      <th>Email_Cleaned</th>\n",
              "    </tr>\n",
              "  </thead>\n",
              "  <tbody>\n",
              "    <tr>\n",
              "      <th>0</th>\n",
              "      <td>c1000</td>\n",
              "      <td>alaa fathi</td>\n",
              "      <td>male</td>\n",
              "      <td>01232297072</td>\n",
              "      <td>alaa.fathy@example.com</td>\n",
              "      <td>sharqia</td>\n",
              "      <td>tanta</td>\n",
              "      <td>8 street tahrir</td>\n",
              "      <td>alaa.fathy@example.com</td>\n",
              "    </tr>\n",
              "    <tr>\n",
              "      <th>1</th>\n",
              "      <td>c1001</td>\n",
              "      <td>mohamed ali</td>\n",
              "      <td>male</td>\n",
              "      <td>01288174504</td>\n",
              "      <td>mohamed.ali@example.com</td>\n",
              "      <td>gharbia</td>\n",
              "      <td>sharm el sheikh</td>\n",
              "      <td>134 Tahrir Street</td>\n",
              "      <td>mohamed.ali@example.com</td>\n",
              "    </tr>\n",
              "    <tr>\n",
              "      <th>2</th>\n",
              "      <td>cus-502</td>\n",
              "      <td>youssef nasr</td>\n",
              "      <td>male</td>\n",
              "      <td>01142158168</td>\n",
              "      <td>youssef.nasr@gmail.com</td>\n",
              "      <td>luxor</td>\n",
              "      <td>tanta</td>\n",
              "      <td>26 street tahrir</td>\n",
              "      <td>youssef.nasr@gmail.com</td>\n",
              "    </tr>\n",
              "    <tr>\n",
              "      <th>3</th>\n",
              "      <td>cus-503</td>\n",
              "      <td>alaa ibrahim</td>\n",
              "      <td>male</td>\n",
              "      <td>01247509496</td>\n",
              "      <td>alaa.ibrahim@example.com</td>\n",
              "      <td>luxor</td>\n",
              "      <td>sharm el sheikh</td>\n",
              "      <td>106 street victory</td>\n",
              "      <td>alaa.ibrahim@example.com</td>\n",
              "    </tr>\n",
              "    <tr>\n",
              "      <th>4</th>\n",
              "      <td>nan</td>\n",
              "      <td>yusuf ali</td>\n",
              "      <td>male</td>\n",
              "      <td>01253691252</td>\n",
              "      <td>yusf.ali@gmail.com</td>\n",
              "      <td>dakahlia</td>\n",
              "      <td>nasr city</td>\n",
              "      <td>90 Tahrir Street</td>\n",
              "      <td>yusf.ali@gmail.com</td>\n",
              "    </tr>\n",
              "  </tbody>\n",
              "</table>\n",
              "</div>\n",
              "    <div class=\"colab-df-buttons\">\n",
              "\n",
              "  <div class=\"colab-df-container\">\n",
              "    <button class=\"colab-df-convert\" onclick=\"convertToInteractive('df-6e41af94-5ef8-4b44-9369-a323162cbc46')\"\n",
              "            title=\"Convert this dataframe to an interactive table.\"\n",
              "            style=\"display:none;\">\n",
              "\n",
              "  <svg xmlns=\"http://www.w3.org/2000/svg\" height=\"24px\" viewBox=\"0 -960 960 960\">\n",
              "    <path d=\"M120-120v-720h720v720H120Zm60-500h600v-160H180v160Zm220 220h160v-160H400v160Zm0 220h160v-160H400v160ZM180-400h160v-160H180v160Zm440 0h160v-160H620v160ZM180-180h160v-160H180v160Zm440 0h160v-160H620v160Z\"/>\n",
              "  </svg>\n",
              "    </button>\n",
              "\n",
              "  <style>\n",
              "    .colab-df-container {\n",
              "      display:flex;\n",
              "      gap: 12px;\n",
              "    }\n",
              "\n",
              "    .colab-df-convert {\n",
              "      background-color: #E8F0FE;\n",
              "      border: none;\n",
              "      border-radius: 50%;\n",
              "      cursor: pointer;\n",
              "      display: none;\n",
              "      fill: #1967D2;\n",
              "      height: 32px;\n",
              "      padding: 0 0 0 0;\n",
              "      width: 32px;\n",
              "    }\n",
              "\n",
              "    .colab-df-convert:hover {\n",
              "      background-color: #E2EBFA;\n",
              "      box-shadow: 0px 1px 2px rgba(60, 64, 67, 0.3), 0px 1px 3px 1px rgba(60, 64, 67, 0.15);\n",
              "      fill: #174EA6;\n",
              "    }\n",
              "\n",
              "    .colab-df-buttons div {\n",
              "      margin-bottom: 4px;\n",
              "    }\n",
              "\n",
              "    [theme=dark] .colab-df-convert {\n",
              "      background-color: #3B4455;\n",
              "      fill: #D2E3FC;\n",
              "    }\n",
              "\n",
              "    [theme=dark] .colab-df-convert:hover {\n",
              "      background-color: #434B5C;\n",
              "      box-shadow: 0px 1px 3px 1px rgba(0, 0, 0, 0.15);\n",
              "      filter: drop-shadow(0px 1px 2px rgba(0, 0, 0, 0.3));\n",
              "      fill: #FFFFFF;\n",
              "    }\n",
              "  </style>\n",
              "\n",
              "    <script>\n",
              "      const buttonEl =\n",
              "        document.querySelector('#df-6e41af94-5ef8-4b44-9369-a323162cbc46 button.colab-df-convert');\n",
              "      buttonEl.style.display =\n",
              "        google.colab.kernel.accessAllowed ? 'block' : 'none';\n",
              "\n",
              "      async function convertToInteractive(key) {\n",
              "        const element = document.querySelector('#df-6e41af94-5ef8-4b44-9369-a323162cbc46');\n",
              "        const dataTable =\n",
              "          await google.colab.kernel.invokeFunction('convertToInteractive',\n",
              "                                                    [key], {});\n",
              "        if (!dataTable) return;\n",
              "\n",
              "        const docLinkHtml = 'Like what you see? Visit the ' +\n",
              "          '<a target=\"_blank\" href=https://colab.research.google.com/notebooks/data_table.ipynb>data table notebook</a>'\n",
              "          + ' to learn more about interactive tables.';\n",
              "        element.innerHTML = '';\n",
              "        dataTable['output_type'] = 'display_data';\n",
              "        await google.colab.output.renderOutput(dataTable, element);\n",
              "        const docLink = document.createElement('div');\n",
              "        docLink.innerHTML = docLinkHtml;\n",
              "        element.appendChild(docLink);\n",
              "      }\n",
              "    </script>\n",
              "  </div>\n",
              "\n",
              "\n",
              "    <div id=\"df-65562567-06f1-44f3-aa48-07c27be85715\">\n",
              "      <button class=\"colab-df-quickchart\" onclick=\"quickchart('df-65562567-06f1-44f3-aa48-07c27be85715')\"\n",
              "                title=\"Suggest charts\"\n",
              "                style=\"display:none;\">\n",
              "\n",
              "<svg xmlns=\"http://www.w3.org/2000/svg\" height=\"24px\"viewBox=\"0 0 24 24\"\n",
              "     width=\"24px\">\n",
              "    <g>\n",
              "        <path d=\"M19 3H5c-1.1 0-2 .9-2 2v14c0 1.1.9 2 2 2h14c1.1 0 2-.9 2-2V5c0-1.1-.9-2-2-2zM9 17H7v-7h2v7zm4 0h-2V7h2v10zm4 0h-2v-4h2v4z\"/>\n",
              "    </g>\n",
              "</svg>\n",
              "      </button>\n",
              "\n",
              "<style>\n",
              "  .colab-df-quickchart {\n",
              "      --bg-color: #E8F0FE;\n",
              "      --fill-color: #1967D2;\n",
              "      --hover-bg-color: #E2EBFA;\n",
              "      --hover-fill-color: #174EA6;\n",
              "      --disabled-fill-color: #AAA;\n",
              "      --disabled-bg-color: #DDD;\n",
              "  }\n",
              "\n",
              "  [theme=dark] .colab-df-quickchart {\n",
              "      --bg-color: #3B4455;\n",
              "      --fill-color: #D2E3FC;\n",
              "      --hover-bg-color: #434B5C;\n",
              "      --hover-fill-color: #FFFFFF;\n",
              "      --disabled-bg-color: #3B4455;\n",
              "      --disabled-fill-color: #666;\n",
              "  }\n",
              "\n",
              "  .colab-df-quickchart {\n",
              "    background-color: var(--bg-color);\n",
              "    border: none;\n",
              "    border-radius: 50%;\n",
              "    cursor: pointer;\n",
              "    display: none;\n",
              "    fill: var(--fill-color);\n",
              "    height: 32px;\n",
              "    padding: 0;\n",
              "    width: 32px;\n",
              "  }\n",
              "\n",
              "  .colab-df-quickchart:hover {\n",
              "    background-color: var(--hover-bg-color);\n",
              "    box-shadow: 0 1px 2px rgba(60, 64, 67, 0.3), 0 1px 3px 1px rgba(60, 64, 67, 0.15);\n",
              "    fill: var(--button-hover-fill-color);\n",
              "  }\n",
              "\n",
              "  .colab-df-quickchart-complete:disabled,\n",
              "  .colab-df-quickchart-complete:disabled:hover {\n",
              "    background-color: var(--disabled-bg-color);\n",
              "    fill: var(--disabled-fill-color);\n",
              "    box-shadow: none;\n",
              "  }\n",
              "\n",
              "  .colab-df-spinner {\n",
              "    border: 2px solid var(--fill-color);\n",
              "    border-color: transparent;\n",
              "    border-bottom-color: var(--fill-color);\n",
              "    animation:\n",
              "      spin 1s steps(1) infinite;\n",
              "  }\n",
              "\n",
              "  @keyframes spin {\n",
              "    0% {\n",
              "      border-color: transparent;\n",
              "      border-bottom-color: var(--fill-color);\n",
              "      border-left-color: var(--fill-color);\n",
              "    }\n",
              "    20% {\n",
              "      border-color: transparent;\n",
              "      border-left-color: var(--fill-color);\n",
              "      border-top-color: var(--fill-color);\n",
              "    }\n",
              "    30% {\n",
              "      border-color: transparent;\n",
              "      border-left-color: var(--fill-color);\n",
              "      border-top-color: var(--fill-color);\n",
              "      border-right-color: var(--fill-color);\n",
              "    }\n",
              "    40% {\n",
              "      border-color: transparent;\n",
              "      border-right-color: var(--fill-color);\n",
              "      border-top-color: var(--fill-color);\n",
              "    }\n",
              "    60% {\n",
              "      border-color: transparent;\n",
              "      border-right-color: var(--fill-color);\n",
              "    }\n",
              "    80% {\n",
              "      border-color: transparent;\n",
              "      border-right-color: var(--fill-color);\n",
              "      border-bottom-color: var(--fill-color);\n",
              "    }\n",
              "    90% {\n",
              "      border-color: transparent;\n",
              "      border-bottom-color: var(--fill-color);\n",
              "    }\n",
              "  }\n",
              "</style>\n",
              "\n",
              "      <script>\n",
              "        async function quickchart(key) {\n",
              "          const quickchartButtonEl =\n",
              "            document.querySelector('#' + key + ' button');\n",
              "          quickchartButtonEl.disabled = true;  // To prevent multiple clicks.\n",
              "          quickchartButtonEl.classList.add('colab-df-spinner');\n",
              "          try {\n",
              "            const charts = await google.colab.kernel.invokeFunction(\n",
              "                'suggestCharts', [key], {});\n",
              "          } catch (error) {\n",
              "            console.error('Error during call to suggestCharts:', error);\n",
              "          }\n",
              "          quickchartButtonEl.classList.remove('colab-df-spinner');\n",
              "          quickchartButtonEl.classList.add('colab-df-quickchart-complete');\n",
              "        }\n",
              "        (() => {\n",
              "          let quickchartButtonEl =\n",
              "            document.querySelector('#df-65562567-06f1-44f3-aa48-07c27be85715 button');\n",
              "          quickchartButtonEl.style.display =\n",
              "            google.colab.kernel.accessAllowed ? 'block' : 'none';\n",
              "        })();\n",
              "      </script>\n",
              "    </div>\n",
              "\n",
              "    </div>\n",
              "  </div>\n"
            ],
            "application/vnd.google.colaboratory.intrinsic+json": {
              "type": "dataframe",
              "variable_name": "CustomersDf",
              "summary": "{\n  \"name\": \"CustomersDf\",\n  \"rows\": 60,\n  \"fields\": [\n    {\n      \"column\": \"CustomerID\",\n      \"properties\": {\n        \"dtype\": \"string\",\n        \"num_unique_values\": 41,\n        \"samples\": [\n          \"cus-533\",\n          \"c1019\",\n          \"cus-512\"\n        ],\n        \"semantic_type\": \"\",\n        \"description\": \"\"\n      }\n    },\n    {\n      \"column\": \"CustomerName\",\n      \"properties\": {\n        \"dtype\": \"string\",\n        \"num_unique_values\": 45,\n        \"samples\": [\n          \"nour mahmoud\",\n          \"karim ali\",\n          \"mona fathi\"\n        ],\n        \"semantic_type\": \"\",\n        \"description\": \"\"\n      }\n    },\n    {\n      \"column\": \"Gender\",\n      \"properties\": {\n        \"dtype\": \"category\",\n        \"num_unique_values\": 2,\n        \"samples\": [\n          \"female\",\n          \"male\"\n        ],\n        \"semantic_type\": \"\",\n        \"description\": \"\"\n      }\n    },\n    {\n      \"column\": \"Phone\",\n      \"properties\": {\n        \"dtype\": \"string\",\n        \"num_unique_values\": 51,\n        \"samples\": [\n          \"01033637158\",\n          \"01046297151\"\n        ],\n        \"semantic_type\": \"\",\n        \"description\": \"\"\n      }\n    },\n    {\n      \"column\": \"Email\",\n      \"properties\": {\n        \"dtype\": \"string\",\n        \"num_unique_values\": 48,\n        \"samples\": [\n          \"nour.fathy@gmail.com\",\n          \"only.rashid@example.com\"\n        ],\n        \"semantic_type\": \"\",\n        \"description\": \"\"\n      }\n    },\n    {\n      \"column\": \"Gov\",\n      \"properties\": {\n        \"dtype\": \"category\",\n        \"num_unique_values\": 12,\n        \"samples\": [\n          \"red sea\",\n          \"assiut\"\n        ],\n        \"semantic_type\": \"\",\n        \"description\": \"\"\n      }\n    },\n    {\n      \"column\": \"City\",\n      \"properties\": {\n        \"dtype\": \"category\",\n        \"num_unique_values\": 6,\n        \"samples\": [\n          \"tanta\",\n          \"sharm el sheikh\"\n        ],\n        \"semantic_type\": \"\",\n        \"description\": \"\"\n      }\n    },\n    {\n      \"column\": \"Address\",\n      \"properties\": {\n        \"dtype\": \"string\",\n        \"num_unique_values\": 58,\n        \"samples\": [\n          \"8 street tahrir\",\n          \"78 Al-Nasr Street\"\n        ],\n        \"semantic_type\": \"\",\n        \"description\": \"\"\n      }\n    },\n    {\n      \"column\": \"Email_Cleaned\",\n      \"properties\": {\n        \"dtype\": \"string\",\n        \"num_unique_values\": 48,\n        \"samples\": [\n          \"nour.fathy@gmail.com\",\n          \"only.rashid@example.com\"\n        ],\n        \"semantic_type\": \"\",\n        \"description\": \"\"\n      }\n    }\n  ]\n}"
            }
          },
          "metadata": {},
          "execution_count": 323
        }
      ]
    },
    {
      "cell_type": "markdown",
      "source": [
        "#**Governorates_Lookup_Noise**"
      ],
      "metadata": {
        "id": "tz0vvKjaaATq"
      }
    },
    {
      "cell_type": "code",
      "source": [],
      "metadata": {
        "id": "gbV1EU_fZe5k"
      },
      "execution_count": null,
      "outputs": []
    },
    {
      "cell_type": "markdown",
      "source": [
        "# **Accessing Sales Orders Raw Sheet**\n",
        "\n",
        "---\n",
        "\n"
      ],
      "metadata": {
        "id": "cIgAqEJraKVy"
      }
    },
    {
      "cell_type": "code",
      "source": [
        "GovDf = dataSheets.parse('Governorates_Lookup_Noise')"
      ],
      "metadata": {
        "id": "CYxICMFvaKV1"
      },
      "execution_count": null,
      "outputs": []
    },
    {
      "cell_type": "markdown",
      "source": [
        "# **Primary Inspection DF head,tail**\n",
        "\n",
        "\n"
      ],
      "metadata": {
        "id": "eDazJ548aKV2"
      }
    },
    {
      "cell_type": "code",
      "source": [
        "GovDf.head()"
      ],
      "metadata": {
        "colab": {
          "base_uri": "https://localhost:8080/",
          "height": 206
        },
        "outputId": "776a8ba2-1c1d-4eba-ff9f-a19a9cac2d16",
        "id": "a7sZzohlaKV3"
      },
      "execution_count": null,
      "outputs": [
        {
          "output_type": "execute_result",
          "data": {
            "text/plain": [
              "    GovName  AltName   Latitude  Longitude\n",
              "0  Al Cairo  القاهرة  30.006956  31.203068\n",
              "1     Cairo    Cairo    30,0444    31,2357\n",
              "2   القاهرة    Cairo  30.025546  31.257867\n",
              "3    الجيزة     Giza    31.2089    30.0131\n",
              "4      giza      NaN    30,0131    31,2089"
            ],
            "text/html": [
              "\n",
              "  <div id=\"df-1e987b2c-977c-416a-b536-7dc712adf9e1\" class=\"colab-df-container\">\n",
              "    <div>\n",
              "<style scoped>\n",
              "    .dataframe tbody tr th:only-of-type {\n",
              "        vertical-align: middle;\n",
              "    }\n",
              "\n",
              "    .dataframe tbody tr th {\n",
              "        vertical-align: top;\n",
              "    }\n",
              "\n",
              "    .dataframe thead th {\n",
              "        text-align: right;\n",
              "    }\n",
              "</style>\n",
              "<table border=\"1\" class=\"dataframe\">\n",
              "  <thead>\n",
              "    <tr style=\"text-align: right;\">\n",
              "      <th></th>\n",
              "      <th>GovName</th>\n",
              "      <th>AltName</th>\n",
              "      <th>Latitude</th>\n",
              "      <th>Longitude</th>\n",
              "    </tr>\n",
              "  </thead>\n",
              "  <tbody>\n",
              "    <tr>\n",
              "      <th>0</th>\n",
              "      <td>Al Cairo</td>\n",
              "      <td>القاهرة</td>\n",
              "      <td>30.006956</td>\n",
              "      <td>31.203068</td>\n",
              "    </tr>\n",
              "    <tr>\n",
              "      <th>1</th>\n",
              "      <td>Cairo</td>\n",
              "      <td>Cairo</td>\n",
              "      <td>30,0444</td>\n",
              "      <td>31,2357</td>\n",
              "    </tr>\n",
              "    <tr>\n",
              "      <th>2</th>\n",
              "      <td>القاهرة</td>\n",
              "      <td>Cairo</td>\n",
              "      <td>30.025546</td>\n",
              "      <td>31.257867</td>\n",
              "    </tr>\n",
              "    <tr>\n",
              "      <th>3</th>\n",
              "      <td>الجيزة</td>\n",
              "      <td>Giza</td>\n",
              "      <td>31.2089</td>\n",
              "      <td>30.0131</td>\n",
              "    </tr>\n",
              "    <tr>\n",
              "      <th>4</th>\n",
              "      <td>giza</td>\n",
              "      <td>NaN</td>\n",
              "      <td>30,0131</td>\n",
              "      <td>31,2089</td>\n",
              "    </tr>\n",
              "  </tbody>\n",
              "</table>\n",
              "</div>\n",
              "    <div class=\"colab-df-buttons\">\n",
              "\n",
              "  <div class=\"colab-df-container\">\n",
              "    <button class=\"colab-df-convert\" onclick=\"convertToInteractive('df-1e987b2c-977c-416a-b536-7dc712adf9e1')\"\n",
              "            title=\"Convert this dataframe to an interactive table.\"\n",
              "            style=\"display:none;\">\n",
              "\n",
              "  <svg xmlns=\"http://www.w3.org/2000/svg\" height=\"24px\" viewBox=\"0 -960 960 960\">\n",
              "    <path d=\"M120-120v-720h720v720H120Zm60-500h600v-160H180v160Zm220 220h160v-160H400v160Zm0 220h160v-160H400v160ZM180-400h160v-160H180v160Zm440 0h160v-160H620v160ZM180-180h160v-160H180v160Zm440 0h160v-160H620v160Z\"/>\n",
              "  </svg>\n",
              "    </button>\n",
              "\n",
              "  <style>\n",
              "    .colab-df-container {\n",
              "      display:flex;\n",
              "      gap: 12px;\n",
              "    }\n",
              "\n",
              "    .colab-df-convert {\n",
              "      background-color: #E8F0FE;\n",
              "      border: none;\n",
              "      border-radius: 50%;\n",
              "      cursor: pointer;\n",
              "      display: none;\n",
              "      fill: #1967D2;\n",
              "      height: 32px;\n",
              "      padding: 0 0 0 0;\n",
              "      width: 32px;\n",
              "    }\n",
              "\n",
              "    .colab-df-convert:hover {\n",
              "      background-color: #E2EBFA;\n",
              "      box-shadow: 0px 1px 2px rgba(60, 64, 67, 0.3), 0px 1px 3px 1px rgba(60, 64, 67, 0.15);\n",
              "      fill: #174EA6;\n",
              "    }\n",
              "\n",
              "    .colab-df-buttons div {\n",
              "      margin-bottom: 4px;\n",
              "    }\n",
              "\n",
              "    [theme=dark] .colab-df-convert {\n",
              "      background-color: #3B4455;\n",
              "      fill: #D2E3FC;\n",
              "    }\n",
              "\n",
              "    [theme=dark] .colab-df-convert:hover {\n",
              "      background-color: #434B5C;\n",
              "      box-shadow: 0px 1px 3px 1px rgba(0, 0, 0, 0.15);\n",
              "      filter: drop-shadow(0px 1px 2px rgba(0, 0, 0, 0.3));\n",
              "      fill: #FFFFFF;\n",
              "    }\n",
              "  </style>\n",
              "\n",
              "    <script>\n",
              "      const buttonEl =\n",
              "        document.querySelector('#df-1e987b2c-977c-416a-b536-7dc712adf9e1 button.colab-df-convert');\n",
              "      buttonEl.style.display =\n",
              "        google.colab.kernel.accessAllowed ? 'block' : 'none';\n",
              "\n",
              "      async function convertToInteractive(key) {\n",
              "        const element = document.querySelector('#df-1e987b2c-977c-416a-b536-7dc712adf9e1');\n",
              "        const dataTable =\n",
              "          await google.colab.kernel.invokeFunction('convertToInteractive',\n",
              "                                                    [key], {});\n",
              "        if (!dataTable) return;\n",
              "\n",
              "        const docLinkHtml = 'Like what you see? Visit the ' +\n",
              "          '<a target=\"_blank\" href=https://colab.research.google.com/notebooks/data_table.ipynb>data table notebook</a>'\n",
              "          + ' to learn more about interactive tables.';\n",
              "        element.innerHTML = '';\n",
              "        dataTable['output_type'] = 'display_data';\n",
              "        await google.colab.output.renderOutput(dataTable, element);\n",
              "        const docLink = document.createElement('div');\n",
              "        docLink.innerHTML = docLinkHtml;\n",
              "        element.appendChild(docLink);\n",
              "      }\n",
              "    </script>\n",
              "  </div>\n",
              "\n",
              "\n",
              "    <div id=\"df-5e6f6789-454c-461c-835f-40b5985065cd\">\n",
              "      <button class=\"colab-df-quickchart\" onclick=\"quickchart('df-5e6f6789-454c-461c-835f-40b5985065cd')\"\n",
              "                title=\"Suggest charts\"\n",
              "                style=\"display:none;\">\n",
              "\n",
              "<svg xmlns=\"http://www.w3.org/2000/svg\" height=\"24px\"viewBox=\"0 0 24 24\"\n",
              "     width=\"24px\">\n",
              "    <g>\n",
              "        <path d=\"M19 3H5c-1.1 0-2 .9-2 2v14c0 1.1.9 2 2 2h14c1.1 0 2-.9 2-2V5c0-1.1-.9-2-2-2zM9 17H7v-7h2v7zm4 0h-2V7h2v10zm4 0h-2v-4h2v4z\"/>\n",
              "    </g>\n",
              "</svg>\n",
              "      </button>\n",
              "\n",
              "<style>\n",
              "  .colab-df-quickchart {\n",
              "      --bg-color: #E8F0FE;\n",
              "      --fill-color: #1967D2;\n",
              "      --hover-bg-color: #E2EBFA;\n",
              "      --hover-fill-color: #174EA6;\n",
              "      --disabled-fill-color: #AAA;\n",
              "      --disabled-bg-color: #DDD;\n",
              "  }\n",
              "\n",
              "  [theme=dark] .colab-df-quickchart {\n",
              "      --bg-color: #3B4455;\n",
              "      --fill-color: #D2E3FC;\n",
              "      --hover-bg-color: #434B5C;\n",
              "      --hover-fill-color: #FFFFFF;\n",
              "      --disabled-bg-color: #3B4455;\n",
              "      --disabled-fill-color: #666;\n",
              "  }\n",
              "\n",
              "  .colab-df-quickchart {\n",
              "    background-color: var(--bg-color);\n",
              "    border: none;\n",
              "    border-radius: 50%;\n",
              "    cursor: pointer;\n",
              "    display: none;\n",
              "    fill: var(--fill-color);\n",
              "    height: 32px;\n",
              "    padding: 0;\n",
              "    width: 32px;\n",
              "  }\n",
              "\n",
              "  .colab-df-quickchart:hover {\n",
              "    background-color: var(--hover-bg-color);\n",
              "    box-shadow: 0 1px 2px rgba(60, 64, 67, 0.3), 0 1px 3px 1px rgba(60, 64, 67, 0.15);\n",
              "    fill: var(--button-hover-fill-color);\n",
              "  }\n",
              "\n",
              "  .colab-df-quickchart-complete:disabled,\n",
              "  .colab-df-quickchart-complete:disabled:hover {\n",
              "    background-color: var(--disabled-bg-color);\n",
              "    fill: var(--disabled-fill-color);\n",
              "    box-shadow: none;\n",
              "  }\n",
              "\n",
              "  .colab-df-spinner {\n",
              "    border: 2px solid var(--fill-color);\n",
              "    border-color: transparent;\n",
              "    border-bottom-color: var(--fill-color);\n",
              "    animation:\n",
              "      spin 1s steps(1) infinite;\n",
              "  }\n",
              "\n",
              "  @keyframes spin {\n",
              "    0% {\n",
              "      border-color: transparent;\n",
              "      border-bottom-color: var(--fill-color);\n",
              "      border-left-color: var(--fill-color);\n",
              "    }\n",
              "    20% {\n",
              "      border-color: transparent;\n",
              "      border-left-color: var(--fill-color);\n",
              "      border-top-color: var(--fill-color);\n",
              "    }\n",
              "    30% {\n",
              "      border-color: transparent;\n",
              "      border-left-color: var(--fill-color);\n",
              "      border-top-color: var(--fill-color);\n",
              "      border-right-color: var(--fill-color);\n",
              "    }\n",
              "    40% {\n",
              "      border-color: transparent;\n",
              "      border-right-color: var(--fill-color);\n",
              "      border-top-color: var(--fill-color);\n",
              "    }\n",
              "    60% {\n",
              "      border-color: transparent;\n",
              "      border-right-color: var(--fill-color);\n",
              "    }\n",
              "    80% {\n",
              "      border-color: transparent;\n",
              "      border-right-color: var(--fill-color);\n",
              "      border-bottom-color: var(--fill-color);\n",
              "    }\n",
              "    90% {\n",
              "      border-color: transparent;\n",
              "      border-bottom-color: var(--fill-color);\n",
              "    }\n",
              "  }\n",
              "</style>\n",
              "\n",
              "      <script>\n",
              "        async function quickchart(key) {\n",
              "          const quickchartButtonEl =\n",
              "            document.querySelector('#' + key + ' button');\n",
              "          quickchartButtonEl.disabled = true;  // To prevent multiple clicks.\n",
              "          quickchartButtonEl.classList.add('colab-df-spinner');\n",
              "          try {\n",
              "            const charts = await google.colab.kernel.invokeFunction(\n",
              "                'suggestCharts', [key], {});\n",
              "          } catch (error) {\n",
              "            console.error('Error during call to suggestCharts:', error);\n",
              "          }\n",
              "          quickchartButtonEl.classList.remove('colab-df-spinner');\n",
              "          quickchartButtonEl.classList.add('colab-df-quickchart-complete');\n",
              "        }\n",
              "        (() => {\n",
              "          let quickchartButtonEl =\n",
              "            document.querySelector('#df-5e6f6789-454c-461c-835f-40b5985065cd button');\n",
              "          quickchartButtonEl.style.display =\n",
              "            google.colab.kernel.accessAllowed ? 'block' : 'none';\n",
              "        })();\n",
              "      </script>\n",
              "    </div>\n",
              "\n",
              "    </div>\n",
              "  </div>\n"
            ],
            "application/vnd.google.colaboratory.intrinsic+json": {
              "type": "dataframe",
              "variable_name": "GovDf",
              "summary": "{\n  \"name\": \"GovDf\",\n  \"rows\": 36,\n  \"fields\": [\n    {\n      \"column\": \"GovName\",\n      \"properties\": {\n        \"dtype\": \"string\",\n        \"num_unique_values\": 29,\n        \"samples\": [\n          \"south sinai\",\n          \"\\u0627\\u0644\\u062f\\u0642\\u0647\\u0644\\u064a\\u0629\",\n          \"\\u0627\\u0644\\u0642\\u0644\\u064a\\u0648\\u0628\\u064a\\u0629\"\n        ],\n        \"semantic_type\": \"\",\n        \"description\": \"\"\n      }\n    },\n    {\n      \"column\": \"AltName\",\n      \"properties\": {\n        \"dtype\": \"category\",\n        \"num_unique_values\": 16,\n        \"samples\": [\n          \"\\u0627\\u0644\\u0642\\u0627\\u0647\\u0631\\u0629\",\n          \"Cairo\",\n          \"Asyut\"\n        ],\n        \"semantic_type\": \"\",\n        \"description\": \"\"\n      }\n    },\n    {\n      \"column\": \"Latitude\",\n      \"properties\": {\n        \"dtype\": \"string\",\n        \"num_unique_values\": 34,\n        \"samples\": [\n          30.46570968766157,\n          31.00568842814366,\n          25.73020168659411\n        ],\n        \"semantic_type\": \"\",\n        \"description\": \"\"\n      }\n    },\n    {\n      \"column\": \"Longitude\",\n      \"properties\": {\n        \"dtype\": \"string\",\n        \"num_unique_values\": 34,\n        \"samples\": [\n          31.30712703787766,\n          31.38904356355627,\n          32.62939702196942\n        ],\n        \"semantic_type\": \"\",\n        \"description\": \"\"\n      }\n    }\n  ]\n}"
            }
          },
          "metadata": {},
          "execution_count": 347
        }
      ]
    },
    {
      "cell_type": "code",
      "source": [
        "GovDf.tail()"
      ],
      "metadata": {
        "colab": {
          "base_uri": "https://localhost:8080/",
          "height": 206
        },
        "outputId": "139654a4-c1b2-4f07-e382-ceb3e0ea2181",
        "id": "ig0FkoYGaKV4"
      },
      "execution_count": null,
      "outputs": [
        {
          "output_type": "execute_result",
          "data": {
            "text/plain": [
              "         GovName       AltName   Latitude  Longitude\n",
              "31       red sea  البحر الأحمر  27.249584  33.790434\n",
              "32  البحر الأحمر           NaN    33.8116    27.2579\n",
              "33   south sinai    جنوب سيناء     33.975    28.5426\n",
              "34    جنوب سيناء    جنوب سيناء  28.503624  33.981709\n",
              "35    جنوب سيناء    جنوب سيناء    28,5426     33,975"
            ],
            "text/html": [
              "\n",
              "  <div id=\"df-f2333ff9-2dc1-48e5-a8b9-123e8421c4ce\" class=\"colab-df-container\">\n",
              "    <div>\n",
              "<style scoped>\n",
              "    .dataframe tbody tr th:only-of-type {\n",
              "        vertical-align: middle;\n",
              "    }\n",
              "\n",
              "    .dataframe tbody tr th {\n",
              "        vertical-align: top;\n",
              "    }\n",
              "\n",
              "    .dataframe thead th {\n",
              "        text-align: right;\n",
              "    }\n",
              "</style>\n",
              "<table border=\"1\" class=\"dataframe\">\n",
              "  <thead>\n",
              "    <tr style=\"text-align: right;\">\n",
              "      <th></th>\n",
              "      <th>GovName</th>\n",
              "      <th>AltName</th>\n",
              "      <th>Latitude</th>\n",
              "      <th>Longitude</th>\n",
              "    </tr>\n",
              "  </thead>\n",
              "  <tbody>\n",
              "    <tr>\n",
              "      <th>31</th>\n",
              "      <td>red sea</td>\n",
              "      <td>البحر الأحمر</td>\n",
              "      <td>27.249584</td>\n",
              "      <td>33.790434</td>\n",
              "    </tr>\n",
              "    <tr>\n",
              "      <th>32</th>\n",
              "      <td>البحر الأحمر</td>\n",
              "      <td>NaN</td>\n",
              "      <td>33.8116</td>\n",
              "      <td>27.2579</td>\n",
              "    </tr>\n",
              "    <tr>\n",
              "      <th>33</th>\n",
              "      <td>south sinai</td>\n",
              "      <td>جنوب سيناء</td>\n",
              "      <td>33.975</td>\n",
              "      <td>28.5426</td>\n",
              "    </tr>\n",
              "    <tr>\n",
              "      <th>34</th>\n",
              "      <td>جنوب سيناء</td>\n",
              "      <td>جنوب سيناء</td>\n",
              "      <td>28.503624</td>\n",
              "      <td>33.981709</td>\n",
              "    </tr>\n",
              "    <tr>\n",
              "      <th>35</th>\n",
              "      <td>جنوب سيناء</td>\n",
              "      <td>جنوب سيناء</td>\n",
              "      <td>28,5426</td>\n",
              "      <td>33,975</td>\n",
              "    </tr>\n",
              "  </tbody>\n",
              "</table>\n",
              "</div>\n",
              "    <div class=\"colab-df-buttons\">\n",
              "\n",
              "  <div class=\"colab-df-container\">\n",
              "    <button class=\"colab-df-convert\" onclick=\"convertToInteractive('df-f2333ff9-2dc1-48e5-a8b9-123e8421c4ce')\"\n",
              "            title=\"Convert this dataframe to an interactive table.\"\n",
              "            style=\"display:none;\">\n",
              "\n",
              "  <svg xmlns=\"http://www.w3.org/2000/svg\" height=\"24px\" viewBox=\"0 -960 960 960\">\n",
              "    <path d=\"M120-120v-720h720v720H120Zm60-500h600v-160H180v160Zm220 220h160v-160H400v160Zm0 220h160v-160H400v160ZM180-400h160v-160H180v160Zm440 0h160v-160H620v160ZM180-180h160v-160H180v160Zm440 0h160v-160H620v160Z\"/>\n",
              "  </svg>\n",
              "    </button>\n",
              "\n",
              "  <style>\n",
              "    .colab-df-container {\n",
              "      display:flex;\n",
              "      gap: 12px;\n",
              "    }\n",
              "\n",
              "    .colab-df-convert {\n",
              "      background-color: #E8F0FE;\n",
              "      border: none;\n",
              "      border-radius: 50%;\n",
              "      cursor: pointer;\n",
              "      display: none;\n",
              "      fill: #1967D2;\n",
              "      height: 32px;\n",
              "      padding: 0 0 0 0;\n",
              "      width: 32px;\n",
              "    }\n",
              "\n",
              "    .colab-df-convert:hover {\n",
              "      background-color: #E2EBFA;\n",
              "      box-shadow: 0px 1px 2px rgba(60, 64, 67, 0.3), 0px 1px 3px 1px rgba(60, 64, 67, 0.15);\n",
              "      fill: #174EA6;\n",
              "    }\n",
              "\n",
              "    .colab-df-buttons div {\n",
              "      margin-bottom: 4px;\n",
              "    }\n",
              "\n",
              "    [theme=dark] .colab-df-convert {\n",
              "      background-color: #3B4455;\n",
              "      fill: #D2E3FC;\n",
              "    }\n",
              "\n",
              "    [theme=dark] .colab-df-convert:hover {\n",
              "      background-color: #434B5C;\n",
              "      box-shadow: 0px 1px 3px 1px rgba(0, 0, 0, 0.15);\n",
              "      filter: drop-shadow(0px 1px 2px rgba(0, 0, 0, 0.3));\n",
              "      fill: #FFFFFF;\n",
              "    }\n",
              "  </style>\n",
              "\n",
              "    <script>\n",
              "      const buttonEl =\n",
              "        document.querySelector('#df-f2333ff9-2dc1-48e5-a8b9-123e8421c4ce button.colab-df-convert');\n",
              "      buttonEl.style.display =\n",
              "        google.colab.kernel.accessAllowed ? 'block' : 'none';\n",
              "\n",
              "      async function convertToInteractive(key) {\n",
              "        const element = document.querySelector('#df-f2333ff9-2dc1-48e5-a8b9-123e8421c4ce');\n",
              "        const dataTable =\n",
              "          await google.colab.kernel.invokeFunction('convertToInteractive',\n",
              "                                                    [key], {});\n",
              "        if (!dataTable) return;\n",
              "\n",
              "        const docLinkHtml = 'Like what you see? Visit the ' +\n",
              "          '<a target=\"_blank\" href=https://colab.research.google.com/notebooks/data_table.ipynb>data table notebook</a>'\n",
              "          + ' to learn more about interactive tables.';\n",
              "        element.innerHTML = '';\n",
              "        dataTable['output_type'] = 'display_data';\n",
              "        await google.colab.output.renderOutput(dataTable, element);\n",
              "        const docLink = document.createElement('div');\n",
              "        docLink.innerHTML = docLinkHtml;\n",
              "        element.appendChild(docLink);\n",
              "      }\n",
              "    </script>\n",
              "  </div>\n",
              "\n",
              "\n",
              "    <div id=\"df-f6ac5ea0-f2c9-414c-b8ff-102ff2aa7be7\">\n",
              "      <button class=\"colab-df-quickchart\" onclick=\"quickchart('df-f6ac5ea0-f2c9-414c-b8ff-102ff2aa7be7')\"\n",
              "                title=\"Suggest charts\"\n",
              "                style=\"display:none;\">\n",
              "\n",
              "<svg xmlns=\"http://www.w3.org/2000/svg\" height=\"24px\"viewBox=\"0 0 24 24\"\n",
              "     width=\"24px\">\n",
              "    <g>\n",
              "        <path d=\"M19 3H5c-1.1 0-2 .9-2 2v14c0 1.1.9 2 2 2h14c1.1 0 2-.9 2-2V5c0-1.1-.9-2-2-2zM9 17H7v-7h2v7zm4 0h-2V7h2v10zm4 0h-2v-4h2v4z\"/>\n",
              "    </g>\n",
              "</svg>\n",
              "      </button>\n",
              "\n",
              "<style>\n",
              "  .colab-df-quickchart {\n",
              "      --bg-color: #E8F0FE;\n",
              "      --fill-color: #1967D2;\n",
              "      --hover-bg-color: #E2EBFA;\n",
              "      --hover-fill-color: #174EA6;\n",
              "      --disabled-fill-color: #AAA;\n",
              "      --disabled-bg-color: #DDD;\n",
              "  }\n",
              "\n",
              "  [theme=dark] .colab-df-quickchart {\n",
              "      --bg-color: #3B4455;\n",
              "      --fill-color: #D2E3FC;\n",
              "      --hover-bg-color: #434B5C;\n",
              "      --hover-fill-color: #FFFFFF;\n",
              "      --disabled-bg-color: #3B4455;\n",
              "      --disabled-fill-color: #666;\n",
              "  }\n",
              "\n",
              "  .colab-df-quickchart {\n",
              "    background-color: var(--bg-color);\n",
              "    border: none;\n",
              "    border-radius: 50%;\n",
              "    cursor: pointer;\n",
              "    display: none;\n",
              "    fill: var(--fill-color);\n",
              "    height: 32px;\n",
              "    padding: 0;\n",
              "    width: 32px;\n",
              "  }\n",
              "\n",
              "  .colab-df-quickchart:hover {\n",
              "    background-color: var(--hover-bg-color);\n",
              "    box-shadow: 0 1px 2px rgba(60, 64, 67, 0.3), 0 1px 3px 1px rgba(60, 64, 67, 0.15);\n",
              "    fill: var(--button-hover-fill-color);\n",
              "  }\n",
              "\n",
              "  .colab-df-quickchart-complete:disabled,\n",
              "  .colab-df-quickchart-complete:disabled:hover {\n",
              "    background-color: var(--disabled-bg-color);\n",
              "    fill: var(--disabled-fill-color);\n",
              "    box-shadow: none;\n",
              "  }\n",
              "\n",
              "  .colab-df-spinner {\n",
              "    border: 2px solid var(--fill-color);\n",
              "    border-color: transparent;\n",
              "    border-bottom-color: var(--fill-color);\n",
              "    animation:\n",
              "      spin 1s steps(1) infinite;\n",
              "  }\n",
              "\n",
              "  @keyframes spin {\n",
              "    0% {\n",
              "      border-color: transparent;\n",
              "      border-bottom-color: var(--fill-color);\n",
              "      border-left-color: var(--fill-color);\n",
              "    }\n",
              "    20% {\n",
              "      border-color: transparent;\n",
              "      border-left-color: var(--fill-color);\n",
              "      border-top-color: var(--fill-color);\n",
              "    }\n",
              "    30% {\n",
              "      border-color: transparent;\n",
              "      border-left-color: var(--fill-color);\n",
              "      border-top-color: var(--fill-color);\n",
              "      border-right-color: var(--fill-color);\n",
              "    }\n",
              "    40% {\n",
              "      border-color: transparent;\n",
              "      border-right-color: var(--fill-color);\n",
              "      border-top-color: var(--fill-color);\n",
              "    }\n",
              "    60% {\n",
              "      border-color: transparent;\n",
              "      border-right-color: var(--fill-color);\n",
              "    }\n",
              "    80% {\n",
              "      border-color: transparent;\n",
              "      border-right-color: var(--fill-color);\n",
              "      border-bottom-color: var(--fill-color);\n",
              "    }\n",
              "    90% {\n",
              "      border-color: transparent;\n",
              "      border-bottom-color: var(--fill-color);\n",
              "    }\n",
              "  }\n",
              "</style>\n",
              "\n",
              "      <script>\n",
              "        async function quickchart(key) {\n",
              "          const quickchartButtonEl =\n",
              "            document.querySelector('#' + key + ' button');\n",
              "          quickchartButtonEl.disabled = true;  // To prevent multiple clicks.\n",
              "          quickchartButtonEl.classList.add('colab-df-spinner');\n",
              "          try {\n",
              "            const charts = await google.colab.kernel.invokeFunction(\n",
              "                'suggestCharts', [key], {});\n",
              "          } catch (error) {\n",
              "            console.error('Error during call to suggestCharts:', error);\n",
              "          }\n",
              "          quickchartButtonEl.classList.remove('colab-df-spinner');\n",
              "          quickchartButtonEl.classList.add('colab-df-quickchart-complete');\n",
              "        }\n",
              "        (() => {\n",
              "          let quickchartButtonEl =\n",
              "            document.querySelector('#df-f6ac5ea0-f2c9-414c-b8ff-102ff2aa7be7 button');\n",
              "          quickchartButtonEl.style.display =\n",
              "            google.colab.kernel.accessAllowed ? 'block' : 'none';\n",
              "        })();\n",
              "      </script>\n",
              "    </div>\n",
              "\n",
              "    </div>\n",
              "  </div>\n"
            ],
            "application/vnd.google.colaboratory.intrinsic+json": {
              "type": "dataframe",
              "summary": "{\n  \"name\": \"GovDf\",\n  \"rows\": 5,\n  \"fields\": [\n    {\n      \"column\": \"GovName\",\n      \"properties\": {\n        \"dtype\": \"string\",\n        \"num_unique_values\": 4,\n        \"samples\": [\n          \"\\u0627\\u0644\\u0628\\u062d\\u0631 \\u0627\\u0644\\u0623\\u062d\\u0645\\u0631\",\n          \"\\u062c\\u0646\\u0648\\u0628 \\u0633\\u064a\\u0646\\u0627\\u0621\",\n          \"red sea\"\n        ],\n        \"semantic_type\": \"\",\n        \"description\": \"\"\n      }\n    },\n    {\n      \"column\": \"AltName\",\n      \"properties\": {\n        \"dtype\": \"category\",\n        \"num_unique_values\": 2,\n        \"samples\": [\n          \"\\u062c\\u0646\\u0648\\u0628 \\u0633\\u064a\\u0646\\u0627\\u0621\",\n          \"\\u0627\\u0644\\u0628\\u062d\\u0631 \\u0627\\u0644\\u0623\\u062d\\u0645\\u0631\"\n        ],\n        \"semantic_type\": \"\",\n        \"description\": \"\"\n      }\n    },\n    {\n      \"column\": \"Latitude\",\n      \"properties\": {\n        \"dtype\": \"string\",\n        \"num_unique_values\": 5,\n        \"samples\": [\n          33.8116,\n          \"28,5426\"\n        ],\n        \"semantic_type\": \"\",\n        \"description\": \"\"\n      }\n    },\n    {\n      \"column\": \"Longitude\",\n      \"properties\": {\n        \"dtype\": \"string\",\n        \"num_unique_values\": 5,\n        \"samples\": [\n          27.2579,\n          \"33,975\"\n        ],\n        \"semantic_type\": \"\",\n        \"description\": \"\"\n      }\n    }\n  ]\n}"
            }
          },
          "metadata": {},
          "execution_count": 348
        }
      ]
    },
    {
      "cell_type": "markdown",
      "source": [
        "\n",
        "**Gov Columns**\n"
      ],
      "metadata": {
        "id": "oX_pQPu3aKV5"
      }
    },
    {
      "cell_type": "code",
      "source": [
        "GovDf.columns"
      ],
      "metadata": {
        "colab": {
          "base_uri": "https://localhost:8080/"
        },
        "outputId": "4674ca60-5636-4a45-e7fb-cc2d9c1576ad",
        "id": "CE2c2MMpaKV5"
      },
      "execution_count": null,
      "outputs": [
        {
          "output_type": "execute_result",
          "data": {
            "text/plain": [
              "Index(['GovName', 'AltName', 'Latitude', 'Longitude'], dtype='object')"
            ]
          },
          "metadata": {},
          "execution_count": 349
        }
      ]
    },
    {
      "cell_type": "markdown",
      "source": [
        "**Checking Nulls and Data Types**"
      ],
      "metadata": {
        "id": "MmQjMj-PaKV5"
      }
    },
    {
      "cell_type": "code",
      "source": [
        "GovDf.info()"
      ],
      "metadata": {
        "colab": {
          "base_uri": "https://localhost:8080/"
        },
        "outputId": "22652f50-2838-4cba-f1e3-79bd676dec2a",
        "id": "-4sDkz1IaKV6"
      },
      "execution_count": null,
      "outputs": [
        {
          "output_type": "stream",
          "name": "stdout",
          "text": [
            "<class 'pandas.core.frame.DataFrame'>\n",
            "RangeIndex: 36 entries, 0 to 35\n",
            "Data columns (total 4 columns):\n",
            " #   Column     Non-Null Count  Dtype \n",
            "---  ------     --------------  ----- \n",
            " 0   GovName    36 non-null     object\n",
            " 1   AltName    26 non-null     object\n",
            " 2   Latitude   35 non-null     object\n",
            " 3   Longitude  35 non-null     object\n",
            "dtypes: object(4)\n",
            "memory usage: 1.3+ KB\n"
          ]
        }
      ]
    },
    {
      "cell_type": "code",
      "source": [
        "GovDf['GovName'].unique()"
      ],
      "metadata": {
        "colab": {
          "base_uri": "https://localhost:8080/"
        },
        "id": "HpwMlzkqabjQ",
        "outputId": "17e80d54-d0a5-4b43-8087-b6a5d988de2b"
      },
      "execution_count": null,
      "outputs": [
        {
          "output_type": "execute_result",
          "data": {
            "text/plain": [
              "array(['Al Cairo', 'Cairo', 'القاهرة', 'الجيزة', 'giza', 'alexandria',\n",
              "       'الإسكندرية', 'Al Asyut', 'أسيوط', 'أسوان', 'ASWAN', 'qalyubia',\n",
              "       'القليوبية', 'QALYUBIA', 'Sharqia', 'sharqia', 'الدقهلية',\n",
              "       'Al Dakahlia', 'dakahlia', 'الغربية', 'gharbia', 'Luxor', 'الأقصر',\n",
              "       'LUXOR', 'Red Sea', 'red sea', 'البحر الأحمر', 'south sinai',\n",
              "       'جنوب سيناء'], dtype=object)"
            ]
          },
          "metadata": {},
          "execution_count": 351
        }
      ]
    },
    {
      "cell_type": "code",
      "source": [
        "governorateMapFinal = {\n",
        "    'Al Cairo': 'Cairo', 'Cairo': 'Cairo', 'القاهرة': 'Cairo',\n",
        "    'الجيزة': 'Giza', 'giza': 'Giza',\n",
        "    'alexandria': 'Alexandria', 'الإسكندرية': 'Alexandria',\n",
        "    'Al Asyut': 'Asyut', 'أسيوط': 'Asyut',\n",
        "    'أسوان': 'Aswan', 'ASWAN': 'Aswan',\n",
        "    'qalyubia': 'Qalyubia', 'القليوبية': 'Qalyubia', 'QALYUBIA': 'Qalyubia',\n",
        "    'Sharqia': 'Sharqia', 'sharqia': 'Sharqia',\n",
        "    'الدقهلية': 'Dakahlia', 'Al Dakahlia': 'Dakahlia', 'dakahlia': 'Dakahlia',\n",
        "    'الغربية': 'Gharbia', 'gharbia': 'Gharbia',\n",
        "    'Luxor': 'Luxor', 'الأقصر': 'Luxor', 'LUXOR': 'Luxor',\n",
        "    'Red Sea': 'Red Sea', 'red sea': 'Red Sea', 'البحر الأحمر': 'Red Sea',\n",
        "    'south sinai': 'South Sinai', 'جنوب سيناء': 'South Sinai'\n",
        "}"
      ],
      "metadata": {
        "id": "db060Jaya6E7"
      },
      "execution_count": null,
      "outputs": []
    },
    {
      "cell_type": "code",
      "source": [
        "GovDf['GovName'] = GovDf['GovName'].map(governorateMapFinal)"
      ],
      "metadata": {
        "id": "61qs9udsbPR4"
      },
      "execution_count": null,
      "outputs": []
    },
    {
      "cell_type": "code",
      "source": [
        "GovDf['GovName'].unique()"
      ],
      "metadata": {
        "colab": {
          "base_uri": "https://localhost:8080/"
        },
        "id": "8Wiq-ZVPbiZf",
        "outputId": "d8fca2e2-f61c-4c53-c6d2-6fcae12f76d7"
      },
      "execution_count": null,
      "outputs": [
        {
          "output_type": "execute_result",
          "data": {
            "text/plain": [
              "array(['Cairo', 'Giza', 'Alexandria', 'Asyut', 'Aswan', 'Qalyubia',\n",
              "       'Sharqia', 'Dakahlia', 'Gharbia', 'Luxor', 'Red Sea',\n",
              "       'South Sinai'], dtype=object)"
            ]
          },
          "metadata": {},
          "execution_count": 354
        }
      ]
    },
    {
      "cell_type": "markdown",
      "source": [
        "#**ALT Name**"
      ],
      "metadata": {
        "id": "HfgwKHJ0bnky"
      }
    },
    {
      "cell_type": "code",
      "source": [
        "GovDf['AltName'].unique()"
      ],
      "metadata": {
        "colab": {
          "base_uri": "https://localhost:8080/"
        },
        "id": "wcdnXaCrblla",
        "outputId": "af3d438b-fcf2-4e24-aabd-b26c756f1939"
      },
      "execution_count": null,
      "outputs": [
        {
          "output_type": "execute_result",
          "data": {
            "text/plain": [
              "array(['القاهرة', 'Cairo', 'Giza', nan, 'الجيزة', 'Alexandria', 'Asyut',\n",
              "       'أسوان', 'Aswan', 'القليوبية', 'الشرقية', 'Dakahlia', 'Gharbia',\n",
              "       'الأقصر', 'Luxor', 'البحر الأحمر', 'جنوب سيناء'], dtype=object)"
            ]
          },
          "metadata": {},
          "execution_count": 355
        }
      ]
    },
    {
      "cell_type": "code",
      "source": [
        "governorateMapFinalAR= {\n",
        "    'Cairo': 'القاهرة',\n",
        "    'Giza': 'الجيزة',\n",
        "    'Alexandria': 'الإسكندرية',\n",
        "    'Asyut': 'أسيوط',\n",
        "    'Aswan': 'أسوان',\n",
        "    'Qalyubia': 'القليوبية',\n",
        "    'Sharqia': 'الشرقية',\n",
        "    'Dakahlia': 'الدقهلية',\n",
        "    'Gharbia': 'الغربية',\n",
        "    'Luxor': 'الأقصر',\n",
        "    'Red Sea': 'البحر الأحمر',\n",
        "    'South Sinai': 'جنوب سيناء'\n",
        "}"
      ],
      "metadata": {
        "id": "Mrp6UcXibvJt"
      },
      "execution_count": null,
      "outputs": []
    },
    {
      "cell_type": "code",
      "source": [
        "GovDf['AltName'] = GovDf['GovName'].map(governorateMapFinalAR)"
      ],
      "metadata": {
        "id": "Upnpo1DxcEn1"
      },
      "execution_count": null,
      "outputs": []
    },
    {
      "cell_type": "code",
      "source": [
        "GovDf['AltName']"
      ],
      "metadata": {
        "colab": {
          "base_uri": "https://localhost:8080/",
          "height": 1000
        },
        "id": "BOHirTG6cJjc",
        "outputId": "d6238747-6a60-4993-f09f-6b50803ab13e"
      },
      "execution_count": null,
      "outputs": [
        {
          "output_type": "execute_result",
          "data": {
            "text/plain": [
              "0          القاهرة\n",
              "1          القاهرة\n",
              "2          القاهرة\n",
              "3           الجيزة\n",
              "4           الجيزة\n",
              "5           الجيزة\n",
              "6       الإسكندرية\n",
              "7       الإسكندرية\n",
              "8       الإسكندرية\n",
              "9            أسيوط\n",
              "10           أسيوط\n",
              "11           أسيوط\n",
              "12           أسوان\n",
              "13           أسوان\n",
              "14           أسوان\n",
              "15       القليوبية\n",
              "16       القليوبية\n",
              "17       القليوبية\n",
              "18         الشرقية\n",
              "19         الشرقية\n",
              "20         الشرقية\n",
              "21        الدقهلية\n",
              "22        الدقهلية\n",
              "23        الدقهلية\n",
              "24         الغربية\n",
              "25         الغربية\n",
              "26         الغربية\n",
              "27          الأقصر\n",
              "28          الأقصر\n",
              "29          الأقصر\n",
              "30    البحر الأحمر\n",
              "31    البحر الأحمر\n",
              "32    البحر الأحمر\n",
              "33      جنوب سيناء\n",
              "34      جنوب سيناء\n",
              "35      جنوب سيناء\n",
              "Name: AltName, dtype: object"
            ],
            "text/html": [
              "<div>\n",
              "<style scoped>\n",
              "    .dataframe tbody tr th:only-of-type {\n",
              "        vertical-align: middle;\n",
              "    }\n",
              "\n",
              "    .dataframe tbody tr th {\n",
              "        vertical-align: top;\n",
              "    }\n",
              "\n",
              "    .dataframe thead th {\n",
              "        text-align: right;\n",
              "    }\n",
              "</style>\n",
              "<table border=\"1\" class=\"dataframe\">\n",
              "  <thead>\n",
              "    <tr style=\"text-align: right;\">\n",
              "      <th></th>\n",
              "      <th>AltName</th>\n",
              "    </tr>\n",
              "  </thead>\n",
              "  <tbody>\n",
              "    <tr>\n",
              "      <th>0</th>\n",
              "      <td>القاهرة</td>\n",
              "    </tr>\n",
              "    <tr>\n",
              "      <th>1</th>\n",
              "      <td>القاهرة</td>\n",
              "    </tr>\n",
              "    <tr>\n",
              "      <th>2</th>\n",
              "      <td>القاهرة</td>\n",
              "    </tr>\n",
              "    <tr>\n",
              "      <th>3</th>\n",
              "      <td>الجيزة</td>\n",
              "    </tr>\n",
              "    <tr>\n",
              "      <th>4</th>\n",
              "      <td>الجيزة</td>\n",
              "    </tr>\n",
              "    <tr>\n",
              "      <th>5</th>\n",
              "      <td>الجيزة</td>\n",
              "    </tr>\n",
              "    <tr>\n",
              "      <th>6</th>\n",
              "      <td>الإسكندرية</td>\n",
              "    </tr>\n",
              "    <tr>\n",
              "      <th>7</th>\n",
              "      <td>الإسكندرية</td>\n",
              "    </tr>\n",
              "    <tr>\n",
              "      <th>8</th>\n",
              "      <td>الإسكندرية</td>\n",
              "    </tr>\n",
              "    <tr>\n",
              "      <th>9</th>\n",
              "      <td>أسيوط</td>\n",
              "    </tr>\n",
              "    <tr>\n",
              "      <th>10</th>\n",
              "      <td>أسيوط</td>\n",
              "    </tr>\n",
              "    <tr>\n",
              "      <th>11</th>\n",
              "      <td>أسيوط</td>\n",
              "    </tr>\n",
              "    <tr>\n",
              "      <th>12</th>\n",
              "      <td>أسوان</td>\n",
              "    </tr>\n",
              "    <tr>\n",
              "      <th>13</th>\n",
              "      <td>أسوان</td>\n",
              "    </tr>\n",
              "    <tr>\n",
              "      <th>14</th>\n",
              "      <td>أسوان</td>\n",
              "    </tr>\n",
              "    <tr>\n",
              "      <th>15</th>\n",
              "      <td>القليوبية</td>\n",
              "    </tr>\n",
              "    <tr>\n",
              "      <th>16</th>\n",
              "      <td>القليوبية</td>\n",
              "    </tr>\n",
              "    <tr>\n",
              "      <th>17</th>\n",
              "      <td>القليوبية</td>\n",
              "    </tr>\n",
              "    <tr>\n",
              "      <th>18</th>\n",
              "      <td>الشرقية</td>\n",
              "    </tr>\n",
              "    <tr>\n",
              "      <th>19</th>\n",
              "      <td>الشرقية</td>\n",
              "    </tr>\n",
              "    <tr>\n",
              "      <th>20</th>\n",
              "      <td>الشرقية</td>\n",
              "    </tr>\n",
              "    <tr>\n",
              "      <th>21</th>\n",
              "      <td>الدقهلية</td>\n",
              "    </tr>\n",
              "    <tr>\n",
              "      <th>22</th>\n",
              "      <td>الدقهلية</td>\n",
              "    </tr>\n",
              "    <tr>\n",
              "      <th>23</th>\n",
              "      <td>الدقهلية</td>\n",
              "    </tr>\n",
              "    <tr>\n",
              "      <th>24</th>\n",
              "      <td>الغربية</td>\n",
              "    </tr>\n",
              "    <tr>\n",
              "      <th>25</th>\n",
              "      <td>الغربية</td>\n",
              "    </tr>\n",
              "    <tr>\n",
              "      <th>26</th>\n",
              "      <td>الغربية</td>\n",
              "    </tr>\n",
              "    <tr>\n",
              "      <th>27</th>\n",
              "      <td>الأقصر</td>\n",
              "    </tr>\n",
              "    <tr>\n",
              "      <th>28</th>\n",
              "      <td>الأقصر</td>\n",
              "    </tr>\n",
              "    <tr>\n",
              "      <th>29</th>\n",
              "      <td>الأقصر</td>\n",
              "    </tr>\n",
              "    <tr>\n",
              "      <th>30</th>\n",
              "      <td>البحر الأحمر</td>\n",
              "    </tr>\n",
              "    <tr>\n",
              "      <th>31</th>\n",
              "      <td>البحر الأحمر</td>\n",
              "    </tr>\n",
              "    <tr>\n",
              "      <th>32</th>\n",
              "      <td>البحر الأحمر</td>\n",
              "    </tr>\n",
              "    <tr>\n",
              "      <th>33</th>\n",
              "      <td>جنوب سيناء</td>\n",
              "    </tr>\n",
              "    <tr>\n",
              "      <th>34</th>\n",
              "      <td>جنوب سيناء</td>\n",
              "    </tr>\n",
              "    <tr>\n",
              "      <th>35</th>\n",
              "      <td>جنوب سيناء</td>\n",
              "    </tr>\n",
              "  </tbody>\n",
              "</table>\n",
              "</div><br><label><b>dtype:</b> object</label>"
            ]
          },
          "metadata": {},
          "execution_count": 360
        }
      ]
    },
    {
      "cell_type": "code",
      "source": [],
      "metadata": {
        "id": "K_CyVWa-cPUm"
      },
      "execution_count": null,
      "outputs": []
    },
    {
      "cell_type": "markdown",
      "source": [
        "#**Converted lat/long values from string to float, fixed decimal commas, flagged coordinates, and swapped the wrong latitude and longitude**"
      ],
      "metadata": {
        "id": "Ms2vCjWLcmRs"
      }
    },
    {
      "cell_type": "code",
      "source": [
        "GovDf[['Latitude', 'Longitude']] = GovDf[['Latitude', 'Longitude']].applymap(lambda x: float(str(x).replace(',', '.')) if pd.notna(x) else pd.NA)"
      ],
      "metadata": {
        "colab": {
          "base_uri": "https://localhost:8080/"
        },
        "outputId": "5cb78db0-1817-426f-d81f-8a92d1f13370",
        "id": "LZ90KhRtcmRu"
      },
      "execution_count": null,
      "outputs": [
        {
          "output_type": "stream",
          "name": "stderr",
          "text": [
            "/tmp/ipython-input-836132967.py:1: FutureWarning: DataFrame.applymap has been deprecated. Use DataFrame.map instead.\n",
            "  GovDf[['Latitude', 'Longitude']] = GovDf[['Latitude', 'Longitude']].applymap(lambda x: float(str(x).replace(',', '.')) if pd.notna(x) else pd.NA)\n"
          ]
        }
      ]
    },
    {
      "cell_type": "code",
      "source": [
        "GovDf[['Latitude', 'Longitude']]"
      ],
      "metadata": {
        "colab": {
          "base_uri": "https://localhost:8080/",
          "height": 1000
        },
        "outputId": "b0592be0-ef6f-4064-d6bb-2a830bb21052",
        "id": "hj26TqrgcmRv"
      },
      "execution_count": null,
      "outputs": [
        {
          "output_type": "execute_result",
          "data": {
            "text/plain": [
              "     Latitude   Longitude\n",
              "0   30.006956   31.203068\n",
              "1     30.0444     31.2357\n",
              "2   30.025546   31.257867\n",
              "3     31.2089     30.0131\n",
              "4     30.0131     31.2089\n",
              "5     30.0131     31.2089\n",
              "6   31.186058   29.906472\n",
              "7   31.211039   29.912043\n",
              "8        <NA>        <NA>\n",
              "9   27.205886   31.225853\n",
              "10    31.1837       27.18\n",
              "11  27.160585   31.162023\n",
              "12  24.072223   32.921286\n",
              "13  24.039318   32.935966\n",
              "14  24.080482   32.889265\n",
              "15  30.434105   31.288831\n",
              "16  30.382448   31.323213\n",
              "17   30.46571   31.307127\n",
              "18  30.745498   31.700818\n",
              "19  30.724404   31.688679\n",
              "20  30.718141   31.734656\n",
              "21  31.005688   31.389044\n",
              "22    31.0409     31.3785\n",
              "23  30.992134   31.405597\n",
              "24  30.916015   31.140935\n",
              "25    31.1829     30.8686\n",
              "26  30.868665    31.18622\n",
              "27   88.03547  108.931614\n",
              "28  25.714869   32.624039\n",
              "29  25.730202   32.629397\n",
              "30  27.289539   33.761758\n",
              "31  27.249584   33.790434\n",
              "32    33.8116     27.2579\n",
              "33     33.975     28.5426\n",
              "34  28.503624   33.981709\n",
              "35    28.5426      33.975"
            ],
            "text/html": [
              "\n",
              "  <div id=\"df-52676187-3969-4209-8383-f92b3501d282\" class=\"colab-df-container\">\n",
              "    <div>\n",
              "<style scoped>\n",
              "    .dataframe tbody tr th:only-of-type {\n",
              "        vertical-align: middle;\n",
              "    }\n",
              "\n",
              "    .dataframe tbody tr th {\n",
              "        vertical-align: top;\n",
              "    }\n",
              "\n",
              "    .dataframe thead th {\n",
              "        text-align: right;\n",
              "    }\n",
              "</style>\n",
              "<table border=\"1\" class=\"dataframe\">\n",
              "  <thead>\n",
              "    <tr style=\"text-align: right;\">\n",
              "      <th></th>\n",
              "      <th>Latitude</th>\n",
              "      <th>Longitude</th>\n",
              "    </tr>\n",
              "  </thead>\n",
              "  <tbody>\n",
              "    <tr>\n",
              "      <th>0</th>\n",
              "      <td>30.006956</td>\n",
              "      <td>31.203068</td>\n",
              "    </tr>\n",
              "    <tr>\n",
              "      <th>1</th>\n",
              "      <td>30.0444</td>\n",
              "      <td>31.2357</td>\n",
              "    </tr>\n",
              "    <tr>\n",
              "      <th>2</th>\n",
              "      <td>30.025546</td>\n",
              "      <td>31.257867</td>\n",
              "    </tr>\n",
              "    <tr>\n",
              "      <th>3</th>\n",
              "      <td>31.2089</td>\n",
              "      <td>30.0131</td>\n",
              "    </tr>\n",
              "    <tr>\n",
              "      <th>4</th>\n",
              "      <td>30.0131</td>\n",
              "      <td>31.2089</td>\n",
              "    </tr>\n",
              "    <tr>\n",
              "      <th>5</th>\n",
              "      <td>30.0131</td>\n",
              "      <td>31.2089</td>\n",
              "    </tr>\n",
              "    <tr>\n",
              "      <th>6</th>\n",
              "      <td>31.186058</td>\n",
              "      <td>29.906472</td>\n",
              "    </tr>\n",
              "    <tr>\n",
              "      <th>7</th>\n",
              "      <td>31.211039</td>\n",
              "      <td>29.912043</td>\n",
              "    </tr>\n",
              "    <tr>\n",
              "      <th>8</th>\n",
              "      <td>&lt;NA&gt;</td>\n",
              "      <td>&lt;NA&gt;</td>\n",
              "    </tr>\n",
              "    <tr>\n",
              "      <th>9</th>\n",
              "      <td>27.205886</td>\n",
              "      <td>31.225853</td>\n",
              "    </tr>\n",
              "    <tr>\n",
              "      <th>10</th>\n",
              "      <td>31.1837</td>\n",
              "      <td>27.18</td>\n",
              "    </tr>\n",
              "    <tr>\n",
              "      <th>11</th>\n",
              "      <td>27.160585</td>\n",
              "      <td>31.162023</td>\n",
              "    </tr>\n",
              "    <tr>\n",
              "      <th>12</th>\n",
              "      <td>24.072223</td>\n",
              "      <td>32.921286</td>\n",
              "    </tr>\n",
              "    <tr>\n",
              "      <th>13</th>\n",
              "      <td>24.039318</td>\n",
              "      <td>32.935966</td>\n",
              "    </tr>\n",
              "    <tr>\n",
              "      <th>14</th>\n",
              "      <td>24.080482</td>\n",
              "      <td>32.889265</td>\n",
              "    </tr>\n",
              "    <tr>\n",
              "      <th>15</th>\n",
              "      <td>30.434105</td>\n",
              "      <td>31.288831</td>\n",
              "    </tr>\n",
              "    <tr>\n",
              "      <th>16</th>\n",
              "      <td>30.382448</td>\n",
              "      <td>31.323213</td>\n",
              "    </tr>\n",
              "    <tr>\n",
              "      <th>17</th>\n",
              "      <td>30.46571</td>\n",
              "      <td>31.307127</td>\n",
              "    </tr>\n",
              "    <tr>\n",
              "      <th>18</th>\n",
              "      <td>30.745498</td>\n",
              "      <td>31.700818</td>\n",
              "    </tr>\n",
              "    <tr>\n",
              "      <th>19</th>\n",
              "      <td>30.724404</td>\n",
              "      <td>31.688679</td>\n",
              "    </tr>\n",
              "    <tr>\n",
              "      <th>20</th>\n",
              "      <td>30.718141</td>\n",
              "      <td>31.734656</td>\n",
              "    </tr>\n",
              "    <tr>\n",
              "      <th>21</th>\n",
              "      <td>31.005688</td>\n",
              "      <td>31.389044</td>\n",
              "    </tr>\n",
              "    <tr>\n",
              "      <th>22</th>\n",
              "      <td>31.0409</td>\n",
              "      <td>31.3785</td>\n",
              "    </tr>\n",
              "    <tr>\n",
              "      <th>23</th>\n",
              "      <td>30.992134</td>\n",
              "      <td>31.405597</td>\n",
              "    </tr>\n",
              "    <tr>\n",
              "      <th>24</th>\n",
              "      <td>30.916015</td>\n",
              "      <td>31.140935</td>\n",
              "    </tr>\n",
              "    <tr>\n",
              "      <th>25</th>\n",
              "      <td>31.1829</td>\n",
              "      <td>30.8686</td>\n",
              "    </tr>\n",
              "    <tr>\n",
              "      <th>26</th>\n",
              "      <td>30.868665</td>\n",
              "      <td>31.18622</td>\n",
              "    </tr>\n",
              "    <tr>\n",
              "      <th>27</th>\n",
              "      <td>88.03547</td>\n",
              "      <td>108.931614</td>\n",
              "    </tr>\n",
              "    <tr>\n",
              "      <th>28</th>\n",
              "      <td>25.714869</td>\n",
              "      <td>32.624039</td>\n",
              "    </tr>\n",
              "    <tr>\n",
              "      <th>29</th>\n",
              "      <td>25.730202</td>\n",
              "      <td>32.629397</td>\n",
              "    </tr>\n",
              "    <tr>\n",
              "      <th>30</th>\n",
              "      <td>27.289539</td>\n",
              "      <td>33.761758</td>\n",
              "    </tr>\n",
              "    <tr>\n",
              "      <th>31</th>\n",
              "      <td>27.249584</td>\n",
              "      <td>33.790434</td>\n",
              "    </tr>\n",
              "    <tr>\n",
              "      <th>32</th>\n",
              "      <td>33.8116</td>\n",
              "      <td>27.2579</td>\n",
              "    </tr>\n",
              "    <tr>\n",
              "      <th>33</th>\n",
              "      <td>33.975</td>\n",
              "      <td>28.5426</td>\n",
              "    </tr>\n",
              "    <tr>\n",
              "      <th>34</th>\n",
              "      <td>28.503624</td>\n",
              "      <td>33.981709</td>\n",
              "    </tr>\n",
              "    <tr>\n",
              "      <th>35</th>\n",
              "      <td>28.5426</td>\n",
              "      <td>33.975</td>\n",
              "    </tr>\n",
              "  </tbody>\n",
              "</table>\n",
              "</div>\n",
              "    <div class=\"colab-df-buttons\">\n",
              "\n",
              "  <div class=\"colab-df-container\">\n",
              "    <button class=\"colab-df-convert\" onclick=\"convertToInteractive('df-52676187-3969-4209-8383-f92b3501d282')\"\n",
              "            title=\"Convert this dataframe to an interactive table.\"\n",
              "            style=\"display:none;\">\n",
              "\n",
              "  <svg xmlns=\"http://www.w3.org/2000/svg\" height=\"24px\" viewBox=\"0 -960 960 960\">\n",
              "    <path d=\"M120-120v-720h720v720H120Zm60-500h600v-160H180v160Zm220 220h160v-160H400v160Zm0 220h160v-160H400v160ZM180-400h160v-160H180v160Zm440 0h160v-160H620v160ZM180-180h160v-160H180v160Zm440 0h160v-160H620v160Z\"/>\n",
              "  </svg>\n",
              "    </button>\n",
              "\n",
              "  <style>\n",
              "    .colab-df-container {\n",
              "      display:flex;\n",
              "      gap: 12px;\n",
              "    }\n",
              "\n",
              "    .colab-df-convert {\n",
              "      background-color: #E8F0FE;\n",
              "      border: none;\n",
              "      border-radius: 50%;\n",
              "      cursor: pointer;\n",
              "      display: none;\n",
              "      fill: #1967D2;\n",
              "      height: 32px;\n",
              "      padding: 0 0 0 0;\n",
              "      width: 32px;\n",
              "    }\n",
              "\n",
              "    .colab-df-convert:hover {\n",
              "      background-color: #E2EBFA;\n",
              "      box-shadow: 0px 1px 2px rgba(60, 64, 67, 0.3), 0px 1px 3px 1px rgba(60, 64, 67, 0.15);\n",
              "      fill: #174EA6;\n",
              "    }\n",
              "\n",
              "    .colab-df-buttons div {\n",
              "      margin-bottom: 4px;\n",
              "    }\n",
              "\n",
              "    [theme=dark] .colab-df-convert {\n",
              "      background-color: #3B4455;\n",
              "      fill: #D2E3FC;\n",
              "    }\n",
              "\n",
              "    [theme=dark] .colab-df-convert:hover {\n",
              "      background-color: #434B5C;\n",
              "      box-shadow: 0px 1px 3px 1px rgba(0, 0, 0, 0.15);\n",
              "      filter: drop-shadow(0px 1px 2px rgba(0, 0, 0, 0.3));\n",
              "      fill: #FFFFFF;\n",
              "    }\n",
              "  </style>\n",
              "\n",
              "    <script>\n",
              "      const buttonEl =\n",
              "        document.querySelector('#df-52676187-3969-4209-8383-f92b3501d282 button.colab-df-convert');\n",
              "      buttonEl.style.display =\n",
              "        google.colab.kernel.accessAllowed ? 'block' : 'none';\n",
              "\n",
              "      async function convertToInteractive(key) {\n",
              "        const element = document.querySelector('#df-52676187-3969-4209-8383-f92b3501d282');\n",
              "        const dataTable =\n",
              "          await google.colab.kernel.invokeFunction('convertToInteractive',\n",
              "                                                    [key], {});\n",
              "        if (!dataTable) return;\n",
              "\n",
              "        const docLinkHtml = 'Like what you see? Visit the ' +\n",
              "          '<a target=\"_blank\" href=https://colab.research.google.com/notebooks/data_table.ipynb>data table notebook</a>'\n",
              "          + ' to learn more about interactive tables.';\n",
              "        element.innerHTML = '';\n",
              "        dataTable['output_type'] = 'display_data';\n",
              "        await google.colab.output.renderOutput(dataTable, element);\n",
              "        const docLink = document.createElement('div');\n",
              "        docLink.innerHTML = docLinkHtml;\n",
              "        element.appendChild(docLink);\n",
              "      }\n",
              "    </script>\n",
              "  </div>\n",
              "\n",
              "\n",
              "    <div id=\"df-6c3c48af-433c-4708-8baf-10aafe8ad52e\">\n",
              "      <button class=\"colab-df-quickchart\" onclick=\"quickchart('df-6c3c48af-433c-4708-8baf-10aafe8ad52e')\"\n",
              "                title=\"Suggest charts\"\n",
              "                style=\"display:none;\">\n",
              "\n",
              "<svg xmlns=\"http://www.w3.org/2000/svg\" height=\"24px\"viewBox=\"0 0 24 24\"\n",
              "     width=\"24px\">\n",
              "    <g>\n",
              "        <path d=\"M19 3H5c-1.1 0-2 .9-2 2v14c0 1.1.9 2 2 2h14c1.1 0 2-.9 2-2V5c0-1.1-.9-2-2-2zM9 17H7v-7h2v7zm4 0h-2V7h2v10zm4 0h-2v-4h2v4z\"/>\n",
              "    </g>\n",
              "</svg>\n",
              "      </button>\n",
              "\n",
              "<style>\n",
              "  .colab-df-quickchart {\n",
              "      --bg-color: #E8F0FE;\n",
              "      --fill-color: #1967D2;\n",
              "      --hover-bg-color: #E2EBFA;\n",
              "      --hover-fill-color: #174EA6;\n",
              "      --disabled-fill-color: #AAA;\n",
              "      --disabled-bg-color: #DDD;\n",
              "  }\n",
              "\n",
              "  [theme=dark] .colab-df-quickchart {\n",
              "      --bg-color: #3B4455;\n",
              "      --fill-color: #D2E3FC;\n",
              "      --hover-bg-color: #434B5C;\n",
              "      --hover-fill-color: #FFFFFF;\n",
              "      --disabled-bg-color: #3B4455;\n",
              "      --disabled-fill-color: #666;\n",
              "  }\n",
              "\n",
              "  .colab-df-quickchart {\n",
              "    background-color: var(--bg-color);\n",
              "    border: none;\n",
              "    border-radius: 50%;\n",
              "    cursor: pointer;\n",
              "    display: none;\n",
              "    fill: var(--fill-color);\n",
              "    height: 32px;\n",
              "    padding: 0;\n",
              "    width: 32px;\n",
              "  }\n",
              "\n",
              "  .colab-df-quickchart:hover {\n",
              "    background-color: var(--hover-bg-color);\n",
              "    box-shadow: 0 1px 2px rgba(60, 64, 67, 0.3), 0 1px 3px 1px rgba(60, 64, 67, 0.15);\n",
              "    fill: var(--button-hover-fill-color);\n",
              "  }\n",
              "\n",
              "  .colab-df-quickchart-complete:disabled,\n",
              "  .colab-df-quickchart-complete:disabled:hover {\n",
              "    background-color: var(--disabled-bg-color);\n",
              "    fill: var(--disabled-fill-color);\n",
              "    box-shadow: none;\n",
              "  }\n",
              "\n",
              "  .colab-df-spinner {\n",
              "    border: 2px solid var(--fill-color);\n",
              "    border-color: transparent;\n",
              "    border-bottom-color: var(--fill-color);\n",
              "    animation:\n",
              "      spin 1s steps(1) infinite;\n",
              "  }\n",
              "\n",
              "  @keyframes spin {\n",
              "    0% {\n",
              "      border-color: transparent;\n",
              "      border-bottom-color: var(--fill-color);\n",
              "      border-left-color: var(--fill-color);\n",
              "    }\n",
              "    20% {\n",
              "      border-color: transparent;\n",
              "      border-left-color: var(--fill-color);\n",
              "      border-top-color: var(--fill-color);\n",
              "    }\n",
              "    30% {\n",
              "      border-color: transparent;\n",
              "      border-left-color: var(--fill-color);\n",
              "      border-top-color: var(--fill-color);\n",
              "      border-right-color: var(--fill-color);\n",
              "    }\n",
              "    40% {\n",
              "      border-color: transparent;\n",
              "      border-right-color: var(--fill-color);\n",
              "      border-top-color: var(--fill-color);\n",
              "    }\n",
              "    60% {\n",
              "      border-color: transparent;\n",
              "      border-right-color: var(--fill-color);\n",
              "    }\n",
              "    80% {\n",
              "      border-color: transparent;\n",
              "      border-right-color: var(--fill-color);\n",
              "      border-bottom-color: var(--fill-color);\n",
              "    }\n",
              "    90% {\n",
              "      border-color: transparent;\n",
              "      border-bottom-color: var(--fill-color);\n",
              "    }\n",
              "  }\n",
              "</style>\n",
              "\n",
              "      <script>\n",
              "        async function quickchart(key) {\n",
              "          const quickchartButtonEl =\n",
              "            document.querySelector('#' + key + ' button');\n",
              "          quickchartButtonEl.disabled = true;  // To prevent multiple clicks.\n",
              "          quickchartButtonEl.classList.add('colab-df-spinner');\n",
              "          try {\n",
              "            const charts = await google.colab.kernel.invokeFunction(\n",
              "                'suggestCharts', [key], {});\n",
              "          } catch (error) {\n",
              "            console.error('Error during call to suggestCharts:', error);\n",
              "          }\n",
              "          quickchartButtonEl.classList.remove('colab-df-spinner');\n",
              "          quickchartButtonEl.classList.add('colab-df-quickchart-complete');\n",
              "        }\n",
              "        (() => {\n",
              "          let quickchartButtonEl =\n",
              "            document.querySelector('#df-6c3c48af-433c-4708-8baf-10aafe8ad52e button');\n",
              "          quickchartButtonEl.style.display =\n",
              "            google.colab.kernel.accessAllowed ? 'block' : 'none';\n",
              "        })();\n",
              "      </script>\n",
              "    </div>\n",
              "\n",
              "    </div>\n",
              "  </div>\n"
            ],
            "application/vnd.google.colaboratory.intrinsic+json": {
              "type": "dataframe",
              "summary": "{\n  \"name\": \"GovDf[['Latitude', 'Longitude']]\",\n  \"rows\": 36,\n  \"fields\": [\n    {\n      \"column\": \"Latitude\",\n      \"properties\": {\n        \"dtype\": \"date\",\n        \"min\": 24.03931805506709,\n        \"max\": 88.03546976488431,\n        \"num_unique_values\": 34,\n        \"samples\": [\n          30.46570968766157,\n          31.00568842814366,\n          25.73020168659411\n        ],\n        \"semantic_type\": \"\",\n        \"description\": \"\"\n      }\n    },\n    {\n      \"column\": \"Longitude\",\n      \"properties\": {\n        \"dtype\": \"date\",\n        \"min\": 27.18,\n        \"max\": 108.9316141050936,\n        \"num_unique_values\": 34,\n        \"samples\": [\n          31.30712703787766,\n          31.38904356355627,\n          32.62939702196942\n        ],\n        \"semantic_type\": \"\",\n        \"description\": \"\"\n      }\n    }\n  ]\n}"
            }
          },
          "metadata": {},
          "execution_count": 362
        }
      ]
    },
    {
      "cell_type": "code",
      "source": [
        "GovDf['LatLong_Swapped'] = GovDf.apply(lambda row: pd.notna(row['Latitude']) and pd.notna(row['Longitude']) and -90 <= row['Latitude'] <= 90 and -180 <= row['Longitude'] <= 180, axis=1)"
      ],
      "metadata": {
        "id": "9e0pk8JBcmRv"
      },
      "execution_count": null,
      "outputs": []
    },
    {
      "cell_type": "code",
      "source": [
        "GovDf['LatLong_Swapped'].value_counts()"
      ],
      "metadata": {
        "colab": {
          "base_uri": "https://localhost:8080/",
          "height": 178
        },
        "outputId": "3511fdd4-ccc4-4ff6-ed89-f729ad391575",
        "id": "-oEjAFPRcmRw"
      },
      "execution_count": null,
      "outputs": [
        {
          "output_type": "execute_result",
          "data": {
            "text/plain": [
              "LatLong_Swapped\n",
              "True     35\n",
              "False     1\n",
              "Name: count, dtype: int64"
            ],
            "text/html": [
              "<div>\n",
              "<style scoped>\n",
              "    .dataframe tbody tr th:only-of-type {\n",
              "        vertical-align: middle;\n",
              "    }\n",
              "\n",
              "    .dataframe tbody tr th {\n",
              "        vertical-align: top;\n",
              "    }\n",
              "\n",
              "    .dataframe thead th {\n",
              "        text-align: right;\n",
              "    }\n",
              "</style>\n",
              "<table border=\"1\" class=\"dataframe\">\n",
              "  <thead>\n",
              "    <tr style=\"text-align: right;\">\n",
              "      <th></th>\n",
              "      <th>count</th>\n",
              "    </tr>\n",
              "    <tr>\n",
              "      <th>LatLong_Swapped</th>\n",
              "      <th></th>\n",
              "    </tr>\n",
              "  </thead>\n",
              "  <tbody>\n",
              "    <tr>\n",
              "      <th>True</th>\n",
              "      <td>35</td>\n",
              "    </tr>\n",
              "    <tr>\n",
              "      <th>False</th>\n",
              "      <td>1</td>\n",
              "    </tr>\n",
              "  </tbody>\n",
              "</table>\n",
              "</div><br><label><b>dtype:</b> int64</label>"
            ]
          },
          "metadata": {},
          "execution_count": 375
        }
      ]
    },
    {
      "cell_type": "code",
      "source": [
        "GovDf.loc[GovDf['LatLong_Swapped'], ['Latitude', 'Longitude']] = GovDf.loc[GovDf['LatLong_Swapped'], ['Longitude', 'Latitude']].values"
      ],
      "metadata": {
        "id": "HitOEUcpcmRw"
      },
      "execution_count": null,
      "outputs": []
    },
    {
      "cell_type": "markdown",
      "source": [
        "#Saving into Excel again"
      ],
      "metadata": {
        "id": "75_LzBvigybI"
      }
    },
    {
      "cell_type": "code",
      "source": [
        "!pip install xlsxwriter"
      ],
      "metadata": {
        "colab": {
          "base_uri": "https://localhost:8080/"
        },
        "id": "MtFmWFVihnjO",
        "outputId": "0a5c156e-fb9c-4df7-987e-49bb715633b0"
      },
      "execution_count": null,
      "outputs": [
        {
          "output_type": "stream",
          "name": "stdout",
          "text": [
            "Collecting xlsxwriter\n",
            "  Downloading xlsxwriter-3.2.9-py3-none-any.whl.metadata (2.7 kB)\n",
            "Downloading xlsxwriter-3.2.9-py3-none-any.whl (175 kB)\n",
            "\u001b[?25l   \u001b[90m━━━━━━━━━━━━━━━━━━━━━━━━━━━━━━━━━━━━━━━━\u001b[0m \u001b[32m0.0/175.3 kB\u001b[0m \u001b[31m?\u001b[0m eta \u001b[36m-:--:--\u001b[0m\r\u001b[2K   \u001b[90m━━━━━━━━━━━━━━━━━━━━━━━━━━━━━━━━━━━━━━━━\u001b[0m \u001b[32m175.3/175.3 kB\u001b[0m \u001b[31m5.5 MB/s\u001b[0m eta \u001b[36m0:00:00\u001b[0m\n",
            "\u001b[?25hInstalling collected packages: xlsxwriter\n",
            "Successfully installed xlsxwriter-3.2.9\n"
          ]
        }
      ]
    },
    {
      "cell_type": "code",
      "source": [
        "SalesDf.columns"
      ],
      "metadata": {
        "colab": {
          "base_uri": "https://localhost:8080/"
        },
        "id": "Bbvm5b7chdHM",
        "outputId": "e42396fc-f8b5-4ffb-b499-eea572dde5ce"
      },
      "execution_count": null,
      "outputs": [
        {
          "output_type": "execute_result",
          "data": {
            "text/plain": [
              "Index(['OrderID', 'OrderDate', 'DeliveryDate', 'CustomerID', 'CustomerName',\n",
              "       'Gender', 'Phone', 'Email', 'Governorate', 'City', 'Address',\n",
              "       'Latitude', 'Longitude', 'ProductSKU', 'ProductName', 'Category',\n",
              "       'UnitPrice', 'Quantity', 'Subtotal', 'Discount', 'TotalAmount',\n",
              "       'Currency', 'PaymentMethod', 'PaymentStatus', 'ShipperName',\n",
              "       'ShippingCost', 'SalesRep', 'Channel', 'ReturnFlag', 'ReturnDate',\n",
              "       'Status', 'Notes', 'LatLong_Swapped', 'Email_Cleaned'],\n",
              "      dtype='object')"
            ]
          },
          "metadata": {},
          "execution_count": 511
        }
      ]
    },
    {
      "cell_type": "code",
      "source": [
        "SalesDf = SalesDf.drop(columns=['Email_Cleaned'])\n"
      ],
      "metadata": {
        "id": "oT0XyFSKiJ7I"
      },
      "execution_count": null,
      "outputs": []
    },
    {
      "cell_type": "code",
      "source": [
        "SalesDf = SalesDf.drop(columns=['LatLong_Swapped'])\n"
      ],
      "metadata": {
        "id": "2W9PqoOmiqdJ"
      },
      "execution_count": null,
      "outputs": []
    },
    {
      "cell_type": "code",
      "source": [
        "CustomersDf.columns"
      ],
      "metadata": {
        "colab": {
          "base_uri": "https://localhost:8080/"
        },
        "id": "8Pw8mvyviePL",
        "outputId": "3fb65a54-9b30-4d56-adce-c1ca1b9ed3fd"
      },
      "execution_count": null,
      "outputs": [
        {
          "output_type": "execute_result",
          "data": {
            "text/plain": [
              "Index(['CustomerID', 'CustomerName', 'Gender', 'Phone', 'Email', 'Gov', 'City',\n",
              "       'Address'],\n",
              "      dtype='object')"
            ]
          },
          "metadata": {},
          "execution_count": 520
        }
      ]
    },
    {
      "cell_type": "code",
      "source": [
        "CustomersDf = CustomersDf.drop(columns=['Email_Cleaned'])\n"
      ],
      "metadata": {
        "id": "bnzW_tASiiAF"
      },
      "execution_count": null,
      "outputs": []
    },
    {
      "cell_type": "code",
      "source": [
        "GovDf.columns"
      ],
      "metadata": {
        "colab": {
          "base_uri": "https://localhost:8080/"
        },
        "id": "w90t_JihimJ4",
        "outputId": "3e06ad5d-59d7-4cee-f6c3-74e63e7d135a"
      },
      "execution_count": null,
      "outputs": [
        {
          "output_type": "execute_result",
          "data": {
            "text/plain": [
              "Index(['GovName', 'AltName', 'Latitude', 'Longitude', 'Swap', 'Swapped',\n",
              "       'LatLong_Swapped'],\n",
              "      dtype='object')"
            ]
          },
          "metadata": {},
          "execution_count": 517
        }
      ]
    },
    {
      "cell_type": "code",
      "source": [
        "GovDf = GovDf.drop(columns=['Swap', 'Swapped','LatLong_Swapped'])\n"
      ],
      "metadata": {
        "id": "3-1LuutHi2U6"
      },
      "execution_count": null,
      "outputs": []
    },
    {
      "cell_type": "code",
      "source": [],
      "metadata": {
        "id": "t40QPDV1jIyH"
      },
      "execution_count": null,
      "outputs": []
    },
    {
      "cell_type": "code",
      "source": [
        "with pd.ExcelWriter(\"cleaned_data_.xlsx\", engine='xlsxwriter') as writer:\n",
        "    SalesDf.to_excel(writer, sheet_name='Sales_Orders', index=False)\n",
        "    CustomersDf.to_excel(writer, sheet_name='Customers', index=False)\n",
        "    ProductDf.to_excel(writer, sheet_name='Products', index=False)\n",
        "    GovDf.to_excel(writer, sheet_name='Gov_LookUp', index=False)\n"
      ],
      "metadata": {
        "id": "jX527ScXd3HD"
      },
      "execution_count": null,
      "outputs": []
    },
    {
      "cell_type": "code",
      "source": [
        "SalesDf.to_csv(\"Sales_Orders.csv\", index=False)\n",
        "CustomersDf.to_csv(\"Customers.csv\", index=False)\n",
        "ProductDf.to_csv(\"Products.csv\", index=False)\n",
        "GovDf.to_csv(\"Gov_LookUp.csv\", index=False)"
      ],
      "metadata": {
        "id": "VoCbo4a7jRZ_"
      },
      "execution_count": null,
      "outputs": []
    },
    {
      "cell_type": "code",
      "source": [
        "ProductDf.columns"
      ],
      "metadata": {
        "colab": {
          "base_uri": "https://localhost:8080/"
        },
        "id": "V4eL8q1ekRhV",
        "outputId": "e9e934de-f378-424c-df2a-f17d41e11e72"
      },
      "execution_count": null,
      "outputs": [
        {
          "output_type": "execute_result",
          "data": {
            "text/plain": [
              "Index(['SKU', 'ProductName', 'Category'], dtype='object')"
            ]
          },
          "metadata": {},
          "execution_count": 528
        }
      ]
    },
    {
      "cell_type": "markdown",
      "source": [
        "#**Fixing Some Data Types**"
      ],
      "metadata": {
        "id": "XSMDDTaKwnDF"
      }
    },
    {
      "cell_type": "code",
      "source": [
        "SalesDf.head()\n"
      ],
      "metadata": {
        "colab": {
          "base_uri": "https://localhost:8080/",
          "height": 395
        },
        "id": "w4-hwR-ZmyPx",
        "outputId": "6776379b-e441-4fc0-a181-5ab4f2fa4470"
      },
      "execution_count": null,
      "outputs": [
        {
          "output_type": "execute_result",
          "data": {
            "text/plain": [
              "     OrderID OrderDate         DeliveryDate CustomerID  CustomerName  Gender  \\\n",
              "36   so85088       nat  2024-01-07 00:00:00        nan  karim hassan    male   \n",
              "37   so17567       nat  2024-06-04 00:00:00        nan   alaa farouk    male   \n",
              "110  so27394       nat  2024-04-03 00:00:00        nan   ahmed fathi  female   \n",
              "25   so77839       nat  2024-05-18 00:00:00       c576  mona ibrahim    male   \n",
              "138  so84130       nat  2024-05-01 00:00:00       c576   alaa farouk    male   \n",
              "\n",
              "           Phone                      Email Governorate     City  ...  \\\n",
              "36   01192493631  generous.hassan@gmail.com  alexandria  montaza  ...   \n",
              "37   01073360324    alaa.farouk@example.com     sharqia  zagazig  ...   \n",
              "110  01264406548    ahmed.fathy@example.com     red sea   safaga  ...   \n",
              "25   01158895439     mona.ibrahim@gmail.com       luxor     esna  ...   \n",
              "138  01278495121     alaafarouk@example.com  alexandria   smouha  ...   \n",
              "\n",
              "    PaymentMethod  PaymentStatus  ShipperName ShippingCost      SalesRep  \\\n",
              "36          Fawry           paid       aramex         25.0  karim rashid   \n",
              "37     mastercard         unpaid        fedex         75.0     ahmed ali   \n",
              "110          visa         unpaid       aramex          0.0  karim rashid   \n",
              "25           visa        pending   Egypt Post          0.0  karim rashid   \n",
              "138         meeza         unpaid       aramex         25.0  karim rashid   \n",
              "\n",
              "       Channel  ReturnFlag  ReturnDate      Status  \\\n",
              "36   tel-sales          no         NaT    returned   \n",
              "37       store         yes  2024-06-22         new   \n",
              "110      e-com          no         NaT         new   \n",
              "25       e-com          no         NaT  processing   \n",
              "138  tel-sales         yes  2024-05-01    returned   \n",
              "\n",
              "                             Notes  \n",
              "36   Old customer - extra discount  \n",
              "37                              in  \n",
              "110                             in  \n",
              "25                              in  \n",
              "138   customer asked for gift wrap  \n",
              "\n",
              "[5 rows x 32 columns]"
            ],
            "text/html": [
              "\n",
              "  <div id=\"df-cb44d8d5-6a45-4db0-a55c-06f5a740473b\" class=\"colab-df-container\">\n",
              "    <div>\n",
              "<style scoped>\n",
              "    .dataframe tbody tr th:only-of-type {\n",
              "        vertical-align: middle;\n",
              "    }\n",
              "\n",
              "    .dataframe tbody tr th {\n",
              "        vertical-align: top;\n",
              "    }\n",
              "\n",
              "    .dataframe thead th {\n",
              "        text-align: right;\n",
              "    }\n",
              "</style>\n",
              "<table border=\"1\" class=\"dataframe\">\n",
              "  <thead>\n",
              "    <tr style=\"text-align: right;\">\n",
              "      <th></th>\n",
              "      <th>OrderID</th>\n",
              "      <th>OrderDate</th>\n",
              "      <th>DeliveryDate</th>\n",
              "      <th>CustomerID</th>\n",
              "      <th>CustomerName</th>\n",
              "      <th>Gender</th>\n",
              "      <th>Phone</th>\n",
              "      <th>Email</th>\n",
              "      <th>Governorate</th>\n",
              "      <th>City</th>\n",
              "      <th>...</th>\n",
              "      <th>PaymentMethod</th>\n",
              "      <th>PaymentStatus</th>\n",
              "      <th>ShipperName</th>\n",
              "      <th>ShippingCost</th>\n",
              "      <th>SalesRep</th>\n",
              "      <th>Channel</th>\n",
              "      <th>ReturnFlag</th>\n",
              "      <th>ReturnDate</th>\n",
              "      <th>Status</th>\n",
              "      <th>Notes</th>\n",
              "    </tr>\n",
              "  </thead>\n",
              "  <tbody>\n",
              "    <tr>\n",
              "      <th>36</th>\n",
              "      <td>so85088</td>\n",
              "      <td>nat</td>\n",
              "      <td>2024-01-07 00:00:00</td>\n",
              "      <td>nan</td>\n",
              "      <td>karim hassan</td>\n",
              "      <td>male</td>\n",
              "      <td>01192493631</td>\n",
              "      <td>generous.hassan@gmail.com</td>\n",
              "      <td>alexandria</td>\n",
              "      <td>montaza</td>\n",
              "      <td>...</td>\n",
              "      <td>Fawry</td>\n",
              "      <td>paid</td>\n",
              "      <td>aramex</td>\n",
              "      <td>25.0</td>\n",
              "      <td>karim rashid</td>\n",
              "      <td>tel-sales</td>\n",
              "      <td>no</td>\n",
              "      <td>NaT</td>\n",
              "      <td>returned</td>\n",
              "      <td>Old customer - extra discount</td>\n",
              "    </tr>\n",
              "    <tr>\n",
              "      <th>37</th>\n",
              "      <td>so17567</td>\n",
              "      <td>nat</td>\n",
              "      <td>2024-06-04 00:00:00</td>\n",
              "      <td>nan</td>\n",
              "      <td>alaa farouk</td>\n",
              "      <td>male</td>\n",
              "      <td>01073360324</td>\n",
              "      <td>alaa.farouk@example.com</td>\n",
              "      <td>sharqia</td>\n",
              "      <td>zagazig</td>\n",
              "      <td>...</td>\n",
              "      <td>mastercard</td>\n",
              "      <td>unpaid</td>\n",
              "      <td>fedex</td>\n",
              "      <td>75.0</td>\n",
              "      <td>ahmed ali</td>\n",
              "      <td>store</td>\n",
              "      <td>yes</td>\n",
              "      <td>2024-06-22</td>\n",
              "      <td>new</td>\n",
              "      <td>in</td>\n",
              "    </tr>\n",
              "    <tr>\n",
              "      <th>110</th>\n",
              "      <td>so27394</td>\n",
              "      <td>nat</td>\n",
              "      <td>2024-04-03 00:00:00</td>\n",
              "      <td>nan</td>\n",
              "      <td>ahmed fathi</td>\n",
              "      <td>female</td>\n",
              "      <td>01264406548</td>\n",
              "      <td>ahmed.fathy@example.com</td>\n",
              "      <td>red sea</td>\n",
              "      <td>safaga</td>\n",
              "      <td>...</td>\n",
              "      <td>visa</td>\n",
              "      <td>unpaid</td>\n",
              "      <td>aramex</td>\n",
              "      <td>0.0</td>\n",
              "      <td>karim rashid</td>\n",
              "      <td>e-com</td>\n",
              "      <td>no</td>\n",
              "      <td>NaT</td>\n",
              "      <td>new</td>\n",
              "      <td>in</td>\n",
              "    </tr>\n",
              "    <tr>\n",
              "      <th>25</th>\n",
              "      <td>so77839</td>\n",
              "      <td>nat</td>\n",
              "      <td>2024-05-18 00:00:00</td>\n",
              "      <td>c576</td>\n",
              "      <td>mona ibrahim</td>\n",
              "      <td>male</td>\n",
              "      <td>01158895439</td>\n",
              "      <td>mona.ibrahim@gmail.com</td>\n",
              "      <td>luxor</td>\n",
              "      <td>esna</td>\n",
              "      <td>...</td>\n",
              "      <td>visa</td>\n",
              "      <td>pending</td>\n",
              "      <td>Egypt Post</td>\n",
              "      <td>0.0</td>\n",
              "      <td>karim rashid</td>\n",
              "      <td>e-com</td>\n",
              "      <td>no</td>\n",
              "      <td>NaT</td>\n",
              "      <td>processing</td>\n",
              "      <td>in</td>\n",
              "    </tr>\n",
              "    <tr>\n",
              "      <th>138</th>\n",
              "      <td>so84130</td>\n",
              "      <td>nat</td>\n",
              "      <td>2024-05-01 00:00:00</td>\n",
              "      <td>c576</td>\n",
              "      <td>alaa farouk</td>\n",
              "      <td>male</td>\n",
              "      <td>01278495121</td>\n",
              "      <td>alaafarouk@example.com</td>\n",
              "      <td>alexandria</td>\n",
              "      <td>smouha</td>\n",
              "      <td>...</td>\n",
              "      <td>meeza</td>\n",
              "      <td>unpaid</td>\n",
              "      <td>aramex</td>\n",
              "      <td>25.0</td>\n",
              "      <td>karim rashid</td>\n",
              "      <td>tel-sales</td>\n",
              "      <td>yes</td>\n",
              "      <td>2024-05-01</td>\n",
              "      <td>returned</td>\n",
              "      <td>customer asked for gift wrap</td>\n",
              "    </tr>\n",
              "  </tbody>\n",
              "</table>\n",
              "<p>5 rows × 32 columns</p>\n",
              "</div>\n",
              "    <div class=\"colab-df-buttons\">\n",
              "\n",
              "  <div class=\"colab-df-container\">\n",
              "    <button class=\"colab-df-convert\" onclick=\"convertToInteractive('df-cb44d8d5-6a45-4db0-a55c-06f5a740473b')\"\n",
              "            title=\"Convert this dataframe to an interactive table.\"\n",
              "            style=\"display:none;\">\n",
              "\n",
              "  <svg xmlns=\"http://www.w3.org/2000/svg\" height=\"24px\" viewBox=\"0 -960 960 960\">\n",
              "    <path d=\"M120-120v-720h720v720H120Zm60-500h600v-160H180v160Zm220 220h160v-160H400v160Zm0 220h160v-160H400v160ZM180-400h160v-160H180v160Zm440 0h160v-160H620v160ZM180-180h160v-160H180v160Zm440 0h160v-160H620v160Z\"/>\n",
              "  </svg>\n",
              "    </button>\n",
              "\n",
              "  <style>\n",
              "    .colab-df-container {\n",
              "      display:flex;\n",
              "      gap: 12px;\n",
              "    }\n",
              "\n",
              "    .colab-df-convert {\n",
              "      background-color: #E8F0FE;\n",
              "      border: none;\n",
              "      border-radius: 50%;\n",
              "      cursor: pointer;\n",
              "      display: none;\n",
              "      fill: #1967D2;\n",
              "      height: 32px;\n",
              "      padding: 0 0 0 0;\n",
              "      width: 32px;\n",
              "    }\n",
              "\n",
              "    .colab-df-convert:hover {\n",
              "      background-color: #E2EBFA;\n",
              "      box-shadow: 0px 1px 2px rgba(60, 64, 67, 0.3), 0px 1px 3px 1px rgba(60, 64, 67, 0.15);\n",
              "      fill: #174EA6;\n",
              "    }\n",
              "\n",
              "    .colab-df-buttons div {\n",
              "      margin-bottom: 4px;\n",
              "    }\n",
              "\n",
              "    [theme=dark] .colab-df-convert {\n",
              "      background-color: #3B4455;\n",
              "      fill: #D2E3FC;\n",
              "    }\n",
              "\n",
              "    [theme=dark] .colab-df-convert:hover {\n",
              "      background-color: #434B5C;\n",
              "      box-shadow: 0px 1px 3px 1px rgba(0, 0, 0, 0.15);\n",
              "      filter: drop-shadow(0px 1px 2px rgba(0, 0, 0, 0.3));\n",
              "      fill: #FFFFFF;\n",
              "    }\n",
              "  </style>\n",
              "\n",
              "    <script>\n",
              "      const buttonEl =\n",
              "        document.querySelector('#df-cb44d8d5-6a45-4db0-a55c-06f5a740473b button.colab-df-convert');\n",
              "      buttonEl.style.display =\n",
              "        google.colab.kernel.accessAllowed ? 'block' : 'none';\n",
              "\n",
              "      async function convertToInteractive(key) {\n",
              "        const element = document.querySelector('#df-cb44d8d5-6a45-4db0-a55c-06f5a740473b');\n",
              "        const dataTable =\n",
              "          await google.colab.kernel.invokeFunction('convertToInteractive',\n",
              "                                                    [key], {});\n",
              "        if (!dataTable) return;\n",
              "\n",
              "        const docLinkHtml = 'Like what you see? Visit the ' +\n",
              "          '<a target=\"_blank\" href=https://colab.research.google.com/notebooks/data_table.ipynb>data table notebook</a>'\n",
              "          + ' to learn more about interactive tables.';\n",
              "        element.innerHTML = '';\n",
              "        dataTable['output_type'] = 'display_data';\n",
              "        await google.colab.output.renderOutput(dataTable, element);\n",
              "        const docLink = document.createElement('div');\n",
              "        docLink.innerHTML = docLinkHtml;\n",
              "        element.appendChild(docLink);\n",
              "      }\n",
              "    </script>\n",
              "  </div>\n",
              "\n",
              "\n",
              "    <div id=\"df-5044396c-e789-4a65-a268-879caeba7d32\">\n",
              "      <button class=\"colab-df-quickchart\" onclick=\"quickchart('df-5044396c-e789-4a65-a268-879caeba7d32')\"\n",
              "                title=\"Suggest charts\"\n",
              "                style=\"display:none;\">\n",
              "\n",
              "<svg xmlns=\"http://www.w3.org/2000/svg\" height=\"24px\"viewBox=\"0 0 24 24\"\n",
              "     width=\"24px\">\n",
              "    <g>\n",
              "        <path d=\"M19 3H5c-1.1 0-2 .9-2 2v14c0 1.1.9 2 2 2h14c1.1 0 2-.9 2-2V5c0-1.1-.9-2-2-2zM9 17H7v-7h2v7zm4 0h-2V7h2v10zm4 0h-2v-4h2v4z\"/>\n",
              "    </g>\n",
              "</svg>\n",
              "      </button>\n",
              "\n",
              "<style>\n",
              "  .colab-df-quickchart {\n",
              "      --bg-color: #E8F0FE;\n",
              "      --fill-color: #1967D2;\n",
              "      --hover-bg-color: #E2EBFA;\n",
              "      --hover-fill-color: #174EA6;\n",
              "      --disabled-fill-color: #AAA;\n",
              "      --disabled-bg-color: #DDD;\n",
              "  }\n",
              "\n",
              "  [theme=dark] .colab-df-quickchart {\n",
              "      --bg-color: #3B4455;\n",
              "      --fill-color: #D2E3FC;\n",
              "      --hover-bg-color: #434B5C;\n",
              "      --hover-fill-color: #FFFFFF;\n",
              "      --disabled-bg-color: #3B4455;\n",
              "      --disabled-fill-color: #666;\n",
              "  }\n",
              "\n",
              "  .colab-df-quickchart {\n",
              "    background-color: var(--bg-color);\n",
              "    border: none;\n",
              "    border-radius: 50%;\n",
              "    cursor: pointer;\n",
              "    display: none;\n",
              "    fill: var(--fill-color);\n",
              "    height: 32px;\n",
              "    padding: 0;\n",
              "    width: 32px;\n",
              "  }\n",
              "\n",
              "  .colab-df-quickchart:hover {\n",
              "    background-color: var(--hover-bg-color);\n",
              "    box-shadow: 0 1px 2px rgba(60, 64, 67, 0.3), 0 1px 3px 1px rgba(60, 64, 67, 0.15);\n",
              "    fill: var(--button-hover-fill-color);\n",
              "  }\n",
              "\n",
              "  .colab-df-quickchart-complete:disabled,\n",
              "  .colab-df-quickchart-complete:disabled:hover {\n",
              "    background-color: var(--disabled-bg-color);\n",
              "    fill: var(--disabled-fill-color);\n",
              "    box-shadow: none;\n",
              "  }\n",
              "\n",
              "  .colab-df-spinner {\n",
              "    border: 2px solid var(--fill-color);\n",
              "    border-color: transparent;\n",
              "    border-bottom-color: var(--fill-color);\n",
              "    animation:\n",
              "      spin 1s steps(1) infinite;\n",
              "  }\n",
              "\n",
              "  @keyframes spin {\n",
              "    0% {\n",
              "      border-color: transparent;\n",
              "      border-bottom-color: var(--fill-color);\n",
              "      border-left-color: var(--fill-color);\n",
              "    }\n",
              "    20% {\n",
              "      border-color: transparent;\n",
              "      border-left-color: var(--fill-color);\n",
              "      border-top-color: var(--fill-color);\n",
              "    }\n",
              "    30% {\n",
              "      border-color: transparent;\n",
              "      border-left-color: var(--fill-color);\n",
              "      border-top-color: var(--fill-color);\n",
              "      border-right-color: var(--fill-color);\n",
              "    }\n",
              "    40% {\n",
              "      border-color: transparent;\n",
              "      border-right-color: var(--fill-color);\n",
              "      border-top-color: var(--fill-color);\n",
              "    }\n",
              "    60% {\n",
              "      border-color: transparent;\n",
              "      border-right-color: var(--fill-color);\n",
              "    }\n",
              "    80% {\n",
              "      border-color: transparent;\n",
              "      border-right-color: var(--fill-color);\n",
              "      border-bottom-color: var(--fill-color);\n",
              "    }\n",
              "    90% {\n",
              "      border-color: transparent;\n",
              "      border-bottom-color: var(--fill-color);\n",
              "    }\n",
              "  }\n",
              "</style>\n",
              "\n",
              "      <script>\n",
              "        async function quickchart(key) {\n",
              "          const quickchartButtonEl =\n",
              "            document.querySelector('#' + key + ' button');\n",
              "          quickchartButtonEl.disabled = true;  // To prevent multiple clicks.\n",
              "          quickchartButtonEl.classList.add('colab-df-spinner');\n",
              "          try {\n",
              "            const charts = await google.colab.kernel.invokeFunction(\n",
              "                'suggestCharts', [key], {});\n",
              "          } catch (error) {\n",
              "            console.error('Error during call to suggestCharts:', error);\n",
              "          }\n",
              "          quickchartButtonEl.classList.remove('colab-df-spinner');\n",
              "          quickchartButtonEl.classList.add('colab-df-quickchart-complete');\n",
              "        }\n",
              "        (() => {\n",
              "          let quickchartButtonEl =\n",
              "            document.querySelector('#df-5044396c-e789-4a65-a268-879caeba7d32 button');\n",
              "          quickchartButtonEl.style.display =\n",
              "            google.colab.kernel.accessAllowed ? 'block' : 'none';\n",
              "        })();\n",
              "      </script>\n",
              "    </div>\n",
              "\n",
              "    </div>\n",
              "  </div>\n"
            ],
            "application/vnd.google.colaboratory.intrinsic+json": {
              "type": "dataframe",
              "variable_name": "SalesDf"
            }
          },
          "metadata": {},
          "execution_count": 534
        }
      ]
    },
    {
      "cell_type": "code",
      "source": [
        "dataSheets = pd.ExcelFile('/content/cleaned_data_.xlsx')\n",
        "SalesDf = dataSheets.parse('Sales_Orders')"
      ],
      "metadata": {
        "id": "f9ohXr1xz_t0"
      },
      "execution_count": null,
      "outputs": []
    },
    {
      "cell_type": "code",
      "source": [
        "CustomersDf= dataSheets.parse('Customers')\n",
        "ProductDf= dataSheets.parse('Products')\n",
        "GovDf= dataSheets.parse('Gov_LookUp')"
      ],
      "metadata": {
        "id": "DRdXCfh-xjtw"
      },
      "execution_count": null,
      "outputs": []
    },
    {
      "cell_type": "markdown",
      "source": [
        "#**Transforming the dates from objects to date formate**"
      ],
      "metadata": {
        "id": "B_Hibo9twv1V"
      }
    },
    {
      "cell_type": "code",
      "source": [
        "SalesDf['OrderDate'] = pd.to_datetime(SalesDf['OrderDate'], errors='coerce')\n"
      ],
      "metadata": {
        "id": "osVWYXJEuS7I"
      },
      "execution_count": null,
      "outputs": []
    },
    {
      "cell_type": "code",
      "source": [
        "SalesDf['DeliveryDate'] = pd.to_datetime(SalesDf['DeliveryDate'], errors='coerce')\n"
      ],
      "metadata": {
        "id": "XdlpxNysvKN6"
      },
      "execution_count": null,
      "outputs": []
    },
    {
      "cell_type": "code",
      "source": [
        "SalesDf['ReturnDate'] = pd.to_datetime(SalesDf['ReturnDate'], errors='coerce')"
      ],
      "metadata": {
        "id": "yCa6d-JlvOr7"
      },
      "execution_count": null,
      "outputs": []
    },
    {
      "cell_type": "code",
      "source": [
        "SalesDf['DeliveryDate'].head()"
      ],
      "metadata": {
        "colab": {
          "base_uri": "https://localhost:8080/",
          "height": 241
        },
        "id": "h89jB4nAwQiw",
        "outputId": "a63329c0-6543-48d9-f559-ab3d617e8b1f"
      },
      "execution_count": null,
      "outputs": [
        {
          "output_type": "execute_result",
          "data": {
            "text/plain": [
              "0   2024-01-07\n",
              "1   2024-06-04\n",
              "2   2024-04-03\n",
              "3   2024-05-18\n",
              "4   2024-05-01\n",
              "Name: DeliveryDate, dtype: datetime64[ns]"
            ],
            "text/html": [
              "<div>\n",
              "<style scoped>\n",
              "    .dataframe tbody tr th:only-of-type {\n",
              "        vertical-align: middle;\n",
              "    }\n",
              "\n",
              "    .dataframe tbody tr th {\n",
              "        vertical-align: top;\n",
              "    }\n",
              "\n",
              "    .dataframe thead th {\n",
              "        text-align: right;\n",
              "    }\n",
              "</style>\n",
              "<table border=\"1\" class=\"dataframe\">\n",
              "  <thead>\n",
              "    <tr style=\"text-align: right;\">\n",
              "      <th></th>\n",
              "      <th>DeliveryDate</th>\n",
              "    </tr>\n",
              "  </thead>\n",
              "  <tbody>\n",
              "    <tr>\n",
              "      <th>0</th>\n",
              "      <td>2024-01-07</td>\n",
              "    </tr>\n",
              "    <tr>\n",
              "      <th>1</th>\n",
              "      <td>2024-06-04</td>\n",
              "    </tr>\n",
              "    <tr>\n",
              "      <th>2</th>\n",
              "      <td>2024-04-03</td>\n",
              "    </tr>\n",
              "    <tr>\n",
              "      <th>3</th>\n",
              "      <td>2024-05-18</td>\n",
              "    </tr>\n",
              "    <tr>\n",
              "      <th>4</th>\n",
              "      <td>2024-05-01</td>\n",
              "    </tr>\n",
              "  </tbody>\n",
              "</table>\n",
              "</div><br><label><b>dtype:</b> datetime64[ns]</label>"
            ]
          },
          "metadata": {},
          "execution_count": 11
        }
      ]
    },
    {
      "cell_type": "code",
      "source": [
        "SalesDf['OrderDate'] = pd.to_datetime(SalesDf['OrderDate'], errors='coerce')\n",
        "SalesDf['OrderDate'] = SalesDf['OrderDate'].dt.strftime('%Y-%m-%d')\n"
      ],
      "metadata": {
        "id": "7MwqHall07jR"
      },
      "execution_count": null,
      "outputs": []
    },
    {
      "cell_type": "code",
      "source": [
        "SalesDf['DeliveryDate'] = pd.to_datetime(SalesDf['DeliveryDate'], errors='coerce')\n",
        "SalesDf['DeliveryDate'] = SalesDf['DeliveryDate'].dt.strftime('%Y-%m-%d')"
      ],
      "metadata": {
        "id": "0Q6mLBzz1ERD"
      },
      "execution_count": null,
      "outputs": []
    },
    {
      "cell_type": "code",
      "source": [
        "SalesDf['ReturnDate'] = pd.to_datetime(SalesDf['ReturnDate'], errors='coerce')\n",
        "SalesDf['ReturnDate'] = SalesDf['ReturnDate'].dt.strftime('%Y-%m-%d')"
      ],
      "metadata": {
        "id": "C1U6rK9Y1PZ3"
      },
      "execution_count": null,
      "outputs": []
    },
    {
      "cell_type": "code",
      "source": [
        "SalesDf.info()"
      ],
      "metadata": {
        "colab": {
          "base_uri": "https://localhost:8080/"
        },
        "id": "rMOyvo-DuOvj",
        "outputId": "b8cd1396-fdb5-47b0-8216-a07fa35d4812"
      },
      "execution_count": null,
      "outputs": [
        {
          "output_type": "stream",
          "name": "stdout",
          "text": [
            "<class 'pandas.core.frame.DataFrame'>\n",
            "RangeIndex: 136 entries, 0 to 135\n",
            "Data columns (total 32 columns):\n",
            " #   Column         Non-Null Count  Dtype  \n",
            "---  ------         --------------  -----  \n",
            " 0   OrderID        136 non-null    object \n",
            " 1   OrderDate      122 non-null    object \n",
            " 2   DeliveryDate   123 non-null    object \n",
            " 3   CustomerID     87 non-null     object \n",
            " 4   CustomerName   136 non-null    object \n",
            " 5   Gender         136 non-null    object \n",
            " 6   Phone          114 non-null    object \n",
            " 7   Email          105 non-null    object \n",
            " 8   Governorate    136 non-null    object \n",
            " 9   City           136 non-null    object \n",
            " 10  Address        136 non-null    object \n",
            " 11  Latitude       117 non-null    float64\n",
            " 12  Longitude      117 non-null    float64\n",
            " 13  ProductSKU     136 non-null    object \n",
            " 14  ProductName    136 non-null    object \n",
            " 15  Category       136 non-null    object \n",
            " 16  UnitPrice      136 non-null    float64\n",
            " 17  Quantity       136 non-null    int64  \n",
            " 18  Subtotal       136 non-null    float64\n",
            " 19  Discount       136 non-null    float64\n",
            " 20  TotalAmount    136 non-null    float64\n",
            " 21  Currency       136 non-null    object \n",
            " 22  PaymentMethod  136 non-null    object \n",
            " 23  PaymentStatus  136 non-null    object \n",
            " 24  ShipperName    136 non-null    object \n",
            " 25  ShippingCost   122 non-null    float64\n",
            " 26  SalesRep       136 non-null    object \n",
            " 27  Channel        136 non-null    object \n",
            " 28  ReturnFlag     136 non-null    object \n",
            " 29  ReturnDate     3 non-null      object \n",
            " 30  Status         122 non-null    object \n",
            " 31  Notes          136 non-null    object \n",
            "dtypes: float64(7), int64(1), object(24)\n",
            "memory usage: 34.1+ KB\n"
          ]
        }
      ]
    },
    {
      "cell_type": "code",
      "source": [
        "CustomersDf['Phone'] = CustomersDf['Phone'].astype(str)"
      ],
      "metadata": {
        "id": "wlOtHVQ5yTuP"
      },
      "execution_count": null,
      "outputs": []
    },
    {
      "cell_type": "code",
      "source": [
        "CustomersDf.info()"
      ],
      "metadata": {
        "colab": {
          "base_uri": "https://localhost:8080/"
        },
        "id": "vusy0evKyY_b",
        "outputId": "c7d222ee-04af-47bf-9b1d-a601fb7b6783"
      },
      "execution_count": null,
      "outputs": [
        {
          "output_type": "stream",
          "name": "stdout",
          "text": [
            "<class 'pandas.core.frame.DataFrame'>\n",
            "RangeIndex: 60 entries, 0 to 59\n",
            "Data columns (total 8 columns):\n",
            " #   Column        Non-Null Count  Dtype \n",
            "---  ------        --------------  ----- \n",
            " 0   CustomerID    40 non-null     object\n",
            " 1   CustomerName  60 non-null     object\n",
            " 2   Gender        60 non-null     object\n",
            " 3   Phone         60 non-null     object\n",
            " 4   Email         60 non-null     object\n",
            " 5   Gov           60 non-null     object\n",
            " 6   City          60 non-null     object\n",
            " 7   Address       60 non-null     object\n",
            "dtypes: object(8)\n",
            "memory usage: 3.9+ KB\n"
          ]
        }
      ]
    },
    {
      "cell_type": "markdown",
      "source": [],
      "metadata": {
        "id": "WLg83POdw210"
      }
    },
    {
      "cell_type": "code",
      "source": [
        "dataSheets = pd.ExcelFile('/content/EG_Retail_Data_Cleaned_.xlsx')\n",
        "ProductDf = dataSheets.parse('Products')"
      ],
      "metadata": {
        "id": "Lq49FHaYCDKY"
      },
      "execution_count": null,
      "outputs": []
    },
    {
      "cell_type": "code",
      "source": [
        "ProductDf"
      ],
      "metadata": {
        "colab": {
          "base_uri": "https://localhost:8080/",
          "height": 990
        },
        "id": "cG3kCcL8CVUc",
        "outputId": "30f37e38-73a6-4aec-dec5-3f38583d374f"
      },
      "execution_count": null,
      "outputs": [
        {
          "output_type": "execute_result",
          "data": {
            "text/plain": [
              "        SKU              ProductName     Category\n",
              "0   elec001  Laptop i7 16GB - لابتوب  electronics\n",
              "1   elec001  LAPTOP I7 16GB - لابتوب  electronics\n",
              "2   elec001  Labtop i7 16GB - لابتوب  electronics\n",
              "3   elec002    Smartphone A55 - هاتف  electronics\n",
              "4   elec002    Smartphone A55 - هاتف  electronics\n",
              "5   elec002    Smartphone A55 - هاتف  electronics\n",
              "6   home101  Electric Kettle - غلاية         home\n",
              "7   home101  ELECTRIC KETTLE - غلاية         home\n",
              "8   home101  Electric Kettle - غلاية         home\n",
              "9   groc501     Organic زيت زيتون 1L      grocery\n",
              "10  groc501     Organic زيت زيتون 1L      grocery\n",
              "11  groc501     Organic زيت زيتون 1L      grocery\n",
              "12  fash210     Men T-Shirt - تيشيرت      fashion\n",
              "13  fash210     Men T-Shirt - تيشيرت      fashion\n",
              "14  fash210     Men T-Shirt - تيشيرت      fashion\n",
              "15  sprt301       FOOTBALL - كرة قدم       sports\n",
              "16  sprt301       FOOTBALL - كرة قدم       sports\n",
              "17  sprt301       Football - كرة قدم       sports\n",
              "18  book900     Data Warehousing 101        books\n",
              "19  book900     DATA WAREHOUSING 101        books\n",
              "20  book900     DATA WAREHOUSING 101        books\n",
              "21  elec003          BLUETOOTH سماعة  electronics\n",
              "22  elec003          Bluetooth سماعة  electronics\n",
              "23  elec003          Bluetooth سماعة  electronics\n",
              "24  home102     Air Fryer 4L - قلاية         home\n",
              "25  home102     Air Fryer 4L - قلاية         home\n",
              "26  home102     AIR FRYER 4L - قلاية         home\n",
              "27   toy777   PUZZLE 1000PCS - أحجية         toys\n",
              "28   toy777   PUZZLE 1000PCS - أحجية         toys\n",
              "29   toy777   Puzzle 1000pcs - أحجية         toys"
            ],
            "text/html": [
              "\n",
              "  <div id=\"df-dee7df98-6e7c-43a5-a9e5-2d941f1371d0\" class=\"colab-df-container\">\n",
              "    <div>\n",
              "<style scoped>\n",
              "    .dataframe tbody tr th:only-of-type {\n",
              "        vertical-align: middle;\n",
              "    }\n",
              "\n",
              "    .dataframe tbody tr th {\n",
              "        vertical-align: top;\n",
              "    }\n",
              "\n",
              "    .dataframe thead th {\n",
              "        text-align: right;\n",
              "    }\n",
              "</style>\n",
              "<table border=\"1\" class=\"dataframe\">\n",
              "  <thead>\n",
              "    <tr style=\"text-align: right;\">\n",
              "      <th></th>\n",
              "      <th>SKU</th>\n",
              "      <th>ProductName</th>\n",
              "      <th>Category</th>\n",
              "    </tr>\n",
              "  </thead>\n",
              "  <tbody>\n",
              "    <tr>\n",
              "      <th>0</th>\n",
              "      <td>elec001</td>\n",
              "      <td>Laptop i7 16GB - لابتوب</td>\n",
              "      <td>electronics</td>\n",
              "    </tr>\n",
              "    <tr>\n",
              "      <th>1</th>\n",
              "      <td>elec001</td>\n",
              "      <td>LAPTOP I7 16GB - لابتوب</td>\n",
              "      <td>electronics</td>\n",
              "    </tr>\n",
              "    <tr>\n",
              "      <th>2</th>\n",
              "      <td>elec001</td>\n",
              "      <td>Labtop i7 16GB - لابتوب</td>\n",
              "      <td>electronics</td>\n",
              "    </tr>\n",
              "    <tr>\n",
              "      <th>3</th>\n",
              "      <td>elec002</td>\n",
              "      <td>Smartphone A55 - هاتف</td>\n",
              "      <td>electronics</td>\n",
              "    </tr>\n",
              "    <tr>\n",
              "      <th>4</th>\n",
              "      <td>elec002</td>\n",
              "      <td>Smartphone A55 - هاتف</td>\n",
              "      <td>electronics</td>\n",
              "    </tr>\n",
              "    <tr>\n",
              "      <th>5</th>\n",
              "      <td>elec002</td>\n",
              "      <td>Smartphone A55 - هاتف</td>\n",
              "      <td>electronics</td>\n",
              "    </tr>\n",
              "    <tr>\n",
              "      <th>6</th>\n",
              "      <td>home101</td>\n",
              "      <td>Electric Kettle - غلاية</td>\n",
              "      <td>home</td>\n",
              "    </tr>\n",
              "    <tr>\n",
              "      <th>7</th>\n",
              "      <td>home101</td>\n",
              "      <td>ELECTRIC KETTLE - غلاية</td>\n",
              "      <td>home</td>\n",
              "    </tr>\n",
              "    <tr>\n",
              "      <th>8</th>\n",
              "      <td>home101</td>\n",
              "      <td>Electric Kettle - غلاية</td>\n",
              "      <td>home</td>\n",
              "    </tr>\n",
              "    <tr>\n",
              "      <th>9</th>\n",
              "      <td>groc501</td>\n",
              "      <td>Organic زيت زيتون 1L</td>\n",
              "      <td>grocery</td>\n",
              "    </tr>\n",
              "    <tr>\n",
              "      <th>10</th>\n",
              "      <td>groc501</td>\n",
              "      <td>Organic زيت زيتون 1L</td>\n",
              "      <td>grocery</td>\n",
              "    </tr>\n",
              "    <tr>\n",
              "      <th>11</th>\n",
              "      <td>groc501</td>\n",
              "      <td>Organic زيت زيتون 1L</td>\n",
              "      <td>grocery</td>\n",
              "    </tr>\n",
              "    <tr>\n",
              "      <th>12</th>\n",
              "      <td>fash210</td>\n",
              "      <td>Men T-Shirt - تيشيرت</td>\n",
              "      <td>fashion</td>\n",
              "    </tr>\n",
              "    <tr>\n",
              "      <th>13</th>\n",
              "      <td>fash210</td>\n",
              "      <td>Men T-Shirt - تيشيرت</td>\n",
              "      <td>fashion</td>\n",
              "    </tr>\n",
              "    <tr>\n",
              "      <th>14</th>\n",
              "      <td>fash210</td>\n",
              "      <td>Men T-Shirt - تيشيرت</td>\n",
              "      <td>fashion</td>\n",
              "    </tr>\n",
              "    <tr>\n",
              "      <th>15</th>\n",
              "      <td>sprt301</td>\n",
              "      <td>FOOTBALL - كرة قدم</td>\n",
              "      <td>sports</td>\n",
              "    </tr>\n",
              "    <tr>\n",
              "      <th>16</th>\n",
              "      <td>sprt301</td>\n",
              "      <td>FOOTBALL - كرة قدم</td>\n",
              "      <td>sports</td>\n",
              "    </tr>\n",
              "    <tr>\n",
              "      <th>17</th>\n",
              "      <td>sprt301</td>\n",
              "      <td>Football - كرة قدم</td>\n",
              "      <td>sports</td>\n",
              "    </tr>\n",
              "    <tr>\n",
              "      <th>18</th>\n",
              "      <td>book900</td>\n",
              "      <td>Data Warehousing 101</td>\n",
              "      <td>books</td>\n",
              "    </tr>\n",
              "    <tr>\n",
              "      <th>19</th>\n",
              "      <td>book900</td>\n",
              "      <td>DATA WAREHOUSING 101</td>\n",
              "      <td>books</td>\n",
              "    </tr>\n",
              "    <tr>\n",
              "      <th>20</th>\n",
              "      <td>book900</td>\n",
              "      <td>DATA WAREHOUSING 101</td>\n",
              "      <td>books</td>\n",
              "    </tr>\n",
              "    <tr>\n",
              "      <th>21</th>\n",
              "      <td>elec003</td>\n",
              "      <td>BLUETOOTH سماعة</td>\n",
              "      <td>electronics</td>\n",
              "    </tr>\n",
              "    <tr>\n",
              "      <th>22</th>\n",
              "      <td>elec003</td>\n",
              "      <td>Bluetooth سماعة</td>\n",
              "      <td>electronics</td>\n",
              "    </tr>\n",
              "    <tr>\n",
              "      <th>23</th>\n",
              "      <td>elec003</td>\n",
              "      <td>Bluetooth سماعة</td>\n",
              "      <td>electronics</td>\n",
              "    </tr>\n",
              "    <tr>\n",
              "      <th>24</th>\n",
              "      <td>home102</td>\n",
              "      <td>Air Fryer 4L - قلاية</td>\n",
              "      <td>home</td>\n",
              "    </tr>\n",
              "    <tr>\n",
              "      <th>25</th>\n",
              "      <td>home102</td>\n",
              "      <td>Air Fryer 4L - قلاية</td>\n",
              "      <td>home</td>\n",
              "    </tr>\n",
              "    <tr>\n",
              "      <th>26</th>\n",
              "      <td>home102</td>\n",
              "      <td>AIR FRYER 4L - قلاية</td>\n",
              "      <td>home</td>\n",
              "    </tr>\n",
              "    <tr>\n",
              "      <th>27</th>\n",
              "      <td>toy777</td>\n",
              "      <td>PUZZLE 1000PCS - أحجية</td>\n",
              "      <td>toys</td>\n",
              "    </tr>\n",
              "    <tr>\n",
              "      <th>28</th>\n",
              "      <td>toy777</td>\n",
              "      <td>PUZZLE 1000PCS - أحجية</td>\n",
              "      <td>toys</td>\n",
              "    </tr>\n",
              "    <tr>\n",
              "      <th>29</th>\n",
              "      <td>toy777</td>\n",
              "      <td>Puzzle 1000pcs - أحجية</td>\n",
              "      <td>toys</td>\n",
              "    </tr>\n",
              "  </tbody>\n",
              "</table>\n",
              "</div>\n",
              "    <div class=\"colab-df-buttons\">\n",
              "\n",
              "  <div class=\"colab-df-container\">\n",
              "    <button class=\"colab-df-convert\" onclick=\"convertToInteractive('df-dee7df98-6e7c-43a5-a9e5-2d941f1371d0')\"\n",
              "            title=\"Convert this dataframe to an interactive table.\"\n",
              "            style=\"display:none;\">\n",
              "\n",
              "  <svg xmlns=\"http://www.w3.org/2000/svg\" height=\"24px\" viewBox=\"0 -960 960 960\">\n",
              "    <path d=\"M120-120v-720h720v720H120Zm60-500h600v-160H180v160Zm220 220h160v-160H400v160Zm0 220h160v-160H400v160ZM180-400h160v-160H180v160Zm440 0h160v-160H620v160ZM180-180h160v-160H180v160Zm440 0h160v-160H620v160Z\"/>\n",
              "  </svg>\n",
              "    </button>\n",
              "\n",
              "  <style>\n",
              "    .colab-df-container {\n",
              "      display:flex;\n",
              "      gap: 12px;\n",
              "    }\n",
              "\n",
              "    .colab-df-convert {\n",
              "      background-color: #E8F0FE;\n",
              "      border: none;\n",
              "      border-radius: 50%;\n",
              "      cursor: pointer;\n",
              "      display: none;\n",
              "      fill: #1967D2;\n",
              "      height: 32px;\n",
              "      padding: 0 0 0 0;\n",
              "      width: 32px;\n",
              "    }\n",
              "\n",
              "    .colab-df-convert:hover {\n",
              "      background-color: #E2EBFA;\n",
              "      box-shadow: 0px 1px 2px rgba(60, 64, 67, 0.3), 0px 1px 3px 1px rgba(60, 64, 67, 0.15);\n",
              "      fill: #174EA6;\n",
              "    }\n",
              "\n",
              "    .colab-df-buttons div {\n",
              "      margin-bottom: 4px;\n",
              "    }\n",
              "\n",
              "    [theme=dark] .colab-df-convert {\n",
              "      background-color: #3B4455;\n",
              "      fill: #D2E3FC;\n",
              "    }\n",
              "\n",
              "    [theme=dark] .colab-df-convert:hover {\n",
              "      background-color: #434B5C;\n",
              "      box-shadow: 0px 1px 3px 1px rgba(0, 0, 0, 0.15);\n",
              "      filter: drop-shadow(0px 1px 2px rgba(0, 0, 0, 0.3));\n",
              "      fill: #FFFFFF;\n",
              "    }\n",
              "  </style>\n",
              "\n",
              "    <script>\n",
              "      const buttonEl =\n",
              "        document.querySelector('#df-dee7df98-6e7c-43a5-a9e5-2d941f1371d0 button.colab-df-convert');\n",
              "      buttonEl.style.display =\n",
              "        google.colab.kernel.accessAllowed ? 'block' : 'none';\n",
              "\n",
              "      async function convertToInteractive(key) {\n",
              "        const element = document.querySelector('#df-dee7df98-6e7c-43a5-a9e5-2d941f1371d0');\n",
              "        const dataTable =\n",
              "          await google.colab.kernel.invokeFunction('convertToInteractive',\n",
              "                                                    [key], {});\n",
              "        if (!dataTable) return;\n",
              "\n",
              "        const docLinkHtml = 'Like what you see? Visit the ' +\n",
              "          '<a target=\"_blank\" href=https://colab.research.google.com/notebooks/data_table.ipynb>data table notebook</a>'\n",
              "          + ' to learn more about interactive tables.';\n",
              "        element.innerHTML = '';\n",
              "        dataTable['output_type'] = 'display_data';\n",
              "        await google.colab.output.renderOutput(dataTable, element);\n",
              "        const docLink = document.createElement('div');\n",
              "        docLink.innerHTML = docLinkHtml;\n",
              "        element.appendChild(docLink);\n",
              "      }\n",
              "    </script>\n",
              "  </div>\n",
              "\n",
              "\n",
              "    <div id=\"df-e2f29bfe-c2b9-400b-8e8a-e8b7b640d496\">\n",
              "      <button class=\"colab-df-quickchart\" onclick=\"quickchart('df-e2f29bfe-c2b9-400b-8e8a-e8b7b640d496')\"\n",
              "                title=\"Suggest charts\"\n",
              "                style=\"display:none;\">\n",
              "\n",
              "<svg xmlns=\"http://www.w3.org/2000/svg\" height=\"24px\"viewBox=\"0 0 24 24\"\n",
              "     width=\"24px\">\n",
              "    <g>\n",
              "        <path d=\"M19 3H5c-1.1 0-2 .9-2 2v14c0 1.1.9 2 2 2h14c1.1 0 2-.9 2-2V5c0-1.1-.9-2-2-2zM9 17H7v-7h2v7zm4 0h-2V7h2v10zm4 0h-2v-4h2v4z\"/>\n",
              "    </g>\n",
              "</svg>\n",
              "      </button>\n",
              "\n",
              "<style>\n",
              "  .colab-df-quickchart {\n",
              "      --bg-color: #E8F0FE;\n",
              "      --fill-color: #1967D2;\n",
              "      --hover-bg-color: #E2EBFA;\n",
              "      --hover-fill-color: #174EA6;\n",
              "      --disabled-fill-color: #AAA;\n",
              "      --disabled-bg-color: #DDD;\n",
              "  }\n",
              "\n",
              "  [theme=dark] .colab-df-quickchart {\n",
              "      --bg-color: #3B4455;\n",
              "      --fill-color: #D2E3FC;\n",
              "      --hover-bg-color: #434B5C;\n",
              "      --hover-fill-color: #FFFFFF;\n",
              "      --disabled-bg-color: #3B4455;\n",
              "      --disabled-fill-color: #666;\n",
              "  }\n",
              "\n",
              "  .colab-df-quickchart {\n",
              "    background-color: var(--bg-color);\n",
              "    border: none;\n",
              "    border-radius: 50%;\n",
              "    cursor: pointer;\n",
              "    display: none;\n",
              "    fill: var(--fill-color);\n",
              "    height: 32px;\n",
              "    padding: 0;\n",
              "    width: 32px;\n",
              "  }\n",
              "\n",
              "  .colab-df-quickchart:hover {\n",
              "    background-color: var(--hover-bg-color);\n",
              "    box-shadow: 0 1px 2px rgba(60, 64, 67, 0.3), 0 1px 3px 1px rgba(60, 64, 67, 0.15);\n",
              "    fill: var(--button-hover-fill-color);\n",
              "  }\n",
              "\n",
              "  .colab-df-quickchart-complete:disabled,\n",
              "  .colab-df-quickchart-complete:disabled:hover {\n",
              "    background-color: var(--disabled-bg-color);\n",
              "    fill: var(--disabled-fill-color);\n",
              "    box-shadow: none;\n",
              "  }\n",
              "\n",
              "  .colab-df-spinner {\n",
              "    border: 2px solid var(--fill-color);\n",
              "    border-color: transparent;\n",
              "    border-bottom-color: var(--fill-color);\n",
              "    animation:\n",
              "      spin 1s steps(1) infinite;\n",
              "  }\n",
              "\n",
              "  @keyframes spin {\n",
              "    0% {\n",
              "      border-color: transparent;\n",
              "      border-bottom-color: var(--fill-color);\n",
              "      border-left-color: var(--fill-color);\n",
              "    }\n",
              "    20% {\n",
              "      border-color: transparent;\n",
              "      border-left-color: var(--fill-color);\n",
              "      border-top-color: var(--fill-color);\n",
              "    }\n",
              "    30% {\n",
              "      border-color: transparent;\n",
              "      border-left-color: var(--fill-color);\n",
              "      border-top-color: var(--fill-color);\n",
              "      border-right-color: var(--fill-color);\n",
              "    }\n",
              "    40% {\n",
              "      border-color: transparent;\n",
              "      border-right-color: var(--fill-color);\n",
              "      border-top-color: var(--fill-color);\n",
              "    }\n",
              "    60% {\n",
              "      border-color: transparent;\n",
              "      border-right-color: var(--fill-color);\n",
              "    }\n",
              "    80% {\n",
              "      border-color: transparent;\n",
              "      border-right-color: var(--fill-color);\n",
              "      border-bottom-color: var(--fill-color);\n",
              "    }\n",
              "    90% {\n",
              "      border-color: transparent;\n",
              "      border-bottom-color: var(--fill-color);\n",
              "    }\n",
              "  }\n",
              "</style>\n",
              "\n",
              "      <script>\n",
              "        async function quickchart(key) {\n",
              "          const quickchartButtonEl =\n",
              "            document.querySelector('#' + key + ' button');\n",
              "          quickchartButtonEl.disabled = true;  // To prevent multiple clicks.\n",
              "          quickchartButtonEl.classList.add('colab-df-spinner');\n",
              "          try {\n",
              "            const charts = await google.colab.kernel.invokeFunction(\n",
              "                'suggestCharts', [key], {});\n",
              "          } catch (error) {\n",
              "            console.error('Error during call to suggestCharts:', error);\n",
              "          }\n",
              "          quickchartButtonEl.classList.remove('colab-df-spinner');\n",
              "          quickchartButtonEl.classList.add('colab-df-quickchart-complete');\n",
              "        }\n",
              "        (() => {\n",
              "          let quickchartButtonEl =\n",
              "            document.querySelector('#df-e2f29bfe-c2b9-400b-8e8a-e8b7b640d496 button');\n",
              "          quickchartButtonEl.style.display =\n",
              "            google.colab.kernel.accessAllowed ? 'block' : 'none';\n",
              "        })();\n",
              "      </script>\n",
              "    </div>\n",
              "\n",
              "  <div id=\"id_9b44c6ca-f3ab-44c4-9e1a-21b97641c86c\">\n",
              "    <style>\n",
              "      .colab-df-generate {\n",
              "        background-color: #E8F0FE;\n",
              "        border: none;\n",
              "        border-radius: 50%;\n",
              "        cursor: pointer;\n",
              "        display: none;\n",
              "        fill: #1967D2;\n",
              "        height: 32px;\n",
              "        padding: 0 0 0 0;\n",
              "        width: 32px;\n",
              "      }\n",
              "\n",
              "      .colab-df-generate:hover {\n",
              "        background-color: #E2EBFA;\n",
              "        box-shadow: 0px 1px 2px rgba(60, 64, 67, 0.3), 0px 1px 3px 1px rgba(60, 64, 67, 0.15);\n",
              "        fill: #174EA6;\n",
              "      }\n",
              "\n",
              "      [theme=dark] .colab-df-generate {\n",
              "        background-color: #3B4455;\n",
              "        fill: #D2E3FC;\n",
              "      }\n",
              "\n",
              "      [theme=dark] .colab-df-generate:hover {\n",
              "        background-color: #434B5C;\n",
              "        box-shadow: 0px 1px 3px 1px rgba(0, 0, 0, 0.15);\n",
              "        filter: drop-shadow(0px 1px 2px rgba(0, 0, 0, 0.3));\n",
              "        fill: #FFFFFF;\n",
              "      }\n",
              "    </style>\n",
              "    <button class=\"colab-df-generate\" onclick=\"generateWithVariable('ProductDf')\"\n",
              "            title=\"Generate code using this dataframe.\"\n",
              "            style=\"display:none;\">\n",
              "\n",
              "  <svg xmlns=\"http://www.w3.org/2000/svg\" height=\"24px\"viewBox=\"0 0 24 24\"\n",
              "       width=\"24px\">\n",
              "    <path d=\"M7,19H8.4L18.45,9,17,7.55,7,17.6ZM5,21V16.75L18.45,3.32a2,2,0,0,1,2.83,0l1.4,1.43a1.91,1.91,0,0,1,.58,1.4,1.91,1.91,0,0,1-.58,1.4L9.25,21ZM18.45,9,17,7.55Zm-12,3A5.31,5.31,0,0,0,4.9,8.1,5.31,5.31,0,0,0,1,6.5,5.31,5.31,0,0,0,4.9,4.9,5.31,5.31,0,0,0,6.5,1,5.31,5.31,0,0,0,8.1,4.9,5.31,5.31,0,0,0,12,6.5,5.46,5.46,0,0,0,6.5,12Z\"/>\n",
              "  </svg>\n",
              "    </button>\n",
              "    <script>\n",
              "      (() => {\n",
              "      const buttonEl =\n",
              "        document.querySelector('#id_9b44c6ca-f3ab-44c4-9e1a-21b97641c86c button.colab-df-generate');\n",
              "      buttonEl.style.display =\n",
              "        google.colab.kernel.accessAllowed ? 'block' : 'none';\n",
              "\n",
              "      buttonEl.onclick = () => {\n",
              "        google.colab.notebook.generateWithVariable('ProductDf');\n",
              "      }\n",
              "      })();\n",
              "    </script>\n",
              "  </div>\n",
              "\n",
              "    </div>\n",
              "  </div>\n"
            ],
            "application/vnd.google.colaboratory.intrinsic+json": {
              "type": "dataframe",
              "variable_name": "ProductDf",
              "summary": "{\n  \"name\": \"ProductDf\",\n  \"rows\": 30,\n  \"fields\": [\n    {\n      \"column\": \"SKU\",\n      \"properties\": {\n        \"dtype\": \"category\",\n        \"num_unique_values\": 10,\n        \"samples\": [\n          \"home102\",\n          \"elec002\",\n          \"sprt301\"\n        ],\n        \"semantic_type\": \"\",\n        \"description\": \"\"\n      }\n    },\n    {\n      \"column\": \"ProductName\",\n      \"properties\": {\n        \"dtype\": \"string\",\n        \"num_unique_values\": 18,\n        \"samples\": [\n          \"Laptop i7 16GB - \\u0644\\u0627\\u0628\\u062a\\u0648\\u0628\",\n          \"LAPTOP I7 16GB - \\u0644\\u0627\\u0628\\u062a\\u0648\\u0628\",\n          \"FOOTBALL - \\u0643\\u0631\\u0629 \\u0642\\u062f\\u0645\"\n        ],\n        \"semantic_type\": \"\",\n        \"description\": \"\"\n      }\n    },\n    {\n      \"column\": \"Category\",\n      \"properties\": {\n        \"dtype\": \"category\",\n        \"num_unique_values\": 7,\n        \"samples\": [\n          \"electronics\",\n          \"home\",\n          \"books\"\n        ],\n        \"semantic_type\": \"\",\n        \"description\": \"\"\n      }\n    }\n  ]\n}"
            }
          },
          "metadata": {},
          "execution_count": 37
        }
      ]
    },
    {
      "cell_type": "code",
      "source": [
        "ProductDf = ProductDf.drop_duplicates(subset=['SKU'], keep='first').reset_index(drop=True)"
      ],
      "metadata": {
        "id": "N9Uk2J7qCaF8"
      },
      "execution_count": null,
      "outputs": []
    },
    {
      "cell_type": "code",
      "source": [
        "ProductDf"
      ],
      "metadata": {
        "colab": {
          "base_uri": "https://localhost:8080/",
          "height": 363
        },
        "id": "j6yJg4hYJRUN",
        "outputId": "c71139fd-4e52-4567-c147-b9b4559d4002"
      },
      "execution_count": null,
      "outputs": [
        {
          "output_type": "execute_result",
          "data": {
            "text/plain": [
              "       SKU              ProductName     Category\n",
              "0  elec001  Laptop i7 16GB - لابتوب  electronics\n",
              "1  elec002    Smartphone A55 - هاتف  electronics\n",
              "2  home101  Electric Kettle - غلاية         home\n",
              "3  groc501     Organic زيت زيتون 1L      grocery\n",
              "4  fash210     Men T-Shirt - تيشيرت      fashion\n",
              "5  sprt301       FOOTBALL - كرة قدم       sports\n",
              "6  book900     Data Warehousing 101        books\n",
              "7  elec003          BLUETOOTH سماعة  electronics\n",
              "8  home102     Air Fryer 4L - قلاية         home\n",
              "9   toy777   PUZZLE 1000PCS - أحجية         toys"
            ],
            "text/html": [
              "\n",
              "  <div id=\"df-c4a81f74-d3b9-430a-829b-e4358fcbab01\" class=\"colab-df-container\">\n",
              "    <div>\n",
              "<style scoped>\n",
              "    .dataframe tbody tr th:only-of-type {\n",
              "        vertical-align: middle;\n",
              "    }\n",
              "\n",
              "    .dataframe tbody tr th {\n",
              "        vertical-align: top;\n",
              "    }\n",
              "\n",
              "    .dataframe thead th {\n",
              "        text-align: right;\n",
              "    }\n",
              "</style>\n",
              "<table border=\"1\" class=\"dataframe\">\n",
              "  <thead>\n",
              "    <tr style=\"text-align: right;\">\n",
              "      <th></th>\n",
              "      <th>SKU</th>\n",
              "      <th>ProductName</th>\n",
              "      <th>Category</th>\n",
              "    </tr>\n",
              "  </thead>\n",
              "  <tbody>\n",
              "    <tr>\n",
              "      <th>0</th>\n",
              "      <td>elec001</td>\n",
              "      <td>Laptop i7 16GB - لابتوب</td>\n",
              "      <td>electronics</td>\n",
              "    </tr>\n",
              "    <tr>\n",
              "      <th>1</th>\n",
              "      <td>elec002</td>\n",
              "      <td>Smartphone A55 - هاتف</td>\n",
              "      <td>electronics</td>\n",
              "    </tr>\n",
              "    <tr>\n",
              "      <th>2</th>\n",
              "      <td>home101</td>\n",
              "      <td>Electric Kettle - غلاية</td>\n",
              "      <td>home</td>\n",
              "    </tr>\n",
              "    <tr>\n",
              "      <th>3</th>\n",
              "      <td>groc501</td>\n",
              "      <td>Organic زيت زيتون 1L</td>\n",
              "      <td>grocery</td>\n",
              "    </tr>\n",
              "    <tr>\n",
              "      <th>4</th>\n",
              "      <td>fash210</td>\n",
              "      <td>Men T-Shirt - تيشيرت</td>\n",
              "      <td>fashion</td>\n",
              "    </tr>\n",
              "    <tr>\n",
              "      <th>5</th>\n",
              "      <td>sprt301</td>\n",
              "      <td>FOOTBALL - كرة قدم</td>\n",
              "      <td>sports</td>\n",
              "    </tr>\n",
              "    <tr>\n",
              "      <th>6</th>\n",
              "      <td>book900</td>\n",
              "      <td>Data Warehousing 101</td>\n",
              "      <td>books</td>\n",
              "    </tr>\n",
              "    <tr>\n",
              "      <th>7</th>\n",
              "      <td>elec003</td>\n",
              "      <td>BLUETOOTH سماعة</td>\n",
              "      <td>electronics</td>\n",
              "    </tr>\n",
              "    <tr>\n",
              "      <th>8</th>\n",
              "      <td>home102</td>\n",
              "      <td>Air Fryer 4L - قلاية</td>\n",
              "      <td>home</td>\n",
              "    </tr>\n",
              "    <tr>\n",
              "      <th>9</th>\n",
              "      <td>toy777</td>\n",
              "      <td>PUZZLE 1000PCS - أحجية</td>\n",
              "      <td>toys</td>\n",
              "    </tr>\n",
              "  </tbody>\n",
              "</table>\n",
              "</div>\n",
              "    <div class=\"colab-df-buttons\">\n",
              "\n",
              "  <div class=\"colab-df-container\">\n",
              "    <button class=\"colab-df-convert\" onclick=\"convertToInteractive('df-c4a81f74-d3b9-430a-829b-e4358fcbab01')\"\n",
              "            title=\"Convert this dataframe to an interactive table.\"\n",
              "            style=\"display:none;\">\n",
              "\n",
              "  <svg xmlns=\"http://www.w3.org/2000/svg\" height=\"24px\" viewBox=\"0 -960 960 960\">\n",
              "    <path d=\"M120-120v-720h720v720H120Zm60-500h600v-160H180v160Zm220 220h160v-160H400v160Zm0 220h160v-160H400v160ZM180-400h160v-160H180v160Zm440 0h160v-160H620v160ZM180-180h160v-160H180v160Zm440 0h160v-160H620v160Z\"/>\n",
              "  </svg>\n",
              "    </button>\n",
              "\n",
              "  <style>\n",
              "    .colab-df-container {\n",
              "      display:flex;\n",
              "      gap: 12px;\n",
              "    }\n",
              "\n",
              "    .colab-df-convert {\n",
              "      background-color: #E8F0FE;\n",
              "      border: none;\n",
              "      border-radius: 50%;\n",
              "      cursor: pointer;\n",
              "      display: none;\n",
              "      fill: #1967D2;\n",
              "      height: 32px;\n",
              "      padding: 0 0 0 0;\n",
              "      width: 32px;\n",
              "    }\n",
              "\n",
              "    .colab-df-convert:hover {\n",
              "      background-color: #E2EBFA;\n",
              "      box-shadow: 0px 1px 2px rgba(60, 64, 67, 0.3), 0px 1px 3px 1px rgba(60, 64, 67, 0.15);\n",
              "      fill: #174EA6;\n",
              "    }\n",
              "\n",
              "    .colab-df-buttons div {\n",
              "      margin-bottom: 4px;\n",
              "    }\n",
              "\n",
              "    [theme=dark] .colab-df-convert {\n",
              "      background-color: #3B4455;\n",
              "      fill: #D2E3FC;\n",
              "    }\n",
              "\n",
              "    [theme=dark] .colab-df-convert:hover {\n",
              "      background-color: #434B5C;\n",
              "      box-shadow: 0px 1px 3px 1px rgba(0, 0, 0, 0.15);\n",
              "      filter: drop-shadow(0px 1px 2px rgba(0, 0, 0, 0.3));\n",
              "      fill: #FFFFFF;\n",
              "    }\n",
              "  </style>\n",
              "\n",
              "    <script>\n",
              "      const buttonEl =\n",
              "        document.querySelector('#df-c4a81f74-d3b9-430a-829b-e4358fcbab01 button.colab-df-convert');\n",
              "      buttonEl.style.display =\n",
              "        google.colab.kernel.accessAllowed ? 'block' : 'none';\n",
              "\n",
              "      async function convertToInteractive(key) {\n",
              "        const element = document.querySelector('#df-c4a81f74-d3b9-430a-829b-e4358fcbab01');\n",
              "        const dataTable =\n",
              "          await google.colab.kernel.invokeFunction('convertToInteractive',\n",
              "                                                    [key], {});\n",
              "        if (!dataTable) return;\n",
              "\n",
              "        const docLinkHtml = 'Like what you see? Visit the ' +\n",
              "          '<a target=\"_blank\" href=https://colab.research.google.com/notebooks/data_table.ipynb>data table notebook</a>'\n",
              "          + ' to learn more about interactive tables.';\n",
              "        element.innerHTML = '';\n",
              "        dataTable['output_type'] = 'display_data';\n",
              "        await google.colab.output.renderOutput(dataTable, element);\n",
              "        const docLink = document.createElement('div');\n",
              "        docLink.innerHTML = docLinkHtml;\n",
              "        element.appendChild(docLink);\n",
              "      }\n",
              "    </script>\n",
              "  </div>\n",
              "\n",
              "\n",
              "    <div id=\"df-31aa4870-59b0-441d-82a0-5e2b46c88068\">\n",
              "      <button class=\"colab-df-quickchart\" onclick=\"quickchart('df-31aa4870-59b0-441d-82a0-5e2b46c88068')\"\n",
              "                title=\"Suggest charts\"\n",
              "                style=\"display:none;\">\n",
              "\n",
              "<svg xmlns=\"http://www.w3.org/2000/svg\" height=\"24px\"viewBox=\"0 0 24 24\"\n",
              "     width=\"24px\">\n",
              "    <g>\n",
              "        <path d=\"M19 3H5c-1.1 0-2 .9-2 2v14c0 1.1.9 2 2 2h14c1.1 0 2-.9 2-2V5c0-1.1-.9-2-2-2zM9 17H7v-7h2v7zm4 0h-2V7h2v10zm4 0h-2v-4h2v4z\"/>\n",
              "    </g>\n",
              "</svg>\n",
              "      </button>\n",
              "\n",
              "<style>\n",
              "  .colab-df-quickchart {\n",
              "      --bg-color: #E8F0FE;\n",
              "      --fill-color: #1967D2;\n",
              "      --hover-bg-color: #E2EBFA;\n",
              "      --hover-fill-color: #174EA6;\n",
              "      --disabled-fill-color: #AAA;\n",
              "      --disabled-bg-color: #DDD;\n",
              "  }\n",
              "\n",
              "  [theme=dark] .colab-df-quickchart {\n",
              "      --bg-color: #3B4455;\n",
              "      --fill-color: #D2E3FC;\n",
              "      --hover-bg-color: #434B5C;\n",
              "      --hover-fill-color: #FFFFFF;\n",
              "      --disabled-bg-color: #3B4455;\n",
              "      --disabled-fill-color: #666;\n",
              "  }\n",
              "\n",
              "  .colab-df-quickchart {\n",
              "    background-color: var(--bg-color);\n",
              "    border: none;\n",
              "    border-radius: 50%;\n",
              "    cursor: pointer;\n",
              "    display: none;\n",
              "    fill: var(--fill-color);\n",
              "    height: 32px;\n",
              "    padding: 0;\n",
              "    width: 32px;\n",
              "  }\n",
              "\n",
              "  .colab-df-quickchart:hover {\n",
              "    background-color: var(--hover-bg-color);\n",
              "    box-shadow: 0 1px 2px rgba(60, 64, 67, 0.3), 0 1px 3px 1px rgba(60, 64, 67, 0.15);\n",
              "    fill: var(--button-hover-fill-color);\n",
              "  }\n",
              "\n",
              "  .colab-df-quickchart-complete:disabled,\n",
              "  .colab-df-quickchart-complete:disabled:hover {\n",
              "    background-color: var(--disabled-bg-color);\n",
              "    fill: var(--disabled-fill-color);\n",
              "    box-shadow: none;\n",
              "  }\n",
              "\n",
              "  .colab-df-spinner {\n",
              "    border: 2px solid var(--fill-color);\n",
              "    border-color: transparent;\n",
              "    border-bottom-color: var(--fill-color);\n",
              "    animation:\n",
              "      spin 1s steps(1) infinite;\n",
              "  }\n",
              "\n",
              "  @keyframes spin {\n",
              "    0% {\n",
              "      border-color: transparent;\n",
              "      border-bottom-color: var(--fill-color);\n",
              "      border-left-color: var(--fill-color);\n",
              "    }\n",
              "    20% {\n",
              "      border-color: transparent;\n",
              "      border-left-color: var(--fill-color);\n",
              "      border-top-color: var(--fill-color);\n",
              "    }\n",
              "    30% {\n",
              "      border-color: transparent;\n",
              "      border-left-color: var(--fill-color);\n",
              "      border-top-color: var(--fill-color);\n",
              "      border-right-color: var(--fill-color);\n",
              "    }\n",
              "    40% {\n",
              "      border-color: transparent;\n",
              "      border-right-color: var(--fill-color);\n",
              "      border-top-color: var(--fill-color);\n",
              "    }\n",
              "    60% {\n",
              "      border-color: transparent;\n",
              "      border-right-color: var(--fill-color);\n",
              "    }\n",
              "    80% {\n",
              "      border-color: transparent;\n",
              "      border-right-color: var(--fill-color);\n",
              "      border-bottom-color: var(--fill-color);\n",
              "    }\n",
              "    90% {\n",
              "      border-color: transparent;\n",
              "      border-bottom-color: var(--fill-color);\n",
              "    }\n",
              "  }\n",
              "</style>\n",
              "\n",
              "      <script>\n",
              "        async function quickchart(key) {\n",
              "          const quickchartButtonEl =\n",
              "            document.querySelector('#' + key + ' button');\n",
              "          quickchartButtonEl.disabled = true;  // To prevent multiple clicks.\n",
              "          quickchartButtonEl.classList.add('colab-df-spinner');\n",
              "          try {\n",
              "            const charts = await google.colab.kernel.invokeFunction(\n",
              "                'suggestCharts', [key], {});\n",
              "          } catch (error) {\n",
              "            console.error('Error during call to suggestCharts:', error);\n",
              "          }\n",
              "          quickchartButtonEl.classList.remove('colab-df-spinner');\n",
              "          quickchartButtonEl.classList.add('colab-df-quickchart-complete');\n",
              "        }\n",
              "        (() => {\n",
              "          let quickchartButtonEl =\n",
              "            document.querySelector('#df-31aa4870-59b0-441d-82a0-5e2b46c88068 button');\n",
              "          quickchartButtonEl.style.display =\n",
              "            google.colab.kernel.accessAllowed ? 'block' : 'none';\n",
              "        })();\n",
              "      </script>\n",
              "    </div>\n",
              "\n",
              "  <div id=\"id_77bd9df5-08d7-432a-935f-4ea00389e14b\">\n",
              "    <style>\n",
              "      .colab-df-generate {\n",
              "        background-color: #E8F0FE;\n",
              "        border: none;\n",
              "        border-radius: 50%;\n",
              "        cursor: pointer;\n",
              "        display: none;\n",
              "        fill: #1967D2;\n",
              "        height: 32px;\n",
              "        padding: 0 0 0 0;\n",
              "        width: 32px;\n",
              "      }\n",
              "\n",
              "      .colab-df-generate:hover {\n",
              "        background-color: #E2EBFA;\n",
              "        box-shadow: 0px 1px 2px rgba(60, 64, 67, 0.3), 0px 1px 3px 1px rgba(60, 64, 67, 0.15);\n",
              "        fill: #174EA6;\n",
              "      }\n",
              "\n",
              "      [theme=dark] .colab-df-generate {\n",
              "        background-color: #3B4455;\n",
              "        fill: #D2E3FC;\n",
              "      }\n",
              "\n",
              "      [theme=dark] .colab-df-generate:hover {\n",
              "        background-color: #434B5C;\n",
              "        box-shadow: 0px 1px 3px 1px rgba(0, 0, 0, 0.15);\n",
              "        filter: drop-shadow(0px 1px 2px rgba(0, 0, 0, 0.3));\n",
              "        fill: #FFFFFF;\n",
              "      }\n",
              "    </style>\n",
              "    <button class=\"colab-df-generate\" onclick=\"generateWithVariable('ProductDf')\"\n",
              "            title=\"Generate code using this dataframe.\"\n",
              "            style=\"display:none;\">\n",
              "\n",
              "  <svg xmlns=\"http://www.w3.org/2000/svg\" height=\"24px\"viewBox=\"0 0 24 24\"\n",
              "       width=\"24px\">\n",
              "    <path d=\"M7,19H8.4L18.45,9,17,7.55,7,17.6ZM5,21V16.75L18.45,3.32a2,2,0,0,1,2.83,0l1.4,1.43a1.91,1.91,0,0,1,.58,1.4,1.91,1.91,0,0,1-.58,1.4L9.25,21ZM18.45,9,17,7.55Zm-12,3A5.31,5.31,0,0,0,4.9,8.1,5.31,5.31,0,0,0,1,6.5,5.31,5.31,0,0,0,4.9,4.9,5.31,5.31,0,0,0,6.5,1,5.31,5.31,0,0,0,8.1,4.9,5.31,5.31,0,0,0,12,6.5,5.46,5.46,0,0,0,6.5,12Z\"/>\n",
              "  </svg>\n",
              "    </button>\n",
              "    <script>\n",
              "      (() => {\n",
              "      const buttonEl =\n",
              "        document.querySelector('#id_77bd9df5-08d7-432a-935f-4ea00389e14b button.colab-df-generate');\n",
              "      buttonEl.style.display =\n",
              "        google.colab.kernel.accessAllowed ? 'block' : 'none';\n",
              "\n",
              "      buttonEl.onclick = () => {\n",
              "        google.colab.notebook.generateWithVariable('ProductDf');\n",
              "      }\n",
              "      })();\n",
              "    </script>\n",
              "  </div>\n",
              "\n",
              "    </div>\n",
              "  </div>\n"
            ],
            "application/vnd.google.colaboratory.intrinsic+json": {
              "type": "dataframe",
              "variable_name": "ProductDf",
              "summary": "{\n  \"name\": \"ProductDf\",\n  \"rows\": 10,\n  \"fields\": [\n    {\n      \"column\": \"SKU\",\n      \"properties\": {\n        \"dtype\": \"string\",\n        \"num_unique_values\": 10,\n        \"samples\": [\n          \"home102\",\n          \"elec002\",\n          \"sprt301\"\n        ],\n        \"semantic_type\": \"\",\n        \"description\": \"\"\n      }\n    },\n    {\n      \"column\": \"ProductName\",\n      \"properties\": {\n        \"dtype\": \"string\",\n        \"num_unique_values\": 10,\n        \"samples\": [\n          \"Air Fryer 4L - \\u0642\\u0644\\u0627\\u064a\\u0629\",\n          \"Smartphone A55 - \\u0647\\u0627\\u062a\\u0641\",\n          \"FOOTBALL - \\u0643\\u0631\\u0629 \\u0642\\u062f\\u0645\"\n        ],\n        \"semantic_type\": \"\",\n        \"description\": \"\"\n      }\n    },\n    {\n      \"column\": \"Category\",\n      \"properties\": {\n        \"dtype\": \"string\",\n        \"num_unique_values\": 7,\n        \"samples\": [\n          \"electronics\",\n          \"home\",\n          \"books\"\n        ],\n        \"semantic_type\": \"\",\n        \"description\": \"\"\n      }\n    }\n  ]\n}"
            }
          },
          "metadata": {},
          "execution_count": 39
        }
      ]
    },
    {
      "cell_type": "code",
      "source": [
        "CustomersDf = CustomersDf.drop_duplicates(subset=['CustomerID'], keep='first').reset_index(drop=True)"
      ],
      "metadata": {
        "id": "snTWZS7wJSh8"
      },
      "execution_count": null,
      "outputs": []
    },
    {
      "cell_type": "code",
      "source": [
        "GovDf"
      ],
      "metadata": {
        "colab": {
          "base_uri": "https://localhost:8080/",
          "height": 1000
        },
        "id": "DEyTP1Q0JZF1",
        "outputId": "a9119c37-12c4-4a12-8ab6-e65eced4c0e7"
      },
      "execution_count": null,
      "outputs": [
        {
          "output_type": "execute_result",
          "data": {
            "text/plain": [
              "        GovName       AltName    Latitude  Longitude\n",
              "0         Cairo       القاهرة   31.203068  30.006956\n",
              "1         Cairo       القاهرة   31.235700  30.044400\n",
              "2         Cairo       القاهرة   31.257867  30.025546\n",
              "3          Giza        الجيزة   30.013100  31.208900\n",
              "4          Giza        الجيزة   31.208900  30.013100\n",
              "5          Giza        الجيزة   31.208900  30.013100\n",
              "6    Alexandria    الإسكندرية   29.906472  31.186058\n",
              "7    Alexandria    الإسكندرية   29.912043  31.211039\n",
              "8    Alexandria    الإسكندرية         NaN        NaN\n",
              "9         Asyut         أسيوط   31.225853  27.205886\n",
              "10        Asyut         أسيوط   27.180000  31.183700\n",
              "11        Asyut         أسيوط   31.162023  27.160585\n",
              "12        Aswan         أسوان   32.921286  24.072223\n",
              "13        Aswan         أسوان   32.935966  24.039318\n",
              "14        Aswan         أسوان   32.889265  24.080482\n",
              "15     Qalyubia     القليوبية   31.288831  30.434105\n",
              "16     Qalyubia     القليوبية   31.323213  30.382448\n",
              "17     Qalyubia     القليوبية   31.307127  30.465710\n",
              "18      Sharqia       الشرقية   31.700818  30.745498\n",
              "19      Sharqia       الشرقية   31.688679  30.724404\n",
              "20      Sharqia       الشرقية   31.734656  30.718141\n",
              "21     Dakahlia      الدقهلية   31.389044  31.005688\n",
              "22     Dakahlia      الدقهلية   31.378500  31.040900\n",
              "23     Dakahlia      الدقهلية   31.405597  30.992134\n",
              "24      Gharbia       الغربية   31.140935  30.916015\n",
              "25      Gharbia       الغربية   30.868600  31.182900\n",
              "26      Gharbia       الغربية   31.186220  30.868665\n",
              "27        Luxor        الأقصر  108.931614  88.035470\n",
              "28        Luxor        الأقصر   32.624039  25.714869\n",
              "29        Luxor        الأقصر   32.629397  25.730202\n",
              "30      Red Sea  البحر الأحمر   33.761758  27.289539\n",
              "31      Red Sea  البحر الأحمر   33.790434  27.249584\n",
              "32      Red Sea  البحر الأحمر   27.257900  33.811600\n",
              "33  South Sinai    جنوب سيناء   28.542600  33.975000\n",
              "34  South Sinai    جنوب سيناء   33.981709  28.503624\n",
              "35  South Sinai    جنوب سيناء   33.975000  28.542600"
            ],
            "text/html": [
              "\n",
              "  <div id=\"df-3c52a3ec-c8de-4529-9af6-c929fc5d28d1\" class=\"colab-df-container\">\n",
              "    <div>\n",
              "<style scoped>\n",
              "    .dataframe tbody tr th:only-of-type {\n",
              "        vertical-align: middle;\n",
              "    }\n",
              "\n",
              "    .dataframe tbody tr th {\n",
              "        vertical-align: top;\n",
              "    }\n",
              "\n",
              "    .dataframe thead th {\n",
              "        text-align: right;\n",
              "    }\n",
              "</style>\n",
              "<table border=\"1\" class=\"dataframe\">\n",
              "  <thead>\n",
              "    <tr style=\"text-align: right;\">\n",
              "      <th></th>\n",
              "      <th>GovName</th>\n",
              "      <th>AltName</th>\n",
              "      <th>Latitude</th>\n",
              "      <th>Longitude</th>\n",
              "    </tr>\n",
              "  </thead>\n",
              "  <tbody>\n",
              "    <tr>\n",
              "      <th>0</th>\n",
              "      <td>Cairo</td>\n",
              "      <td>القاهرة</td>\n",
              "      <td>31.203068</td>\n",
              "      <td>30.006956</td>\n",
              "    </tr>\n",
              "    <tr>\n",
              "      <th>1</th>\n",
              "      <td>Cairo</td>\n",
              "      <td>القاهرة</td>\n",
              "      <td>31.235700</td>\n",
              "      <td>30.044400</td>\n",
              "    </tr>\n",
              "    <tr>\n",
              "      <th>2</th>\n",
              "      <td>Cairo</td>\n",
              "      <td>القاهرة</td>\n",
              "      <td>31.257867</td>\n",
              "      <td>30.025546</td>\n",
              "    </tr>\n",
              "    <tr>\n",
              "      <th>3</th>\n",
              "      <td>Giza</td>\n",
              "      <td>الجيزة</td>\n",
              "      <td>30.013100</td>\n",
              "      <td>31.208900</td>\n",
              "    </tr>\n",
              "    <tr>\n",
              "      <th>4</th>\n",
              "      <td>Giza</td>\n",
              "      <td>الجيزة</td>\n",
              "      <td>31.208900</td>\n",
              "      <td>30.013100</td>\n",
              "    </tr>\n",
              "    <tr>\n",
              "      <th>5</th>\n",
              "      <td>Giza</td>\n",
              "      <td>الجيزة</td>\n",
              "      <td>31.208900</td>\n",
              "      <td>30.013100</td>\n",
              "    </tr>\n",
              "    <tr>\n",
              "      <th>6</th>\n",
              "      <td>Alexandria</td>\n",
              "      <td>الإسكندرية</td>\n",
              "      <td>29.906472</td>\n",
              "      <td>31.186058</td>\n",
              "    </tr>\n",
              "    <tr>\n",
              "      <th>7</th>\n",
              "      <td>Alexandria</td>\n",
              "      <td>الإسكندرية</td>\n",
              "      <td>29.912043</td>\n",
              "      <td>31.211039</td>\n",
              "    </tr>\n",
              "    <tr>\n",
              "      <th>8</th>\n",
              "      <td>Alexandria</td>\n",
              "      <td>الإسكندرية</td>\n",
              "      <td>NaN</td>\n",
              "      <td>NaN</td>\n",
              "    </tr>\n",
              "    <tr>\n",
              "      <th>9</th>\n",
              "      <td>Asyut</td>\n",
              "      <td>أسيوط</td>\n",
              "      <td>31.225853</td>\n",
              "      <td>27.205886</td>\n",
              "    </tr>\n",
              "    <tr>\n",
              "      <th>10</th>\n",
              "      <td>Asyut</td>\n",
              "      <td>أسيوط</td>\n",
              "      <td>27.180000</td>\n",
              "      <td>31.183700</td>\n",
              "    </tr>\n",
              "    <tr>\n",
              "      <th>11</th>\n",
              "      <td>Asyut</td>\n",
              "      <td>أسيوط</td>\n",
              "      <td>31.162023</td>\n",
              "      <td>27.160585</td>\n",
              "    </tr>\n",
              "    <tr>\n",
              "      <th>12</th>\n",
              "      <td>Aswan</td>\n",
              "      <td>أسوان</td>\n",
              "      <td>32.921286</td>\n",
              "      <td>24.072223</td>\n",
              "    </tr>\n",
              "    <tr>\n",
              "      <th>13</th>\n",
              "      <td>Aswan</td>\n",
              "      <td>أسوان</td>\n",
              "      <td>32.935966</td>\n",
              "      <td>24.039318</td>\n",
              "    </tr>\n",
              "    <tr>\n",
              "      <th>14</th>\n",
              "      <td>Aswan</td>\n",
              "      <td>أسوان</td>\n",
              "      <td>32.889265</td>\n",
              "      <td>24.080482</td>\n",
              "    </tr>\n",
              "    <tr>\n",
              "      <th>15</th>\n",
              "      <td>Qalyubia</td>\n",
              "      <td>القليوبية</td>\n",
              "      <td>31.288831</td>\n",
              "      <td>30.434105</td>\n",
              "    </tr>\n",
              "    <tr>\n",
              "      <th>16</th>\n",
              "      <td>Qalyubia</td>\n",
              "      <td>القليوبية</td>\n",
              "      <td>31.323213</td>\n",
              "      <td>30.382448</td>\n",
              "    </tr>\n",
              "    <tr>\n",
              "      <th>17</th>\n",
              "      <td>Qalyubia</td>\n",
              "      <td>القليوبية</td>\n",
              "      <td>31.307127</td>\n",
              "      <td>30.465710</td>\n",
              "    </tr>\n",
              "    <tr>\n",
              "      <th>18</th>\n",
              "      <td>Sharqia</td>\n",
              "      <td>الشرقية</td>\n",
              "      <td>31.700818</td>\n",
              "      <td>30.745498</td>\n",
              "    </tr>\n",
              "    <tr>\n",
              "      <th>19</th>\n",
              "      <td>Sharqia</td>\n",
              "      <td>الشرقية</td>\n",
              "      <td>31.688679</td>\n",
              "      <td>30.724404</td>\n",
              "    </tr>\n",
              "    <tr>\n",
              "      <th>20</th>\n",
              "      <td>Sharqia</td>\n",
              "      <td>الشرقية</td>\n",
              "      <td>31.734656</td>\n",
              "      <td>30.718141</td>\n",
              "    </tr>\n",
              "    <tr>\n",
              "      <th>21</th>\n",
              "      <td>Dakahlia</td>\n",
              "      <td>الدقهلية</td>\n",
              "      <td>31.389044</td>\n",
              "      <td>31.005688</td>\n",
              "    </tr>\n",
              "    <tr>\n",
              "      <th>22</th>\n",
              "      <td>Dakahlia</td>\n",
              "      <td>الدقهلية</td>\n",
              "      <td>31.378500</td>\n",
              "      <td>31.040900</td>\n",
              "    </tr>\n",
              "    <tr>\n",
              "      <th>23</th>\n",
              "      <td>Dakahlia</td>\n",
              "      <td>الدقهلية</td>\n",
              "      <td>31.405597</td>\n",
              "      <td>30.992134</td>\n",
              "    </tr>\n",
              "    <tr>\n",
              "      <th>24</th>\n",
              "      <td>Gharbia</td>\n",
              "      <td>الغربية</td>\n",
              "      <td>31.140935</td>\n",
              "      <td>30.916015</td>\n",
              "    </tr>\n",
              "    <tr>\n",
              "      <th>25</th>\n",
              "      <td>Gharbia</td>\n",
              "      <td>الغربية</td>\n",
              "      <td>30.868600</td>\n",
              "      <td>31.182900</td>\n",
              "    </tr>\n",
              "    <tr>\n",
              "      <th>26</th>\n",
              "      <td>Gharbia</td>\n",
              "      <td>الغربية</td>\n",
              "      <td>31.186220</td>\n",
              "      <td>30.868665</td>\n",
              "    </tr>\n",
              "    <tr>\n",
              "      <th>27</th>\n",
              "      <td>Luxor</td>\n",
              "      <td>الأقصر</td>\n",
              "      <td>108.931614</td>\n",
              "      <td>88.035470</td>\n",
              "    </tr>\n",
              "    <tr>\n",
              "      <th>28</th>\n",
              "      <td>Luxor</td>\n",
              "      <td>الأقصر</td>\n",
              "      <td>32.624039</td>\n",
              "      <td>25.714869</td>\n",
              "    </tr>\n",
              "    <tr>\n",
              "      <th>29</th>\n",
              "      <td>Luxor</td>\n",
              "      <td>الأقصر</td>\n",
              "      <td>32.629397</td>\n",
              "      <td>25.730202</td>\n",
              "    </tr>\n",
              "    <tr>\n",
              "      <th>30</th>\n",
              "      <td>Red Sea</td>\n",
              "      <td>البحر الأحمر</td>\n",
              "      <td>33.761758</td>\n",
              "      <td>27.289539</td>\n",
              "    </tr>\n",
              "    <tr>\n",
              "      <th>31</th>\n",
              "      <td>Red Sea</td>\n",
              "      <td>البحر الأحمر</td>\n",
              "      <td>33.790434</td>\n",
              "      <td>27.249584</td>\n",
              "    </tr>\n",
              "    <tr>\n",
              "      <th>32</th>\n",
              "      <td>Red Sea</td>\n",
              "      <td>البحر الأحمر</td>\n",
              "      <td>27.257900</td>\n",
              "      <td>33.811600</td>\n",
              "    </tr>\n",
              "    <tr>\n",
              "      <th>33</th>\n",
              "      <td>South Sinai</td>\n",
              "      <td>جنوب سيناء</td>\n",
              "      <td>28.542600</td>\n",
              "      <td>33.975000</td>\n",
              "    </tr>\n",
              "    <tr>\n",
              "      <th>34</th>\n",
              "      <td>South Sinai</td>\n",
              "      <td>جنوب سيناء</td>\n",
              "      <td>33.981709</td>\n",
              "      <td>28.503624</td>\n",
              "    </tr>\n",
              "    <tr>\n",
              "      <th>35</th>\n",
              "      <td>South Sinai</td>\n",
              "      <td>جنوب سيناء</td>\n",
              "      <td>33.975000</td>\n",
              "      <td>28.542600</td>\n",
              "    </tr>\n",
              "  </tbody>\n",
              "</table>\n",
              "</div>\n",
              "    <div class=\"colab-df-buttons\">\n",
              "\n",
              "  <div class=\"colab-df-container\">\n",
              "    <button class=\"colab-df-convert\" onclick=\"convertToInteractive('df-3c52a3ec-c8de-4529-9af6-c929fc5d28d1')\"\n",
              "            title=\"Convert this dataframe to an interactive table.\"\n",
              "            style=\"display:none;\">\n",
              "\n",
              "  <svg xmlns=\"http://www.w3.org/2000/svg\" height=\"24px\" viewBox=\"0 -960 960 960\">\n",
              "    <path d=\"M120-120v-720h720v720H120Zm60-500h600v-160H180v160Zm220 220h160v-160H400v160Zm0 220h160v-160H400v160ZM180-400h160v-160H180v160Zm440 0h160v-160H620v160ZM180-180h160v-160H180v160Zm440 0h160v-160H620v160Z\"/>\n",
              "  </svg>\n",
              "    </button>\n",
              "\n",
              "  <style>\n",
              "    .colab-df-container {\n",
              "      display:flex;\n",
              "      gap: 12px;\n",
              "    }\n",
              "\n",
              "    .colab-df-convert {\n",
              "      background-color: #E8F0FE;\n",
              "      border: none;\n",
              "      border-radius: 50%;\n",
              "      cursor: pointer;\n",
              "      display: none;\n",
              "      fill: #1967D2;\n",
              "      height: 32px;\n",
              "      padding: 0 0 0 0;\n",
              "      width: 32px;\n",
              "    }\n",
              "\n",
              "    .colab-df-convert:hover {\n",
              "      background-color: #E2EBFA;\n",
              "      box-shadow: 0px 1px 2px rgba(60, 64, 67, 0.3), 0px 1px 3px 1px rgba(60, 64, 67, 0.15);\n",
              "      fill: #174EA6;\n",
              "    }\n",
              "\n",
              "    .colab-df-buttons div {\n",
              "      margin-bottom: 4px;\n",
              "    }\n",
              "\n",
              "    [theme=dark] .colab-df-convert {\n",
              "      background-color: #3B4455;\n",
              "      fill: #D2E3FC;\n",
              "    }\n",
              "\n",
              "    [theme=dark] .colab-df-convert:hover {\n",
              "      background-color: #434B5C;\n",
              "      box-shadow: 0px 1px 3px 1px rgba(0, 0, 0, 0.15);\n",
              "      filter: drop-shadow(0px 1px 2px rgba(0, 0, 0, 0.3));\n",
              "      fill: #FFFFFF;\n",
              "    }\n",
              "  </style>\n",
              "\n",
              "    <script>\n",
              "      const buttonEl =\n",
              "        document.querySelector('#df-3c52a3ec-c8de-4529-9af6-c929fc5d28d1 button.colab-df-convert');\n",
              "      buttonEl.style.display =\n",
              "        google.colab.kernel.accessAllowed ? 'block' : 'none';\n",
              "\n",
              "      async function convertToInteractive(key) {\n",
              "        const element = document.querySelector('#df-3c52a3ec-c8de-4529-9af6-c929fc5d28d1');\n",
              "        const dataTable =\n",
              "          await google.colab.kernel.invokeFunction('convertToInteractive',\n",
              "                                                    [key], {});\n",
              "        if (!dataTable) return;\n",
              "\n",
              "        const docLinkHtml = 'Like what you see? Visit the ' +\n",
              "          '<a target=\"_blank\" href=https://colab.research.google.com/notebooks/data_table.ipynb>data table notebook</a>'\n",
              "          + ' to learn more about interactive tables.';\n",
              "        element.innerHTML = '';\n",
              "        dataTable['output_type'] = 'display_data';\n",
              "        await google.colab.output.renderOutput(dataTable, element);\n",
              "        const docLink = document.createElement('div');\n",
              "        docLink.innerHTML = docLinkHtml;\n",
              "        element.appendChild(docLink);\n",
              "      }\n",
              "    </script>\n",
              "  </div>\n",
              "\n",
              "\n",
              "    <div id=\"df-3081526f-1103-4c0f-8959-f8e1847aef29\">\n",
              "      <button class=\"colab-df-quickchart\" onclick=\"quickchart('df-3081526f-1103-4c0f-8959-f8e1847aef29')\"\n",
              "                title=\"Suggest charts\"\n",
              "                style=\"display:none;\">\n",
              "\n",
              "<svg xmlns=\"http://www.w3.org/2000/svg\" height=\"24px\"viewBox=\"0 0 24 24\"\n",
              "     width=\"24px\">\n",
              "    <g>\n",
              "        <path d=\"M19 3H5c-1.1 0-2 .9-2 2v14c0 1.1.9 2 2 2h14c1.1 0 2-.9 2-2V5c0-1.1-.9-2-2-2zM9 17H7v-7h2v7zm4 0h-2V7h2v10zm4 0h-2v-4h2v4z\"/>\n",
              "    </g>\n",
              "</svg>\n",
              "      </button>\n",
              "\n",
              "<style>\n",
              "  .colab-df-quickchart {\n",
              "      --bg-color: #E8F0FE;\n",
              "      --fill-color: #1967D2;\n",
              "      --hover-bg-color: #E2EBFA;\n",
              "      --hover-fill-color: #174EA6;\n",
              "      --disabled-fill-color: #AAA;\n",
              "      --disabled-bg-color: #DDD;\n",
              "  }\n",
              "\n",
              "  [theme=dark] .colab-df-quickchart {\n",
              "      --bg-color: #3B4455;\n",
              "      --fill-color: #D2E3FC;\n",
              "      --hover-bg-color: #434B5C;\n",
              "      --hover-fill-color: #FFFFFF;\n",
              "      --disabled-bg-color: #3B4455;\n",
              "      --disabled-fill-color: #666;\n",
              "  }\n",
              "\n",
              "  .colab-df-quickchart {\n",
              "    background-color: var(--bg-color);\n",
              "    border: none;\n",
              "    border-radius: 50%;\n",
              "    cursor: pointer;\n",
              "    display: none;\n",
              "    fill: var(--fill-color);\n",
              "    height: 32px;\n",
              "    padding: 0;\n",
              "    width: 32px;\n",
              "  }\n",
              "\n",
              "  .colab-df-quickchart:hover {\n",
              "    background-color: var(--hover-bg-color);\n",
              "    box-shadow: 0 1px 2px rgba(60, 64, 67, 0.3), 0 1px 3px 1px rgba(60, 64, 67, 0.15);\n",
              "    fill: var(--button-hover-fill-color);\n",
              "  }\n",
              "\n",
              "  .colab-df-quickchart-complete:disabled,\n",
              "  .colab-df-quickchart-complete:disabled:hover {\n",
              "    background-color: var(--disabled-bg-color);\n",
              "    fill: var(--disabled-fill-color);\n",
              "    box-shadow: none;\n",
              "  }\n",
              "\n",
              "  .colab-df-spinner {\n",
              "    border: 2px solid var(--fill-color);\n",
              "    border-color: transparent;\n",
              "    border-bottom-color: var(--fill-color);\n",
              "    animation:\n",
              "      spin 1s steps(1) infinite;\n",
              "  }\n",
              "\n",
              "  @keyframes spin {\n",
              "    0% {\n",
              "      border-color: transparent;\n",
              "      border-bottom-color: var(--fill-color);\n",
              "      border-left-color: var(--fill-color);\n",
              "    }\n",
              "    20% {\n",
              "      border-color: transparent;\n",
              "      border-left-color: var(--fill-color);\n",
              "      border-top-color: var(--fill-color);\n",
              "    }\n",
              "    30% {\n",
              "      border-color: transparent;\n",
              "      border-left-color: var(--fill-color);\n",
              "      border-top-color: var(--fill-color);\n",
              "      border-right-color: var(--fill-color);\n",
              "    }\n",
              "    40% {\n",
              "      border-color: transparent;\n",
              "      border-right-color: var(--fill-color);\n",
              "      border-top-color: var(--fill-color);\n",
              "    }\n",
              "    60% {\n",
              "      border-color: transparent;\n",
              "      border-right-color: var(--fill-color);\n",
              "    }\n",
              "    80% {\n",
              "      border-color: transparent;\n",
              "      border-right-color: var(--fill-color);\n",
              "      border-bottom-color: var(--fill-color);\n",
              "    }\n",
              "    90% {\n",
              "      border-color: transparent;\n",
              "      border-bottom-color: var(--fill-color);\n",
              "    }\n",
              "  }\n",
              "</style>\n",
              "\n",
              "      <script>\n",
              "        async function quickchart(key) {\n",
              "          const quickchartButtonEl =\n",
              "            document.querySelector('#' + key + ' button');\n",
              "          quickchartButtonEl.disabled = true;  // To prevent multiple clicks.\n",
              "          quickchartButtonEl.classList.add('colab-df-spinner');\n",
              "          try {\n",
              "            const charts = await google.colab.kernel.invokeFunction(\n",
              "                'suggestCharts', [key], {});\n",
              "          } catch (error) {\n",
              "            console.error('Error during call to suggestCharts:', error);\n",
              "          }\n",
              "          quickchartButtonEl.classList.remove('colab-df-spinner');\n",
              "          quickchartButtonEl.classList.add('colab-df-quickchart-complete');\n",
              "        }\n",
              "        (() => {\n",
              "          let quickchartButtonEl =\n",
              "            document.querySelector('#df-3081526f-1103-4c0f-8959-f8e1847aef29 button');\n",
              "          quickchartButtonEl.style.display =\n",
              "            google.colab.kernel.accessAllowed ? 'block' : 'none';\n",
              "        })();\n",
              "      </script>\n",
              "    </div>\n",
              "\n",
              "  <div id=\"id_afed5f66-c160-4c8d-83c3-be1ed376d2c8\">\n",
              "    <style>\n",
              "      .colab-df-generate {\n",
              "        background-color: #E8F0FE;\n",
              "        border: none;\n",
              "        border-radius: 50%;\n",
              "        cursor: pointer;\n",
              "        display: none;\n",
              "        fill: #1967D2;\n",
              "        height: 32px;\n",
              "        padding: 0 0 0 0;\n",
              "        width: 32px;\n",
              "      }\n",
              "\n",
              "      .colab-df-generate:hover {\n",
              "        background-color: #E2EBFA;\n",
              "        box-shadow: 0px 1px 2px rgba(60, 64, 67, 0.3), 0px 1px 3px 1px rgba(60, 64, 67, 0.15);\n",
              "        fill: #174EA6;\n",
              "      }\n",
              "\n",
              "      [theme=dark] .colab-df-generate {\n",
              "        background-color: #3B4455;\n",
              "        fill: #D2E3FC;\n",
              "      }\n",
              "\n",
              "      [theme=dark] .colab-df-generate:hover {\n",
              "        background-color: #434B5C;\n",
              "        box-shadow: 0px 1px 3px 1px rgba(0, 0, 0, 0.15);\n",
              "        filter: drop-shadow(0px 1px 2px rgba(0, 0, 0, 0.3));\n",
              "        fill: #FFFFFF;\n",
              "      }\n",
              "    </style>\n",
              "    <button class=\"colab-df-generate\" onclick=\"generateWithVariable('GovDf')\"\n",
              "            title=\"Generate code using this dataframe.\"\n",
              "            style=\"display:none;\">\n",
              "\n",
              "  <svg xmlns=\"http://www.w3.org/2000/svg\" height=\"24px\"viewBox=\"0 0 24 24\"\n",
              "       width=\"24px\">\n",
              "    <path d=\"M7,19H8.4L18.45,9,17,7.55,7,17.6ZM5,21V16.75L18.45,3.32a2,2,0,0,1,2.83,0l1.4,1.43a1.91,1.91,0,0,1,.58,1.4,1.91,1.91,0,0,1-.58,1.4L9.25,21ZM18.45,9,17,7.55Zm-12,3A5.31,5.31,0,0,0,4.9,8.1,5.31,5.31,0,0,0,1,6.5,5.31,5.31,0,0,0,4.9,4.9,5.31,5.31,0,0,0,6.5,1,5.31,5.31,0,0,0,8.1,4.9,5.31,5.31,0,0,0,12,6.5,5.46,5.46,0,0,0,6.5,12Z\"/>\n",
              "  </svg>\n",
              "    </button>\n",
              "    <script>\n",
              "      (() => {\n",
              "      const buttonEl =\n",
              "        document.querySelector('#id_afed5f66-c160-4c8d-83c3-be1ed376d2c8 button.colab-df-generate');\n",
              "      buttonEl.style.display =\n",
              "        google.colab.kernel.accessAllowed ? 'block' : 'none';\n",
              "\n",
              "      buttonEl.onclick = () => {\n",
              "        google.colab.notebook.generateWithVariable('GovDf');\n",
              "      }\n",
              "      })();\n",
              "    </script>\n",
              "  </div>\n",
              "\n",
              "    </div>\n",
              "  </div>\n"
            ],
            "application/vnd.google.colaboratory.intrinsic+json": {
              "type": "dataframe",
              "variable_name": "GovDf",
              "summary": "{\n  \"name\": \"GovDf\",\n  \"rows\": 36,\n  \"fields\": [\n    {\n      \"column\": \"GovName\",\n      \"properties\": {\n        \"dtype\": \"category\",\n        \"num_unique_values\": 12,\n        \"samples\": [\n          \"Red Sea\",\n          \"Luxor\",\n          \"Cairo\"\n        ],\n        \"semantic_type\": \"\",\n        \"description\": \"\"\n      }\n    },\n    {\n      \"column\": \"AltName\",\n      \"properties\": {\n        \"dtype\": \"category\",\n        \"num_unique_values\": 12,\n        \"samples\": [\n          \"\\u0627\\u0644\\u0628\\u062d\\u0631 \\u0627\\u0644\\u0623\\u062d\\u0645\\u0631\",\n          \"\\u0627\\u0644\\u0623\\u0642\\u0635\\u0631\",\n          \"\\u0627\\u0644\\u0642\\u0627\\u0647\\u0631\\u0629\"\n        ],\n        \"semantic_type\": \"\",\n        \"description\": \"\"\n      }\n    },\n    {\n      \"column\": \"Latitude\",\n      \"properties\": {\n        \"dtype\": \"number\",\n        \"std\": 13.202001706949726,\n        \"min\": 27.18,\n        \"max\": 108.9316141050936,\n        \"num_unique_values\": 34,\n        \"samples\": [\n          31.30712703787766,\n          31.38904356355627,\n          32.62939702196942\n        ],\n        \"semantic_type\": \"\",\n        \"description\": \"\"\n      }\n    },\n    {\n      \"column\": \"Longitude\",\n      \"properties\": {\n        \"dtype\": \"number\",\n        \"std\": 10.210485214852367,\n        \"min\": 24.03931805506709,\n        \"max\": 88.03546976488431,\n        \"num_unique_values\": 34,\n        \"samples\": [\n          30.46570968766157,\n          31.00568842814366,\n          25.73020168659411\n        ],\n        \"semantic_type\": \"\",\n        \"description\": \"\"\n      }\n    }\n  ]\n}"
            }
          },
          "metadata": {},
          "execution_count": 43
        }
      ]
    },
    {
      "cell_type": "code",
      "source": [],
      "metadata": {
        "id": "RTwpq-zhJhFj"
      },
      "execution_count": null,
      "outputs": []
    },
    {
      "cell_type": "code",
      "source": [
        "with pd.ExcelWriter(\"EG_Retail_Data_Cleaned_Final_.xlsx\", engine='xlsxwriter') as writer:\n",
        "    SalesDf.to_excel(writer, sheet_name='Sales_Orders', index=False)\n",
        "    CustomersDf.to_excel(writer, sheet_name='Customers', index=False)\n",
        "    ProductDf.to_excel(writer, sheet_name='Products', index=False)\n",
        "    GovDf.to_excel(writer, sheet_name='Gov_LookUp', index=False)"
      ],
      "metadata": {
        "id": "PfcOm6khz0Eb"
      },
      "execution_count": null,
      "outputs": []
    },
    {
      "cell_type": "code",
      "source": [
        "print(3)"
      ],
      "metadata": {
        "colab": {
          "base_uri": "https://localhost:8080/"
        },
        "id": "zxT1D68aJyeC",
        "outputId": "aec16a07-c7b6-4bdf-d434-47a891352c36"
      },
      "execution_count": null,
      "outputs": [
        {
          "output_type": "stream",
          "name": "stdout",
          "text": [
            "3\n"
          ]
        }
      ]
    },
    {
      "cell_type": "code",
      "source": [
        "SalesDf.isna().sum()"
      ],
      "metadata": {
        "colab": {
          "base_uri": "https://localhost:8080/",
          "height": 1000
        },
        "id": "HaxUV7o4NIDC",
        "outputId": "14e7d2e0-1b74-46b2-ddb6-323b1a388af2"
      },
      "execution_count": null,
      "outputs": [
        {
          "output_type": "execute_result",
          "data": {
            "text/plain": [
              "OrderID            0\n",
              "OrderDate         14\n",
              "DeliveryDate      13\n",
              "CustomerID        49\n",
              "CustomerName       0\n",
              "Gender             0\n",
              "Phone             22\n",
              "Email             31\n",
              "Governorate        0\n",
              "City               0\n",
              "Address            0\n",
              "Latitude          19\n",
              "Longitude         19\n",
              "ProductSKU         0\n",
              "ProductName        0\n",
              "Category           0\n",
              "UnitPrice          0\n",
              "Quantity           0\n",
              "Subtotal           0\n",
              "Discount           0\n",
              "TotalAmount        0\n",
              "Currency           0\n",
              "PaymentMethod      0\n",
              "PaymentStatus      0\n",
              "ShipperName        0\n",
              "ShippingCost      14\n",
              "SalesRep           0\n",
              "Channel            0\n",
              "ReturnFlag         0\n",
              "ReturnDate       133\n",
              "Status            14\n",
              "Notes              0\n",
              "dtype: int64"
            ],
            "text/html": [
              "<div>\n",
              "<style scoped>\n",
              "    .dataframe tbody tr th:only-of-type {\n",
              "        vertical-align: middle;\n",
              "    }\n",
              "\n",
              "    .dataframe tbody tr th {\n",
              "        vertical-align: top;\n",
              "    }\n",
              "\n",
              "    .dataframe thead th {\n",
              "        text-align: right;\n",
              "    }\n",
              "</style>\n",
              "<table border=\"1\" class=\"dataframe\">\n",
              "  <thead>\n",
              "    <tr style=\"text-align: right;\">\n",
              "      <th></th>\n",
              "      <th>0</th>\n",
              "    </tr>\n",
              "  </thead>\n",
              "  <tbody>\n",
              "    <tr>\n",
              "      <th>OrderID</th>\n",
              "      <td>0</td>\n",
              "    </tr>\n",
              "    <tr>\n",
              "      <th>OrderDate</th>\n",
              "      <td>14</td>\n",
              "    </tr>\n",
              "    <tr>\n",
              "      <th>DeliveryDate</th>\n",
              "      <td>13</td>\n",
              "    </tr>\n",
              "    <tr>\n",
              "      <th>CustomerID</th>\n",
              "      <td>49</td>\n",
              "    </tr>\n",
              "    <tr>\n",
              "      <th>CustomerName</th>\n",
              "      <td>0</td>\n",
              "    </tr>\n",
              "    <tr>\n",
              "      <th>Gender</th>\n",
              "      <td>0</td>\n",
              "    </tr>\n",
              "    <tr>\n",
              "      <th>Phone</th>\n",
              "      <td>22</td>\n",
              "    </tr>\n",
              "    <tr>\n",
              "      <th>Email</th>\n",
              "      <td>31</td>\n",
              "    </tr>\n",
              "    <tr>\n",
              "      <th>Governorate</th>\n",
              "      <td>0</td>\n",
              "    </tr>\n",
              "    <tr>\n",
              "      <th>City</th>\n",
              "      <td>0</td>\n",
              "    </tr>\n",
              "    <tr>\n",
              "      <th>Address</th>\n",
              "      <td>0</td>\n",
              "    </tr>\n",
              "    <tr>\n",
              "      <th>Latitude</th>\n",
              "      <td>19</td>\n",
              "    </tr>\n",
              "    <tr>\n",
              "      <th>Longitude</th>\n",
              "      <td>19</td>\n",
              "    </tr>\n",
              "    <tr>\n",
              "      <th>ProductSKU</th>\n",
              "      <td>0</td>\n",
              "    </tr>\n",
              "    <tr>\n",
              "      <th>ProductName</th>\n",
              "      <td>0</td>\n",
              "    </tr>\n",
              "    <tr>\n",
              "      <th>Category</th>\n",
              "      <td>0</td>\n",
              "    </tr>\n",
              "    <tr>\n",
              "      <th>UnitPrice</th>\n",
              "      <td>0</td>\n",
              "    </tr>\n",
              "    <tr>\n",
              "      <th>Quantity</th>\n",
              "      <td>0</td>\n",
              "    </tr>\n",
              "    <tr>\n",
              "      <th>Subtotal</th>\n",
              "      <td>0</td>\n",
              "    </tr>\n",
              "    <tr>\n",
              "      <th>Discount</th>\n",
              "      <td>0</td>\n",
              "    </tr>\n",
              "    <tr>\n",
              "      <th>TotalAmount</th>\n",
              "      <td>0</td>\n",
              "    </tr>\n",
              "    <tr>\n",
              "      <th>Currency</th>\n",
              "      <td>0</td>\n",
              "    </tr>\n",
              "    <tr>\n",
              "      <th>PaymentMethod</th>\n",
              "      <td>0</td>\n",
              "    </tr>\n",
              "    <tr>\n",
              "      <th>PaymentStatus</th>\n",
              "      <td>0</td>\n",
              "    </tr>\n",
              "    <tr>\n",
              "      <th>ShipperName</th>\n",
              "      <td>0</td>\n",
              "    </tr>\n",
              "    <tr>\n",
              "      <th>ShippingCost</th>\n",
              "      <td>14</td>\n",
              "    </tr>\n",
              "    <tr>\n",
              "      <th>SalesRep</th>\n",
              "      <td>0</td>\n",
              "    </tr>\n",
              "    <tr>\n",
              "      <th>Channel</th>\n",
              "      <td>0</td>\n",
              "    </tr>\n",
              "    <tr>\n",
              "      <th>ReturnFlag</th>\n",
              "      <td>0</td>\n",
              "    </tr>\n",
              "    <tr>\n",
              "      <th>ReturnDate</th>\n",
              "      <td>133</td>\n",
              "    </tr>\n",
              "    <tr>\n",
              "      <th>Status</th>\n",
              "      <td>14</td>\n",
              "    </tr>\n",
              "    <tr>\n",
              "      <th>Notes</th>\n",
              "      <td>0</td>\n",
              "    </tr>\n",
              "  </tbody>\n",
              "</table>\n",
              "</div><br><label><b>dtype:</b> int64</label>"
            ]
          },
          "metadata": {},
          "execution_count": 51
        }
      ]
    },
    {
      "cell_type": "code",
      "source": [
        "sales=SalesDf\n",
        "sales = sales.merge(CustomersDf[[\"CustomerName\", \"CustomerID\"]], on=\"CustomerName\", how=\"left\", suffixes=(\"\", \"_from_customers\"))\n",
        "sales[\"CustomerID\"] = sales[\"CustomerID\"].fillna(sales[\"CustomerID_from_customers\"])\n",
        "sales = sales.drop(columns=[\"CustomerID_from_customers\"])"
      ],
      "metadata": {
        "id": "u1-6PVImaGoX"
      },
      "execution_count": null,
      "outputs": []
    },
    {
      "cell_type": "code",
      "source": [
        "CustomersDf[\"CustomerName\"] = CustomersDf[\"CustomerName\"].str.lower().str.strip()"
      ],
      "metadata": {
        "id": "g5hXl-tMaNnh"
      },
      "execution_count": null,
      "outputs": []
    },
    {
      "cell_type": "code",
      "source": [
        "null_customerid_rows = sales[sales[\"CustomerID\"].isna()]\n",
        "\n",
        "# Display them\n",
        "print(null_customerid_rows)"
      ],
      "metadata": {
        "colab": {
          "base_uri": "https://localhost:8080/"
        },
        "id": "WN-aI8VPaUju",
        "outputId": "8a0f0727-fc4a-457c-aaf6-7a701098a700"
      },
      "execution_count": null,
      "outputs": [
        {
          "output_type": "stream",
          "name": "stdout",
          "text": [
            "     OrderID   OrderDate DeliveryDate CustomerID      CustomerName  Gender  \\\n",
            "0    so85088         NaN   2024-01-07        NaN      karim hassan    male   \n",
            "1    so17567         NaN   2024-06-04        NaN       alaa farouk    male   \n",
            "2    so27394         NaN   2024-04-03        NaN       ahmed fathi  female   \n",
            "17   so46467  2024-06-26   2024-06-24        NaN      mohamed nasr  female   \n",
            "25   so46408  2024-06-17   2024-06-18        NaN      mohamed nasr    male   \n",
            "27   so48854  2024-06-15   2024-06-17        NaN       alaa hassan  female   \n",
            "31   so15229  2024-06-13   2024-06-13        NaN     sarah mahmoud  female   \n",
            "34   so17641  2024-06-06   2024-06-08        NaN      alaa mahmoud    male   \n",
            "35   so63523  2024-06-02   2024-06-06        NaN         mona nasr  female   \n",
            "37   so72204  2024-05-30   2024-06-13        NaN     sarah mahmoud  female   \n",
            "38   so76619  2024-05-29          NaN        NaN     youssef fathi  female   \n",
            "41   so80673  2024-05-28   2024-06-03        NaN    youssef rashid    male   \n",
            "42   so14635  2024-05-21   2024-05-25        NaN          hany ali    male   \n",
            "43   so64162  2024-05-21   2024-05-30        NaN       mona hassan  female   \n",
            "56   so22622  2024-04-25   2024-05-01        NaN     sarah ibrahim  female   \n",
            "62   so31538  2024-04-21   2024-05-02        NaN        karim nasr    male   \n",
            "64   so57223  2024-04-16   2024-04-15        NaN       mona hassan  female   \n",
            "66   so66040  2024-04-13   2024-04-20        NaN      ahmed hassan    male   \n",
            "68   so83048  2024-04-03   2024-04-08        NaN  muhammad mahmoud    male   \n",
            "71   so57774  2024-03-21   2024-03-25        NaN        dina fathi    male   \n",
            "78   so39603  2024-03-17          NaN        NaN     ahmed ibrahim    male   \n",
            "85   so73201  2024-02-27   2024-03-04        NaN          hani ali    male   \n",
            "88   so20494  2024-02-23   2024-02-25        NaN   muhammad hassan  female   \n",
            "89   so39444  2024-02-20   2024-02-28        NaN      alaa mahmoud    male   \n",
            "90   so52778  2024-02-19   2024-02-28        NaN       alaa farouk    male   \n",
            "103  so24515  2024-02-03   2024-02-05        NaN       mona rashid  female   \n",
            "109  so11071  2024-01-28          NaN        NaN       hany rashid  female   \n",
            "126  so72787  2024-01-16   2024-01-23        NaN        hany fathi    male   \n",
            "128  so22193  2024-01-12   2024-01-19        NaN       alaa hassan    male   \n",
            "132  so89405  2024-01-09   2024-01-10        NaN   mohamed mahmoud  female   \n",
            "134  so98864  2024-01-06          NaN        NaN      ahmed farouk  female   \n",
            "135  so62873  2024-01-05   2024-01-08        NaN        ahmed nasr    male   \n",
            "141  so67342  2024-01-02   2024-03-09        NaN      muhammad ali    male   \n",
            "146  so27837  2024-01-01   2024-01-07        NaN         nour nasr    male   \n",
            "\n",
            "             Phone                        Email  Governorate  \\\n",
            "0      01192493631    generous.hassan@gmail.com   alexandria   \n",
            "1      01073360324      alaa.farouk@example.com      sharqia   \n",
            "2      01264406548      ahmed.fathy@example.com      red sea   \n",
            "17     01076399516     mohamed.nasr@example.com        aswan   \n",
            "25     01128865664     mohamed.nasr@example.com        luxor   \n",
            "27     01219679848      alaa.hassan@example.com     dakahlia   \n",
            "31     01210380581       sara.mahmoud@gmail.com   alexandria   \n",
            "34     01293929707                          NaN  south sinai   \n",
            "35     01284990607        mona.nasr@example.com      sharqia   \n",
            "37   011 9745 4571                          NaN        cairo   \n",
            "38             NaN        yosef.fathy@gmail.com  south sinai   \n",
            "41     01290213415                          NaN        aswan   \n",
            "42   011 1925 1149         only.ali@example.com        aswan   \n",
            "43     01231715773        mona.hassan@gmail.com      gharbia   \n",
            "56     01157661928                          NaN     dakahlia   \n",
            "62     01252103461        karimnasr@example.com        aswan   \n",
            "64   011 9112 5155                          NaN   alexandria   \n",
            "66             NaN       ahmed.hassan@gmail.com  south sinai   \n",
            "68     01239711402   muhammad.mahmoud@gmail.com  south sinai   \n",
            "71     01184044139         dina.fathy@gmail.com      red sea   \n",
            "78             NaN    ahmed.ibrahim@example.com      gharbia   \n",
            "85     01034215035        hany.aliy@example.com     qalyubia   \n",
            "88   010 9789 0153   muhammadhassan@example.com       assiut   \n",
            "89     01067062156       alaa.mahmoud@gmail.com  south sinai   \n",
            "90     01237811066       alaafarouk@example.com      red sea   \n",
            "103    01137072082          my.rashed@gmail.com     dakahlia   \n",
            "109            NaN                          NaN         giza   \n",
            "126    01146297263       only.fathy@example.com     qalyubia   \n",
            "128    01198911718        alaa.hassan@gmail.com        aswan   \n",
            "132    01062744287  mohamed.mahmoud@example.com         giza   \n",
            "134            NaN        ahmedfarouk@gmail.com     dakahlia   \n",
            "135    01293635734                          NaN        cairo   \n",
            "141    01076627415                          NaN      sharqia   \n",
            "146    01174205127    light.victory@example.com   alexandria   \n",
            "\n",
            "                 City  ... PaymentMethod  PaymentStatus  ShipperName  \\\n",
            "0             montaza  ...         Fawry           paid       aramex   \n",
            "1             zagazig  ...    mastercard         unpaid        fedex   \n",
            "2              safaga  ...          visa         unpaid       aramex   \n",
            "17           kom ombo  ...         meeza         unpaid       aramex   \n",
            "25             armant  ...           cod           paid          dhl   \n",
            "27             talkha  ...         meeza        pending       aramex   \n",
            "31            stanley  ...         meeza         unpaid        fedex   \n",
            "34              dahab  ...         meeza        pending          dhl   \n",
            "35         abu hammad  ...          visa        pending          dhl   \n",
            "37          nasr city  ...          cash           paid       aramex   \n",
            "38              dahab  ...           cod           paid   Egypt Post   \n",
            "41               edfu  ...         meeza         unpaid   Egypt Post   \n",
            "42           kom ombo  ...          cash         unpaid          dhl   \n",
            "43         el mahalla  ...          visa           paid   Egypt Post   \n",
            "56             talkha  ...         Fawry           paid   Egypt Post   \n",
            "62               edfu  ...    mastercard           paid       aramex   \n",
            "64            montaza  ...          cash         unpaid       aramex   \n",
            "66    sharm el sheikh  ...          visa           paid          dhl   \n",
            "68              dahab  ...          cash        pending        fedex   \n",
            "71           hurghada  ...         Fawry         unpaid       aramex   \n",
            "78              tanta  ...           cod         unpaid       aramex   \n",
            "85            qanater  ...          cash        pending   Egypt Post   \n",
            "88             abnoub  ...           cod         unpaid          dhl   \n",
            "89              dahab  ...    mastercard        pending       aramex   \n",
            "90             safaga  ...    mastercard           paid        fedex   \n",
            "103          mansoura  ...          cash           paid       aramex   \n",
            "109             dokki  ...         Fawry         unpaid   Egypt Post   \n",
            "126  shubra el kheima  ...          cash        pending          dhl   \n",
            "128          kom ombo  ...         meeza        pending       aramex   \n",
            "132             dokki  ...         meeza         unpaid        fedex   \n",
            "134            talkha  ...         meeza        pending        fedex   \n",
            "135         nasr city  ...          cash           paid          dhl   \n",
            "141        el mahalla  ...         Fawry           paid       aramex   \n",
            "146           stanley  ...         Fawry           paid   Egypt Post   \n",
            "\n",
            "    ShippingCost       SalesRep    Channel  ReturnFlag  ReturnDate  \\\n",
            "0           25.0   karim rashid  tel-sales          no         NaN   \n",
            "1           75.0      ahmed ali      store         yes  2024-06-22   \n",
            "2            0.0   karim rashid      e-com          no         NaN   \n",
            "17           0.0     mona salah   whatsapp          no         NaN   \n",
            "25          75.0      ahmed ali      e-com          no         NaN   \n",
            "27           0.0      ahmed ali  tel-sales          no         NaN   \n",
            "31          75.0     mona salah      store          no         NaN   \n",
            "34          50.0   karim rashid      e-com          no         NaN   \n",
            "35          75.0      ahmed ali      e-com          no         NaN   \n",
            "37          50.0      ahmed ali   whatsapp          no         NaN   \n",
            "38           0.0      ahmed ali  tel-sales          no         NaN   \n",
            "41           NaN      ahmed ali      e-com          no         NaN   \n",
            "42           0.0     mona salah  tel-sales          no         NaN   \n",
            "43          50.0      ahmed ali      e-com          no         NaN   \n",
            "56          75.0      ahmed ali      e-com          no         NaN   \n",
            "62         100.0  sarah mohamed      store          no         NaN   \n",
            "64           0.0      ahmed ali  tel-sales          no         NaN   \n",
            "66           NaN     mona salah      store          no         NaN   \n",
            "68          25.0      ahmed ali  tel-sales          no         NaN   \n",
            "71          50.0     mona salah   whatsapp          no         NaN   \n",
            "78         100.0   karim rashid   whatsapp         yes         NaN   \n",
            "85          75.0      ahmed ali   whatsapp          no         NaN   \n",
            "88          75.0      ahmed ali  tel-sales          no         NaN   \n",
            "89          50.0      ahmed ali      e-com          no         NaN   \n",
            "90          25.0      ahmed ali      e-com          no         NaN   \n",
            "103         75.0      ahmed ali      e-com          no         NaN   \n",
            "109        100.0  sarah mohamed      e-com          no         NaN   \n",
            "126         25.0   karim rashid      e-com          no         NaN   \n",
            "128         50.0      ahmed ali   whatsapp          no         NaN   \n",
            "132         50.0     mona salah      store          no         NaN   \n",
            "134          0.0      ahmed ali      store          no         NaN   \n",
            "135        100.0   karim rashid      e-com          no         NaN   \n",
            "141         50.0      ahmed ali      e-com          no         NaN   \n",
            "146         25.0  sarah mohamed  tel-sales          no         NaN   \n",
            "\n",
            "         Status                               Notes  \n",
            "0      returned       Old customer - extra discount  \n",
            "1           new                                  in  \n",
            "2           new                                  in  \n",
            "17    delivered        customer asked for gift wrap  \n",
            "25      shipped                                  in  \n",
            "27          new                                  in  \n",
            "31    delivered        customer asked for gift wrap  \n",
            "34    cancelled  Unclear address - landmark: mosque  \n",
            "35   processing                        deliver asap  \n",
            "37      shipped  Unclear address - landmark: mosque  \n",
            "38   processing                                  in  \n",
            "41          new          Contact us before delivery  \n",
            "42          NaN          Contact us before delivery  \n",
            "43     returned  Unclear address - landmark: mosque  \n",
            "56   processing  Unclear address - landmark: mosque  \n",
            "62     returned                        deliver asap  \n",
            "64    cancelled        customer asked for gift wrap  \n",
            "66    cancelled          Contact us before delivery  \n",
            "68          NaN                                  in  \n",
            "71     returned          Contact us before delivery  \n",
            "78          NaN       Old customer - extra discount  \n",
            "85     returned  Unclear address - landmark: mosque  \n",
            "88   processing  Unclear address - landmark: mosque  \n",
            "89    cancelled               wrong phone / invalid  \n",
            "90          new                                  in  \n",
            "103     shipped        customer asked for gift wrap  \n",
            "109     shipped                        deliver asap  \n",
            "126   delivered  Unclear address - landmark: mosque  \n",
            "128         NaN       Old customer - extra discount  \n",
            "132  processing                                  in  \n",
            "134         NaN                                  in  \n",
            "135  processing                        deliver asap  \n",
            "141  processing          Contact us before delivery  \n",
            "146     shipped  Unclear address - landmark: mosque  \n",
            "\n",
            "[34 rows x 32 columns]\n"
          ]
        }
      ]
    },
    {
      "cell_type": "code",
      "source": [
        "for df in [sales, CustomersDf]:\n",
        "    df[\"CustomerName\"] = df[\"CustomerName\"].str.lower().str.strip()\n",
        "    df[\"Email\"] = df[\"Email\"].str.lower().str.strip()\n",
        "sales = sales.merge(CustomersDf[[\"CustomerName\", \"CustomerID\", \"Email\"]],\n",
        "                    on=\"CustomerName\", how=\"left\", suffixes=(\"\", \"_from_name\"))\n",
        "sales = sales.merge(CustomersDf[[\"Email\", \"CustomerID\"]],\n",
        "                    on=\"Email\", how=\"left\", suffixes=(\"\", \"_from_email\"))\n",
        "\n",
        "sales[\"CustomerID\"] = (\n",
        "    sales[\"CustomerID\"]\n",
        "    .fillna(sales[\"CustomerID_from_name\"])\n",
        "    .fillna(sales[\"CustomerID_from_email\"])\n",
        ")\n",
        "\n",
        "sales = sales.drop(columns=[\"CustomerID_from_name\", \"CustomerID_from_email\"])\n"
      ],
      "metadata": {
        "id": "O9IAacFtasow"
      },
      "execution_count": null,
      "outputs": []
    },
    {
      "cell_type": "code",
      "source": [
        "sales[\"Email\"].isna().sum()"
      ],
      "metadata": {
        "colab": {
          "base_uri": "https://localhost:8080/"
        },
        "id": "DtNwSvTEcOyJ",
        "outputId": "aa337203-bc65-4366-c073-27db88eaa6aa"
      },
      "execution_count": null,
      "outputs": [
        {
          "output_type": "execute_result",
          "data": {
            "text/plain": [
              "np.int64(37)"
            ]
          },
          "metadata": {},
          "execution_count": 60
        }
      ]
    },
    {
      "cell_type": "code",
      "source": [
        "GovDf.isna().sum()"
      ],
      "metadata": {
        "colab": {
          "base_uri": "https://localhost:8080/",
          "height": 210
        },
        "id": "KDTlPhKbcS6S",
        "outputId": "74bfac1b-0d69-4bcc-e386-7743fe29e09f"
      },
      "execution_count": null,
      "outputs": [
        {
          "output_type": "execute_result",
          "data": {
            "text/plain": [
              "GovName      0\n",
              "AltName      0\n",
              "Latitude     1\n",
              "Longitude    1\n",
              "dtype: int64"
            ],
            "text/html": [
              "<div>\n",
              "<style scoped>\n",
              "    .dataframe tbody tr th:only-of-type {\n",
              "        vertical-align: middle;\n",
              "    }\n",
              "\n",
              "    .dataframe tbody tr th {\n",
              "        vertical-align: top;\n",
              "    }\n",
              "\n",
              "    .dataframe thead th {\n",
              "        text-align: right;\n",
              "    }\n",
              "</style>\n",
              "<table border=\"1\" class=\"dataframe\">\n",
              "  <thead>\n",
              "    <tr style=\"text-align: right;\">\n",
              "      <th></th>\n",
              "      <th>0</th>\n",
              "    </tr>\n",
              "  </thead>\n",
              "  <tbody>\n",
              "    <tr>\n",
              "      <th>GovName</th>\n",
              "      <td>0</td>\n",
              "    </tr>\n",
              "    <tr>\n",
              "      <th>AltName</th>\n",
              "      <td>0</td>\n",
              "    </tr>\n",
              "    <tr>\n",
              "      <th>Latitude</th>\n",
              "      <td>1</td>\n",
              "    </tr>\n",
              "    <tr>\n",
              "      <th>Longitude</th>\n",
              "      <td>1</td>\n",
              "    </tr>\n",
              "  </tbody>\n",
              "</table>\n",
              "</div><br><label><b>dtype:</b> int64</label>"
            ]
          },
          "metadata": {},
          "execution_count": 62
        }
      ]
    },
    {
      "cell_type": "code",
      "source": [],
      "metadata": {
        "id": "mLk4keQbce2a"
      },
      "execution_count": null,
      "outputs": []
    }
  ]
}